{
  "metadata": {
    "kernelspec": {
      "display_name": "Python 3",
      "name": "python3"
    },
    "language_info": {
      "pygments_lexer": "ipython3",
      "nbconvert_exporter": "python",
      "version": "3.6.4",
      "file_extension": ".py",
      "codemirror_mode": {
        "name": "ipython",
        "version": 3
      },
      "name": "python",
      "mimetype": "text/x-python"
    },
    "colab": {
      "provenance": []
    }
  },
  "nbformat_minor": 0,
  "nbformat": 4,
  "cells": [
    {
      "cell_type": "code",
      "source": [
        "%%capture\n",
        "!pip install pyspark\n",
        "import numpy as np\n",
        "import pandas as pd\n",
        "import os\n",
        "import matplotlib.pyplot as plt\n",
        "import seaborn as sns\n",
        "%config InlineBackend.figure_format = 'svg'\n",
        "sns.set_palette('rainbow')\n",
        "sns.set_style('whitegrid')\n",
        "import plotly.express as px\n",
        "# these 2 lines fix a sporatic loading error in plotly\n",
        "from plotly.offline import plot, iplot, init_notebook_mode\n",
        "init_notebook_mode(connected=True)\n",
        "sns.set_style('darkgrid')\n",
        "# pyspark\n",
        "from pyspark import SparkConf, SparkContext\n",
        "from pyspark.sql import SparkSession, SQLContext\n",
        "\n",
        "from pyspark.sql.types import *\n",
        "import pyspark.sql.functions as F\n",
        "from pyspark.sql.functions import udf, col\n",
        "\n",
        "\n",
        "from sklearn.pipeline import Pipeline\n",
        "# from sklearn.manifold import TSNE\n",
        "from sklearn.decomposition import PCA\n",
        "from sklearn.cluster import KMeans\n",
        "\n",
        "CSV_FILE= '/content/sample_data/Final database.csv'\n"
      ],
      "metadata": {
        "execution": {
          "iopub.status.busy": "2022-07-04T01:13:09.77101Z",
          "iopub.execute_input": "2022-07-04T01:13:09.771774Z",
          "iopub.status.idle": "2022-07-04T01:13:16.647676Z",
          "shell.execute_reply.started": "2022-07-04T01:13:09.771709Z",
          "shell.execute_reply": "2022-07-04T01:13:16.646377Z"
        },
        "trusted": true,
        "id": "89vBojdjvznA"
      },
      "execution_count": 1,
      "outputs": []
    },
    {
      "cell_type": "code",
      "source": [
        "# from pyspark.ml.regression import LinearRegression\n",
        "# from pyspark.mllib.evaluation import RegressionMetrics\n",
        "\n",
        "# from pyspark.ml.tuning import ParamGridBuilder, CrossValidator, CrossValidatorModel\n",
        "# from pyspark.ml.feature import VectorAssembler, StandardScaler\n",
        "# from pyspark.ml.evaluation import RegressionEvaluator"
      ],
      "metadata": {
        "_kg_hide-output": true,
        "execution": {
          "iopub.status.busy": "2022-07-04T01:13:16.649431Z",
          "iopub.execute_input": "2022-07-04T01:13:16.649785Z",
          "iopub.status.idle": "2022-07-04T01:13:16.654874Z",
          "shell.execute_reply.started": "2022-07-04T01:13:16.64975Z",
          "shell.execute_reply": "2022-07-04T01:13:16.653411Z"
        },
        "jupyter": {
          "source_hidden": true
        },
        "trusted": true,
        "id": "zOIBfxO9vznB"
      },
      "execution_count": null,
      "outputs": []
    },
    {
      "cell_type": "markdown",
      "source": [
        "From SparkByExample:\n",
        "> A spark session unifies all the different contexts, and you can access all the different contexts by invoking them on the spark session object. A Spark “driver” is an application that creates a SparkContext for executing one or more jobs in the Spark cluster. It allows your Spark/PySpark application to access Spark Cluster with the help of Resource Manager.\n",
        ">\n",
        "> When you create a SparkSession object, SparkContext is also created and can be retrieved using spark.sparkContext. SparkContext will be created only once for an application; even if you try to create another SparkContext, it still returns existing SparkContext."
      ],
      "metadata": {
        "id": "mv67fTAzvznB"
      }
    },
    {
      "cell_type": "code",
      "source": [
        "spark = SparkSession.builder.master(\"local[2]\").appName(\"Spotify-Huge-Dataset\").getOrCreate() #.enableHiveSupport()\n",
        "spark"
      ],
      "metadata": {
        "execution": {
          "iopub.status.busy": "2022-07-04T01:13:16.656136Z",
          "iopub.execute_input": "2022-07-04T01:13:16.656582Z",
          "iopub.status.idle": "2022-07-04T01:13:16.673215Z",
          "shell.execute_reply.started": "2022-07-04T01:13:16.656547Z",
          "shell.execute_reply": "2022-07-04T01:13:16.671936Z"
        },
        "trusted": true,
        "colab": {
          "base_uri": "https://localhost:8080/",
          "height": 219
        },
        "id": "UE32Y4ozvznB",
        "outputId": "494ffae1-a8f0-4aca-8dcd-d83909a25d73"
      },
      "execution_count": 2,
      "outputs": [
        {
          "output_type": "execute_result",
          "data": {
            "text/plain": [
              "<pyspark.sql.session.SparkSession at 0x7deb515e6fb0>"
            ],
            "text/html": [
              "\n",
              "            <div>\n",
              "                <p><b>SparkSession - in-memory</b></p>\n",
              "                \n",
              "        <div>\n",
              "            <p><b>SparkContext</b></p>\n",
              "\n",
              "            <p><a href=\"http://1dec57f2aca7:4040\">Spark UI</a></p>\n",
              "\n",
              "            <dl>\n",
              "              <dt>Version</dt>\n",
              "                <dd><code>v3.5.2</code></dd>\n",
              "              <dt>Master</dt>\n",
              "                <dd><code>local[2]</code></dd>\n",
              "              <dt>AppName</dt>\n",
              "                <dd><code>Spotify-Huge-Dataset</code></dd>\n",
              "            </dl>\n",
              "        </div>\n",
              "        \n",
              "            </div>\n",
              "        "
            ]
          },
          "metadata": {},
          "execution_count": 2
        }
      ]
    },
    {
      "cell_type": "code",
      "source": [
        "# Old way depreciated in 3.0.0\n",
        "sc = spark.sparkContext\n",
        "sqlContext = SQLContext(sc)\n",
        "# sqlContext = SQLContext(spark)"
      ],
      "metadata": {
        "execution": {
          "iopub.status.busy": "2022-07-04T01:13:16.674782Z",
          "iopub.execute_input": "2022-07-04T01:13:16.675417Z",
          "iopub.status.idle": "2022-07-04T01:13:16.687194Z",
          "shell.execute_reply.started": "2022-07-04T01:13:16.675371Z",
          "shell.execute_reply": "2022-07-04T01:13:16.685579Z"
        },
        "trusted": true,
        "colab": {
          "base_uri": "https://localhost:8080/"
        },
        "id": "IjrPBVZGvznB",
        "outputId": "31a0916b-c29f-401c-ba05-62363932a809"
      },
      "execution_count": 3,
      "outputs": [
        {
          "output_type": "stream",
          "name": "stderr",
          "text": [
            "/usr/local/lib/python3.10/dist-packages/pyspark/sql/context.py:113: FutureWarning:\n",
            "\n",
            "Deprecated in 3.0.0. Use SparkSession.builder.getOrCreate() instead.\n",
            "\n"
          ]
        }
      ]
    },
    {
      "cell_type": "markdown",
      "source": [
        "Note I'm fixing the numerical features after loading the df. This is much slower than defining the schema before loading into a spark dataframe. I'll come back and define the schema explicitely later when I have some free time."
      ],
      "metadata": {
        "id": "msyWO4L1vznC"
      }
    },
    {
      "cell_type": "code",
      "source": [
        "df = spark.read.option(\"header\", True).csv(CSV_FILE)\n",
        "df = df.withColumn(\"Release_date\", F.to_date(\"Release_date\", \"yyyy-MM-dd\"))\n",
        "numerical_features = ['danceability', 'energy', 'instrumentalness', 'valence', 'liveliness', 'speechiness', 'acoustics',\n",
        "                      'instrumentalness', 'tempo', 'duration_ms',\n",
        "                      'time_signature', 'Days_since_release', 'n_words']\n",
        "\n",
        "for c in numerical_features:\n",
        "    df = df.withColumn(c, df[c].cast(\"float\"))\n",
        "\n",
        "cols_to_drop = ['syuzhet_norm', 'bing_norm', 'afinn_norm', 'nrc_norm', 'syuzhet', 'bing']\n",
        "for c in cols_to_drop:\n",
        "    df.drop(c).collect()\n",
        "\n",
        "df.printSchema()\n",
        "# df.show(n=1, truncate=False, vertical=True)"
      ],
      "metadata": {
        "_kg_hide-output": true,
        "_kg_hide-input": true,
        "execution": {
          "iopub.status.busy": "2022-07-04T01:13:16.688664Z",
          "iopub.execute_input": "2022-07-04T01:13:16.689291Z",
          "iopub.status.idle": "2022-07-04T01:15:49.086651Z",
          "shell.execute_reply.started": "2022-07-04T01:13:16.689247Z",
          "shell.execute_reply": "2022-07-04T01:15:49.085756Z"
        },
        "trusted": true,
        "colab": {
          "base_uri": "https://localhost:8080/"
        },
        "id": "Bpgw4y09vznC",
        "outputId": "c533f7b4-2f39-44c0-9214-bb30a6a0171a"
      },
      "execution_count": 4,
      "outputs": [
        {
          "output_type": "stream",
          "name": "stdout",
          "text": [
            "root\n",
            " |-- Country0: string (nullable = true)\n",
            " |-- Uri: string (nullable = true)\n",
            " |-- Popularity: string (nullable = true)\n",
            " |-- Title: string (nullable = true)\n",
            " |-- Artist: string (nullable = true)\n",
            " |-- Album/Single: string (nullable = true)\n",
            " |-- Genre: string (nullable = true)\n",
            " |-- Artist_followers: string (nullable = true)\n",
            " |-- Explicit: string (nullable = true)\n",
            " |-- Album9: string (nullable = true)\n",
            " |-- Release_date: date (nullable = true)\n",
            " |-- Track_number: string (nullable = true)\n",
            " |-- Tracks_in_album: string (nullable = true)\n",
            " |-- danceability: float (nullable = true)\n",
            " |-- energy: float (nullable = true)\n",
            " |-- key: string (nullable = true)\n",
            " |-- loudness: string (nullable = true)\n",
            " |-- mode: string (nullable = true)\n",
            " |-- speechiness: float (nullable = true)\n",
            " |-- acoustics: float (nullable = true)\n",
            " |-- instrumentalness: float (nullable = true)\n",
            " |-- liveliness: float (nullable = true)\n",
            " |-- valence: float (nullable = true)\n",
            " |-- tempo: float (nullable = true)\n",
            " |-- duration_ms: float (nullable = true)\n",
            " |-- time_signature: float (nullable = true)\n",
            " |-- Genre_new: string (nullable = true)\n",
            " |-- Days_since_release: float (nullable = true)\n",
            " |-- Released_after_2017: string (nullable = true)\n",
            " |-- Explicit_false: string (nullable = true)\n",
            " |-- Explicit_true: string (nullable = true)\n",
            " |-- album31: string (nullable = true)\n",
            " |-- compilation: string (nullable = true)\n",
            " |-- single: string (nullable = true)\n",
            " |-- bolero: string (nullable = true)\n",
            " |-- boy band: string (nullable = true)\n",
            " |-- country36: string (nullable = true)\n",
            " |-- dance/electronic: string (nullable = true)\n",
            " |-- else: string (nullable = true)\n",
            " |-- funk: string (nullable = true)\n",
            " |-- hip hop: string (nullable = true)\n",
            " |-- house: string (nullable = true)\n",
            " |-- indie: string (nullable = true)\n",
            " |-- jazz: string (nullable = true)\n",
            " |-- k-pop: string (nullable = true)\n",
            " |-- latin: string (nullable = true)\n",
            " |-- metal: string (nullable = true)\n",
            " |-- opm: string (nullable = true)\n",
            " |-- pop: string (nullable = true)\n",
            " |-- r&b/soul: string (nullable = true)\n",
            " |-- rap: string (nullable = true)\n",
            " |-- reggae: string (nullable = true)\n",
            " |-- reggaeton: string (nullable = true)\n",
            " |-- rock: string (nullable = true)\n",
            " |-- trap: string (nullable = true)\n",
            " |-- syuzhet_norm: string (nullable = true)\n",
            " |-- bing_norm: string (nullable = true)\n",
            " |-- afinn_norm: string (nullable = true)\n",
            " |-- nrc_norm: string (nullable = true)\n",
            " |-- syuzhet: string (nullable = true)\n",
            " |-- bing: string (nullable = true)\n",
            " |-- afinn: string (nullable = true)\n",
            " |-- nrc: string (nullable = true)\n",
            " |-- anger: string (nullable = true)\n",
            " |-- anticipation: string (nullable = true)\n",
            " |-- disgust: string (nullable = true)\n",
            " |-- fear: string (nullable = true)\n",
            " |-- joy: string (nullable = true)\n",
            " |-- sadness: string (nullable = true)\n",
            " |-- surprise: string (nullable = true)\n",
            " |-- trust: string (nullable = true)\n",
            " |-- negative: string (nullable = true)\n",
            " |-- positive: string (nullable = true)\n",
            " |-- n_words: float (nullable = true)\n",
            " |-- anger_norm: string (nullable = true)\n",
            " |-- anticipation_norm: string (nullable = true)\n",
            " |-- disgust_norm: string (nullable = true)\n",
            " |-- fear_norm: string (nullable = true)\n",
            " |-- joy_norm: string (nullable = true)\n",
            " |-- sadness_norm: string (nullable = true)\n",
            " |-- surprise_norm: string (nullable = true)\n",
            " |-- trust_norm: string (nullable = true)\n",
            " |-- negative_norm: string (nullable = true)\n",
            " |-- positive_norm: string (nullable = true)\n",
            " |-- anger_norm2: string (nullable = true)\n",
            " |-- anticipation_norm2: string (nullable = true)\n",
            " |-- disgust_norm2: string (nullable = true)\n",
            " |-- fear_norm2: string (nullable = true)\n",
            " |-- joy_norm2: string (nullable = true)\n",
            " |-- sadness_norm2: string (nullable = true)\n",
            " |-- surprise_norm2: string (nullable = true)\n",
            " |-- trust_norm2: string (nullable = true)\n",
            " |-- negative_norm2: string (nullable = true)\n",
            " |-- positive_norm2: string (nullable = true)\n",
            " |-- negative_bog_jr: string (nullable = true)\n",
            " |-- positive_bog_jr: string (nullable = true)\n",
            " |-- Bayes: string (nullable = true)\n",
            " |-- Negative_Bayes: string (nullable = true)\n",
            " |-- Neutral_Bayes: string (nullable = true)\n",
            " |-- Positive_Bayes: string (nullable = true)\n",
            " |-- LDA_Topic: string (nullable = true)\n",
            " |-- Celebrate: string (nullable = true)\n",
            " |-- Desire: string (nullable = true)\n",
            " |-- Explore: string (nullable = true)\n",
            " |-- Fun: string (nullable = true)\n",
            " |-- Hope: string (nullable = true)\n",
            " |-- Love: string (nullable = true)\n",
            " |-- Nostalgia: string (nullable = true)\n",
            " |-- Thug: string (nullable = true)\n",
            " |-- bing_norm_negative: string (nullable = true)\n",
            " |-- bing_norm_neutral: string (nullable = true)\n",
            " |-- bing_norm_positive: string (nullable = true)\n",
            " |-- Argentina: string (nullable = true)\n",
            " |-- Australia: string (nullable = true)\n",
            " |-- Austria: string (nullable = true)\n",
            " |-- Belgium: string (nullable = true)\n",
            " |-- Brazil: string (nullable = true)\n",
            " |-- Canada: string (nullable = true)\n",
            " |-- Chile: string (nullable = true)\n",
            " |-- Colombia: string (nullable = true)\n",
            " |-- Costa Rica: string (nullable = true)\n",
            " |-- Denmark: string (nullable = true)\n",
            " |-- Ecuador: string (nullable = true)\n",
            " |-- Finland: string (nullable = true)\n",
            " |-- France: string (nullable = true)\n",
            " |-- Germany: string (nullable = true)\n",
            " |-- Global: string (nullable = true)\n",
            " |-- Indonesia: string (nullable = true)\n",
            " |-- Ireland: string (nullable = true)\n",
            " |-- Italy: string (nullable = true)\n",
            " |-- Malaysia: string (nullable = true)\n",
            " |-- Mexico: string (nullable = true)\n",
            " |-- Netherlands: string (nullable = true)\n",
            " |-- New Zealand: string (nullable = true)\n",
            " |-- Norway: string (nullable = true)\n",
            " |-- Peru: string (nullable = true)\n",
            " |-- Philippines: string (nullable = true)\n",
            " |-- Poland: string (nullable = true)\n",
            " |-- Portugal: string (nullable = true)\n",
            " |-- Singapore: string (nullable = true)\n",
            " |-- Spain: string (nullable = true)\n",
            " |-- Sweden: string (nullable = true)\n",
            " |-- Switzerland: string (nullable = true)\n",
            " |-- Taiwan: string (nullable = true)\n",
            " |-- Turkey: string (nullable = true)\n",
            " |-- UK: string (nullable = true)\n",
            " |-- USA: string (nullable = true)\n",
            " |-- Popu_max: string (nullable = true)\n",
            " |-- Top10_dummy: string (nullable = true)\n",
            " |-- Top50_dummy: string (nullable = true)\n",
            " |-- Cluster: string (nullable = true)\n",
            "\n"
          ]
        }
      ]
    },
    {
      "cell_type": "markdown",
      "source": [
        "# EDA\n",
        "Some good SQL queries, Plotly figures, and examples of using pyspark to filter results from a large dataset."
      ],
      "metadata": {
        "id": "XT_3hrszvznC"
      }
    },
    {
      "cell_type": "code",
      "source": [
        "# how many unique songs are there in the dataset?\n",
        "df.select([\"Title\",\"Artist\"]).distinct().count()"
      ],
      "metadata": {
        "execution": {
          "iopub.status.busy": "2022-07-04T01:15:49.08788Z",
          "iopub.execute_input": "2022-07-04T01:15:49.088315Z",
          "iopub.status.idle": "2022-07-04T01:15:50.561751Z",
          "shell.execute_reply.started": "2022-07-04T01:15:49.088283Z",
          "shell.execute_reply": "2022-07-04T01:15:50.560572Z"
        },
        "trusted": true,
        "colab": {
          "base_uri": "https://localhost:8080/"
        },
        "id": "Mq8ELBfJvznC",
        "outputId": "0a8872e3-bd2b-4e08-f362-4ee2fff945a9"
      },
      "execution_count": 7,
      "outputs": [
        {
          "output_type": "execute_result",
          "data": {
            "text/plain": [
              "1808"
            ]
          },
          "metadata": {},
          "execution_count": 7
        }
      ]
    },
    {
      "cell_type": "code",
      "source": [
        "print(\"Dataset Shape using spark syntax:\\n\",(df.count(), len(df.columns)))"
      ],
      "metadata": {
        "execution": {
          "iopub.status.busy": "2022-07-04T01:15:50.567215Z",
          "iopub.execute_input": "2022-07-04T01:15:50.568041Z",
          "iopub.status.idle": "2022-07-04T01:15:50.943594Z",
          "shell.execute_reply.started": "2022-07-04T01:15:50.567985Z",
          "shell.execute_reply": "2022-07-04T01:15:50.9426Z"
        },
        "trusted": true,
        "colab": {
          "base_uri": "https://localhost:8080/"
        },
        "id": "B96BqS1xvznC",
        "outputId": "69ca0638-63cf-4518-a2e2-a4d623f4b665"
      },
      "execution_count": 8,
      "outputs": [
        {
          "output_type": "stream",
          "name": "stdout",
          "text": [
            "Dataset Shape using spark syntax:\n",
            " (27851, 151)\n"
          ]
        }
      ]
    },
    {
      "cell_type": "markdown",
      "source": [
        "Most popular artist, all countries. Each tally represents a song on a given day (during the last 3 days) that was one of the most 200 most played songs on that day. An artist can have multiple songs per day, and the same song can be counted on again on subsequent days."
      ],
      "metadata": {
        "id": "zU9uNm-cvznC"
      }
    },
    {
      "cell_type": "code",
      "source": [
        "# each count is a song that was in the top 200 most played on a day on spotify during the last 3 years\n",
        "result_df = (df.groupBy(\"Artist\")\n",
        "               .count()\n",
        "               .orderBy(\"count\", ascending=False)\n",
        "               .limit(10)\n",
        "               .toPandas()\n",
        "            )\n"
      ],
      "metadata": {
        "execution": {
          "iopub.status.busy": "2022-07-04T01:15:50.945334Z",
          "iopub.execute_input": "2022-07-04T01:15:50.945753Z",
          "iopub.status.idle": "2022-07-04T01:15:51.992087Z",
          "shell.execute_reply.started": "2022-07-04T01:15:50.945682Z",
          "shell.execute_reply": "2022-07-04T01:15:51.990724Z"
        },
        "trusted": true,
        "collapsed": true,
        "id": "sUiC_uZovznC"
      },
      "execution_count": 9,
      "outputs": []
    },
    {
      "cell_type": "code",
      "source": [
        "# same as above but with seaborn (sometimes plotly doesn't show up in the published notebok)\n",
        "sns.barplot(data=result_df, y='Artist', x='count').set_title('Most Prolific Artists');"
      ],
      "metadata": {
        "execution": {
          "iopub.status.busy": "2022-07-04T01:15:51.994173Z",
          "iopub.execute_input": "2022-07-04T01:15:51.995074Z",
          "iopub.status.idle": "2022-07-04T01:15:52.455065Z",
          "shell.execute_reply.started": "2022-07-04T01:15:51.99501Z",
          "shell.execute_reply": "2022-07-04T01:15:52.454085Z"
        },
        "trusted": true,
        "colab": {
          "base_uri": "https://localhost:8080/",
          "height": 456
        },
        "id": "9-8ivmvTvznD",
        "outputId": "164bb673-610c-41b0-e5a6-e3b0640fc8a1"
      },
      "execution_count": 10,
      "outputs": [
        {
          "output_type": "display_data",
          "data": {
            "text/plain": [
              "<Figure size 640x480 with 1 Axes>"
            ],
            "image/svg+xml": "<?xml version=\"1.0\" encoding=\"utf-8\" standalone=\"no\"?>\n<!DOCTYPE svg PUBLIC \"-//W3C//DTD SVG 1.1//EN\"\n  \"http://www.w3.org/Graphics/SVG/1.1/DTD/svg11.dtd\">\n<svg xmlns:xlink=\"http://www.w3.org/1999/xlink\" width=\"469.765312pt\" height=\"325.986375pt\" viewBox=\"0 0 469.765312 325.986375\" xmlns=\"http://www.w3.org/2000/svg\" version=\"1.1\">\n <metadata>\n  <rdf:RDF xmlns:dc=\"http://purl.org/dc/elements/1.1/\" xmlns:cc=\"http://creativecommons.org/ns#\" xmlns:rdf=\"http://www.w3.org/1999/02/22-rdf-syntax-ns#\">\n   <cc:Work>\n    <dc:type rdf:resource=\"http://purl.org/dc/dcmitype/StillImage\"/>\n    <dc:date>2024-09-02T03:42:29.490543</dc:date>\n    <dc:format>image/svg+xml</dc:format>\n    <dc:creator>\n     <cc:Agent>\n      <dc:title>Matplotlib v3.7.1, https://matplotlib.org/</dc:title>\n     </cc:Agent>\n    </dc:creator>\n   </cc:Work>\n  </rdf:RDF>\n </metadata>\n <defs>\n  <style type=\"text/css\">*{stroke-linejoin: round; stroke-linecap: butt}</style>\n </defs>\n <g id=\"figure_1\">\n  <g id=\"patch_1\">\n   <path d=\"M 0 325.986375 \nL 469.765313 325.986375 \nL 469.765313 0 \nL 0 0 \nz\n\" style=\"fill: #ffffff\"/>\n  </g>\n  <g id=\"axes_1\">\n   <g id=\"patch_2\">\n    <path d=\"M 105.445313 288.430125 \nL 462.565313 288.430125 \nL 462.565313 22.318125 \nL 105.445313 22.318125 \nz\n\" style=\"fill: #eaeaf2\"/>\n   </g>\n   <g id=\"matplotlib.axis_1\">\n    <g id=\"xtick_1\">\n     <g id=\"line2d_1\">\n      <path d=\"M 105.445313 288.430125 \nL 105.445313 22.318125 \n\" clip-path=\"url(#p5026f8f03b)\" style=\"fill: none; stroke: #ffffff; stroke-width: 0.8; stroke-linecap: round\"/>\n     </g>\n     <g id=\"text_1\">\n      <!-- 0 -->\n      <g style=\"fill: #262626\" transform=\"translate(102.264063 303.028562) scale(0.1 -0.1)\">\n       <defs>\n        <path id=\"DejaVuSans-30\" d=\"M 2034 4250 \nQ 1547 4250 1301 3770 \nQ 1056 3291 1056 2328 \nQ 1056 1369 1301 889 \nQ 1547 409 2034 409 \nQ 2525 409 2770 889 \nQ 3016 1369 3016 2328 \nQ 3016 3291 2770 3770 \nQ 2525 4250 2034 4250 \nz\nM 2034 4750 \nQ 2819 4750 3233 4129 \nQ 3647 3509 3647 2328 \nQ 3647 1150 3233 529 \nQ 2819 -91 2034 -91 \nQ 1250 -91 836 529 \nQ 422 1150 422 2328 \nQ 422 3509 836 4129 \nQ 1250 4750 2034 4750 \nz\n\" transform=\"scale(0.015625)\"/>\n       </defs>\n       <use xlink:href=\"#DejaVuSans-30\"/>\n      </g>\n     </g>\n    </g>\n    <g id=\"xtick_2\">\n     <g id=\"line2d_2\">\n      <path d=\"M 173.062467 288.430125 \nL 173.062467 22.318125 \n\" clip-path=\"url(#p5026f8f03b)\" style=\"fill: none; stroke: #ffffff; stroke-width: 0.8; stroke-linecap: round\"/>\n     </g>\n     <g id=\"text_2\">\n      <!-- 100 -->\n      <g style=\"fill: #262626\" transform=\"translate(163.518717 303.028562) scale(0.1 -0.1)\">\n       <defs>\n        <path id=\"DejaVuSans-31\" d=\"M 794 531 \nL 1825 531 \nL 1825 4091 \nL 703 3866 \nL 703 4441 \nL 1819 4666 \nL 2450 4666 \nL 2450 531 \nL 3481 531 \nL 3481 0 \nL 794 0 \nL 794 531 \nz\n\" transform=\"scale(0.015625)\"/>\n       </defs>\n       <use xlink:href=\"#DejaVuSans-31\"/>\n       <use xlink:href=\"#DejaVuSans-30\" x=\"63.623047\"/>\n       <use xlink:href=\"#DejaVuSans-30\" x=\"127.246094\"/>\n      </g>\n     </g>\n    </g>\n    <g id=\"xtick_3\">\n     <g id=\"line2d_3\">\n      <path d=\"M 240.679621 288.430125 \nL 240.679621 22.318125 \n\" clip-path=\"url(#p5026f8f03b)\" style=\"fill: none; stroke: #ffffff; stroke-width: 0.8; stroke-linecap: round\"/>\n     </g>\n     <g id=\"text_3\">\n      <!-- 200 -->\n      <g style=\"fill: #262626\" transform=\"translate(231.135871 303.028562) scale(0.1 -0.1)\">\n       <defs>\n        <path id=\"DejaVuSans-32\" d=\"M 1228 531 \nL 3431 531 \nL 3431 0 \nL 469 0 \nL 469 531 \nQ 828 903 1448 1529 \nQ 2069 2156 2228 2338 \nQ 2531 2678 2651 2914 \nQ 2772 3150 2772 3378 \nQ 2772 3750 2511 3984 \nQ 2250 4219 1831 4219 \nQ 1534 4219 1204 4116 \nQ 875 4013 500 3803 \nL 500 4441 \nQ 881 4594 1212 4672 \nQ 1544 4750 1819 4750 \nQ 2544 4750 2975 4387 \nQ 3406 4025 3406 3419 \nQ 3406 3131 3298 2873 \nQ 3191 2616 2906 2266 \nQ 2828 2175 2409 1742 \nQ 1991 1309 1228 531 \nz\n\" transform=\"scale(0.015625)\"/>\n       </defs>\n       <use xlink:href=\"#DejaVuSans-32\"/>\n       <use xlink:href=\"#DejaVuSans-30\" x=\"63.623047\"/>\n       <use xlink:href=\"#DejaVuSans-30\" x=\"127.246094\"/>\n      </g>\n     </g>\n    </g>\n    <g id=\"xtick_4\">\n     <g id=\"line2d_4\">\n      <path d=\"M 308.296775 288.430125 \nL 308.296775 22.318125 \n\" clip-path=\"url(#p5026f8f03b)\" style=\"fill: none; stroke: #ffffff; stroke-width: 0.8; stroke-linecap: round\"/>\n     </g>\n     <g id=\"text_4\">\n      <!-- 300 -->\n      <g style=\"fill: #262626\" transform=\"translate(298.753025 303.028562) scale(0.1 -0.1)\">\n       <defs>\n        <path id=\"DejaVuSans-33\" d=\"M 2597 2516 \nQ 3050 2419 3304 2112 \nQ 3559 1806 3559 1356 \nQ 3559 666 3084 287 \nQ 2609 -91 1734 -91 \nQ 1441 -91 1130 -33 \nQ 819 25 488 141 \nL 488 750 \nQ 750 597 1062 519 \nQ 1375 441 1716 441 \nQ 2309 441 2620 675 \nQ 2931 909 2931 1356 \nQ 2931 1769 2642 2001 \nQ 2353 2234 1838 2234 \nL 1294 2234 \nL 1294 2753 \nL 1863 2753 \nQ 2328 2753 2575 2939 \nQ 2822 3125 2822 3475 \nQ 2822 3834 2567 4026 \nQ 2313 4219 1838 4219 \nQ 1578 4219 1281 4162 \nQ 984 4106 628 3988 \nL 628 4550 \nQ 988 4650 1302 4700 \nQ 1616 4750 1894 4750 \nQ 2613 4750 3031 4423 \nQ 3450 4097 3450 3541 \nQ 3450 3153 3228 2886 \nQ 3006 2619 2597 2516 \nz\n\" transform=\"scale(0.015625)\"/>\n       </defs>\n       <use xlink:href=\"#DejaVuSans-33\"/>\n       <use xlink:href=\"#DejaVuSans-30\" x=\"63.623047\"/>\n       <use xlink:href=\"#DejaVuSans-30\" x=\"127.246094\"/>\n      </g>\n     </g>\n    </g>\n    <g id=\"xtick_5\">\n     <g id=\"line2d_5\">\n      <path d=\"M 375.913929 288.430125 \nL 375.913929 22.318125 \n\" clip-path=\"url(#p5026f8f03b)\" style=\"fill: none; stroke: #ffffff; stroke-width: 0.8; stroke-linecap: round\"/>\n     </g>\n     <g id=\"text_5\">\n      <!-- 400 -->\n      <g style=\"fill: #262626\" transform=\"translate(366.370179 303.028562) scale(0.1 -0.1)\">\n       <defs>\n        <path id=\"DejaVuSans-34\" d=\"M 2419 4116 \nL 825 1625 \nL 2419 1625 \nL 2419 4116 \nz\nM 2253 4666 \nL 3047 4666 \nL 3047 1625 \nL 3713 1625 \nL 3713 1100 \nL 3047 1100 \nL 3047 0 \nL 2419 0 \nL 2419 1100 \nL 313 1100 \nL 313 1709 \nL 2253 4666 \nz\n\" transform=\"scale(0.015625)\"/>\n       </defs>\n       <use xlink:href=\"#DejaVuSans-34\"/>\n       <use xlink:href=\"#DejaVuSans-30\" x=\"63.623047\"/>\n       <use xlink:href=\"#DejaVuSans-30\" x=\"127.246094\"/>\n      </g>\n     </g>\n    </g>\n    <g id=\"xtick_6\">\n     <g id=\"line2d_6\">\n      <path d=\"M 443.531084 288.430125 \nL 443.531084 22.318125 \n\" clip-path=\"url(#p5026f8f03b)\" style=\"fill: none; stroke: #ffffff; stroke-width: 0.8; stroke-linecap: round\"/>\n     </g>\n     <g id=\"text_6\">\n      <!-- 500 -->\n      <g style=\"fill: #262626\" transform=\"translate(433.987334 303.028562) scale(0.1 -0.1)\">\n       <defs>\n        <path id=\"DejaVuSans-35\" d=\"M 691 4666 \nL 3169 4666 \nL 3169 4134 \nL 1269 4134 \nL 1269 2991 \nQ 1406 3038 1543 3061 \nQ 1681 3084 1819 3084 \nQ 2600 3084 3056 2656 \nQ 3513 2228 3513 1497 \nQ 3513 744 3044 326 \nQ 2575 -91 1722 -91 \nQ 1428 -91 1123 -41 \nQ 819 9 494 109 \nL 494 744 \nQ 775 591 1075 516 \nQ 1375 441 1709 441 \nQ 2250 441 2565 725 \nQ 2881 1009 2881 1497 \nQ 2881 1984 2565 2268 \nQ 2250 2553 1709 2553 \nQ 1456 2553 1204 2497 \nQ 953 2441 691 2322 \nL 691 4666 \nz\n\" transform=\"scale(0.015625)\"/>\n       </defs>\n       <use xlink:href=\"#DejaVuSans-35\"/>\n       <use xlink:href=\"#DejaVuSans-30\" x=\"63.623047\"/>\n       <use xlink:href=\"#DejaVuSans-30\" x=\"127.246094\"/>\n      </g>\n     </g>\n    </g>\n    <g id=\"text_7\">\n     <!-- count -->\n     <g style=\"fill: #262626\" transform=\"translate(269.899063 316.706687) scale(0.1 -0.1)\">\n      <defs>\n       <path id=\"DejaVuSans-63\" d=\"M 3122 3366 \nL 3122 2828 \nQ 2878 2963 2633 3030 \nQ 2388 3097 2138 3097 \nQ 1578 3097 1268 2742 \nQ 959 2388 959 1747 \nQ 959 1106 1268 751 \nQ 1578 397 2138 397 \nQ 2388 397 2633 464 \nQ 2878 531 3122 666 \nL 3122 134 \nQ 2881 22 2623 -34 \nQ 2366 -91 2075 -91 \nQ 1284 -91 818 406 \nQ 353 903 353 1747 \nQ 353 2603 823 3093 \nQ 1294 3584 2113 3584 \nQ 2378 3584 2631 3529 \nQ 2884 3475 3122 3366 \nz\n\" transform=\"scale(0.015625)\"/>\n       <path id=\"DejaVuSans-6f\" d=\"M 1959 3097 \nQ 1497 3097 1228 2736 \nQ 959 2375 959 1747 \nQ 959 1119 1226 758 \nQ 1494 397 1959 397 \nQ 2419 397 2687 759 \nQ 2956 1122 2956 1747 \nQ 2956 2369 2687 2733 \nQ 2419 3097 1959 3097 \nz\nM 1959 3584 \nQ 2709 3584 3137 3096 \nQ 3566 2609 3566 1747 \nQ 3566 888 3137 398 \nQ 2709 -91 1959 -91 \nQ 1206 -91 779 398 \nQ 353 888 353 1747 \nQ 353 2609 779 3096 \nQ 1206 3584 1959 3584 \nz\n\" transform=\"scale(0.015625)\"/>\n       <path id=\"DejaVuSans-75\" d=\"M 544 1381 \nL 544 3500 \nL 1119 3500 \nL 1119 1403 \nQ 1119 906 1312 657 \nQ 1506 409 1894 409 \nQ 2359 409 2629 706 \nQ 2900 1003 2900 1516 \nL 2900 3500 \nL 3475 3500 \nL 3475 0 \nL 2900 0 \nL 2900 538 \nQ 2691 219 2414 64 \nQ 2138 -91 1772 -91 \nQ 1169 -91 856 284 \nQ 544 659 544 1381 \nz\nM 1991 3584 \nL 1991 3584 \nz\n\" transform=\"scale(0.015625)\"/>\n       <path id=\"DejaVuSans-6e\" d=\"M 3513 2113 \nL 3513 0 \nL 2938 0 \nL 2938 2094 \nQ 2938 2591 2744 2837 \nQ 2550 3084 2163 3084 \nQ 1697 3084 1428 2787 \nQ 1159 2491 1159 1978 \nL 1159 0 \nL 581 0 \nL 581 3500 \nL 1159 3500 \nL 1159 2956 \nQ 1366 3272 1645 3428 \nQ 1925 3584 2291 3584 \nQ 2894 3584 3203 3211 \nQ 3513 2838 3513 2113 \nz\n\" transform=\"scale(0.015625)\"/>\n       <path id=\"DejaVuSans-74\" d=\"M 1172 4494 \nL 1172 3500 \nL 2356 3500 \nL 2356 3053 \nL 1172 3053 \nL 1172 1153 \nQ 1172 725 1289 603 \nQ 1406 481 1766 481 \nL 2356 481 \nL 2356 0 \nL 1766 0 \nQ 1100 0 847 248 \nQ 594 497 594 1153 \nL 594 3053 \nL 172 3053 \nL 172 3500 \nL 594 3500 \nL 594 4494 \nL 1172 4494 \nz\n\" transform=\"scale(0.015625)\"/>\n      </defs>\n      <use xlink:href=\"#DejaVuSans-63\"/>\n      <use xlink:href=\"#DejaVuSans-6f\" x=\"54.980469\"/>\n      <use xlink:href=\"#DejaVuSans-75\" x=\"116.162109\"/>\n      <use xlink:href=\"#DejaVuSans-6e\" x=\"179.541016\"/>\n      <use xlink:href=\"#DejaVuSans-74\" x=\"242.919922\"/>\n     </g>\n    </g>\n   </g>\n   <g id=\"matplotlib.axis_2\">\n    <g id=\"ytick_1\">\n     <g id=\"text_8\">\n      <!-- Taylor Swift -->\n      <g style=\"fill: #262626\" transform=\"translate(41.184375 39.422944) scale(0.1 -0.1)\">\n       <defs>\n        <path id=\"DejaVuSans-54\" d=\"M -19 4666 \nL 3928 4666 \nL 3928 4134 \nL 2272 4134 \nL 2272 0 \nL 1638 0 \nL 1638 4134 \nL -19 4134 \nL -19 4666 \nz\n\" transform=\"scale(0.015625)\"/>\n        <path id=\"DejaVuSans-61\" d=\"M 2194 1759 \nQ 1497 1759 1228 1600 \nQ 959 1441 959 1056 \nQ 959 750 1161 570 \nQ 1363 391 1709 391 \nQ 2188 391 2477 730 \nQ 2766 1069 2766 1631 \nL 2766 1759 \nL 2194 1759 \nz\nM 3341 1997 \nL 3341 0 \nL 2766 0 \nL 2766 531 \nQ 2569 213 2275 61 \nQ 1981 -91 1556 -91 \nQ 1019 -91 701 211 \nQ 384 513 384 1019 \nQ 384 1609 779 1909 \nQ 1175 2209 1959 2209 \nL 2766 2209 \nL 2766 2266 \nQ 2766 2663 2505 2880 \nQ 2244 3097 1772 3097 \nQ 1472 3097 1187 3025 \nQ 903 2953 641 2809 \nL 641 3341 \nQ 956 3463 1253 3523 \nQ 1550 3584 1831 3584 \nQ 2591 3584 2966 3190 \nQ 3341 2797 3341 1997 \nz\n\" transform=\"scale(0.015625)\"/>\n        <path id=\"DejaVuSans-79\" d=\"M 2059 -325 \nQ 1816 -950 1584 -1140 \nQ 1353 -1331 966 -1331 \nL 506 -1331 \nL 506 -850 \nL 844 -850 \nQ 1081 -850 1212 -737 \nQ 1344 -625 1503 -206 \nL 1606 56 \nL 191 3500 \nL 800 3500 \nL 1894 763 \nL 2988 3500 \nL 3597 3500 \nL 2059 -325 \nz\n\" transform=\"scale(0.015625)\"/>\n        <path id=\"DejaVuSans-6c\" d=\"M 603 4863 \nL 1178 4863 \nL 1178 0 \nL 603 0 \nL 603 4863 \nz\n\" transform=\"scale(0.015625)\"/>\n        <path id=\"DejaVuSans-72\" d=\"M 2631 2963 \nQ 2534 3019 2420 3045 \nQ 2306 3072 2169 3072 \nQ 1681 3072 1420 2755 \nQ 1159 2438 1159 1844 \nL 1159 0 \nL 581 0 \nL 581 3500 \nL 1159 3500 \nL 1159 2956 \nQ 1341 3275 1631 3429 \nQ 1922 3584 2338 3584 \nQ 2397 3584 2469 3576 \nQ 2541 3569 2628 3553 \nL 2631 2963 \nz\n\" transform=\"scale(0.015625)\"/>\n        <path id=\"DejaVuSans-20\" transform=\"scale(0.015625)\"/>\n        <path id=\"DejaVuSans-53\" d=\"M 3425 4513 \nL 3425 3897 \nQ 3066 4069 2747 4153 \nQ 2428 4238 2131 4238 \nQ 1616 4238 1336 4038 \nQ 1056 3838 1056 3469 \nQ 1056 3159 1242 3001 \nQ 1428 2844 1947 2747 \nL 2328 2669 \nQ 3034 2534 3370 2195 \nQ 3706 1856 3706 1288 \nQ 3706 609 3251 259 \nQ 2797 -91 1919 -91 \nQ 1588 -91 1214 -16 \nQ 841 59 441 206 \nL 441 856 \nQ 825 641 1194 531 \nQ 1563 422 1919 422 \nQ 2459 422 2753 634 \nQ 3047 847 3047 1241 \nQ 3047 1584 2836 1778 \nQ 2625 1972 2144 2069 \nL 1759 2144 \nQ 1053 2284 737 2584 \nQ 422 2884 422 3419 \nQ 422 4038 858 4394 \nQ 1294 4750 2059 4750 \nQ 2388 4750 2728 4690 \nQ 3069 4631 3425 4513 \nz\n\" transform=\"scale(0.015625)\"/>\n        <path id=\"DejaVuSans-77\" d=\"M 269 3500 \nL 844 3500 \nL 1563 769 \nL 2278 3500 \nL 2956 3500 \nL 3675 769 \nL 4391 3500 \nL 4966 3500 \nL 4050 0 \nL 3372 0 \nL 2619 2869 \nL 1863 0 \nL 1184 0 \nL 269 3500 \nz\n\" transform=\"scale(0.015625)\"/>\n        <path id=\"DejaVuSans-69\" d=\"M 603 3500 \nL 1178 3500 \nL 1178 0 \nL 603 0 \nL 603 3500 \nz\nM 603 4863 \nL 1178 4863 \nL 1178 4134 \nL 603 4134 \nL 603 4863 \nz\n\" transform=\"scale(0.015625)\"/>\n        <path id=\"DejaVuSans-66\" d=\"M 2375 4863 \nL 2375 4384 \nL 1825 4384 \nQ 1516 4384 1395 4259 \nQ 1275 4134 1275 3809 \nL 1275 3500 \nL 2222 3500 \nL 2222 3053 \nL 1275 3053 \nL 1275 0 \nL 697 0 \nL 697 3053 \nL 147 3053 \nL 147 3500 \nL 697 3500 \nL 697 3744 \nQ 697 4328 969 4595 \nQ 1241 4863 1831 4863 \nL 2375 4863 \nz\n\" transform=\"scale(0.015625)\"/>\n       </defs>\n       <use xlink:href=\"#DejaVuSans-54\"/>\n       <use xlink:href=\"#DejaVuSans-61\" x=\"44.583984\"/>\n       <use xlink:href=\"#DejaVuSans-79\" x=\"105.863281\"/>\n       <use xlink:href=\"#DejaVuSans-6c\" x=\"165.042969\"/>\n       <use xlink:href=\"#DejaVuSans-6f\" x=\"192.826172\"/>\n       <use xlink:href=\"#DejaVuSans-72\" x=\"254.007812\"/>\n       <use xlink:href=\"#DejaVuSans-20\" x=\"295.121094\"/>\n       <use xlink:href=\"#DejaVuSans-53\" x=\"326.908203\"/>\n       <use xlink:href=\"#DejaVuSans-77\" x=\"390.384766\"/>\n       <use xlink:href=\"#DejaVuSans-69\" x=\"472.171875\"/>\n       <use xlink:href=\"#DejaVuSans-66\" x=\"499.955078\"/>\n       <use xlink:href=\"#DejaVuSans-74\" x=\"533.410156\"/>\n      </g>\n     </g>\n    </g>\n    <g id=\"ytick_2\">\n     <g id=\"text_9\">\n      <!-- Ariana Grande -->\n      <g style=\"fill: #262626\" transform=\"translate(26.117188 66.034144) scale(0.1 -0.1)\">\n       <defs>\n        <path id=\"DejaVuSans-41\" d=\"M 2188 4044 \nL 1331 1722 \nL 3047 1722 \nL 2188 4044 \nz\nM 1831 4666 \nL 2547 4666 \nL 4325 0 \nL 3669 0 \nL 3244 1197 \nL 1141 1197 \nL 716 0 \nL 50 0 \nL 1831 4666 \nz\n\" transform=\"scale(0.015625)\"/>\n        <path id=\"DejaVuSans-47\" d=\"M 3809 666 \nL 3809 1919 \nL 2778 1919 \nL 2778 2438 \nL 4434 2438 \nL 4434 434 \nQ 4069 175 3628 42 \nQ 3188 -91 2688 -91 \nQ 1594 -91 976 548 \nQ 359 1188 359 2328 \nQ 359 3472 976 4111 \nQ 1594 4750 2688 4750 \nQ 3144 4750 3555 4637 \nQ 3966 4525 4313 4306 \nL 4313 3634 \nQ 3963 3931 3569 4081 \nQ 3175 4231 2741 4231 \nQ 1884 4231 1454 3753 \nQ 1025 3275 1025 2328 \nQ 1025 1384 1454 906 \nQ 1884 428 2741 428 \nQ 3075 428 3337 486 \nQ 3600 544 3809 666 \nz\n\" transform=\"scale(0.015625)\"/>\n        <path id=\"DejaVuSans-64\" d=\"M 2906 2969 \nL 2906 4863 \nL 3481 4863 \nL 3481 0 \nL 2906 0 \nL 2906 525 \nQ 2725 213 2448 61 \nQ 2172 -91 1784 -91 \nQ 1150 -91 751 415 \nQ 353 922 353 1747 \nQ 353 2572 751 3078 \nQ 1150 3584 1784 3584 \nQ 2172 3584 2448 3432 \nQ 2725 3281 2906 2969 \nz\nM 947 1747 \nQ 947 1113 1208 752 \nQ 1469 391 1925 391 \nQ 2381 391 2643 752 \nQ 2906 1113 2906 1747 \nQ 2906 2381 2643 2742 \nQ 2381 3103 1925 3103 \nQ 1469 3103 1208 2742 \nQ 947 2381 947 1747 \nz\n\" transform=\"scale(0.015625)\"/>\n        <path id=\"DejaVuSans-65\" d=\"M 3597 1894 \nL 3597 1613 \nL 953 1613 \nQ 991 1019 1311 708 \nQ 1631 397 2203 397 \nQ 2534 397 2845 478 \nQ 3156 559 3463 722 \nL 3463 178 \nQ 3153 47 2828 -22 \nQ 2503 -91 2169 -91 \nQ 1331 -91 842 396 \nQ 353 884 353 1716 \nQ 353 2575 817 3079 \nQ 1281 3584 2069 3584 \nQ 2775 3584 3186 3129 \nQ 3597 2675 3597 1894 \nz\nM 3022 2063 \nQ 3016 2534 2758 2815 \nQ 2500 3097 2075 3097 \nQ 1594 3097 1305 2825 \nQ 1016 2553 972 2059 \nL 3022 2063 \nz\n\" transform=\"scale(0.015625)\"/>\n       </defs>\n       <use xlink:href=\"#DejaVuSans-41\"/>\n       <use xlink:href=\"#DejaVuSans-72\" x=\"68.408203\"/>\n       <use xlink:href=\"#DejaVuSans-69\" x=\"109.521484\"/>\n       <use xlink:href=\"#DejaVuSans-61\" x=\"137.304688\"/>\n       <use xlink:href=\"#DejaVuSans-6e\" x=\"198.583984\"/>\n       <use xlink:href=\"#DejaVuSans-61\" x=\"261.962891\"/>\n       <use xlink:href=\"#DejaVuSans-20\" x=\"323.242188\"/>\n       <use xlink:href=\"#DejaVuSans-47\" x=\"355.029297\"/>\n       <use xlink:href=\"#DejaVuSans-72\" x=\"432.519531\"/>\n       <use xlink:href=\"#DejaVuSans-61\" x=\"473.632812\"/>\n       <use xlink:href=\"#DejaVuSans-6e\" x=\"534.912109\"/>\n       <use xlink:href=\"#DejaVuSans-64\" x=\"598.291016\"/>\n       <use xlink:href=\"#DejaVuSans-65\" x=\"661.767578\"/>\n      </g>\n     </g>\n    </g>\n    <g id=\"ytick_3\">\n     <g id=\"text_10\">\n      <!-- BTS -->\n      <g style=\"fill: #262626\" transform=\"translate(79.128125 92.645344) scale(0.1 -0.1)\">\n       <defs>\n        <path id=\"DejaVuSans-42\" d=\"M 1259 2228 \nL 1259 519 \nL 2272 519 \nQ 2781 519 3026 730 \nQ 3272 941 3272 1375 \nQ 3272 1813 3026 2020 \nQ 2781 2228 2272 2228 \nL 1259 2228 \nz\nM 1259 4147 \nL 1259 2741 \nL 2194 2741 \nQ 2656 2741 2882 2914 \nQ 3109 3088 3109 3444 \nQ 3109 3797 2882 3972 \nQ 2656 4147 2194 4147 \nL 1259 4147 \nz\nM 628 4666 \nL 2241 4666 \nQ 2963 4666 3353 4366 \nQ 3744 4066 3744 3513 \nQ 3744 3084 3544 2831 \nQ 3344 2578 2956 2516 \nQ 3422 2416 3680 2098 \nQ 3938 1781 3938 1306 \nQ 3938 681 3513 340 \nQ 3088 0 2303 0 \nL 628 0 \nL 628 4666 \nz\n\" transform=\"scale(0.015625)\"/>\n       </defs>\n       <use xlink:href=\"#DejaVuSans-42\"/>\n       <use xlink:href=\"#DejaVuSans-54\" x=\"68.603516\"/>\n       <use xlink:href=\"#DejaVuSans-53\" x=\"129.6875\"/>\n      </g>\n     </g>\n    </g>\n    <g id=\"ytick_4\">\n     <g id=\"text_11\">\n      <!-- XXXTENTACION -->\n      <g style=\"fill: #262626\" transform=\"translate(20.878125 119.256544) scale(0.1 -0.1)\">\n       <defs>\n        <path id=\"DejaVuSans-58\" d=\"M 403 4666 \nL 1081 4666 \nL 2241 2931 \nL 3406 4666 \nL 4084 4666 \nL 2584 2425 \nL 4184 0 \nL 3506 0 \nL 2194 1984 \nL 872 0 \nL 191 0 \nL 1856 2491 \nL 403 4666 \nz\n\" transform=\"scale(0.015625)\"/>\n        <path id=\"DejaVuSans-45\" d=\"M 628 4666 \nL 3578 4666 \nL 3578 4134 \nL 1259 4134 \nL 1259 2753 \nL 3481 2753 \nL 3481 2222 \nL 1259 2222 \nL 1259 531 \nL 3634 531 \nL 3634 0 \nL 628 0 \nL 628 4666 \nz\n\" transform=\"scale(0.015625)\"/>\n        <path id=\"DejaVuSans-4e\" d=\"M 628 4666 \nL 1478 4666 \nL 3547 763 \nL 3547 4666 \nL 4159 4666 \nL 4159 0 \nL 3309 0 \nL 1241 3903 \nL 1241 0 \nL 628 0 \nL 628 4666 \nz\n\" transform=\"scale(0.015625)\"/>\n        <path id=\"DejaVuSans-43\" d=\"M 4122 4306 \nL 4122 3641 \nQ 3803 3938 3442 4084 \nQ 3081 4231 2675 4231 \nQ 1875 4231 1450 3742 \nQ 1025 3253 1025 2328 \nQ 1025 1406 1450 917 \nQ 1875 428 2675 428 \nQ 3081 428 3442 575 \nQ 3803 722 4122 1019 \nL 4122 359 \nQ 3791 134 3420 21 \nQ 3050 -91 2638 -91 \nQ 1578 -91 968 557 \nQ 359 1206 359 2328 \nQ 359 3453 968 4101 \nQ 1578 4750 2638 4750 \nQ 3056 4750 3426 4639 \nQ 3797 4528 4122 4306 \nz\n\" transform=\"scale(0.015625)\"/>\n        <path id=\"DejaVuSans-49\" d=\"M 628 4666 \nL 1259 4666 \nL 1259 0 \nL 628 0 \nL 628 4666 \nz\n\" transform=\"scale(0.015625)\"/>\n        <path id=\"DejaVuSans-4f\" d=\"M 2522 4238 \nQ 1834 4238 1429 3725 \nQ 1025 3213 1025 2328 \nQ 1025 1447 1429 934 \nQ 1834 422 2522 422 \nQ 3209 422 3611 934 \nQ 4013 1447 4013 2328 \nQ 4013 3213 3611 3725 \nQ 3209 4238 2522 4238 \nz\nM 2522 4750 \nQ 3503 4750 4090 4092 \nQ 4678 3434 4678 2328 \nQ 4678 1225 4090 567 \nQ 3503 -91 2522 -91 \nQ 1538 -91 948 565 \nQ 359 1222 359 2328 \nQ 359 3434 948 4092 \nQ 1538 4750 2522 4750 \nz\n\" transform=\"scale(0.015625)\"/>\n       </defs>\n       <use xlink:href=\"#DejaVuSans-58\"/>\n       <use xlink:href=\"#DejaVuSans-58\" x=\"68.505859\"/>\n       <use xlink:href=\"#DejaVuSans-58\" x=\"137.011719\"/>\n       <use xlink:href=\"#DejaVuSans-54\" x=\"203.767578\"/>\n       <use xlink:href=\"#DejaVuSans-45\" x=\"264.851562\"/>\n       <use xlink:href=\"#DejaVuSans-4e\" x=\"328.035156\"/>\n       <use xlink:href=\"#DejaVuSans-54\" x=\"402.839844\"/>\n       <use xlink:href=\"#DejaVuSans-41\" x=\"456.173828\"/>\n       <use xlink:href=\"#DejaVuSans-43\" x=\"522.832031\"/>\n       <use xlink:href=\"#DejaVuSans-49\" x=\"592.65625\"/>\n       <use xlink:href=\"#DejaVuSans-4f\" x=\"622.148438\"/>\n       <use xlink:href=\"#DejaVuSans-4e\" x=\"700.859375\"/>\n      </g>\n     </g>\n    </g>\n    <g id=\"ytick_5\">\n     <g id=\"text_12\">\n      <!-- Drake -->\n      <g style=\"fill: #262626\" transform=\"translate(68.925 145.867744) scale(0.1 -0.1)\">\n       <defs>\n        <path id=\"DejaVuSans-44\" d=\"M 1259 4147 \nL 1259 519 \nL 2022 519 \nQ 2988 519 3436 956 \nQ 3884 1394 3884 2338 \nQ 3884 3275 3436 3711 \nQ 2988 4147 2022 4147 \nL 1259 4147 \nz\nM 628 4666 \nL 1925 4666 \nQ 3281 4666 3915 4102 \nQ 4550 3538 4550 2338 \nQ 4550 1131 3912 565 \nQ 3275 0 1925 0 \nL 628 0 \nL 628 4666 \nz\n\" transform=\"scale(0.015625)\"/>\n        <path id=\"DejaVuSans-6b\" d=\"M 581 4863 \nL 1159 4863 \nL 1159 1991 \nL 2875 3500 \nL 3609 3500 \nL 1753 1863 \nL 3688 0 \nL 2938 0 \nL 1159 1709 \nL 1159 0 \nL 581 0 \nL 581 4863 \nz\n\" transform=\"scale(0.015625)\"/>\n       </defs>\n       <use xlink:href=\"#DejaVuSans-44\"/>\n       <use xlink:href=\"#DejaVuSans-72\" x=\"77.001953\"/>\n       <use xlink:href=\"#DejaVuSans-61\" x=\"118.115234\"/>\n       <use xlink:href=\"#DejaVuSans-6b\" x=\"179.394531\"/>\n       <use xlink:href=\"#DejaVuSans-65\" x=\"233.679688\"/>\n      </g>\n     </g>\n    </g>\n    <g id=\"ytick_6\">\n     <g id=\"text_13\">\n      <!-- Billie Eilish -->\n      <g style=\"fill: #262626\" transform=\"translate(44.940625 172.478944) scale(0.1 -0.1)\">\n       <defs>\n        <path id=\"DejaVuSans-73\" d=\"M 2834 3397 \nL 2834 2853 \nQ 2591 2978 2328 3040 \nQ 2066 3103 1784 3103 \nQ 1356 3103 1142 2972 \nQ 928 2841 928 2578 \nQ 928 2378 1081 2264 \nQ 1234 2150 1697 2047 \nL 1894 2003 \nQ 2506 1872 2764 1633 \nQ 3022 1394 3022 966 \nQ 3022 478 2636 193 \nQ 2250 -91 1575 -91 \nQ 1294 -91 989 -36 \nQ 684 19 347 128 \nL 347 722 \nQ 666 556 975 473 \nQ 1284 391 1588 391 \nQ 1994 391 2212 530 \nQ 2431 669 2431 922 \nQ 2431 1156 2273 1281 \nQ 2116 1406 1581 1522 \nL 1381 1569 \nQ 847 1681 609 1914 \nQ 372 2147 372 2553 \nQ 372 3047 722 3315 \nQ 1072 3584 1716 3584 \nQ 2034 3584 2315 3537 \nQ 2597 3491 2834 3397 \nz\n\" transform=\"scale(0.015625)\"/>\n        <path id=\"DejaVuSans-68\" d=\"M 3513 2113 \nL 3513 0 \nL 2938 0 \nL 2938 2094 \nQ 2938 2591 2744 2837 \nQ 2550 3084 2163 3084 \nQ 1697 3084 1428 2787 \nQ 1159 2491 1159 1978 \nL 1159 0 \nL 581 0 \nL 581 4863 \nL 1159 4863 \nL 1159 2956 \nQ 1366 3272 1645 3428 \nQ 1925 3584 2291 3584 \nQ 2894 3584 3203 3211 \nQ 3513 2838 3513 2113 \nz\n\" transform=\"scale(0.015625)\"/>\n       </defs>\n       <use xlink:href=\"#DejaVuSans-42\"/>\n       <use xlink:href=\"#DejaVuSans-69\" x=\"68.603516\"/>\n       <use xlink:href=\"#DejaVuSans-6c\" x=\"96.386719\"/>\n       <use xlink:href=\"#DejaVuSans-6c\" x=\"124.169922\"/>\n       <use xlink:href=\"#DejaVuSans-69\" x=\"151.953125\"/>\n       <use xlink:href=\"#DejaVuSans-65\" x=\"179.736328\"/>\n       <use xlink:href=\"#DejaVuSans-20\" x=\"241.259766\"/>\n       <use xlink:href=\"#DejaVuSans-45\" x=\"273.046875\"/>\n       <use xlink:href=\"#DejaVuSans-69\" x=\"336.230469\"/>\n       <use xlink:href=\"#DejaVuSans-6c\" x=\"364.013672\"/>\n       <use xlink:href=\"#DejaVuSans-69\" x=\"391.796875\"/>\n       <use xlink:href=\"#DejaVuSans-73\" x=\"419.580078\"/>\n       <use xlink:href=\"#DejaVuSans-68\" x=\"471.679688\"/>\n      </g>\n     </g>\n    </g>\n    <g id=\"ytick_7\">\n     <g id=\"text_14\">\n      <!-- Sam Smith -->\n      <g style=\"fill: #262626\" transform=\"translate(43.925 199.090144) scale(0.1 -0.1)\">\n       <defs>\n        <path id=\"DejaVuSans-6d\" d=\"M 3328 2828 \nQ 3544 3216 3844 3400 \nQ 4144 3584 4550 3584 \nQ 5097 3584 5394 3201 \nQ 5691 2819 5691 2113 \nL 5691 0 \nL 5113 0 \nL 5113 2094 \nQ 5113 2597 4934 2840 \nQ 4756 3084 4391 3084 \nQ 3944 3084 3684 2787 \nQ 3425 2491 3425 1978 \nL 3425 0 \nL 2847 0 \nL 2847 2094 \nQ 2847 2600 2669 2842 \nQ 2491 3084 2119 3084 \nQ 1678 3084 1418 2786 \nQ 1159 2488 1159 1978 \nL 1159 0 \nL 581 0 \nL 581 3500 \nL 1159 3500 \nL 1159 2956 \nQ 1356 3278 1631 3431 \nQ 1906 3584 2284 3584 \nQ 2666 3584 2933 3390 \nQ 3200 3197 3328 2828 \nz\n\" transform=\"scale(0.015625)\"/>\n       </defs>\n       <use xlink:href=\"#DejaVuSans-53\"/>\n       <use xlink:href=\"#DejaVuSans-61\" x=\"63.476562\"/>\n       <use xlink:href=\"#DejaVuSans-6d\" x=\"124.755859\"/>\n       <use xlink:href=\"#DejaVuSans-20\" x=\"222.167969\"/>\n       <use xlink:href=\"#DejaVuSans-53\" x=\"253.955078\"/>\n       <use xlink:href=\"#DejaVuSans-6d\" x=\"317.431641\"/>\n       <use xlink:href=\"#DejaVuSans-69\" x=\"414.84375\"/>\n       <use xlink:href=\"#DejaVuSans-74\" x=\"442.626953\"/>\n       <use xlink:href=\"#DejaVuSans-68\" x=\"481.835938\"/>\n      </g>\n     </g>\n    </g>\n    <g id=\"ytick_8\">\n     <g id=\"text_15\">\n      <!-- Linkin Park -->\n      <g style=\"fill: #262626\" transform=\"translate(44.064063 225.701344) scale(0.1 -0.1)\">\n       <defs>\n        <path id=\"DejaVuSans-4c\" d=\"M 628 4666 \nL 1259 4666 \nL 1259 531 \nL 3531 531 \nL 3531 0 \nL 628 0 \nL 628 4666 \nz\n\" transform=\"scale(0.015625)\"/>\n        <path id=\"DejaVuSans-50\" d=\"M 1259 4147 \nL 1259 2394 \nL 2053 2394 \nQ 2494 2394 2734 2622 \nQ 2975 2850 2975 3272 \nQ 2975 3691 2734 3919 \nQ 2494 4147 2053 4147 \nL 1259 4147 \nz\nM 628 4666 \nL 2053 4666 \nQ 2838 4666 3239 4311 \nQ 3641 3956 3641 3272 \nQ 3641 2581 3239 2228 \nQ 2838 1875 2053 1875 \nL 1259 1875 \nL 1259 0 \nL 628 0 \nL 628 4666 \nz\n\" transform=\"scale(0.015625)\"/>\n       </defs>\n       <use xlink:href=\"#DejaVuSans-4c\"/>\n       <use xlink:href=\"#DejaVuSans-69\" x=\"55.712891\"/>\n       <use xlink:href=\"#DejaVuSans-6e\" x=\"83.496094\"/>\n       <use xlink:href=\"#DejaVuSans-6b\" x=\"146.875\"/>\n       <use xlink:href=\"#DejaVuSans-69\" x=\"204.785156\"/>\n       <use xlink:href=\"#DejaVuSans-6e\" x=\"232.568359\"/>\n       <use xlink:href=\"#DejaVuSans-20\" x=\"295.947266\"/>\n       <use xlink:href=\"#DejaVuSans-50\" x=\"327.734375\"/>\n       <use xlink:href=\"#DejaVuSans-61\" x=\"383.537109\"/>\n       <use xlink:href=\"#DejaVuSans-72\" x=\"444.816406\"/>\n       <use xlink:href=\"#DejaVuSans-6b\" x=\"485.929688\"/>\n      </g>\n     </g>\n    </g>\n    <g id=\"ytick_9\">\n     <g id=\"text_16\">\n      <!-- Ed Sheeran -->\n      <g style=\"fill: #262626\" transform=\"translate(41.03125 252.312544) scale(0.1 -0.1)\">\n       <use xlink:href=\"#DejaVuSans-45\"/>\n       <use xlink:href=\"#DejaVuSans-64\" x=\"63.183594\"/>\n       <use xlink:href=\"#DejaVuSans-20\" x=\"126.660156\"/>\n       <use xlink:href=\"#DejaVuSans-53\" x=\"158.447266\"/>\n       <use xlink:href=\"#DejaVuSans-68\" x=\"221.923828\"/>\n       <use xlink:href=\"#DejaVuSans-65\" x=\"285.302734\"/>\n       <use xlink:href=\"#DejaVuSans-65\" x=\"346.826172\"/>\n       <use xlink:href=\"#DejaVuSans-72\" x=\"408.349609\"/>\n       <use xlink:href=\"#DejaVuSans-61\" x=\"449.462891\"/>\n       <use xlink:href=\"#DejaVuSans-6e\" x=\"510.742188\"/>\n      </g>\n     </g>\n    </g>\n    <g id=\"ytick_10\">\n     <g id=\"text_17\">\n      <!-- Camila Cabello -->\n      <g style=\"fill: #262626\" transform=\"translate(23.44375 278.923744) scale(0.1 -0.1)\">\n       <defs>\n        <path id=\"DejaVuSans-62\" d=\"M 3116 1747 \nQ 3116 2381 2855 2742 \nQ 2594 3103 2138 3103 \nQ 1681 3103 1420 2742 \nQ 1159 2381 1159 1747 \nQ 1159 1113 1420 752 \nQ 1681 391 2138 391 \nQ 2594 391 2855 752 \nQ 3116 1113 3116 1747 \nz\nM 1159 2969 \nQ 1341 3281 1617 3432 \nQ 1894 3584 2278 3584 \nQ 2916 3584 3314 3078 \nQ 3713 2572 3713 1747 \nQ 3713 922 3314 415 \nQ 2916 -91 2278 -91 \nQ 1894 -91 1617 61 \nQ 1341 213 1159 525 \nL 1159 0 \nL 581 0 \nL 581 4863 \nL 1159 4863 \nL 1159 2969 \nz\n\" transform=\"scale(0.015625)\"/>\n       </defs>\n       <use xlink:href=\"#DejaVuSans-43\"/>\n       <use xlink:href=\"#DejaVuSans-61\" x=\"69.824219\"/>\n       <use xlink:href=\"#DejaVuSans-6d\" x=\"131.103516\"/>\n       <use xlink:href=\"#DejaVuSans-69\" x=\"228.515625\"/>\n       <use xlink:href=\"#DejaVuSans-6c\" x=\"256.298828\"/>\n       <use xlink:href=\"#DejaVuSans-61\" x=\"284.082031\"/>\n       <use xlink:href=\"#DejaVuSans-20\" x=\"345.361328\"/>\n       <use xlink:href=\"#DejaVuSans-43\" x=\"377.148438\"/>\n       <use xlink:href=\"#DejaVuSans-61\" x=\"446.972656\"/>\n       <use xlink:href=\"#DejaVuSans-62\" x=\"508.251953\"/>\n       <use xlink:href=\"#DejaVuSans-65\" x=\"571.728516\"/>\n       <use xlink:href=\"#DejaVuSans-6c\" x=\"633.251953\"/>\n       <use xlink:href=\"#DejaVuSans-6c\" x=\"661.035156\"/>\n       <use xlink:href=\"#DejaVuSans-6f\" x=\"688.818359\"/>\n      </g>\n     </g>\n    </g>\n    <g id=\"text_18\">\n     <!-- Artist -->\n     <g style=\"fill: #262626\" transform=\"translate(14.798438 168.763969) rotate(-90) scale(0.1 -0.1)\">\n      <use xlink:href=\"#DejaVuSans-41\"/>\n      <use xlink:href=\"#DejaVuSans-72\" x=\"68.408203\"/>\n      <use xlink:href=\"#DejaVuSans-74\" x=\"109.521484\"/>\n      <use xlink:href=\"#DejaVuSans-69\" x=\"148.730469\"/>\n      <use xlink:href=\"#DejaVuSans-73\" x=\"176.513672\"/>\n      <use xlink:href=\"#DejaVuSans-74\" x=\"228.613281\"/>\n     </g>\n    </g>\n   </g>\n   <g id=\"patch_3\">\n    <path d=\"M 105.445313 24.979245 \nL 445.559598 24.979245 \nL 445.559598 46.268205 \nL 105.445313 46.268205 \nz\n\" clip-path=\"url(#p5026f8f03b)\" style=\"fill: #5078e1; stroke: #ffffff; stroke-linejoin: miter\"/>\n   </g>\n   <g id=\"patch_4\">\n    <path d=\"M 105.445313 51.590445 \nL 427.979138 51.590445 \nL 427.979138 72.879405 \nL 105.445313 72.879405 \nz\n\" clip-path=\"url(#p5026f8f03b)\" style=\"fill: #5078e1; stroke: #ffffff; stroke-linejoin: miter\"/>\n   </g>\n   <g id=\"patch_5\">\n    <path d=\"M 105.445313 78.201645 \nL 425.274452 78.201645 \nL 425.274452 99.490605 \nL 105.445313 99.490605 \nz\n\" clip-path=\"url(#p5026f8f03b)\" style=\"fill: #5078e1; stroke: #ffffff; stroke-linejoin: miter\"/>\n   </g>\n   <g id=\"patch_6\">\n    <path d=\"M 105.445313 104.812845 \nL 378.618616 104.812845 \nL 378.618616 126.101805 \nL 105.445313 126.101805 \nz\n\" clip-path=\"url(#p5026f8f03b)\" style=\"fill: #5078e1; stroke: #ffffff; stroke-linejoin: miter\"/>\n   </g>\n   <g id=\"patch_7\">\n    <path d=\"M 105.445313 131.424045 \nL 376.590101 131.424045 \nL 376.590101 152.713005 \nL 105.445313 152.713005 \nz\n\" clip-path=\"url(#p5026f8f03b)\" style=\"fill: #5078e1; stroke: #ffffff; stroke-linejoin: miter\"/>\n   </g>\n   <g id=\"patch_8\">\n    <path d=\"M 105.445313 158.035245 \nL 283.9546 158.035245 \nL 283.9546 179.324205 \nL 105.445313 179.324205 \nz\n\" clip-path=\"url(#p5026f8f03b)\" style=\"fill: #5078e1; stroke: #ffffff; stroke-linejoin: miter\"/>\n   </g>\n   <g id=\"patch_9\">\n    <path d=\"M 105.445313 184.646445 \nL 277.192884 184.646445 \nL 277.192884 205.935405 \nL 105.445313 205.935405 \nz\n\" clip-path=\"url(#p5026f8f03b)\" style=\"fill: #5078e1; stroke: #ffffff; stroke-linejoin: miter\"/>\n   </g>\n   <g id=\"patch_10\">\n    <path d=\"M 105.445313 211.257645 \nL 277.192884 211.257645 \nL 277.192884 232.546605 \nL 105.445313 232.546605 \nz\n\" clip-path=\"url(#p5026f8f03b)\" style=\"fill: #5078e1; stroke: #ffffff; stroke-linejoin: miter\"/>\n   </g>\n   <g id=\"patch_11\">\n    <path d=\"M 105.445313 237.868845 \nL 263.669453 237.868845 \nL 263.669453 259.157805 \nL 105.445313 259.157805 \nz\n\" clip-path=\"url(#p5026f8f03b)\" style=\"fill: #5078e1; stroke: #ffffff; stroke-linejoin: miter\"/>\n   </g>\n   <g id=\"patch_12\">\n    <path d=\"M 105.445313 264.480045 \nL 257.583909 264.480045 \nL 257.583909 285.769005 \nL 105.445313 285.769005 \nz\n\" clip-path=\"url(#p5026f8f03b)\" style=\"fill: #5078e1; stroke: #ffffff; stroke-linejoin: miter\"/>\n   </g>\n   <g id=\"line2d_7\">\n    <path clip-path=\"url(#p5026f8f03b)\" style=\"fill: none; stroke: #424242; stroke-width: 2.25; stroke-linecap: round\"/>\n   </g>\n   <g id=\"line2d_8\">\n    <path clip-path=\"url(#p5026f8f03b)\" style=\"fill: none; stroke: #424242; stroke-width: 2.25; stroke-linecap: round\"/>\n   </g>\n   <g id=\"line2d_9\">\n    <path clip-path=\"url(#p5026f8f03b)\" style=\"fill: none; stroke: #424242; stroke-width: 2.25; stroke-linecap: round\"/>\n   </g>\n   <g id=\"line2d_10\">\n    <path clip-path=\"url(#p5026f8f03b)\" style=\"fill: none; stroke: #424242; stroke-width: 2.25; stroke-linecap: round\"/>\n   </g>\n   <g id=\"line2d_11\">\n    <path clip-path=\"url(#p5026f8f03b)\" style=\"fill: none; stroke: #424242; stroke-width: 2.25; stroke-linecap: round\"/>\n   </g>\n   <g id=\"line2d_12\">\n    <path clip-path=\"url(#p5026f8f03b)\" style=\"fill: none; stroke: #424242; stroke-width: 2.25; stroke-linecap: round\"/>\n   </g>\n   <g id=\"line2d_13\">\n    <path clip-path=\"url(#p5026f8f03b)\" style=\"fill: none; stroke: #424242; stroke-width: 2.25; stroke-linecap: round\"/>\n   </g>\n   <g id=\"line2d_14\">\n    <path clip-path=\"url(#p5026f8f03b)\" style=\"fill: none; stroke: #424242; stroke-width: 2.25; stroke-linecap: round\"/>\n   </g>\n   <g id=\"line2d_15\">\n    <path clip-path=\"url(#p5026f8f03b)\" style=\"fill: none; stroke: #424242; stroke-width: 2.25; stroke-linecap: round\"/>\n   </g>\n   <g id=\"line2d_16\">\n    <path clip-path=\"url(#p5026f8f03b)\" style=\"fill: none; stroke: #424242; stroke-width: 2.25; stroke-linecap: round\"/>\n   </g>\n   <g id=\"patch_13\">\n    <path d=\"M 105.445313 288.430125 \nL 105.445313 22.318125 \n\" style=\"fill: none; stroke: #ffffff; stroke-width: 0.8; stroke-linejoin: miter; stroke-linecap: square\"/>\n   </g>\n   <g id=\"patch_14\">\n    <path d=\"M 462.565313 288.430125 \nL 462.565313 22.318125 \n\" style=\"fill: none; stroke: #ffffff; stroke-width: 0.8; stroke-linejoin: miter; stroke-linecap: square\"/>\n   </g>\n   <g id=\"patch_15\">\n    <path d=\"M 105.445313 288.430125 \nL 462.565313 288.430125 \n\" style=\"fill: none; stroke: #ffffff; stroke-width: 0.8; stroke-linejoin: miter; stroke-linecap: square\"/>\n   </g>\n   <g id=\"patch_16\">\n    <path d=\"M 105.445313 22.318125 \nL 462.565313 22.318125 \n\" style=\"fill: none; stroke: #ffffff; stroke-width: 0.8; stroke-linejoin: miter; stroke-linecap: square\"/>\n   </g>\n   <g id=\"text_19\">\n    <!-- Most Prolific Artists -->\n    <g style=\"fill: #262626\" transform=\"translate(226.744688 16.318125) scale(0.12 -0.12)\">\n     <defs>\n      <path id=\"DejaVuSans-4d\" d=\"M 628 4666 \nL 1569 4666 \nL 2759 1491 \nL 3956 4666 \nL 4897 4666 \nL 4897 0 \nL 4281 0 \nL 4281 4097 \nL 3078 897 \nL 2444 897 \nL 1241 4097 \nL 1241 0 \nL 628 0 \nL 628 4666 \nz\n\" transform=\"scale(0.015625)\"/>\n     </defs>\n     <use xlink:href=\"#DejaVuSans-4d\"/>\n     <use xlink:href=\"#DejaVuSans-6f\" x=\"86.279297\"/>\n     <use xlink:href=\"#DejaVuSans-73\" x=\"147.460938\"/>\n     <use xlink:href=\"#DejaVuSans-74\" x=\"199.560547\"/>\n     <use xlink:href=\"#DejaVuSans-20\" x=\"238.769531\"/>\n     <use xlink:href=\"#DejaVuSans-50\" x=\"270.556641\"/>\n     <use xlink:href=\"#DejaVuSans-72\" x=\"329.109375\"/>\n     <use xlink:href=\"#DejaVuSans-6f\" x=\"367.972656\"/>\n     <use xlink:href=\"#DejaVuSans-6c\" x=\"429.154297\"/>\n     <use xlink:href=\"#DejaVuSans-69\" x=\"456.9375\"/>\n     <use xlink:href=\"#DejaVuSans-66\" x=\"484.720703\"/>\n     <use xlink:href=\"#DejaVuSans-69\" x=\"519.925781\"/>\n     <use xlink:href=\"#DejaVuSans-63\" x=\"547.708984\"/>\n     <use xlink:href=\"#DejaVuSans-20\" x=\"602.689453\"/>\n     <use xlink:href=\"#DejaVuSans-41\" x=\"634.476562\"/>\n     <use xlink:href=\"#DejaVuSans-72\" x=\"702.884766\"/>\n     <use xlink:href=\"#DejaVuSans-74\" x=\"743.998047\"/>\n     <use xlink:href=\"#DejaVuSans-69\" x=\"783.207031\"/>\n     <use xlink:href=\"#DejaVuSans-73\" x=\"810.990234\"/>\n     <use xlink:href=\"#DejaVuSans-74\" x=\"863.089844\"/>\n     <use xlink:href=\"#DejaVuSans-73\" x=\"902.298828\"/>\n    </g>\n   </g>\n  </g>\n </g>\n <defs>\n  <clipPath id=\"p5026f8f03b\">\n   <rect x=\"105.445313\" y=\"22.318125\" width=\"357.12\" height=\"266.112\"/>\n  </clipPath>\n </defs>\n</svg>\n"
          },
          "metadata": {}
        }
      ]
    },
    {
      "cell_type": "code",
      "source": [
        "df.show(5)"
      ],
      "metadata": {
        "id": "Uvt9ZgE1KY9z",
        "outputId": "0092e5e3-b391-48f1-aa81-9b78e02d7b5b",
        "colab": {
          "base_uri": "https://localhost:8080/"
        }
      },
      "execution_count": 11,
      "outputs": [
        {
          "output_type": "stream",
          "name": "stdout",
          "text": [
            "+-----------+--------------------+-----------------+----------+------------+------------+-----------------+----------------+--------+----------+------------+------------+---------------+------------+------+---+--------+----+-----------+---------+----------------+----------+-------+-------+-----------+--------------+---------+------------------+-------------------+--------------+-------------+-------+-----------+------+------+--------+---------+----------------+----+----+-------+-----+-----+----+-----+-----+-----+---+---+--------+---+------+---------+----+----+------------+---------+----------+--------+-------+----+-----+----+-----+------------+-------+----+----+-------+--------+-----+--------+--------+-------+----------+-----------------+------------+---------+--------+------------+-------------+----------+-------------+-------------+-----------+------------------+-------------+----------+---------+-------------+--------------+-----------+--------------+--------------+---------------+---------------+-----+--------------+-------------+--------------+---------+---------+------+-------+----+----+----+---------+----+------------------+-----------------+------------------+---------+---------+-------+-------+------+------+-----+--------+----------+-------+-------+-------+------+-------+------+---------+-------+-----+--------+------+-----------+-----------+------+----+-----------+------+--------+---------+-----+------+-----------+------+------+---+---+--------+-----------+-----------+--------------------+\n",
            "|   Country0|                 Uri|       Popularity|     Title|      Artist|Album/Single|            Genre|Artist_followers|Explicit|    Album9|Release_date|Track_number|Tracks_in_album|danceability|energy|key|loudness|mode|speechiness|acoustics|instrumentalness|liveliness|valence|  tempo|duration_ms|time_signature|Genre_new|Days_since_release|Released_after_2017|Explicit_false|Explicit_true|album31|compilation|single|bolero|boy band|country36|dance/electronic|else|funk|hip hop|house|indie|jazz|k-pop|latin|metal|opm|pop|r&b/soul|rap|reggae|reggaeton|rock|trap|syuzhet_norm|bing_norm|afinn_norm|nrc_norm|syuzhet|bing|afinn| nrc|anger|anticipation|disgust|fear| joy|sadness|surprise|trust|negative|positive|n_words|anger_norm|anticipation_norm|disgust_norm|fear_norm|joy_norm|sadness_norm|surprise_norm|trust_norm|negative_norm|positive_norm|anger_norm2|anticipation_norm2|disgust_norm2|fear_norm2|joy_norm2|sadness_norm2|surprise_norm2|trust_norm2|negative_norm2|positive_norm2|negative_bog_jr|positive_bog_jr|Bayes|Negative_Bayes|Neutral_Bayes|Positive_Bayes|LDA_Topic|Celebrate|Desire|Explore| Fun|Hope|Love|Nostalgia|Thug|bing_norm_negative|bing_norm_neutral|bing_norm_positive|Argentina|Australia|Austria|Belgium|Brazil|Canada|Chile|Colombia|Costa Rica|Denmark|Ecuador|Finland|France|Germany|Global|Indonesia|Ireland|Italy|Malaysia|Mexico|Netherlands|New Zealand|Norway|Peru|Philippines|Poland|Portugal|Singapore|Spain|Sweden|Switzerland|Taiwan|Turkey| UK|USA|Popu_max|Top10_dummy|Top50_dummy|             Cluster|\n",
            "+-----------+--------------------+-----------------+----------+------------+------------+-----------------+----------------+--------+----------+------------+------------+---------------+------------+------+---+--------+----+-----------+---------+----------------+----------+-------+-------+-----------+--------------+---------+------------------+-------------------+--------------+-------------+-------+-----------+------+------+--------+---------+----------------+----+----+-------+-----+-----+----+-----+-----+-----+---+---+--------+---+------+---------+----+----+------------+---------+----------+--------+-------+----+-----+----+-----+------------+-------+----+----+-------+--------+-----+--------+--------+-------+----------+-----------------+------------+---------+--------+------------+-------------+----------+-------------+-------------+-----------+------------------+-------------+----------+---------+-------------+--------------+-----------+--------------+--------------+---------------+---------------+-----+--------------+-------------+--------------+---------+---------+------+-------+----+----+----+---------+----+------------------+-----------------+------------------+---------+---------+-------+-------+------+------+-----+--------+----------+-------+-------+-------+------+-------+------+---------+-------+-----+--------+------+-----------+-----------+------+----+-----------+------+--------+---------+-----+------+-----------+------+------+---+---+--------+-----------+-----------+--------------------+\n",
            "|     Global|https://open.spot...|         31833.95|adan y eva|Paulo Londra|      single|argentine hip hop|      11427104.0|   False|Adan y Eva|  2018-11-05|           1|              1|       0.767| 0.709|  1|   -4.47|   1|      0.336|    0.323|             0.0|    0.0676|   0.72|171.993|   258639.0|           4.0|  hip hop|             740.0|                1.0|             1|            0|      0|          0|     1|     0|       0|        0|               0|   0|   0|      1|    0|    0|   0|    0|    0|    0|  0|  0|       0|  0|     0|        0|   0|   0|        NULL|     NULL|      NULL|    NULL|   NULL|NULL| NULL|NULL| NULL|        NULL|   NULL|NULL|NULL|   NULL|    NULL| NULL|    NULL|    NULL|   NULL|      NULL|             NULL|        NULL|     NULL|    NULL|        NULL|         NULL|      NULL|         NULL|         NULL|       NULL|              NULL|         NULL|      NULL|     NULL|         NULL|          NULL|       NULL|          NULL|          NULL|           NULL|           NULL| NULL|          NULL|         NULL|          NULL|     NULL|     NULL|  NULL|   NULL|NULL|NULL|NULL|     NULL|NULL|                 0|                0|                 0|        0|        0|      0|      0|     0|     0|    0|       0|         0|      0|      0|      0|     0|      0|     1|        0|      0|    0|       0|     0|          0|          0|     0|   0|          0|     0|       0|        0|    0|     0|          0|     0|     0|  0|  0|      10|        1.0|        1.0|              global|\n",
            "|        USA|https://open.spot...|              8.0|adan y eva|Paulo Londra|      single|argentine hip hop|      11427104.0|   False|Adan y Eva|  2018-11-05|           1|              1|       0.767| 0.709|  1|   -4.47|   1|      0.336|    0.323|             0.0|    0.0676|   0.72|171.993|   258639.0|           4.0|  hip hop|             740.0|                1.0|             1|            0|      0|          0|     1|     0|       0|        0|               0|   0|   0|      1|    0|    0|   0|    0|    0|    0|  0|  0|       0|  0|     0|        0|   0|   0|        NULL|     NULL|      NULL|    NULL|   NULL|NULL| NULL|NULL| NULL|        NULL|   NULL|NULL|NULL|   NULL|    NULL| NULL|    NULL|    NULL|   NULL|      NULL|             NULL|        NULL|     NULL|    NULL|        NULL|         NULL|      NULL|         NULL|         NULL|       NULL|              NULL|         NULL|      NULL|     NULL|         NULL|          NULL|       NULL|          NULL|          NULL|           NULL|           NULL| NULL|          NULL|         NULL|          NULL|     NULL|     NULL|  NULL|   NULL|NULL|NULL|NULL|     NULL|NULL|                 0|                0|                 0|        0|        0|      0|      0|     0|     0|    0|       0|         0|      0|      0|      0|     0|      0|     0|        0|      0|    0|       0|     0|          0|          0|     0|   0|          0|     0|       0|        0|    0|     0|          0|     0|     0|  0|  1|     191|        0.0|        0.0|english speaking ...|\n",
            "|  Argentina|https://open.spot...|          76924.4|adan y eva|Paulo Londra|      single|argentine hip hop|      11427104.0|   False|Adan y Eva|  2018-11-05|           1|              1|       0.767| 0.709|  1|   -4.47|   1|      0.336|    0.323|             0.0|    0.0676|   0.72|171.993|   258639.0|           4.0|  hip hop|             740.0|                1.0|             1|            0|      0|          0|     1|     0|       0|        0|               0|   0|   0|      1|    0|    0|   0|    0|    0|    0|  0|  0|       0|  0|     0|        0|   0|   0|        NULL|     NULL|      NULL|    NULL|   NULL|NULL| NULL|NULL| NULL|        NULL|   NULL|NULL|NULL|   NULL|    NULL| NULL|    NULL|    NULL|   NULL|      NULL|             NULL|        NULL|     NULL|    NULL|        NULL|         NULL|      NULL|         NULL|         NULL|       NULL|              NULL|         NULL|      NULL|     NULL|         NULL|          NULL|       NULL|          NULL|          NULL|           NULL|           NULL| NULL|          NULL|         NULL|          NULL|     NULL|     NULL|  NULL|   NULL|NULL|NULL|NULL|     NULL|NULL|                 0|                0|                 0|        1|        0|      0|      0|     0|     0|    0|       0|         0|      0|      0|      0|     0|      0|     0|        0|      0|    0|       0|     0|          0|          0|     0|   0|          0|     0|       0|        0|    0|     0|          0|     0|     0|  0|  0|       1|        1.0|        1.0|    spanish speaking|\n",
            "|    Belgium|https://open.spot...|849.6000000000001|adan y eva|Paulo Londra|      single|argentine hip hop|      11427104.0|   False|Adan y Eva|  2018-11-05|           1|              1|       0.767| 0.709|  1|   -4.47|   1|      0.336|    0.323|             0.0|    0.0676|   0.72|171.993|   258639.0|           4.0|  hip hop|             740.0|                1.0|             1|            0|      0|          0|     1|     0|       0|        0|               0|   0|   0|      1|    0|    0|   0|    0|    0|    0|  0|  0|       0|  0|     0|        0|   0|   0|        NULL|     NULL|      NULL|    NULL|   NULL|NULL| NULL|NULL| NULL|        NULL|   NULL|NULL|NULL|   NULL|    NULL| NULL|    NULL|    NULL|   NULL|      NULL|             NULL|        NULL|     NULL|    NULL|        NULL|         NULL|      NULL|         NULL|         NULL|       NULL|              NULL|         NULL|      NULL|     NULL|         NULL|          NULL|       NULL|          NULL|          NULL|           NULL|           NULL| NULL|          NULL|         NULL|          NULL|     NULL|     NULL|  NULL|   NULL|NULL|NULL|NULL|     NULL|NULL|                 0|                0|                 0|        0|        0|      0|      1|     0|     0|    0|       0|         0|      0|      0|      0|     0|      0|     0|        0|      0|    0|       0|     0|          0|          0|     0|   0|          0|     0|       0|        0|    0|     0|          0|     0|     0|  0|  0|     126|        0.0|        0.0|english speaking ...|\n",
            "|Switzerland|https://open.spot...|          20739.1|adan y eva|Paulo Londra|      single|argentine hip hop|      11427104.0|   False|Adan y Eva|  2018-11-05|           1|              1|       0.767| 0.709|  1|   -4.47|   1|      0.336|    0.323|             0.0|    0.0676|   0.72|171.993|   258639.0|           4.0|  hip hop|             740.0|                1.0|             1|            0|      0|          0|     1|     0|       0|        0|               0|   0|   0|      1|    0|    0|   0|    0|    0|    0|  0|  0|       0|  0|     0|        0|   0|   0|        NULL|     NULL|      NULL|    NULL|   NULL|NULL| NULL|NULL| NULL|        NULL|   NULL|NULL|NULL|   NULL|    NULL| NULL|    NULL|    NULL|   NULL|      NULL|             NULL|        NULL|     NULL|    NULL|        NULL|         NULL|      NULL|         NULL|         NULL|       NULL|              NULL|         NULL|      NULL|     NULL|         NULL|          NULL|       NULL|          NULL|          NULL|           NULL|           NULL| NULL|          NULL|         NULL|          NULL|     NULL|     NULL|  NULL|   NULL|NULL|NULL|NULL|     NULL|NULL|                 0|                0|                 0|        0|        0|      0|      0|     0|     0|    0|       0|         0|      0|      0|      0|     0|      0|     0|        0|      0|    0|       0|     0|          0|          0|     0|   0|          0|     0|       0|        0|    0|     0|          1|     0|     0|  0|  0|      21|        0.0|        1.0|english speaking ...|\n",
            "+-----------+--------------------+-----------------+----------+------------+------------+-----------------+----------------+--------+----------+------------+------------+---------------+------------+------+---+--------+----+-----------+---------+----------------+----------+-------+-------+-----------+--------------+---------+------------------+-------------------+--------------+-------------+-------+-----------+------+------+--------+---------+----------------+----+----+-------+-----+-----+----+-----+-----+-----+---+---+--------+---+------+---------+----+----+------------+---------+----------+--------+-------+----+-----+----+-----+------------+-------+----+----+-------+--------+-----+--------+--------+-------+----------+-----------------+------------+---------+--------+------------+-------------+----------+-------------+-------------+-----------+------------------+-------------+----------+---------+-------------+--------------+-----------+--------------+--------------+---------------+---------------+-----+--------------+-------------+--------------+---------+---------+------+-------+----+----+----+---------+----+------------------+-----------------+------------------+---------+---------+-------+-------+------+------+-----+--------+----------+-------+-------+-------+------+-------+------+---------+-------+-----+--------+------+-----------+-----------+------+----+-----------+------+--------+---------+-----+------+-----------+------+------+---+---+--------+-----------+-----------+--------------------+\n",
            "only showing top 5 rows\n",
            "\n"
          ]
        }
      ]
    },
    {
      "cell_type": "markdown",
      "source": [
        "`CreateOrReplaceTempView` will create a temporary view of the table on memory. It won't persist, but you can run SQL queries on top of it. You can always force it to cache/persits with `saveAsTable`."
      ],
      "metadata": {
        "id": "uwfZP0hZvznD"
      }
    },
    {
      "cell_type": "code",
      "source": [
        "df.createOrReplaceTempView(\"df_table\")"
      ],
      "metadata": {
        "execution": {
          "iopub.status.busy": "2022-07-04T01:15:52.456427Z",
          "iopub.execute_input": "2022-07-04T01:15:52.457113Z",
          "iopub.status.idle": "2022-07-04T01:15:52.479535Z",
          "shell.execute_reply.started": "2022-07-04T01:15:52.457063Z",
          "shell.execute_reply": "2022-07-04T01:15:52.478462Z"
        },
        "trusted": true,
        "id": "5Kn4JVgcvznD"
      },
      "execution_count": 12,
      "outputs": []
    },
    {
      "cell_type": "code",
      "source": [
        "print(\"Now using the SQL Context. We can check it's the same length as before\")\n",
        "query = \"\"\"\n",
        "    SELECT Count(*) as Dataset_Length\n",
        "    FROM df_table\n",
        "\"\"\"\n",
        "res = spark.sql(query).show()"
      ],
      "metadata": {
        "execution": {
          "iopub.status.busy": "2022-07-04T01:15:52.481073Z",
          "iopub.execute_input": "2022-07-04T01:15:52.481651Z",
          "iopub.status.idle": "2022-07-04T01:15:52.863368Z",
          "shell.execute_reply.started": "2022-07-04T01:15:52.48161Z",
          "shell.execute_reply": "2022-07-04T01:15:52.862214Z"
        },
        "trusted": true,
        "colab": {
          "base_uri": "https://localhost:8080/"
        },
        "id": "QWxZrq9qvznD",
        "outputId": "1c42f9b0-45ab-49e4-9762-134481f78630"
      },
      "execution_count": 13,
      "outputs": [
        {
          "output_type": "stream",
          "name": "stdout",
          "text": [
            "Now using the SQL Context. We can check it's the same length as before\n",
            "+--------------+\n",
            "|Dataset_Length|\n",
            "+--------------+\n",
            "|         27851|\n",
            "+--------------+\n",
            "\n"
          ]
        }
      ]
    },
    {
      "cell_type": "code",
      "source": [
        "# Most popular artist (by sum of popularity of songs) in the USA\n",
        "query = \"\"\"\n",
        "SELECT\n",
        "                                    Artist,\n",
        "       ROUND(SUM(Popularity), 2) AS Populartiy\n",
        "FROM df_table\n",
        "WHERE USA == 1\n",
        "GROUP BY Artist\n",
        "ORDER BY AVG(Popularity) DESC\n",
        "LIMIT 10\n",
        "\"\"\"\n",
        "\n",
        "res = spark.sql(query)\n",
        "res.show(10, truncate=False)\n",
        "\n"
      ],
      "metadata": {
        "execution": {
          "iopub.status.busy": "2022-07-04T01:15:52.864759Z",
          "iopub.execute_input": "2022-07-04T01:15:52.865114Z",
          "iopub.status.idle": "2022-07-04T01:15:54.149337Z",
          "shell.execute_reply.started": "2022-07-04T01:15:52.865081Z",
          "shell.execute_reply": "2022-07-04T01:15:54.148019Z"
        },
        "trusted": true,
        "colab": {
          "base_uri": "https://localhost:8080/"
        },
        "id": "Jj4vylj_vznD",
        "outputId": "04cbd53e-1a31-4b70-994d-1bf488508bce"
      },
      "execution_count": 14,
      "outputs": [
        {
          "output_type": "stream",
          "name": "stdout",
          "text": [
            "+------------------------------+----------+\n",
            "|Artist                        |Populartiy|\n",
            "+------------------------------+----------+\n",
            "|Roddy Ricch                   |106599.15 |\n",
            "|Post Malone - 21 Savage       |93936.45  |\n",
            "|Billie Eilish - Khalid        |79693.9   |\n",
            "|Marshmello - Bastille         |74560.5   |\n",
            "|Cardi B - Bad Bunny - J Balvin|74381.6   |\n",
            "|Arizona Zervas                |72755.85  |\n",
            "|Kendrick Lamar - Zacari       |67838.15  |\n",
            "|blackbear                     |60836.35  |\n",
            "|Sam Hunt                      |60696.25  |\n",
            "|Sheck Wes                     |58448.95  |\n",
            "+------------------------------+----------+\n",
            "\n"
          ]
        }
      ]
    },
    {
      "cell_type": "code",
      "source": [
        "result_df = res.toPandas()\n",
        "\n",
        "# make sure column names match between result_df and the arguments\n",
        "\n",
        "\n",
        "sns.barplot(data=result_df, y='Artist', x='Populartiy').set_title('Top 10 Artists by Popularity in the USA') # x='Populartiy'\n",
        "plt.show()"
      ],
      "metadata": {
        "id": "u8SFo3V4Rkd7",
        "outputId": "24dadcc8-f7a3-4214-b88b-54e2ed461617",
        "colab": {
          "base_uri": "https://localhost:8080/",
          "height": 456
        }
      },
      "execution_count": 15,
      "outputs": [
        {
          "output_type": "display_data",
          "data": {
            "text/plain": [
              "<Figure size 640x480 with 1 Axes>"
            ],
            "image/svg+xml": "<?xml version=\"1.0\" encoding=\"utf-8\" standalone=\"no\"?>\n<!DOCTYPE svg PUBLIC \"-//W3C//DTD SVG 1.1//EN\"\n  \"http://www.w3.org/Graphics/SVG/1.1/DTD/svg11.dtd\">\n<svg xmlns:xlink=\"http://www.w3.org/1999/xlink\" width=\"539.57625pt\" height=\"325.986375pt\" viewBox=\"0 0 539.57625 325.986375\" xmlns=\"http://www.w3.org/2000/svg\" version=\"1.1\">\n <metadata>\n  <rdf:RDF xmlns:dc=\"http://purl.org/dc/elements/1.1/\" xmlns:cc=\"http://creativecommons.org/ns#\" xmlns:rdf=\"http://www.w3.org/1999/02/22-rdf-syntax-ns#\">\n   <cc:Work>\n    <dc:type rdf:resource=\"http://purl.org/dc/dcmitype/StillImage\"/>\n    <dc:date>2024-09-02T03:42:37.318645</dc:date>\n    <dc:format>image/svg+xml</dc:format>\n    <dc:creator>\n     <cc:Agent>\n      <dc:title>Matplotlib v3.7.1, https://matplotlib.org/</dc:title>\n     </cc:Agent>\n    </dc:creator>\n   </cc:Work>\n  </rdf:RDF>\n </metadata>\n <defs>\n  <style type=\"text/css\">*{stroke-linejoin: round; stroke-linecap: butt}</style>\n </defs>\n <g id=\"figure_1\">\n  <g id=\"patch_1\">\n   <path d=\"M -0 325.986375 \nL 539.57625 325.986375 \nL 539.57625 0 \nL -0 0 \nz\n\" style=\"fill: #ffffff\"/>\n  </g>\n  <g id=\"axes_1\">\n   <g id=\"patch_2\">\n    <path d=\"M 175.25625 288.430125 \nL 532.37625 288.430125 \nL 532.37625 22.318125 \nL 175.25625 22.318125 \nz\n\" style=\"fill: #eaeaf2\"/>\n   </g>\n   <g id=\"matplotlib.axis_1\">\n    <g id=\"xtick_1\">\n     <g id=\"line2d_1\">\n      <path d=\"M 175.25625 288.430125 \nL 175.25625 22.318125 \n\" clip-path=\"url(#p85d50e4cd6)\" style=\"fill: none; stroke: #ffffff; stroke-width: 0.8; stroke-linecap: round\"/>\n     </g>\n     <g id=\"text_1\">\n      <!-- 0 -->\n      <g style=\"fill: #262626\" transform=\"translate(172.075 303.028562) scale(0.1 -0.1)\">\n       <defs>\n        <path id=\"DejaVuSans-30\" d=\"M 2034 4250 \nQ 1547 4250 1301 3770 \nQ 1056 3291 1056 2328 \nQ 1056 1369 1301 889 \nQ 1547 409 2034 409 \nQ 2525 409 2770 889 \nQ 3016 1369 3016 2328 \nQ 3016 3291 2770 3770 \nQ 2525 4250 2034 4250 \nz\nM 2034 4750 \nQ 2819 4750 3233 4129 \nQ 3647 3509 3647 2328 \nQ 3647 1150 3233 529 \nQ 2819 -91 2034 -91 \nQ 1250 -91 836 529 \nQ 422 1150 422 2328 \nQ 422 3509 836 4129 \nQ 1250 4750 2034 4750 \nz\n\" transform=\"scale(0.015625)\"/>\n       </defs>\n       <use xlink:href=\"#DejaVuSans-30\"/>\n      </g>\n     </g>\n    </g>\n    <g id=\"xtick_2\">\n     <g id=\"line2d_2\">\n      <path d=\"M 239.068069 288.430125 \nL 239.068069 22.318125 \n\" clip-path=\"url(#p85d50e4cd6)\" style=\"fill: none; stroke: #ffffff; stroke-width: 0.8; stroke-linecap: round\"/>\n     </g>\n     <g id=\"text_2\">\n      <!-- 20000 -->\n      <g style=\"fill: #262626\" transform=\"translate(223.161819 303.028562) scale(0.1 -0.1)\">\n       <defs>\n        <path id=\"DejaVuSans-32\" d=\"M 1228 531 \nL 3431 531 \nL 3431 0 \nL 469 0 \nL 469 531 \nQ 828 903 1448 1529 \nQ 2069 2156 2228 2338 \nQ 2531 2678 2651 2914 \nQ 2772 3150 2772 3378 \nQ 2772 3750 2511 3984 \nQ 2250 4219 1831 4219 \nQ 1534 4219 1204 4116 \nQ 875 4013 500 3803 \nL 500 4441 \nQ 881 4594 1212 4672 \nQ 1544 4750 1819 4750 \nQ 2544 4750 2975 4387 \nQ 3406 4025 3406 3419 \nQ 3406 3131 3298 2873 \nQ 3191 2616 2906 2266 \nQ 2828 2175 2409 1742 \nQ 1991 1309 1228 531 \nz\n\" transform=\"scale(0.015625)\"/>\n       </defs>\n       <use xlink:href=\"#DejaVuSans-32\"/>\n       <use xlink:href=\"#DejaVuSans-30\" x=\"63.623047\"/>\n       <use xlink:href=\"#DejaVuSans-30\" x=\"127.246094\"/>\n       <use xlink:href=\"#DejaVuSans-30\" x=\"190.869141\"/>\n       <use xlink:href=\"#DejaVuSans-30\" x=\"254.492188\"/>\n      </g>\n     </g>\n    </g>\n    <g id=\"xtick_3\">\n     <g id=\"line2d_3\">\n      <path d=\"M 302.879889 288.430125 \nL 302.879889 22.318125 \n\" clip-path=\"url(#p85d50e4cd6)\" style=\"fill: none; stroke: #ffffff; stroke-width: 0.8; stroke-linecap: round\"/>\n     </g>\n     <g id=\"text_3\">\n      <!-- 40000 -->\n      <g style=\"fill: #262626\" transform=\"translate(286.973639 303.028562) scale(0.1 -0.1)\">\n       <defs>\n        <path id=\"DejaVuSans-34\" d=\"M 2419 4116 \nL 825 1625 \nL 2419 1625 \nL 2419 4116 \nz\nM 2253 4666 \nL 3047 4666 \nL 3047 1625 \nL 3713 1625 \nL 3713 1100 \nL 3047 1100 \nL 3047 0 \nL 2419 0 \nL 2419 1100 \nL 313 1100 \nL 313 1709 \nL 2253 4666 \nz\n\" transform=\"scale(0.015625)\"/>\n       </defs>\n       <use xlink:href=\"#DejaVuSans-34\"/>\n       <use xlink:href=\"#DejaVuSans-30\" x=\"63.623047\"/>\n       <use xlink:href=\"#DejaVuSans-30\" x=\"127.246094\"/>\n       <use xlink:href=\"#DejaVuSans-30\" x=\"190.869141\"/>\n       <use xlink:href=\"#DejaVuSans-30\" x=\"254.492188\"/>\n      </g>\n     </g>\n    </g>\n    <g id=\"xtick_4\">\n     <g id=\"line2d_4\">\n      <path d=\"M 366.691708 288.430125 \nL 366.691708 22.318125 \n\" clip-path=\"url(#p85d50e4cd6)\" style=\"fill: none; stroke: #ffffff; stroke-width: 0.8; stroke-linecap: round\"/>\n     </g>\n     <g id=\"text_4\">\n      <!-- 60000 -->\n      <g style=\"fill: #262626\" transform=\"translate(350.785458 303.028562) scale(0.1 -0.1)\">\n       <defs>\n        <path id=\"DejaVuSans-36\" d=\"M 2113 2584 \nQ 1688 2584 1439 2293 \nQ 1191 2003 1191 1497 \nQ 1191 994 1439 701 \nQ 1688 409 2113 409 \nQ 2538 409 2786 701 \nQ 3034 994 3034 1497 \nQ 3034 2003 2786 2293 \nQ 2538 2584 2113 2584 \nz\nM 3366 4563 \nL 3366 3988 \nQ 3128 4100 2886 4159 \nQ 2644 4219 2406 4219 \nQ 1781 4219 1451 3797 \nQ 1122 3375 1075 2522 \nQ 1259 2794 1537 2939 \nQ 1816 3084 2150 3084 \nQ 2853 3084 3261 2657 \nQ 3669 2231 3669 1497 \nQ 3669 778 3244 343 \nQ 2819 -91 2113 -91 \nQ 1303 -91 875 529 \nQ 447 1150 447 2328 \nQ 447 3434 972 4092 \nQ 1497 4750 2381 4750 \nQ 2619 4750 2861 4703 \nQ 3103 4656 3366 4563 \nz\n\" transform=\"scale(0.015625)\"/>\n       </defs>\n       <use xlink:href=\"#DejaVuSans-36\"/>\n       <use xlink:href=\"#DejaVuSans-30\" x=\"63.623047\"/>\n       <use xlink:href=\"#DejaVuSans-30\" x=\"127.246094\"/>\n       <use xlink:href=\"#DejaVuSans-30\" x=\"190.869141\"/>\n       <use xlink:href=\"#DejaVuSans-30\" x=\"254.492188\"/>\n      </g>\n     </g>\n    </g>\n    <g id=\"xtick_5\">\n     <g id=\"line2d_5\">\n      <path d=\"M 430.503528 288.430125 \nL 430.503528 22.318125 \n\" clip-path=\"url(#p85d50e4cd6)\" style=\"fill: none; stroke: #ffffff; stroke-width: 0.8; stroke-linecap: round\"/>\n     </g>\n     <g id=\"text_5\">\n      <!-- 80000 -->\n      <g style=\"fill: #262626\" transform=\"translate(414.597278 303.028562) scale(0.1 -0.1)\">\n       <defs>\n        <path id=\"DejaVuSans-38\" d=\"M 2034 2216 \nQ 1584 2216 1326 1975 \nQ 1069 1734 1069 1313 \nQ 1069 891 1326 650 \nQ 1584 409 2034 409 \nQ 2484 409 2743 651 \nQ 3003 894 3003 1313 \nQ 3003 1734 2745 1975 \nQ 2488 2216 2034 2216 \nz\nM 1403 2484 \nQ 997 2584 770 2862 \nQ 544 3141 544 3541 \nQ 544 4100 942 4425 \nQ 1341 4750 2034 4750 \nQ 2731 4750 3128 4425 \nQ 3525 4100 3525 3541 \nQ 3525 3141 3298 2862 \nQ 3072 2584 2669 2484 \nQ 3125 2378 3379 2068 \nQ 3634 1759 3634 1313 \nQ 3634 634 3220 271 \nQ 2806 -91 2034 -91 \nQ 1263 -91 848 271 \nQ 434 634 434 1313 \nQ 434 1759 690 2068 \nQ 947 2378 1403 2484 \nz\nM 1172 3481 \nQ 1172 3119 1398 2916 \nQ 1625 2713 2034 2713 \nQ 2441 2713 2670 2916 \nQ 2900 3119 2900 3481 \nQ 2900 3844 2670 4047 \nQ 2441 4250 2034 4250 \nQ 1625 4250 1398 4047 \nQ 1172 3844 1172 3481 \nz\n\" transform=\"scale(0.015625)\"/>\n       </defs>\n       <use xlink:href=\"#DejaVuSans-38\"/>\n       <use xlink:href=\"#DejaVuSans-30\" x=\"63.623047\"/>\n       <use xlink:href=\"#DejaVuSans-30\" x=\"127.246094\"/>\n       <use xlink:href=\"#DejaVuSans-30\" x=\"190.869141\"/>\n       <use xlink:href=\"#DejaVuSans-30\" x=\"254.492188\"/>\n      </g>\n     </g>\n    </g>\n    <g id=\"xtick_6\">\n     <g id=\"line2d_6\">\n      <path d=\"M 494.315347 288.430125 \nL 494.315347 22.318125 \n\" clip-path=\"url(#p85d50e4cd6)\" style=\"fill: none; stroke: #ffffff; stroke-width: 0.8; stroke-linecap: round\"/>\n     </g>\n     <g id=\"text_6\">\n      <!-- 100000 -->\n      <g style=\"fill: #262626\" transform=\"translate(475.227847 303.028562) scale(0.1 -0.1)\">\n       <defs>\n        <path id=\"DejaVuSans-31\" d=\"M 794 531 \nL 1825 531 \nL 1825 4091 \nL 703 3866 \nL 703 4441 \nL 1819 4666 \nL 2450 4666 \nL 2450 531 \nL 3481 531 \nL 3481 0 \nL 794 0 \nL 794 531 \nz\n\" transform=\"scale(0.015625)\"/>\n       </defs>\n       <use xlink:href=\"#DejaVuSans-31\"/>\n       <use xlink:href=\"#DejaVuSans-30\" x=\"63.623047\"/>\n       <use xlink:href=\"#DejaVuSans-30\" x=\"127.246094\"/>\n       <use xlink:href=\"#DejaVuSans-30\" x=\"190.869141\"/>\n       <use xlink:href=\"#DejaVuSans-30\" x=\"254.492188\"/>\n       <use xlink:href=\"#DejaVuSans-30\" x=\"318.115234\"/>\n      </g>\n     </g>\n    </g>\n    <g id=\"text_7\">\n     <!-- Populartiy -->\n     <g style=\"fill: #262626\" transform=\"translate(328.763125 316.706687) scale(0.1 -0.1)\">\n      <defs>\n       <path id=\"DejaVuSans-50\" d=\"M 1259 4147 \nL 1259 2394 \nL 2053 2394 \nQ 2494 2394 2734 2622 \nQ 2975 2850 2975 3272 \nQ 2975 3691 2734 3919 \nQ 2494 4147 2053 4147 \nL 1259 4147 \nz\nM 628 4666 \nL 2053 4666 \nQ 2838 4666 3239 4311 \nQ 3641 3956 3641 3272 \nQ 3641 2581 3239 2228 \nQ 2838 1875 2053 1875 \nL 1259 1875 \nL 1259 0 \nL 628 0 \nL 628 4666 \nz\n\" transform=\"scale(0.015625)\"/>\n       <path id=\"DejaVuSans-6f\" d=\"M 1959 3097 \nQ 1497 3097 1228 2736 \nQ 959 2375 959 1747 \nQ 959 1119 1226 758 \nQ 1494 397 1959 397 \nQ 2419 397 2687 759 \nQ 2956 1122 2956 1747 \nQ 2956 2369 2687 2733 \nQ 2419 3097 1959 3097 \nz\nM 1959 3584 \nQ 2709 3584 3137 3096 \nQ 3566 2609 3566 1747 \nQ 3566 888 3137 398 \nQ 2709 -91 1959 -91 \nQ 1206 -91 779 398 \nQ 353 888 353 1747 \nQ 353 2609 779 3096 \nQ 1206 3584 1959 3584 \nz\n\" transform=\"scale(0.015625)\"/>\n       <path id=\"DejaVuSans-70\" d=\"M 1159 525 \nL 1159 -1331 \nL 581 -1331 \nL 581 3500 \nL 1159 3500 \nL 1159 2969 \nQ 1341 3281 1617 3432 \nQ 1894 3584 2278 3584 \nQ 2916 3584 3314 3078 \nQ 3713 2572 3713 1747 \nQ 3713 922 3314 415 \nQ 2916 -91 2278 -91 \nQ 1894 -91 1617 61 \nQ 1341 213 1159 525 \nz\nM 3116 1747 \nQ 3116 2381 2855 2742 \nQ 2594 3103 2138 3103 \nQ 1681 3103 1420 2742 \nQ 1159 2381 1159 1747 \nQ 1159 1113 1420 752 \nQ 1681 391 2138 391 \nQ 2594 391 2855 752 \nQ 3116 1113 3116 1747 \nz\n\" transform=\"scale(0.015625)\"/>\n       <path id=\"DejaVuSans-75\" d=\"M 544 1381 \nL 544 3500 \nL 1119 3500 \nL 1119 1403 \nQ 1119 906 1312 657 \nQ 1506 409 1894 409 \nQ 2359 409 2629 706 \nQ 2900 1003 2900 1516 \nL 2900 3500 \nL 3475 3500 \nL 3475 0 \nL 2900 0 \nL 2900 538 \nQ 2691 219 2414 64 \nQ 2138 -91 1772 -91 \nQ 1169 -91 856 284 \nQ 544 659 544 1381 \nz\nM 1991 3584 \nL 1991 3584 \nz\n\" transform=\"scale(0.015625)\"/>\n       <path id=\"DejaVuSans-6c\" d=\"M 603 4863 \nL 1178 4863 \nL 1178 0 \nL 603 0 \nL 603 4863 \nz\n\" transform=\"scale(0.015625)\"/>\n       <path id=\"DejaVuSans-61\" d=\"M 2194 1759 \nQ 1497 1759 1228 1600 \nQ 959 1441 959 1056 \nQ 959 750 1161 570 \nQ 1363 391 1709 391 \nQ 2188 391 2477 730 \nQ 2766 1069 2766 1631 \nL 2766 1759 \nL 2194 1759 \nz\nM 3341 1997 \nL 3341 0 \nL 2766 0 \nL 2766 531 \nQ 2569 213 2275 61 \nQ 1981 -91 1556 -91 \nQ 1019 -91 701 211 \nQ 384 513 384 1019 \nQ 384 1609 779 1909 \nQ 1175 2209 1959 2209 \nL 2766 2209 \nL 2766 2266 \nQ 2766 2663 2505 2880 \nQ 2244 3097 1772 3097 \nQ 1472 3097 1187 3025 \nQ 903 2953 641 2809 \nL 641 3341 \nQ 956 3463 1253 3523 \nQ 1550 3584 1831 3584 \nQ 2591 3584 2966 3190 \nQ 3341 2797 3341 1997 \nz\n\" transform=\"scale(0.015625)\"/>\n       <path id=\"DejaVuSans-72\" d=\"M 2631 2963 \nQ 2534 3019 2420 3045 \nQ 2306 3072 2169 3072 \nQ 1681 3072 1420 2755 \nQ 1159 2438 1159 1844 \nL 1159 0 \nL 581 0 \nL 581 3500 \nL 1159 3500 \nL 1159 2956 \nQ 1341 3275 1631 3429 \nQ 1922 3584 2338 3584 \nQ 2397 3584 2469 3576 \nQ 2541 3569 2628 3553 \nL 2631 2963 \nz\n\" transform=\"scale(0.015625)\"/>\n       <path id=\"DejaVuSans-74\" d=\"M 1172 4494 \nL 1172 3500 \nL 2356 3500 \nL 2356 3053 \nL 1172 3053 \nL 1172 1153 \nQ 1172 725 1289 603 \nQ 1406 481 1766 481 \nL 2356 481 \nL 2356 0 \nL 1766 0 \nQ 1100 0 847 248 \nQ 594 497 594 1153 \nL 594 3053 \nL 172 3053 \nL 172 3500 \nL 594 3500 \nL 594 4494 \nL 1172 4494 \nz\n\" transform=\"scale(0.015625)\"/>\n       <path id=\"DejaVuSans-69\" d=\"M 603 3500 \nL 1178 3500 \nL 1178 0 \nL 603 0 \nL 603 3500 \nz\nM 603 4863 \nL 1178 4863 \nL 1178 4134 \nL 603 4134 \nL 603 4863 \nz\n\" transform=\"scale(0.015625)\"/>\n       <path id=\"DejaVuSans-79\" d=\"M 2059 -325 \nQ 1816 -950 1584 -1140 \nQ 1353 -1331 966 -1331 \nL 506 -1331 \nL 506 -850 \nL 844 -850 \nQ 1081 -850 1212 -737 \nQ 1344 -625 1503 -206 \nL 1606 56 \nL 191 3500 \nL 800 3500 \nL 1894 763 \nL 2988 3500 \nL 3597 3500 \nL 2059 -325 \nz\n\" transform=\"scale(0.015625)\"/>\n      </defs>\n      <use xlink:href=\"#DejaVuSans-50\"/>\n      <use xlink:href=\"#DejaVuSans-6f\" x=\"56.677734\"/>\n      <use xlink:href=\"#DejaVuSans-70\" x=\"117.859375\"/>\n      <use xlink:href=\"#DejaVuSans-75\" x=\"181.335938\"/>\n      <use xlink:href=\"#DejaVuSans-6c\" x=\"244.714844\"/>\n      <use xlink:href=\"#DejaVuSans-61\" x=\"272.498047\"/>\n      <use xlink:href=\"#DejaVuSans-72\" x=\"333.777344\"/>\n      <use xlink:href=\"#DejaVuSans-74\" x=\"374.890625\"/>\n      <use xlink:href=\"#DejaVuSans-69\" x=\"414.099609\"/>\n      <use xlink:href=\"#DejaVuSans-79\" x=\"441.882812\"/>\n     </g>\n    </g>\n   </g>\n   <g id=\"matplotlib.axis_2\">\n    <g id=\"ytick_1\">\n     <g id=\"text_8\">\n      <!-- Roddy Ricch -->\n      <g style=\"fill: #262626\" transform=\"translate(106.784375 39.422944) scale(0.1 -0.1)\">\n       <defs>\n        <path id=\"DejaVuSans-52\" d=\"M 2841 2188 \nQ 3044 2119 3236 1894 \nQ 3428 1669 3622 1275 \nL 4263 0 \nL 3584 0 \nL 2988 1197 \nQ 2756 1666 2539 1819 \nQ 2322 1972 1947 1972 \nL 1259 1972 \nL 1259 0 \nL 628 0 \nL 628 4666 \nL 2053 4666 \nQ 2853 4666 3247 4331 \nQ 3641 3997 3641 3322 \nQ 3641 2881 3436 2590 \nQ 3231 2300 2841 2188 \nz\nM 1259 4147 \nL 1259 2491 \nL 2053 2491 \nQ 2509 2491 2742 2702 \nQ 2975 2913 2975 3322 \nQ 2975 3731 2742 3939 \nQ 2509 4147 2053 4147 \nL 1259 4147 \nz\n\" transform=\"scale(0.015625)\"/>\n        <path id=\"DejaVuSans-64\" d=\"M 2906 2969 \nL 2906 4863 \nL 3481 4863 \nL 3481 0 \nL 2906 0 \nL 2906 525 \nQ 2725 213 2448 61 \nQ 2172 -91 1784 -91 \nQ 1150 -91 751 415 \nQ 353 922 353 1747 \nQ 353 2572 751 3078 \nQ 1150 3584 1784 3584 \nQ 2172 3584 2448 3432 \nQ 2725 3281 2906 2969 \nz\nM 947 1747 \nQ 947 1113 1208 752 \nQ 1469 391 1925 391 \nQ 2381 391 2643 752 \nQ 2906 1113 2906 1747 \nQ 2906 2381 2643 2742 \nQ 2381 3103 1925 3103 \nQ 1469 3103 1208 2742 \nQ 947 2381 947 1747 \nz\n\" transform=\"scale(0.015625)\"/>\n        <path id=\"DejaVuSans-20\" transform=\"scale(0.015625)\"/>\n        <path id=\"DejaVuSans-63\" d=\"M 3122 3366 \nL 3122 2828 \nQ 2878 2963 2633 3030 \nQ 2388 3097 2138 3097 \nQ 1578 3097 1268 2742 \nQ 959 2388 959 1747 \nQ 959 1106 1268 751 \nQ 1578 397 2138 397 \nQ 2388 397 2633 464 \nQ 2878 531 3122 666 \nL 3122 134 \nQ 2881 22 2623 -34 \nQ 2366 -91 2075 -91 \nQ 1284 -91 818 406 \nQ 353 903 353 1747 \nQ 353 2603 823 3093 \nQ 1294 3584 2113 3584 \nQ 2378 3584 2631 3529 \nQ 2884 3475 3122 3366 \nz\n\" transform=\"scale(0.015625)\"/>\n        <path id=\"DejaVuSans-68\" d=\"M 3513 2113 \nL 3513 0 \nL 2938 0 \nL 2938 2094 \nQ 2938 2591 2744 2837 \nQ 2550 3084 2163 3084 \nQ 1697 3084 1428 2787 \nQ 1159 2491 1159 1978 \nL 1159 0 \nL 581 0 \nL 581 4863 \nL 1159 4863 \nL 1159 2956 \nQ 1366 3272 1645 3428 \nQ 1925 3584 2291 3584 \nQ 2894 3584 3203 3211 \nQ 3513 2838 3513 2113 \nz\n\" transform=\"scale(0.015625)\"/>\n       </defs>\n       <use xlink:href=\"#DejaVuSans-52\"/>\n       <use xlink:href=\"#DejaVuSans-6f\" x=\"64.982422\"/>\n       <use xlink:href=\"#DejaVuSans-64\" x=\"126.164062\"/>\n       <use xlink:href=\"#DejaVuSans-64\" x=\"189.640625\"/>\n       <use xlink:href=\"#DejaVuSans-79\" x=\"253.117188\"/>\n       <use xlink:href=\"#DejaVuSans-20\" x=\"312.296875\"/>\n       <use xlink:href=\"#DejaVuSans-52\" x=\"344.083984\"/>\n       <use xlink:href=\"#DejaVuSans-69\" x=\"413.566406\"/>\n       <use xlink:href=\"#DejaVuSans-63\" x=\"441.349609\"/>\n       <use xlink:href=\"#DejaVuSans-63\" x=\"496.330078\"/>\n       <use xlink:href=\"#DejaVuSans-68\" x=\"551.310547\"/>\n      </g>\n     </g>\n    </g>\n    <g id=\"ytick_2\">\n     <g id=\"text_9\">\n      <!-- Post Malone - 21 Savage -->\n      <g style=\"fill: #262626\" transform=\"translate(45.126563 66.034144) scale(0.1 -0.1)\">\n       <defs>\n        <path id=\"DejaVuSans-73\" d=\"M 2834 3397 \nL 2834 2853 \nQ 2591 2978 2328 3040 \nQ 2066 3103 1784 3103 \nQ 1356 3103 1142 2972 \nQ 928 2841 928 2578 \nQ 928 2378 1081 2264 \nQ 1234 2150 1697 2047 \nL 1894 2003 \nQ 2506 1872 2764 1633 \nQ 3022 1394 3022 966 \nQ 3022 478 2636 193 \nQ 2250 -91 1575 -91 \nQ 1294 -91 989 -36 \nQ 684 19 347 128 \nL 347 722 \nQ 666 556 975 473 \nQ 1284 391 1588 391 \nQ 1994 391 2212 530 \nQ 2431 669 2431 922 \nQ 2431 1156 2273 1281 \nQ 2116 1406 1581 1522 \nL 1381 1569 \nQ 847 1681 609 1914 \nQ 372 2147 372 2553 \nQ 372 3047 722 3315 \nQ 1072 3584 1716 3584 \nQ 2034 3584 2315 3537 \nQ 2597 3491 2834 3397 \nz\n\" transform=\"scale(0.015625)\"/>\n        <path id=\"DejaVuSans-4d\" d=\"M 628 4666 \nL 1569 4666 \nL 2759 1491 \nL 3956 4666 \nL 4897 4666 \nL 4897 0 \nL 4281 0 \nL 4281 4097 \nL 3078 897 \nL 2444 897 \nL 1241 4097 \nL 1241 0 \nL 628 0 \nL 628 4666 \nz\n\" transform=\"scale(0.015625)\"/>\n        <path id=\"DejaVuSans-6e\" d=\"M 3513 2113 \nL 3513 0 \nL 2938 0 \nL 2938 2094 \nQ 2938 2591 2744 2837 \nQ 2550 3084 2163 3084 \nQ 1697 3084 1428 2787 \nQ 1159 2491 1159 1978 \nL 1159 0 \nL 581 0 \nL 581 3500 \nL 1159 3500 \nL 1159 2956 \nQ 1366 3272 1645 3428 \nQ 1925 3584 2291 3584 \nQ 2894 3584 3203 3211 \nQ 3513 2838 3513 2113 \nz\n\" transform=\"scale(0.015625)\"/>\n        <path id=\"DejaVuSans-65\" d=\"M 3597 1894 \nL 3597 1613 \nL 953 1613 \nQ 991 1019 1311 708 \nQ 1631 397 2203 397 \nQ 2534 397 2845 478 \nQ 3156 559 3463 722 \nL 3463 178 \nQ 3153 47 2828 -22 \nQ 2503 -91 2169 -91 \nQ 1331 -91 842 396 \nQ 353 884 353 1716 \nQ 353 2575 817 3079 \nQ 1281 3584 2069 3584 \nQ 2775 3584 3186 3129 \nQ 3597 2675 3597 1894 \nz\nM 3022 2063 \nQ 3016 2534 2758 2815 \nQ 2500 3097 2075 3097 \nQ 1594 3097 1305 2825 \nQ 1016 2553 972 2059 \nL 3022 2063 \nz\n\" transform=\"scale(0.015625)\"/>\n        <path id=\"DejaVuSans-2d\" d=\"M 313 2009 \nL 1997 2009 \nL 1997 1497 \nL 313 1497 \nL 313 2009 \nz\n\" transform=\"scale(0.015625)\"/>\n        <path id=\"DejaVuSans-53\" d=\"M 3425 4513 \nL 3425 3897 \nQ 3066 4069 2747 4153 \nQ 2428 4238 2131 4238 \nQ 1616 4238 1336 4038 \nQ 1056 3838 1056 3469 \nQ 1056 3159 1242 3001 \nQ 1428 2844 1947 2747 \nL 2328 2669 \nQ 3034 2534 3370 2195 \nQ 3706 1856 3706 1288 \nQ 3706 609 3251 259 \nQ 2797 -91 1919 -91 \nQ 1588 -91 1214 -16 \nQ 841 59 441 206 \nL 441 856 \nQ 825 641 1194 531 \nQ 1563 422 1919 422 \nQ 2459 422 2753 634 \nQ 3047 847 3047 1241 \nQ 3047 1584 2836 1778 \nQ 2625 1972 2144 2069 \nL 1759 2144 \nQ 1053 2284 737 2584 \nQ 422 2884 422 3419 \nQ 422 4038 858 4394 \nQ 1294 4750 2059 4750 \nQ 2388 4750 2728 4690 \nQ 3069 4631 3425 4513 \nz\n\" transform=\"scale(0.015625)\"/>\n        <path id=\"DejaVuSans-76\" d=\"M 191 3500 \nL 800 3500 \nL 1894 563 \nL 2988 3500 \nL 3597 3500 \nL 2284 0 \nL 1503 0 \nL 191 3500 \nz\n\" transform=\"scale(0.015625)\"/>\n        <path id=\"DejaVuSans-67\" d=\"M 2906 1791 \nQ 2906 2416 2648 2759 \nQ 2391 3103 1925 3103 \nQ 1463 3103 1205 2759 \nQ 947 2416 947 1791 \nQ 947 1169 1205 825 \nQ 1463 481 1925 481 \nQ 2391 481 2648 825 \nQ 2906 1169 2906 1791 \nz\nM 3481 434 \nQ 3481 -459 3084 -895 \nQ 2688 -1331 1869 -1331 \nQ 1566 -1331 1297 -1286 \nQ 1028 -1241 775 -1147 \nL 775 -588 \nQ 1028 -725 1275 -790 \nQ 1522 -856 1778 -856 \nQ 2344 -856 2625 -561 \nQ 2906 -266 2906 331 \nL 2906 616 \nQ 2728 306 2450 153 \nQ 2172 0 1784 0 \nQ 1141 0 747 490 \nQ 353 981 353 1791 \nQ 353 2603 747 3093 \nQ 1141 3584 1784 3584 \nQ 2172 3584 2450 3431 \nQ 2728 3278 2906 2969 \nL 2906 3500 \nL 3481 3500 \nL 3481 434 \nz\n\" transform=\"scale(0.015625)\"/>\n       </defs>\n       <use xlink:href=\"#DejaVuSans-50\"/>\n       <use xlink:href=\"#DejaVuSans-6f\" x=\"56.677734\"/>\n       <use xlink:href=\"#DejaVuSans-73\" x=\"117.859375\"/>\n       <use xlink:href=\"#DejaVuSans-74\" x=\"169.958984\"/>\n       <use xlink:href=\"#DejaVuSans-20\" x=\"209.167969\"/>\n       <use xlink:href=\"#DejaVuSans-4d\" x=\"240.955078\"/>\n       <use xlink:href=\"#DejaVuSans-61\" x=\"327.234375\"/>\n       <use xlink:href=\"#DejaVuSans-6c\" x=\"388.513672\"/>\n       <use xlink:href=\"#DejaVuSans-6f\" x=\"416.296875\"/>\n       <use xlink:href=\"#DejaVuSans-6e\" x=\"477.478516\"/>\n       <use xlink:href=\"#DejaVuSans-65\" x=\"540.857422\"/>\n       <use xlink:href=\"#DejaVuSans-20\" x=\"602.380859\"/>\n       <use xlink:href=\"#DejaVuSans-2d\" x=\"634.167969\"/>\n       <use xlink:href=\"#DejaVuSans-20\" x=\"670.251953\"/>\n       <use xlink:href=\"#DejaVuSans-32\" x=\"702.039062\"/>\n       <use xlink:href=\"#DejaVuSans-31\" x=\"765.662109\"/>\n       <use xlink:href=\"#DejaVuSans-20\" x=\"829.285156\"/>\n       <use xlink:href=\"#DejaVuSans-53\" x=\"861.072266\"/>\n       <use xlink:href=\"#DejaVuSans-61\" x=\"924.548828\"/>\n       <use xlink:href=\"#DejaVuSans-76\" x=\"985.828125\"/>\n       <use xlink:href=\"#DejaVuSans-61\" x=\"1045.007812\"/>\n       <use xlink:href=\"#DejaVuSans-67\" x=\"1106.287109\"/>\n       <use xlink:href=\"#DejaVuSans-65\" x=\"1169.763672\"/>\n      </g>\n     </g>\n    </g>\n    <g id=\"ytick_3\">\n     <g id=\"text_10\">\n      <!-- Billie Eilish - Khalid -->\n      <g style=\"fill: #262626\" transform=\"translate(73.859375 92.645344) scale(0.1 -0.1)\">\n       <defs>\n        <path id=\"DejaVuSans-42\" d=\"M 1259 2228 \nL 1259 519 \nL 2272 519 \nQ 2781 519 3026 730 \nQ 3272 941 3272 1375 \nQ 3272 1813 3026 2020 \nQ 2781 2228 2272 2228 \nL 1259 2228 \nz\nM 1259 4147 \nL 1259 2741 \nL 2194 2741 \nQ 2656 2741 2882 2914 \nQ 3109 3088 3109 3444 \nQ 3109 3797 2882 3972 \nQ 2656 4147 2194 4147 \nL 1259 4147 \nz\nM 628 4666 \nL 2241 4666 \nQ 2963 4666 3353 4366 \nQ 3744 4066 3744 3513 \nQ 3744 3084 3544 2831 \nQ 3344 2578 2956 2516 \nQ 3422 2416 3680 2098 \nQ 3938 1781 3938 1306 \nQ 3938 681 3513 340 \nQ 3088 0 2303 0 \nL 628 0 \nL 628 4666 \nz\n\" transform=\"scale(0.015625)\"/>\n        <path id=\"DejaVuSans-45\" d=\"M 628 4666 \nL 3578 4666 \nL 3578 4134 \nL 1259 4134 \nL 1259 2753 \nL 3481 2753 \nL 3481 2222 \nL 1259 2222 \nL 1259 531 \nL 3634 531 \nL 3634 0 \nL 628 0 \nL 628 4666 \nz\n\" transform=\"scale(0.015625)\"/>\n        <path id=\"DejaVuSans-4b\" d=\"M 628 4666 \nL 1259 4666 \nL 1259 2694 \nL 3353 4666 \nL 4166 4666 \nL 1850 2491 \nL 4331 0 \nL 3500 0 \nL 1259 2247 \nL 1259 0 \nL 628 0 \nL 628 4666 \nz\n\" transform=\"scale(0.015625)\"/>\n       </defs>\n       <use xlink:href=\"#DejaVuSans-42\"/>\n       <use xlink:href=\"#DejaVuSans-69\" x=\"68.603516\"/>\n       <use xlink:href=\"#DejaVuSans-6c\" x=\"96.386719\"/>\n       <use xlink:href=\"#DejaVuSans-6c\" x=\"124.169922\"/>\n       <use xlink:href=\"#DejaVuSans-69\" x=\"151.953125\"/>\n       <use xlink:href=\"#DejaVuSans-65\" x=\"179.736328\"/>\n       <use xlink:href=\"#DejaVuSans-20\" x=\"241.259766\"/>\n       <use xlink:href=\"#DejaVuSans-45\" x=\"273.046875\"/>\n       <use xlink:href=\"#DejaVuSans-69\" x=\"336.230469\"/>\n       <use xlink:href=\"#DejaVuSans-6c\" x=\"364.013672\"/>\n       <use xlink:href=\"#DejaVuSans-69\" x=\"391.796875\"/>\n       <use xlink:href=\"#DejaVuSans-73\" x=\"419.580078\"/>\n       <use xlink:href=\"#DejaVuSans-68\" x=\"471.679688\"/>\n       <use xlink:href=\"#DejaVuSans-20\" x=\"535.058594\"/>\n       <use xlink:href=\"#DejaVuSans-2d\" x=\"566.845703\"/>\n       <use xlink:href=\"#DejaVuSans-20\" x=\"602.929688\"/>\n       <use xlink:href=\"#DejaVuSans-4b\" x=\"634.716797\"/>\n       <use xlink:href=\"#DejaVuSans-68\" x=\"700.292969\"/>\n       <use xlink:href=\"#DejaVuSans-61\" x=\"763.671875\"/>\n       <use xlink:href=\"#DejaVuSans-6c\" x=\"824.951172\"/>\n       <use xlink:href=\"#DejaVuSans-69\" x=\"852.734375\"/>\n       <use xlink:href=\"#DejaVuSans-64\" x=\"880.517578\"/>\n      </g>\n     </g>\n    </g>\n    <g id=\"ytick_4\">\n     <g id=\"text_11\">\n      <!-- Marshmello - Bastille -->\n      <g style=\"fill: #262626\" transform=\"translate(63.703125 119.256544) scale(0.1 -0.1)\">\n       <defs>\n        <path id=\"DejaVuSans-6d\" d=\"M 3328 2828 \nQ 3544 3216 3844 3400 \nQ 4144 3584 4550 3584 \nQ 5097 3584 5394 3201 \nQ 5691 2819 5691 2113 \nL 5691 0 \nL 5113 0 \nL 5113 2094 \nQ 5113 2597 4934 2840 \nQ 4756 3084 4391 3084 \nQ 3944 3084 3684 2787 \nQ 3425 2491 3425 1978 \nL 3425 0 \nL 2847 0 \nL 2847 2094 \nQ 2847 2600 2669 2842 \nQ 2491 3084 2119 3084 \nQ 1678 3084 1418 2786 \nQ 1159 2488 1159 1978 \nL 1159 0 \nL 581 0 \nL 581 3500 \nL 1159 3500 \nL 1159 2956 \nQ 1356 3278 1631 3431 \nQ 1906 3584 2284 3584 \nQ 2666 3584 2933 3390 \nQ 3200 3197 3328 2828 \nz\n\" transform=\"scale(0.015625)\"/>\n       </defs>\n       <use xlink:href=\"#DejaVuSans-4d\"/>\n       <use xlink:href=\"#DejaVuSans-61\" x=\"86.279297\"/>\n       <use xlink:href=\"#DejaVuSans-72\" x=\"147.558594\"/>\n       <use xlink:href=\"#DejaVuSans-73\" x=\"188.671875\"/>\n       <use xlink:href=\"#DejaVuSans-68\" x=\"240.771484\"/>\n       <use xlink:href=\"#DejaVuSans-6d\" x=\"304.150391\"/>\n       <use xlink:href=\"#DejaVuSans-65\" x=\"401.5625\"/>\n       <use xlink:href=\"#DejaVuSans-6c\" x=\"463.085938\"/>\n       <use xlink:href=\"#DejaVuSans-6c\" x=\"490.869141\"/>\n       <use xlink:href=\"#DejaVuSans-6f\" x=\"518.652344\"/>\n       <use xlink:href=\"#DejaVuSans-20\" x=\"579.833984\"/>\n       <use xlink:href=\"#DejaVuSans-2d\" x=\"611.621094\"/>\n       <use xlink:href=\"#DejaVuSans-20\" x=\"647.705078\"/>\n       <use xlink:href=\"#DejaVuSans-42\" x=\"679.492188\"/>\n       <use xlink:href=\"#DejaVuSans-61\" x=\"748.095703\"/>\n       <use xlink:href=\"#DejaVuSans-73\" x=\"809.375\"/>\n       <use xlink:href=\"#DejaVuSans-74\" x=\"861.474609\"/>\n       <use xlink:href=\"#DejaVuSans-69\" x=\"900.683594\"/>\n       <use xlink:href=\"#DejaVuSans-6c\" x=\"928.466797\"/>\n       <use xlink:href=\"#DejaVuSans-6c\" x=\"956.25\"/>\n       <use xlink:href=\"#DejaVuSans-65\" x=\"984.033203\"/>\n      </g>\n     </g>\n    </g>\n    <g id=\"ytick_5\">\n     <g id=\"text_12\">\n      <!-- Cardi B - Bad Bunny - J Balvin -->\n      <g style=\"fill: #262626\" transform=\"translate(20.878125 145.867744) scale(0.1 -0.1)\">\n       <defs>\n        <path id=\"DejaVuSans-43\" d=\"M 4122 4306 \nL 4122 3641 \nQ 3803 3938 3442 4084 \nQ 3081 4231 2675 4231 \nQ 1875 4231 1450 3742 \nQ 1025 3253 1025 2328 \nQ 1025 1406 1450 917 \nQ 1875 428 2675 428 \nQ 3081 428 3442 575 \nQ 3803 722 4122 1019 \nL 4122 359 \nQ 3791 134 3420 21 \nQ 3050 -91 2638 -91 \nQ 1578 -91 968 557 \nQ 359 1206 359 2328 \nQ 359 3453 968 4101 \nQ 1578 4750 2638 4750 \nQ 3056 4750 3426 4639 \nQ 3797 4528 4122 4306 \nz\n\" transform=\"scale(0.015625)\"/>\n        <path id=\"DejaVuSans-4a\" d=\"M 628 4666 \nL 1259 4666 \nL 1259 325 \nQ 1259 -519 939 -900 \nQ 619 -1281 -91 -1281 \nL -331 -1281 \nL -331 -750 \nL -134 -750 \nQ 284 -750 456 -515 \nQ 628 -281 628 325 \nL 628 4666 \nz\n\" transform=\"scale(0.015625)\"/>\n       </defs>\n       <use xlink:href=\"#DejaVuSans-43\"/>\n       <use xlink:href=\"#DejaVuSans-61\" x=\"69.824219\"/>\n       <use xlink:href=\"#DejaVuSans-72\" x=\"131.103516\"/>\n       <use xlink:href=\"#DejaVuSans-64\" x=\"170.466797\"/>\n       <use xlink:href=\"#DejaVuSans-69\" x=\"233.943359\"/>\n       <use xlink:href=\"#DejaVuSans-20\" x=\"261.726562\"/>\n       <use xlink:href=\"#DejaVuSans-42\" x=\"293.513672\"/>\n       <use xlink:href=\"#DejaVuSans-20\" x=\"362.117188\"/>\n       <use xlink:href=\"#DejaVuSans-2d\" x=\"393.904297\"/>\n       <use xlink:href=\"#DejaVuSans-20\" x=\"429.988281\"/>\n       <use xlink:href=\"#DejaVuSans-42\" x=\"461.775391\"/>\n       <use xlink:href=\"#DejaVuSans-61\" x=\"530.378906\"/>\n       <use xlink:href=\"#DejaVuSans-64\" x=\"591.658203\"/>\n       <use xlink:href=\"#DejaVuSans-20\" x=\"655.134766\"/>\n       <use xlink:href=\"#DejaVuSans-42\" x=\"686.921875\"/>\n       <use xlink:href=\"#DejaVuSans-75\" x=\"755.525391\"/>\n       <use xlink:href=\"#DejaVuSans-6e\" x=\"818.904297\"/>\n       <use xlink:href=\"#DejaVuSans-6e\" x=\"882.283203\"/>\n       <use xlink:href=\"#DejaVuSans-79\" x=\"945.662109\"/>\n       <use xlink:href=\"#DejaVuSans-20\" x=\"1004.841797\"/>\n       <use xlink:href=\"#DejaVuSans-2d\" x=\"1036.628906\"/>\n       <use xlink:href=\"#DejaVuSans-20\" x=\"1072.712891\"/>\n       <use xlink:href=\"#DejaVuSans-4a\" x=\"1104.5\"/>\n       <use xlink:href=\"#DejaVuSans-20\" x=\"1133.992188\"/>\n       <use xlink:href=\"#DejaVuSans-42\" x=\"1165.779297\"/>\n       <use xlink:href=\"#DejaVuSans-61\" x=\"1234.382812\"/>\n       <use xlink:href=\"#DejaVuSans-6c\" x=\"1295.662109\"/>\n       <use xlink:href=\"#DejaVuSans-76\" x=\"1323.445312\"/>\n       <use xlink:href=\"#DejaVuSans-69\" x=\"1382.625\"/>\n       <use xlink:href=\"#DejaVuSans-6e\" x=\"1410.408203\"/>\n      </g>\n     </g>\n    </g>\n    <g id=\"ytick_6\">\n     <g id=\"text_13\">\n      <!-- Arizona Zervas -->\n      <g style=\"fill: #262626\" transform=\"translate(93.145313 172.478944) scale(0.1 -0.1)\">\n       <defs>\n        <path id=\"DejaVuSans-41\" d=\"M 2188 4044 \nL 1331 1722 \nL 3047 1722 \nL 2188 4044 \nz\nM 1831 4666 \nL 2547 4666 \nL 4325 0 \nL 3669 0 \nL 3244 1197 \nL 1141 1197 \nL 716 0 \nL 50 0 \nL 1831 4666 \nz\n\" transform=\"scale(0.015625)\"/>\n        <path id=\"DejaVuSans-7a\" d=\"M 353 3500 \nL 3084 3500 \nL 3084 2975 \nL 922 459 \nL 3084 459 \nL 3084 0 \nL 275 0 \nL 275 525 \nL 2438 3041 \nL 353 3041 \nL 353 3500 \nz\n\" transform=\"scale(0.015625)\"/>\n        <path id=\"DejaVuSans-5a\" d=\"M 359 4666 \nL 4025 4666 \nL 4025 4184 \nL 1075 531 \nL 4097 531 \nL 4097 0 \nL 288 0 \nL 288 481 \nL 3238 4134 \nL 359 4134 \nL 359 4666 \nz\n\" transform=\"scale(0.015625)\"/>\n       </defs>\n       <use xlink:href=\"#DejaVuSans-41\"/>\n       <use xlink:href=\"#DejaVuSans-72\" x=\"68.408203\"/>\n       <use xlink:href=\"#DejaVuSans-69\" x=\"109.521484\"/>\n       <use xlink:href=\"#DejaVuSans-7a\" x=\"137.304688\"/>\n       <use xlink:href=\"#DejaVuSans-6f\" x=\"189.794922\"/>\n       <use xlink:href=\"#DejaVuSans-6e\" x=\"250.976562\"/>\n       <use xlink:href=\"#DejaVuSans-61\" x=\"314.355469\"/>\n       <use xlink:href=\"#DejaVuSans-20\" x=\"375.634766\"/>\n       <use xlink:href=\"#DejaVuSans-5a\" x=\"407.421875\"/>\n       <use xlink:href=\"#DejaVuSans-65\" x=\"475.927734\"/>\n       <use xlink:href=\"#DejaVuSans-72\" x=\"537.451172\"/>\n       <use xlink:href=\"#DejaVuSans-76\" x=\"578.564453\"/>\n       <use xlink:href=\"#DejaVuSans-61\" x=\"637.744141\"/>\n       <use xlink:href=\"#DejaVuSans-73\" x=\"699.023438\"/>\n      </g>\n     </g>\n    </g>\n    <g id=\"ytick_7\">\n     <g id=\"text_14\">\n      <!-- Kendrick Lamar - Zacari -->\n      <g style=\"fill: #262626\" transform=\"translate(48.865625 199.090144) scale(0.1 -0.1)\">\n       <defs>\n        <path id=\"DejaVuSans-6b\" d=\"M 581 4863 \nL 1159 4863 \nL 1159 1991 \nL 2875 3500 \nL 3609 3500 \nL 1753 1863 \nL 3688 0 \nL 2938 0 \nL 1159 1709 \nL 1159 0 \nL 581 0 \nL 581 4863 \nz\n\" transform=\"scale(0.015625)\"/>\n        <path id=\"DejaVuSans-4c\" d=\"M 628 4666 \nL 1259 4666 \nL 1259 531 \nL 3531 531 \nL 3531 0 \nL 628 0 \nL 628 4666 \nz\n\" transform=\"scale(0.015625)\"/>\n       </defs>\n       <use xlink:href=\"#DejaVuSans-4b\"/>\n       <use xlink:href=\"#DejaVuSans-65\" x=\"60.576172\"/>\n       <use xlink:href=\"#DejaVuSans-6e\" x=\"122.099609\"/>\n       <use xlink:href=\"#DejaVuSans-64\" x=\"185.478516\"/>\n       <use xlink:href=\"#DejaVuSans-72\" x=\"248.955078\"/>\n       <use xlink:href=\"#DejaVuSans-69\" x=\"290.068359\"/>\n       <use xlink:href=\"#DejaVuSans-63\" x=\"317.851562\"/>\n       <use xlink:href=\"#DejaVuSans-6b\" x=\"372.832031\"/>\n       <use xlink:href=\"#DejaVuSans-20\" x=\"430.742188\"/>\n       <use xlink:href=\"#DejaVuSans-4c\" x=\"462.529297\"/>\n       <use xlink:href=\"#DejaVuSans-61\" x=\"518.242188\"/>\n       <use xlink:href=\"#DejaVuSans-6d\" x=\"579.521484\"/>\n       <use xlink:href=\"#DejaVuSans-61\" x=\"676.933594\"/>\n       <use xlink:href=\"#DejaVuSans-72\" x=\"738.212891\"/>\n       <use xlink:href=\"#DejaVuSans-20\" x=\"779.326172\"/>\n       <use xlink:href=\"#DejaVuSans-2d\" x=\"811.113281\"/>\n       <use xlink:href=\"#DejaVuSans-20\" x=\"847.197266\"/>\n       <use xlink:href=\"#DejaVuSans-5a\" x=\"878.984375\"/>\n       <use xlink:href=\"#DejaVuSans-61\" x=\"947.490234\"/>\n       <use xlink:href=\"#DejaVuSans-63\" x=\"1008.769531\"/>\n       <use xlink:href=\"#DejaVuSans-61\" x=\"1063.75\"/>\n       <use xlink:href=\"#DejaVuSans-72\" x=\"1125.029297\"/>\n       <use xlink:href=\"#DejaVuSans-69\" x=\"1166.142578\"/>\n      </g>\n     </g>\n    </g>\n    <g id=\"ytick_8\">\n     <g id=\"text_15\">\n      <!-- blackbear -->\n      <g style=\"fill: #262626\" transform=\"translate(118.971875 225.701344) scale(0.1 -0.1)\">\n       <defs>\n        <path id=\"DejaVuSans-62\" d=\"M 3116 1747 \nQ 3116 2381 2855 2742 \nQ 2594 3103 2138 3103 \nQ 1681 3103 1420 2742 \nQ 1159 2381 1159 1747 \nQ 1159 1113 1420 752 \nQ 1681 391 2138 391 \nQ 2594 391 2855 752 \nQ 3116 1113 3116 1747 \nz\nM 1159 2969 \nQ 1341 3281 1617 3432 \nQ 1894 3584 2278 3584 \nQ 2916 3584 3314 3078 \nQ 3713 2572 3713 1747 \nQ 3713 922 3314 415 \nQ 2916 -91 2278 -91 \nQ 1894 -91 1617 61 \nQ 1341 213 1159 525 \nL 1159 0 \nL 581 0 \nL 581 4863 \nL 1159 4863 \nL 1159 2969 \nz\n\" transform=\"scale(0.015625)\"/>\n       </defs>\n       <use xlink:href=\"#DejaVuSans-62\"/>\n       <use xlink:href=\"#DejaVuSans-6c\" x=\"63.476562\"/>\n       <use xlink:href=\"#DejaVuSans-61\" x=\"91.259766\"/>\n       <use xlink:href=\"#DejaVuSans-63\" x=\"152.539062\"/>\n       <use xlink:href=\"#DejaVuSans-6b\" x=\"207.519531\"/>\n       <use xlink:href=\"#DejaVuSans-62\" x=\"265.429688\"/>\n       <use xlink:href=\"#DejaVuSans-65\" x=\"328.90625\"/>\n       <use xlink:href=\"#DejaVuSans-61\" x=\"390.429688\"/>\n       <use xlink:href=\"#DejaVuSans-72\" x=\"451.708984\"/>\n      </g>\n     </g>\n    </g>\n    <g id=\"ytick_9\">\n     <g id=\"text_16\">\n      <!-- Sam Hunt -->\n      <g style=\"fill: #262626\" transform=\"translate(118.745313 252.312544) scale(0.1 -0.1)\">\n       <defs>\n        <path id=\"DejaVuSans-48\" d=\"M 628 4666 \nL 1259 4666 \nL 1259 2753 \nL 3553 2753 \nL 3553 4666 \nL 4184 4666 \nL 4184 0 \nL 3553 0 \nL 3553 2222 \nL 1259 2222 \nL 1259 0 \nL 628 0 \nL 628 4666 \nz\n\" transform=\"scale(0.015625)\"/>\n       </defs>\n       <use xlink:href=\"#DejaVuSans-53\"/>\n       <use xlink:href=\"#DejaVuSans-61\" x=\"63.476562\"/>\n       <use xlink:href=\"#DejaVuSans-6d\" x=\"124.755859\"/>\n       <use xlink:href=\"#DejaVuSans-20\" x=\"222.167969\"/>\n       <use xlink:href=\"#DejaVuSans-48\" x=\"253.955078\"/>\n       <use xlink:href=\"#DejaVuSans-75\" x=\"329.150391\"/>\n       <use xlink:href=\"#DejaVuSans-6e\" x=\"392.529297\"/>\n       <use xlink:href=\"#DejaVuSans-74\" x=\"455.908203\"/>\n      </g>\n     </g>\n    </g>\n    <g id=\"ytick_10\">\n     <g id=\"text_17\">\n      <!-- Sheck Wes -->\n      <g style=\"fill: #262626\" transform=\"translate(114.2875 278.923744) scale(0.1 -0.1)\">\n       <defs>\n        <path id=\"DejaVuSans-57\" d=\"M 213 4666 \nL 850 4666 \nL 1831 722 \nL 2809 4666 \nL 3519 4666 \nL 4500 722 \nL 5478 4666 \nL 6119 4666 \nL 4947 0 \nL 4153 0 \nL 3169 4050 \nL 2175 0 \nL 1381 0 \nL 213 4666 \nz\n\" transform=\"scale(0.015625)\"/>\n       </defs>\n       <use xlink:href=\"#DejaVuSans-53\"/>\n       <use xlink:href=\"#DejaVuSans-68\" x=\"63.476562\"/>\n       <use xlink:href=\"#DejaVuSans-65\" x=\"126.855469\"/>\n       <use xlink:href=\"#DejaVuSans-63\" x=\"188.378906\"/>\n       <use xlink:href=\"#DejaVuSans-6b\" x=\"243.359375\"/>\n       <use xlink:href=\"#DejaVuSans-20\" x=\"301.269531\"/>\n       <use xlink:href=\"#DejaVuSans-57\" x=\"333.056641\"/>\n       <use xlink:href=\"#DejaVuSans-65\" x=\"426.058594\"/>\n       <use xlink:href=\"#DejaVuSans-73\" x=\"487.582031\"/>\n      </g>\n     </g>\n    </g>\n    <g id=\"text_18\">\n     <!-- Artist -->\n     <g style=\"fill: #262626\" transform=\"translate(14.798438 168.763969) rotate(-90) scale(0.1 -0.1)\">\n      <use xlink:href=\"#DejaVuSans-41\"/>\n      <use xlink:href=\"#DejaVuSans-72\" x=\"68.408203\"/>\n      <use xlink:href=\"#DejaVuSans-74\" x=\"109.521484\"/>\n      <use xlink:href=\"#DejaVuSans-69\" x=\"148.730469\"/>\n      <use xlink:href=\"#DejaVuSans-73\" x=\"176.513672\"/>\n      <use xlink:href=\"#DejaVuSans-74\" x=\"228.613281\"/>\n     </g>\n    </g>\n   </g>\n   <g id=\"patch_3\">\n    <path d=\"M 175.25625 24.979245 \nL 515.370536 24.979245 \nL 515.370536 46.268205 \nL 175.25625 46.268205 \nz\n\" clip-path=\"url(#p85d50e4cd6)\" style=\"fill: #5078e1; stroke: #ffffff; stroke-linejoin: miter\"/>\n   </g>\n   <g id=\"patch_4\">\n    <path d=\"M 175.25625 51.590445 \nL 474.969039 51.590445 \nL 474.969039 72.879405 \nL 175.25625 72.879405 \nz\n\" clip-path=\"url(#p85d50e4cd6)\" style=\"fill: #5078e1; stroke: #ffffff; stroke-linejoin: miter\"/>\n   </g>\n   <g id=\"patch_5\">\n    <path d=\"M 175.25625 78.201645 \nL 429.526888 78.201645 \nL 429.526888 99.490605 \nL 175.25625 99.490605 \nz\n\" clip-path=\"url(#p85d50e4cd6)\" style=\"fill: #5078e1; stroke: #ffffff; stroke-linejoin: miter\"/>\n   </g>\n   <g id=\"patch_6\">\n    <path d=\"M 175.25625 104.812845 \nL 413.148308 104.812845 \nL 413.148308 126.101805 \nL 175.25625 126.101805 \nz\n\" clip-path=\"url(#p85d50e4cd6)\" style=\"fill: #5078e1; stroke: #ffffff; stroke-linejoin: miter\"/>\n   </g>\n   <g id=\"patch_7\">\n    <path d=\"M 175.25625 131.424045 \nL 412.577512 131.424045 \nL 412.577512 152.713005 \nL 175.25625 152.713005 \nz\n\" clip-path=\"url(#p85d50e4cd6)\" style=\"fill: #5078e1; stroke: #ffffff; stroke-linejoin: miter\"/>\n   </g>\n   <g id=\"patch_8\">\n    <path d=\"M 175.25625 158.035245 \nL 407.390408 158.035245 \nL 407.390408 179.324205 \nL 175.25625 179.324205 \nz\n\" clip-path=\"url(#p85d50e4cd6)\" style=\"fill: #5078e1; stroke: #ffffff; stroke-linejoin: miter\"/>\n   </g>\n   <g id=\"patch_9\">\n    <path d=\"M 175.25625 184.646445 \nL 391.700039 184.646445 \nL 391.700039 205.935405 \nL 175.25625 205.935405 \nz\n\" clip-path=\"url(#p85d50e4cd6)\" style=\"fill: #5078e1; stroke: #ffffff; stroke-linejoin: miter\"/>\n   </g>\n   <g id=\"patch_10\">\n    <path d=\"M 175.25625 211.257645 \nL 369.360159 211.257645 \nL 369.360159 232.546605 \nL 175.25625 232.546605 \nz\n\" clip-path=\"url(#p85d50e4cd6)\" style=\"fill: #5078e1; stroke: #ffffff; stroke-linejoin: miter\"/>\n   </g>\n   <g id=\"patch_11\">\n    <path d=\"M 175.25625 237.868845 \nL 368.913157 237.868845 \nL 368.913157 259.157805 \nL 175.25625 259.157805 \nz\n\" clip-path=\"url(#p85d50e4cd6)\" style=\"fill: #5078e1; stroke: #ffffff; stroke-linejoin: miter\"/>\n   </g>\n   <g id=\"patch_12\">\n    <path d=\"M 175.25625 264.480045 \nL 361.742942 264.480045 \nL 361.742942 285.769005 \nL 175.25625 285.769005 \nz\n\" clip-path=\"url(#p85d50e4cd6)\" style=\"fill: #5078e1; stroke: #ffffff; stroke-linejoin: miter\"/>\n   </g>\n   <g id=\"line2d_7\">\n    <path clip-path=\"url(#p85d50e4cd6)\" style=\"fill: none; stroke: #424242; stroke-width: 2.25; stroke-linecap: round\"/>\n   </g>\n   <g id=\"line2d_8\">\n    <path clip-path=\"url(#p85d50e4cd6)\" style=\"fill: none; stroke: #424242; stroke-width: 2.25; stroke-linecap: round\"/>\n   </g>\n   <g id=\"line2d_9\">\n    <path clip-path=\"url(#p85d50e4cd6)\" style=\"fill: none; stroke: #424242; stroke-width: 2.25; stroke-linecap: round\"/>\n   </g>\n   <g id=\"line2d_10\">\n    <path clip-path=\"url(#p85d50e4cd6)\" style=\"fill: none; stroke: #424242; stroke-width: 2.25; stroke-linecap: round\"/>\n   </g>\n   <g id=\"line2d_11\">\n    <path clip-path=\"url(#p85d50e4cd6)\" style=\"fill: none; stroke: #424242; stroke-width: 2.25; stroke-linecap: round\"/>\n   </g>\n   <g id=\"line2d_12\">\n    <path clip-path=\"url(#p85d50e4cd6)\" style=\"fill: none; stroke: #424242; stroke-width: 2.25; stroke-linecap: round\"/>\n   </g>\n   <g id=\"line2d_13\">\n    <path clip-path=\"url(#p85d50e4cd6)\" style=\"fill: none; stroke: #424242; stroke-width: 2.25; stroke-linecap: round\"/>\n   </g>\n   <g id=\"line2d_14\">\n    <path clip-path=\"url(#p85d50e4cd6)\" style=\"fill: none; stroke: #424242; stroke-width: 2.25; stroke-linecap: round\"/>\n   </g>\n   <g id=\"line2d_15\">\n    <path clip-path=\"url(#p85d50e4cd6)\" style=\"fill: none; stroke: #424242; stroke-width: 2.25; stroke-linecap: round\"/>\n   </g>\n   <g id=\"line2d_16\">\n    <path clip-path=\"url(#p85d50e4cd6)\" style=\"fill: none; stroke: #424242; stroke-width: 2.25; stroke-linecap: round\"/>\n   </g>\n   <g id=\"patch_13\">\n    <path d=\"M 175.25625 288.430125 \nL 175.25625 22.318125 \n\" style=\"fill: none; stroke: #ffffff; stroke-width: 0.8; stroke-linejoin: miter; stroke-linecap: square\"/>\n   </g>\n   <g id=\"patch_14\">\n    <path d=\"M 532.37625 288.430125 \nL 532.37625 22.318125 \n\" style=\"fill: none; stroke: #ffffff; stroke-width: 0.8; stroke-linejoin: miter; stroke-linecap: square\"/>\n   </g>\n   <g id=\"patch_15\">\n    <path d=\"M 175.25625 288.430125 \nL 532.37625 288.430125 \n\" style=\"fill: none; stroke: #ffffff; stroke-width: 0.8; stroke-linejoin: miter; stroke-linecap: square\"/>\n   </g>\n   <g id=\"patch_16\">\n    <path d=\"M 175.25625 22.318125 \nL 532.37625 22.318125 \n\" style=\"fill: none; stroke: #ffffff; stroke-width: 0.8; stroke-linejoin: miter; stroke-linecap: square\"/>\n   </g>\n   <g id=\"text_19\">\n    <!-- Top 10 Artists by Popularity in the USA -->\n    <g style=\"fill: #262626\" transform=\"translate(238.3575 16.318125) scale(0.12 -0.12)\">\n     <defs>\n      <path id=\"DejaVuSans-54\" d=\"M -19 4666 \nL 3928 4666 \nL 3928 4134 \nL 2272 4134 \nL 2272 0 \nL 1638 0 \nL 1638 4134 \nL -19 4134 \nL -19 4666 \nz\n\" transform=\"scale(0.015625)\"/>\n      <path id=\"DejaVuSans-55\" d=\"M 556 4666 \nL 1191 4666 \nL 1191 1831 \nQ 1191 1081 1462 751 \nQ 1734 422 2344 422 \nQ 2950 422 3222 751 \nQ 3494 1081 3494 1831 \nL 3494 4666 \nL 4128 4666 \nL 4128 1753 \nQ 4128 841 3676 375 \nQ 3225 -91 2344 -91 \nQ 1459 -91 1007 375 \nQ 556 841 556 1753 \nL 556 4666 \nz\n\" transform=\"scale(0.015625)\"/>\n     </defs>\n     <use xlink:href=\"#DejaVuSans-54\"/>\n     <use xlink:href=\"#DejaVuSans-6f\" x=\"44.083984\"/>\n     <use xlink:href=\"#DejaVuSans-70\" x=\"105.265625\"/>\n     <use xlink:href=\"#DejaVuSans-20\" x=\"168.742188\"/>\n     <use xlink:href=\"#DejaVuSans-31\" x=\"200.529297\"/>\n     <use xlink:href=\"#DejaVuSans-30\" x=\"264.152344\"/>\n     <use xlink:href=\"#DejaVuSans-20\" x=\"327.775391\"/>\n     <use xlink:href=\"#DejaVuSans-41\" x=\"359.5625\"/>\n     <use xlink:href=\"#DejaVuSans-72\" x=\"427.970703\"/>\n     <use xlink:href=\"#DejaVuSans-74\" x=\"469.083984\"/>\n     <use xlink:href=\"#DejaVuSans-69\" x=\"508.292969\"/>\n     <use xlink:href=\"#DejaVuSans-73\" x=\"536.076172\"/>\n     <use xlink:href=\"#DejaVuSans-74\" x=\"588.175781\"/>\n     <use xlink:href=\"#DejaVuSans-73\" x=\"627.384766\"/>\n     <use xlink:href=\"#DejaVuSans-20\" x=\"679.484375\"/>\n     <use xlink:href=\"#DejaVuSans-62\" x=\"711.271484\"/>\n     <use xlink:href=\"#DejaVuSans-79\" x=\"774.748047\"/>\n     <use xlink:href=\"#DejaVuSans-20\" x=\"833.927734\"/>\n     <use xlink:href=\"#DejaVuSans-50\" x=\"865.714844\"/>\n     <use xlink:href=\"#DejaVuSans-6f\" x=\"922.392578\"/>\n     <use xlink:href=\"#DejaVuSans-70\" x=\"983.574219\"/>\n     <use xlink:href=\"#DejaVuSans-75\" x=\"1047.050781\"/>\n     <use xlink:href=\"#DejaVuSans-6c\" x=\"1110.429688\"/>\n     <use xlink:href=\"#DejaVuSans-61\" x=\"1138.212891\"/>\n     <use xlink:href=\"#DejaVuSans-72\" x=\"1199.492188\"/>\n     <use xlink:href=\"#DejaVuSans-69\" x=\"1240.605469\"/>\n     <use xlink:href=\"#DejaVuSans-74\" x=\"1268.388672\"/>\n     <use xlink:href=\"#DejaVuSans-79\" x=\"1307.597656\"/>\n     <use xlink:href=\"#DejaVuSans-20\" x=\"1366.777344\"/>\n     <use xlink:href=\"#DejaVuSans-69\" x=\"1398.564453\"/>\n     <use xlink:href=\"#DejaVuSans-6e\" x=\"1426.347656\"/>\n     <use xlink:href=\"#DejaVuSans-20\" x=\"1489.726562\"/>\n     <use xlink:href=\"#DejaVuSans-74\" x=\"1521.513672\"/>\n     <use xlink:href=\"#DejaVuSans-68\" x=\"1560.722656\"/>\n     <use xlink:href=\"#DejaVuSans-65\" x=\"1624.101562\"/>\n     <use xlink:href=\"#DejaVuSans-20\" x=\"1685.625\"/>\n     <use xlink:href=\"#DejaVuSans-55\" x=\"1717.412109\"/>\n     <use xlink:href=\"#DejaVuSans-53\" x=\"1790.605469\"/>\n     <use xlink:href=\"#DejaVuSans-41\" x=\"1855.957031\"/>\n    </g>\n   </g>\n  </g>\n </g>\n <defs>\n  <clipPath id=\"p85d50e4cd6\">\n   <rect x=\"175.25625\" y=\"22.318125\" width=\"357.12\" height=\"266.112\"/>\n  </clipPath>\n </defs>\n</svg>\n"
          },
          "metadata": {}
        }
      ]
    },
    {
      "cell_type": "code",
      "source": [
        "# select only the songs released in 1949\n",
        "(df.filter(F.year(df['Release_date']) == 1949)\n",
        "   .select('Title', 'Artist','Release_date', 'Genre')\n",
        "   .distinct()\n",
        "   .show(5, truncate=False)\n",
        ")"
      ],
      "metadata": {
        "execution": {
          "iopub.status.busy": "2022-07-04T01:15:54.151064Z",
          "iopub.execute_input": "2022-07-04T01:15:54.151512Z",
          "iopub.status.idle": "2022-07-04T01:15:55.383963Z",
          "shell.execute_reply.started": "2022-07-04T01:15:54.151463Z",
          "shell.execute_reply": "2022-07-04T01:15:55.382958Z"
        },
        "trusted": true,
        "colab": {
          "base_uri": "https://localhost:8080/"
        },
        "id": "v5GvaDfZvznD",
        "outputId": "80b6408e-5d07-4ef4-a394-17c0bd10dd1f"
      },
      "execution_count": 16,
      "outputs": [
        {
          "output_type": "stream",
          "name": "stdout",
          "text": [
            "+-----+------+------------+-----+\n",
            "|Title|Artist|Release_date|Genre|\n",
            "+-----+------+------------+-----+\n",
            "+-----+------+------------+-----+\n",
            "\n"
          ]
        }
      ]
    },
    {
      "cell_type": "markdown",
      "source": [
        "### Most Popular Song per Decade\n",
        "First with a nested query and using pandas to drop duplicates. Then optimized with [scalar-aggregate reduction](https://www.stevenmoseley.com/blog/tech/high-performance-sql-correlated-scalar-aggregate-reduction-queries)"
      ],
      "metadata": {
        "id": "Ab0vsmJhvznD"
      }
    },
    {
      "cell_type": "code",
      "source": [
        "query = \"\"\"\n",
        "SELECT\n",
        "        ROUND(Year(Release_date), -1) AS Decade,\n",
        "        Round(Popularity, 2)          AS Popularity,\n",
        "                                         Title,\n",
        "                                         Artist\n",
        "FROM df_table\n",
        "INNER JOIN (SELECT Max(Popularity) as mp\n",
        "            FROM df_table\n",
        "            WHERE ROUND(Year(Release_date), -1) IS NOT NULL\n",
        "            AND USA == 1\n",
        "            GROUP BY ROUND(Year(Release_date), -1)\n",
        "           ) AS temp\n",
        "ON temp.mp = df_table.Popularity\n",
        "ORDER BY Decade ASC, Popularity ASC\n",
        "\"\"\"\n",
        "\n",
        "res = spark.sql(query)\n",
        "res.toPandas().drop_duplicates(subset='Decade', keep=\"last\")"
      ],
      "metadata": {
        "_kg_hide-input": true,
        "execution": {
          "iopub.status.busy": "2022-07-04T01:15:55.385149Z",
          "iopub.execute_input": "2022-07-04T01:15:55.385461Z",
          "iopub.status.idle": "2022-07-04T01:15:59.089529Z",
          "shell.execute_reply.started": "2022-07-04T01:15:55.38543Z",
          "shell.execute_reply": "2022-07-04T01:15:59.087931Z"
        },
        "trusted": true,
        "colab": {
          "base_uri": "https://localhost:8080/",
          "height": 363
        },
        "id": "amrEXIB8vznD",
        "outputId": "83bfefe5-eee1-4a72-de6b-cebc02b682c3"
      },
      "execution_count": 17,
      "outputs": [
        {
          "output_type": "execute_result",
          "data": {
            "text/plain": [
              "    Decade  Popularity                                  Title  \\\n",
              "0      NaN       79.20  mistletoe and holly - remastered 1999   \n",
              "1   1940.0    12351.15                        white christmas   \n",
              "2   1950.0      997.60                        mele kalikimaka   \n",
              "3   1960.0     7028.30                       jingle bell rock   \n",
              "5   1970.0      884.45             what christmas means to me   \n",
              "6   1980.0       79.20            you shook me all night long   \n",
              "7   1990.0    32076.40        all i want for christmas is you   \n",
              "10  2000.0     9476.05                          feliz navidad   \n",
              "13  2010.0     9698.15                              mistletoe   \n",
              "43  2020.0     9961.25                          felices los 4   \n",
              "\n",
              "                                               Artist  \n",
              "0                                       Frank Sinatra  \n",
              "1   Bing Crosby - Ken Darby Singers - John Scott T...  \n",
              "2                   Bing Crosby - The Andrews Sisters  \n",
              "3                                         Bobby Helms  \n",
              "5                                       Stevie Wonder  \n",
              "6                                               AC/DC  \n",
              "7                                        Mariah Carey  \n",
              "10                                     José Feliciano  \n",
              "13                                      Justin Bieber  \n",
              "43                                             Maluma  "
            ],
            "text/html": [
              "\n",
              "  <div id=\"df-571c10aa-aaf8-49b2-a022-990383ce24e7\" class=\"colab-df-container\">\n",
              "    <div>\n",
              "<style scoped>\n",
              "    .dataframe tbody tr th:only-of-type {\n",
              "        vertical-align: middle;\n",
              "    }\n",
              "\n",
              "    .dataframe tbody tr th {\n",
              "        vertical-align: top;\n",
              "    }\n",
              "\n",
              "    .dataframe thead th {\n",
              "        text-align: right;\n",
              "    }\n",
              "</style>\n",
              "<table border=\"1\" class=\"dataframe\">\n",
              "  <thead>\n",
              "    <tr style=\"text-align: right;\">\n",
              "      <th></th>\n",
              "      <th>Decade</th>\n",
              "      <th>Popularity</th>\n",
              "      <th>Title</th>\n",
              "      <th>Artist</th>\n",
              "    </tr>\n",
              "  </thead>\n",
              "  <tbody>\n",
              "    <tr>\n",
              "      <th>0</th>\n",
              "      <td>NaN</td>\n",
              "      <td>79.20</td>\n",
              "      <td>mistletoe and holly - remastered 1999</td>\n",
              "      <td>Frank Sinatra</td>\n",
              "    </tr>\n",
              "    <tr>\n",
              "      <th>1</th>\n",
              "      <td>1940.0</td>\n",
              "      <td>12351.15</td>\n",
              "      <td>white christmas</td>\n",
              "      <td>Bing Crosby - Ken Darby Singers - John Scott T...</td>\n",
              "    </tr>\n",
              "    <tr>\n",
              "      <th>2</th>\n",
              "      <td>1950.0</td>\n",
              "      <td>997.60</td>\n",
              "      <td>mele kalikimaka</td>\n",
              "      <td>Bing Crosby - The Andrews Sisters</td>\n",
              "    </tr>\n",
              "    <tr>\n",
              "      <th>3</th>\n",
              "      <td>1960.0</td>\n",
              "      <td>7028.30</td>\n",
              "      <td>jingle bell rock</td>\n",
              "      <td>Bobby Helms</td>\n",
              "    </tr>\n",
              "    <tr>\n",
              "      <th>5</th>\n",
              "      <td>1970.0</td>\n",
              "      <td>884.45</td>\n",
              "      <td>what christmas means to me</td>\n",
              "      <td>Stevie Wonder</td>\n",
              "    </tr>\n",
              "    <tr>\n",
              "      <th>6</th>\n",
              "      <td>1980.0</td>\n",
              "      <td>79.20</td>\n",
              "      <td>you shook me all night long</td>\n",
              "      <td>AC/DC</td>\n",
              "    </tr>\n",
              "    <tr>\n",
              "      <th>7</th>\n",
              "      <td>1990.0</td>\n",
              "      <td>32076.40</td>\n",
              "      <td>all i want for christmas is you</td>\n",
              "      <td>Mariah Carey</td>\n",
              "    </tr>\n",
              "    <tr>\n",
              "      <th>10</th>\n",
              "      <td>2000.0</td>\n",
              "      <td>9476.05</td>\n",
              "      <td>feliz navidad</td>\n",
              "      <td>José Feliciano</td>\n",
              "    </tr>\n",
              "    <tr>\n",
              "      <th>13</th>\n",
              "      <td>2010.0</td>\n",
              "      <td>9698.15</td>\n",
              "      <td>mistletoe</td>\n",
              "      <td>Justin Bieber</td>\n",
              "    </tr>\n",
              "    <tr>\n",
              "      <th>43</th>\n",
              "      <td>2020.0</td>\n",
              "      <td>9961.25</td>\n",
              "      <td>felices los 4</td>\n",
              "      <td>Maluma</td>\n",
              "    </tr>\n",
              "  </tbody>\n",
              "</table>\n",
              "</div>\n",
              "    <div class=\"colab-df-buttons\">\n",
              "\n",
              "  <div class=\"colab-df-container\">\n",
              "    <button class=\"colab-df-convert\" onclick=\"convertToInteractive('df-571c10aa-aaf8-49b2-a022-990383ce24e7')\"\n",
              "            title=\"Convert this dataframe to an interactive table.\"\n",
              "            style=\"display:none;\">\n",
              "\n",
              "  <svg xmlns=\"http://www.w3.org/2000/svg\" height=\"24px\" viewBox=\"0 -960 960 960\">\n",
              "    <path d=\"M120-120v-720h720v720H120Zm60-500h600v-160H180v160Zm220 220h160v-160H400v160Zm0 220h160v-160H400v160ZM180-400h160v-160H180v160Zm440 0h160v-160H620v160ZM180-180h160v-160H180v160Zm440 0h160v-160H620v160Z\"/>\n",
              "  </svg>\n",
              "    </button>\n",
              "\n",
              "  <style>\n",
              "    .colab-df-container {\n",
              "      display:flex;\n",
              "      gap: 12px;\n",
              "    }\n",
              "\n",
              "    .colab-df-convert {\n",
              "      background-color: #E8F0FE;\n",
              "      border: none;\n",
              "      border-radius: 50%;\n",
              "      cursor: pointer;\n",
              "      display: none;\n",
              "      fill: #1967D2;\n",
              "      height: 32px;\n",
              "      padding: 0 0 0 0;\n",
              "      width: 32px;\n",
              "    }\n",
              "\n",
              "    .colab-df-convert:hover {\n",
              "      background-color: #E2EBFA;\n",
              "      box-shadow: 0px 1px 2px rgba(60, 64, 67, 0.3), 0px 1px 3px 1px rgba(60, 64, 67, 0.15);\n",
              "      fill: #174EA6;\n",
              "    }\n",
              "\n",
              "    .colab-df-buttons div {\n",
              "      margin-bottom: 4px;\n",
              "    }\n",
              "\n",
              "    [theme=dark] .colab-df-convert {\n",
              "      background-color: #3B4455;\n",
              "      fill: #D2E3FC;\n",
              "    }\n",
              "\n",
              "    [theme=dark] .colab-df-convert:hover {\n",
              "      background-color: #434B5C;\n",
              "      box-shadow: 0px 1px 3px 1px rgba(0, 0, 0, 0.15);\n",
              "      filter: drop-shadow(0px 1px 2px rgba(0, 0, 0, 0.3));\n",
              "      fill: #FFFFFF;\n",
              "    }\n",
              "  </style>\n",
              "\n",
              "    <script>\n",
              "      const buttonEl =\n",
              "        document.querySelector('#df-571c10aa-aaf8-49b2-a022-990383ce24e7 button.colab-df-convert');\n",
              "      buttonEl.style.display =\n",
              "        google.colab.kernel.accessAllowed ? 'block' : 'none';\n",
              "\n",
              "      async function convertToInteractive(key) {\n",
              "        const element = document.querySelector('#df-571c10aa-aaf8-49b2-a022-990383ce24e7');\n",
              "        const dataTable =\n",
              "          await google.colab.kernel.invokeFunction('convertToInteractive',\n",
              "                                                    [key], {});\n",
              "        if (!dataTable) return;\n",
              "\n",
              "        const docLinkHtml = 'Like what you see? Visit the ' +\n",
              "          '<a target=\"_blank\" href=https://colab.research.google.com/notebooks/data_table.ipynb>data table notebook</a>'\n",
              "          + ' to learn more about interactive tables.';\n",
              "        element.innerHTML = '';\n",
              "        dataTable['output_type'] = 'display_data';\n",
              "        await google.colab.output.renderOutput(dataTable, element);\n",
              "        const docLink = document.createElement('div');\n",
              "        docLink.innerHTML = docLinkHtml;\n",
              "        element.appendChild(docLink);\n",
              "      }\n",
              "    </script>\n",
              "  </div>\n",
              "\n",
              "\n",
              "<div id=\"df-e51ee59a-5502-41cd-b53b-e5f2aa822c1e\">\n",
              "  <button class=\"colab-df-quickchart\" onclick=\"quickchart('df-e51ee59a-5502-41cd-b53b-e5f2aa822c1e')\"\n",
              "            title=\"Suggest charts\"\n",
              "            style=\"display:none;\">\n",
              "\n",
              "<svg xmlns=\"http://www.w3.org/2000/svg\" height=\"24px\"viewBox=\"0 0 24 24\"\n",
              "     width=\"24px\">\n",
              "    <g>\n",
              "        <path d=\"M19 3H5c-1.1 0-2 .9-2 2v14c0 1.1.9 2 2 2h14c1.1 0 2-.9 2-2V5c0-1.1-.9-2-2-2zM9 17H7v-7h2v7zm4 0h-2V7h2v10zm4 0h-2v-4h2v4z\"/>\n",
              "    </g>\n",
              "</svg>\n",
              "  </button>\n",
              "\n",
              "<style>\n",
              "  .colab-df-quickchart {\n",
              "      --bg-color: #E8F0FE;\n",
              "      --fill-color: #1967D2;\n",
              "      --hover-bg-color: #E2EBFA;\n",
              "      --hover-fill-color: #174EA6;\n",
              "      --disabled-fill-color: #AAA;\n",
              "      --disabled-bg-color: #DDD;\n",
              "  }\n",
              "\n",
              "  [theme=dark] .colab-df-quickchart {\n",
              "      --bg-color: #3B4455;\n",
              "      --fill-color: #D2E3FC;\n",
              "      --hover-bg-color: #434B5C;\n",
              "      --hover-fill-color: #FFFFFF;\n",
              "      --disabled-bg-color: #3B4455;\n",
              "      --disabled-fill-color: #666;\n",
              "  }\n",
              "\n",
              "  .colab-df-quickchart {\n",
              "    background-color: var(--bg-color);\n",
              "    border: none;\n",
              "    border-radius: 50%;\n",
              "    cursor: pointer;\n",
              "    display: none;\n",
              "    fill: var(--fill-color);\n",
              "    height: 32px;\n",
              "    padding: 0;\n",
              "    width: 32px;\n",
              "  }\n",
              "\n",
              "  .colab-df-quickchart:hover {\n",
              "    background-color: var(--hover-bg-color);\n",
              "    box-shadow: 0 1px 2px rgba(60, 64, 67, 0.3), 0 1px 3px 1px rgba(60, 64, 67, 0.15);\n",
              "    fill: var(--button-hover-fill-color);\n",
              "  }\n",
              "\n",
              "  .colab-df-quickchart-complete:disabled,\n",
              "  .colab-df-quickchart-complete:disabled:hover {\n",
              "    background-color: var(--disabled-bg-color);\n",
              "    fill: var(--disabled-fill-color);\n",
              "    box-shadow: none;\n",
              "  }\n",
              "\n",
              "  .colab-df-spinner {\n",
              "    border: 2px solid var(--fill-color);\n",
              "    border-color: transparent;\n",
              "    border-bottom-color: var(--fill-color);\n",
              "    animation:\n",
              "      spin 1s steps(1) infinite;\n",
              "  }\n",
              "\n",
              "  @keyframes spin {\n",
              "    0% {\n",
              "      border-color: transparent;\n",
              "      border-bottom-color: var(--fill-color);\n",
              "      border-left-color: var(--fill-color);\n",
              "    }\n",
              "    20% {\n",
              "      border-color: transparent;\n",
              "      border-left-color: var(--fill-color);\n",
              "      border-top-color: var(--fill-color);\n",
              "    }\n",
              "    30% {\n",
              "      border-color: transparent;\n",
              "      border-left-color: var(--fill-color);\n",
              "      border-top-color: var(--fill-color);\n",
              "      border-right-color: var(--fill-color);\n",
              "    }\n",
              "    40% {\n",
              "      border-color: transparent;\n",
              "      border-right-color: var(--fill-color);\n",
              "      border-top-color: var(--fill-color);\n",
              "    }\n",
              "    60% {\n",
              "      border-color: transparent;\n",
              "      border-right-color: var(--fill-color);\n",
              "    }\n",
              "    80% {\n",
              "      border-color: transparent;\n",
              "      border-right-color: var(--fill-color);\n",
              "      border-bottom-color: var(--fill-color);\n",
              "    }\n",
              "    90% {\n",
              "      border-color: transparent;\n",
              "      border-bottom-color: var(--fill-color);\n",
              "    }\n",
              "  }\n",
              "</style>\n",
              "\n",
              "  <script>\n",
              "    async function quickchart(key) {\n",
              "      const quickchartButtonEl =\n",
              "        document.querySelector('#' + key + ' button');\n",
              "      quickchartButtonEl.disabled = true;  // To prevent multiple clicks.\n",
              "      quickchartButtonEl.classList.add('colab-df-spinner');\n",
              "      try {\n",
              "        const charts = await google.colab.kernel.invokeFunction(\n",
              "            'suggestCharts', [key], {});\n",
              "      } catch (error) {\n",
              "        console.error('Error during call to suggestCharts:', error);\n",
              "      }\n",
              "      quickchartButtonEl.classList.remove('colab-df-spinner');\n",
              "      quickchartButtonEl.classList.add('colab-df-quickchart-complete');\n",
              "    }\n",
              "    (() => {\n",
              "      let quickchartButtonEl =\n",
              "        document.querySelector('#df-e51ee59a-5502-41cd-b53b-e5f2aa822c1e button');\n",
              "      quickchartButtonEl.style.display =\n",
              "        google.colab.kernel.accessAllowed ? 'block' : 'none';\n",
              "    })();\n",
              "  </script>\n",
              "</div>\n",
              "\n",
              "    </div>\n",
              "  </div>\n"
            ],
            "application/vnd.google.colaboratory.intrinsic+json": {
              "type": "dataframe",
              "summary": "{\n  \"name\": \"res\",\n  \"rows\": 10,\n  \"fields\": [\n    {\n      \"column\": \"Decade\",\n      \"properties\": {\n        \"dtype\": \"number\",\n        \"std\": 27.386127875258307,\n        \"min\": 1940.0,\n        \"max\": 2020.0,\n        \"num_unique_values\": 9,\n        \"samples\": [\n          2010.0,\n          1950.0,\n          1990.0\n        ],\n        \"semantic_type\": \"\",\n        \"description\": \"\"\n      }\n    },\n    {\n      \"column\": \"Popularity\",\n      \"properties\": {\n        \"dtype\": \"number\",\n        \"std\": 9620.053561852797,\n        \"min\": 79.2,\n        \"max\": 32076.4,\n        \"num_unique_values\": 9,\n        \"samples\": [\n          9698.15,\n          12351.15,\n          32076.4\n        ],\n        \"semantic_type\": \"\",\n        \"description\": \"\"\n      }\n    },\n    {\n      \"column\": \"Title\",\n      \"properties\": {\n        \"dtype\": \"string\",\n        \"num_unique_values\": 10,\n        \"samples\": [\n          \"mistletoe\",\n          \"white christmas\",\n          \"you shook me all night long\"\n        ],\n        \"semantic_type\": \"\",\n        \"description\": \"\"\n      }\n    },\n    {\n      \"column\": \"Artist\",\n      \"properties\": {\n        \"dtype\": \"string\",\n        \"num_unique_values\": 10,\n        \"samples\": [\n          \"Justin Bieber\",\n          \"Bing Crosby - Ken Darby Singers - John Scott Trotter & His Orchestra\",\n          \"AC/DC\"\n        ],\n        \"semantic_type\": \"\",\n        \"description\": \"\"\n      }\n    }\n  ]\n}"
            }
          },
          "metadata": {},
          "execution_count": 17
        }
      ]
    },
    {
      "cell_type": "code",
      "source": [
        "# highly optimized version of the above query via scalar-aggregate-reduction\n",
        "query = \"\"\"\n",
        "SELECT\n",
        "    ROUND(Year(Release_date), -1) as Decade,\n",
        "    ROUND(Max(Popularity), 2) as Popularity,\n",
        "    SUBSTRING(MAX(CONCAT(LPAD(Popularity, 11, 0), Title)), 12) AS Title,\n",
        "    SUBSTRING(MAX(CONCAT(LPAD(Popularity, 11, 0), Artist)), 12) AS Artist\n",
        "FROM\n",
        "    df_table\n",
        "WHERE\n",
        "    ROUND(Year(Release_date), -1) IS NOT NULL\n",
        "    AND USA == 1\n",
        "GROUP BY Decade\n",
        "ORDER BY Decade ASC\n",
        "\"\"\"\n",
        "\n",
        "spark.sql(query).show()"
      ],
      "metadata": {
        "execution": {
          "iopub.status.busy": "2022-07-04T01:15:59.090973Z",
          "iopub.execute_input": "2022-07-04T01:15:59.091266Z",
          "iopub.status.idle": "2022-07-04T01:16:00.625307Z",
          "shell.execute_reply.started": "2022-07-04T01:15:59.091236Z",
          "shell.execute_reply": "2022-07-04T01:16:00.624126Z"
        },
        "trusted": true,
        "colab": {
          "base_uri": "https://localhost:8080/"
        },
        "id": "LS9X340FvznD",
        "outputId": "b2101b69-ce13-4add-8dec-5fa658e76206"
      },
      "execution_count": 18,
      "outputs": [
        {
          "output_type": "stream",
          "name": "stdout",
          "text": [
            "+------+----------+--------------------+--------------------+\n",
            "|Decade|Popularity|               Title|              Artist|\n",
            "+------+----------+--------------------+--------------------+\n",
            "|  1940|  12351.15|     white christmas|Bing Crosby - Ken...|\n",
            "|  1950|     997.6|     mele kalikimaka|Bing Crosby - The...|\n",
            "|  1960|    7028.3|    jingle bell rock|         Bobby Helms|\n",
            "|  1970|    884.45|what christmas me...|       Stevie Wonder|\n",
            "|  1980|      79.2|wonderful christm...|      Paul McCartney|\n",
            "|  1990|   32076.4|all i want for ch...|        Mariah Carey|\n",
            "|  2000|   9476.05|       feliz navidad|      José Feliciano|\n",
            "|  2010|   9698.15|happy xmas  - rem...|John Lennon - The...|\n",
            "|  2020|   9961.25|       felices los 4|              Maluma|\n",
            "+------+----------+--------------------+--------------------+\n",
            "\n"
          ]
        }
      ]
    },
    {
      "cell_type": "markdown",
      "source": [
        "### Most popular Genre per decade"
      ],
      "metadata": {
        "id": "nXowd9OCvznD"
      }
    },
    {
      "cell_type": "code",
      "source": [
        " # Most popular genres, period.\n",
        "query = \"\"\"\n",
        "SELECT Genre, COUNT(*) AS Tally\n",
        "FROM df_table\n",
        "GROUP BY Genre\n",
        "ORDER BY Tally DESC\n",
        "\"\"\"\n",
        "spark.sql(query).show(5)"
      ],
      "metadata": {
        "execution": {
          "iopub.status.busy": "2022-07-04T01:16:00.62677Z",
          "iopub.execute_input": "2022-07-04T01:16:00.627227Z",
          "iopub.status.idle": "2022-07-04T01:16:01.602702Z",
          "shell.execute_reply.started": "2022-07-04T01:16:00.627181Z",
          "shell.execute_reply": "2022-07-04T01:16:01.601899Z"
        },
        "trusted": true,
        "colab": {
          "base_uri": "https://localhost:8080/"
        },
        "id": "0NpuuOv7vznD",
        "outputId": "c8c0e8a2-31bd-47d1-c142-2ae7057b7d16"
      },
      "execution_count": 19,
      "outputs": [
        {
          "output_type": "stream",
          "name": "stdout",
          "text": [
            "+-----------+-----+\n",
            "|      Genre|Tally|\n",
            "+-----------+-----+\n",
            "|  dance pop| 6979|\n",
            "|        pop| 2133|\n",
            "|      latin| 1191|\n",
            "|    emo rap|  935|\n",
            "|atl hip hop|  919|\n",
            "+-----------+-----+\n",
            "only showing top 5 rows\n",
            "\n"
          ]
        }
      ]
    },
    {
      "cell_type": "code",
      "source": [
        "query = \"\"\"\n",
        "SELECT\n",
        "      ROUND(Year(Release_date), -1) AS Decade,\n",
        "      Genre, COUNT(Genre)           AS counts\n",
        "FROM  df_table\n",
        "WHERE ROUND(Year(Release_date), -1) IS NOT NULL\n",
        "GROUP BY Decade, Genre\n",
        "ORDER BY COUNT(Genre) DESC\n",
        "\"\"\"\n",
        "\n",
        "res = (spark.sql(query)\n",
        "            .dropDuplicates(subset=['Decade'])\n",
        "            .orderBy('Decade')\n",
        "            .show()\n",
        "      )\n",
        "# res.toPandas().drop_duplicates(subset='Decade', keep=\"first\")"
      ],
      "metadata": {
        "execution": {
          "iopub.status.busy": "2022-07-04T01:16:01.603733Z",
          "iopub.execute_input": "2022-07-04T01:16:01.604065Z",
          "iopub.status.idle": "2022-07-04T01:16:03.568731Z",
          "shell.execute_reply.started": "2022-07-04T01:16:01.604031Z",
          "shell.execute_reply": "2022-07-04T01:16:03.567499Z"
        },
        "trusted": true,
        "colab": {
          "base_uri": "https://localhost:8080/"
        },
        "id": "AYjOVykKvznD",
        "outputId": "a78dc281-a4a1-481c-b6f7-ac082cea7cd5"
      },
      "execution_count": 20,
      "outputs": [
        {
          "output_type": "stream",
          "name": "stdout",
          "text": [
            "+------+-----------------+------+\n",
            "|Decade|            Genre|counts|\n",
            "+------+-----------------+------+\n",
            "|  1940|  adult standards|    28|\n",
            "|  1950|  adult standards|    28|\n",
            "|  1960|  adult standards|    60|\n",
            "|  1970|     classic soul|    61|\n",
            "|  1980|       album rock|   158|\n",
            "|  1990|        dance pop|    46|\n",
            "|  2000|alternative metal|    99|\n",
            "|  2010|        dance pop|   172|\n",
            "|  2020|        dance pop|  6635|\n",
            "+------+-----------------+------+\n",
            "\n"
          ]
        }
      ]
    },
    {
      "cell_type": "markdown",
      "source": [
        "## For each track, what day was it most popular?\n",
        "(Just for a small selection of them)"
      ],
      "metadata": {
        "id": "S4_UXu1fvznD"
      }
    },
    {
      "cell_type": "code",
      "source": [
        "query = \"\"\"\n",
        "SELECT Title, Artist, Release_date, MAX(Popularity)\n",
        "FROM df_table\n",
        "WHERE Artist == \"Paulo Londra\"\n",
        "GROUP BY Title, Artist, Release_date\n",
        "LIMIT 10\n",
        "\"\"\"\n",
        "\n",
        "res = spark.sql(query).show()"
      ],
      "metadata": {
        "execution": {
          "iopub.status.busy": "2022-07-04T01:16:03.571167Z",
          "iopub.execute_input": "2022-07-04T01:16:03.571557Z",
          "iopub.status.idle": "2022-07-04T01:16:04.640565Z",
          "shell.execute_reply.started": "2022-07-04T01:16:03.57152Z",
          "shell.execute_reply": "2022-07-04T01:16:04.639183Z"
        },
        "trusted": true,
        "colab": {
          "base_uri": "https://localhost:8080/"
        },
        "id": "kPKHXFhYvznD",
        "outputId": "24c15a14-2c7d-4e9b-e181-1bf155d8ff0b"
      },
      "execution_count": 21,
      "outputs": [
        {
          "output_type": "stream",
          "name": "stdout",
          "text": [
            "+-------------+------------+------------+-----------------+\n",
            "|        Title|      Artist|Release_date|  max(Popularity)|\n",
            "+-------------+------------+------------+-----------------+\n",
            "|   adan y eva|Paulo Londra|  2018-11-05|849.6000000000001|\n",
            "|forever alone|Paulo Londra|  2019-02-13|            644.8|\n",
            "|      tal vez|Paulo Londra|  2019-04-03|7515.750000000001|\n",
            "+-------------+------------+------------+-----------------+\n",
            "\n"
          ]
        }
      ]
    },
    {
      "cell_type": "markdown",
      "source": [
        "## Let's see how music changed over the decades"
      ],
      "metadata": {
        "id": "94n-ldlovznD"
      }
    },
    {
      "cell_type": "code",
      "source": [
        "sound_features = ['danceability', 'energy', 'instrumentalness', 'valence', 'liveliness', 'speechiness', 'acoustics']\n",
        "col_names = ['Decade']\n",
        "col_names.extend(sound_features)\n",
        "\n",
        "df_music_features = (df.sample(.2, seed=42)\n",
        "                       .groupBy(F.round(F.year(df.Release_date), -1))\n",
        "                       .agg({feature: 'mean' for feature in sound_features})\n",
        "                       .toDF(*col_names)\n",
        "                       .orderBy('Decade')\n",
        "                       .toPandas()\n",
        "                       .dropna(axis=0)\n",
        "                    )\n",
        "fig = px.line(df_music_features, x='Decade', y=sound_features, title='Song Characteristics Over the Decades')\n",
        "fig.show()"
      ],
      "metadata": {
        "execution": {
          "iopub.status.busy": "2022-07-04T01:16:04.641967Z",
          "iopub.execute_input": "2022-07-04T01:16:04.642377Z",
          "iopub.status.idle": "2022-07-04T01:16:06.296095Z",
          "shell.execute_reply.started": "2022-07-04T01:16:04.642324Z",
          "shell.execute_reply": "2022-07-04T01:16:06.294955Z"
        },
        "trusted": true,
        "colab": {
          "base_uri": "https://localhost:8080/",
          "height": 542
        },
        "collapsed": true,
        "id": "4hGSteQOvznE",
        "outputId": "0718c086-c9da-4b57-f737-cfc97c4aea39"
      },
      "execution_count": 22,
      "outputs": [
        {
          "output_type": "display_data",
          "data": {
            "application/vnd.plotly.v1+json": {
              "data": [
                {
                  "hovertemplate": "variable=danceability<br>Decade=%{x}<br>value=%{y}<extra></extra>",
                  "legendgroup": "danceability",
                  "line": {
                    "color": "#636efa",
                    "dash": "solid"
                  },
                  "marker": {
                    "symbol": "circle"
                  },
                  "mode": "lines",
                  "name": "danceability",
                  "orientation": "v",
                  "showlegend": true,
                  "x": [
                    1940,
                    1950,
                    1960,
                    1970,
                    1980,
                    1990,
                    2000,
                    2010,
                    2020
                  ],
                  "xaxis": "x",
                  "y": [
                    0.24699999392032623,
                    0.5847999811172485,
                    0.7802758648477751,
                    0.7103404313959973,
                    0.6076666715244452,
                    0.505891299766043,
                    0.6055070390583763,
                    0.48726024719313804,
                    0.45246873258221343
                  ],
                  "yaxis": "y",
                  "type": "scatter"
                },
                {
                  "hovertemplate": "variable=energy<br>Decade=%{x}<br>value=%{y}<extra></extra>",
                  "legendgroup": "energy",
                  "line": {
                    "color": "#EF553B",
                    "dash": "solid"
                  },
                  "marker": {
                    "symbol": "circle"
                  },
                  "mode": "lines",
                  "name": "energy",
                  "orientation": "v",
                  "showlegend": true,
                  "x": [
                    1940,
                    1950,
                    1960,
                    1970,
                    1980,
                    1990,
                    2000,
                    2010,
                    2020
                  ],
                  "xaxis": "x",
                  "y": [
                    0.15800000727176666,
                    0.2143999993801117,
                    0.4515517158754941,
                    0.5460638245369526,
                    0.6998833306133747,
                    0.567739119672257,
                    0.7793802812065876,
                    0.6266521722170877,
                    0.635929716335395
                  ],
                  "yaxis": "y",
                  "type": "scatter"
                },
                {
                  "hovertemplate": "variable=instrumentalness<br>Decade=%{x}<br>value=%{y}<extra></extra>",
                  "legendgroup": "instrumentalness",
                  "line": {
                    "color": "#00cc96",
                    "dash": "solid"
                  },
                  "marker": {
                    "symbol": "circle"
                  },
                  "mode": "lines",
                  "name": "instrumentalness",
                  "orientation": "v",
                  "showlegend": true,
                  "x": [
                    1940,
                    1950,
                    1960,
                    1970,
                    1980,
                    1990,
                    2000,
                    2010,
                    2020
                  ],
                  "xaxis": "x",
                  "y": [
                    0.038100000470876694,
                    0.05838000178337097,
                    0.043251723693362595,
                    0.04965957373063615,
                    0.06673166664938132,
                    0.039528261222269226,
                    0.0948028163328557,
                    0.06334534132425089,
                    0.11901354757228483
                  ],
                  "yaxis": "y",
                  "type": "scatter"
                },
                {
                  "hovertemplate": "variable=valence<br>Decade=%{x}<br>value=%{y}<extra></extra>",
                  "legendgroup": "valence",
                  "line": {
                    "color": "#ab63fa",
                    "dash": "solid"
                  },
                  "marker": {
                    "symbol": "circle"
                  },
                  "mode": "lines",
                  "name": "valence",
                  "orientation": "v",
                  "showlegend": true,
                  "x": [
                    1940,
                    1950,
                    1960,
                    1970,
                    1980,
                    1990,
                    2000,
                    2010,
                    2020
                  ],
                  "xaxis": "x",
                  "y": [
                    0.33799999952316284,
                    0.16560000777244568,
                    0.09713103468048162,
                    0.14036808575087406,
                    0.23984333543727795,
                    0.20746522170046103,
                    0.36180563727524917,
                    0.20251428525640358,
                    0.17118978207995791
                  ],
                  "yaxis": "y",
                  "type": "scatter"
                },
                {
                  "hovertemplate": "variable=liveliness<br>Decade=%{x}<br>value=%{y}<extra></extra>",
                  "legendgroup": "liveliness",
                  "line": {
                    "color": "#FFA15A",
                    "dash": "solid"
                  },
                  "marker": {
                    "symbol": "circle"
                  },
                  "mode": "lines",
                  "name": "liveliness",
                  "orientation": "v",
                  "showlegend": true,
                  "x": [
                    1940,
                    1950,
                    1960,
                    1970,
                    1980,
                    1990,
                    2000,
                    2010,
                    2020
                  ],
                  "xaxis": "x",
                  "y": [
                    0.31700000166893005,
                    0.47839999198913574,
                    0.5428965528463495,
                    0.5750000090041059,
                    0.5449000005920728,
                    0.45797825442708057,
                    0.5682816899998088,
                    0.5517391369949957,
                    0.6708310367592988
                  ],
                  "yaxis": "y",
                  "type": "scatter"
                },
                {
                  "hovertemplate": "variable=speechiness<br>Decade=%{x}<br>value=%{y}<extra></extra>",
                  "legendgroup": "speechiness",
                  "line": {
                    "color": "#19d3f3",
                    "dash": "solid"
                  },
                  "marker": {
                    "symbol": "circle"
                  },
                  "mode": "lines",
                  "name": "speechiness",
                  "orientation": "v",
                  "showlegend": true,
                  "x": [
                    1940,
                    1950,
                    1960,
                    1970,
                    1980,
                    1990,
                    2000,
                    2010,
                    2020
                  ],
                  "xaxis": "x",
                  "y": [
                    0.3529999852180481,
                    0,
                    0.001236413763073305,
                    0.00010714574318626546,
                    0.0009414890244215712,
                    0.0016763435164846116,
                    0.00016305802842318473,
                    0.0028578808392379623,
                    0.013558945795356539
                  ],
                  "yaxis": "y",
                  "type": "scatter"
                },
                {
                  "hovertemplate": "variable=acoustics<br>Decade=%{x}<br>value=%{y}<extra></extra>",
                  "legendgroup": "acoustics",
                  "line": {
                    "color": "#FF6692",
                    "dash": "solid"
                  },
                  "marker": {
                    "symbol": "circle"
                  },
                  "mode": "lines",
                  "name": "acoustics",
                  "orientation": "v",
                  "showlegend": true,
                  "x": [
                    1940,
                    1950,
                    1960,
                    1970,
                    1980,
                    1990,
                    2000,
                    2010,
                    2020
                  ],
                  "xaxis": "x",
                  "y": [
                    0.6729999780654907,
                    0.7451999902725219,
                    0.7018965498126787,
                    0.390831913719786,
                    0.20190719715998665,
                    0.2777217424515149,
                    0.21033168816938996,
                    0.304609778520119,
                    0.22174079369733468
                  ],
                  "yaxis": "y",
                  "type": "scatter"
                }
              ],
              "layout": {
                "template": {
                  "data": {
                    "histogram2dcontour": [
                      {
                        "type": "histogram2dcontour",
                        "colorbar": {
                          "outlinewidth": 0,
                          "ticks": ""
                        },
                        "colorscale": [
                          [
                            0,
                            "#0d0887"
                          ],
                          [
                            0.1111111111111111,
                            "#46039f"
                          ],
                          [
                            0.2222222222222222,
                            "#7201a8"
                          ],
                          [
                            0.3333333333333333,
                            "#9c179e"
                          ],
                          [
                            0.4444444444444444,
                            "#bd3786"
                          ],
                          [
                            0.5555555555555556,
                            "#d8576b"
                          ],
                          [
                            0.6666666666666666,
                            "#ed7953"
                          ],
                          [
                            0.7777777777777778,
                            "#fb9f3a"
                          ],
                          [
                            0.8888888888888888,
                            "#fdca26"
                          ],
                          [
                            1,
                            "#f0f921"
                          ]
                        ]
                      }
                    ],
                    "choropleth": [
                      {
                        "type": "choropleth",
                        "colorbar": {
                          "outlinewidth": 0,
                          "ticks": ""
                        }
                      }
                    ],
                    "histogram2d": [
                      {
                        "type": "histogram2d",
                        "colorbar": {
                          "outlinewidth": 0,
                          "ticks": ""
                        },
                        "colorscale": [
                          [
                            0,
                            "#0d0887"
                          ],
                          [
                            0.1111111111111111,
                            "#46039f"
                          ],
                          [
                            0.2222222222222222,
                            "#7201a8"
                          ],
                          [
                            0.3333333333333333,
                            "#9c179e"
                          ],
                          [
                            0.4444444444444444,
                            "#bd3786"
                          ],
                          [
                            0.5555555555555556,
                            "#d8576b"
                          ],
                          [
                            0.6666666666666666,
                            "#ed7953"
                          ],
                          [
                            0.7777777777777778,
                            "#fb9f3a"
                          ],
                          [
                            0.8888888888888888,
                            "#fdca26"
                          ],
                          [
                            1,
                            "#f0f921"
                          ]
                        ]
                      }
                    ],
                    "heatmap": [
                      {
                        "type": "heatmap",
                        "colorbar": {
                          "outlinewidth": 0,
                          "ticks": ""
                        },
                        "colorscale": [
                          [
                            0,
                            "#0d0887"
                          ],
                          [
                            0.1111111111111111,
                            "#46039f"
                          ],
                          [
                            0.2222222222222222,
                            "#7201a8"
                          ],
                          [
                            0.3333333333333333,
                            "#9c179e"
                          ],
                          [
                            0.4444444444444444,
                            "#bd3786"
                          ],
                          [
                            0.5555555555555556,
                            "#d8576b"
                          ],
                          [
                            0.6666666666666666,
                            "#ed7953"
                          ],
                          [
                            0.7777777777777778,
                            "#fb9f3a"
                          ],
                          [
                            0.8888888888888888,
                            "#fdca26"
                          ],
                          [
                            1,
                            "#f0f921"
                          ]
                        ]
                      }
                    ],
                    "heatmapgl": [
                      {
                        "type": "heatmapgl",
                        "colorbar": {
                          "outlinewidth": 0,
                          "ticks": ""
                        },
                        "colorscale": [
                          [
                            0,
                            "#0d0887"
                          ],
                          [
                            0.1111111111111111,
                            "#46039f"
                          ],
                          [
                            0.2222222222222222,
                            "#7201a8"
                          ],
                          [
                            0.3333333333333333,
                            "#9c179e"
                          ],
                          [
                            0.4444444444444444,
                            "#bd3786"
                          ],
                          [
                            0.5555555555555556,
                            "#d8576b"
                          ],
                          [
                            0.6666666666666666,
                            "#ed7953"
                          ],
                          [
                            0.7777777777777778,
                            "#fb9f3a"
                          ],
                          [
                            0.8888888888888888,
                            "#fdca26"
                          ],
                          [
                            1,
                            "#f0f921"
                          ]
                        ]
                      }
                    ],
                    "contourcarpet": [
                      {
                        "type": "contourcarpet",
                        "colorbar": {
                          "outlinewidth": 0,
                          "ticks": ""
                        }
                      }
                    ],
                    "contour": [
                      {
                        "type": "contour",
                        "colorbar": {
                          "outlinewidth": 0,
                          "ticks": ""
                        },
                        "colorscale": [
                          [
                            0,
                            "#0d0887"
                          ],
                          [
                            0.1111111111111111,
                            "#46039f"
                          ],
                          [
                            0.2222222222222222,
                            "#7201a8"
                          ],
                          [
                            0.3333333333333333,
                            "#9c179e"
                          ],
                          [
                            0.4444444444444444,
                            "#bd3786"
                          ],
                          [
                            0.5555555555555556,
                            "#d8576b"
                          ],
                          [
                            0.6666666666666666,
                            "#ed7953"
                          ],
                          [
                            0.7777777777777778,
                            "#fb9f3a"
                          ],
                          [
                            0.8888888888888888,
                            "#fdca26"
                          ],
                          [
                            1,
                            "#f0f921"
                          ]
                        ]
                      }
                    ],
                    "surface": [
                      {
                        "type": "surface",
                        "colorbar": {
                          "outlinewidth": 0,
                          "ticks": ""
                        },
                        "colorscale": [
                          [
                            0,
                            "#0d0887"
                          ],
                          [
                            0.1111111111111111,
                            "#46039f"
                          ],
                          [
                            0.2222222222222222,
                            "#7201a8"
                          ],
                          [
                            0.3333333333333333,
                            "#9c179e"
                          ],
                          [
                            0.4444444444444444,
                            "#bd3786"
                          ],
                          [
                            0.5555555555555556,
                            "#d8576b"
                          ],
                          [
                            0.6666666666666666,
                            "#ed7953"
                          ],
                          [
                            0.7777777777777778,
                            "#fb9f3a"
                          ],
                          [
                            0.8888888888888888,
                            "#fdca26"
                          ],
                          [
                            1,
                            "#f0f921"
                          ]
                        ]
                      }
                    ],
                    "mesh3d": [
                      {
                        "type": "mesh3d",
                        "colorbar": {
                          "outlinewidth": 0,
                          "ticks": ""
                        }
                      }
                    ],
                    "scatter": [
                      {
                        "fillpattern": {
                          "fillmode": "overlay",
                          "size": 10,
                          "solidity": 0.2
                        },
                        "type": "scatter"
                      }
                    ],
                    "parcoords": [
                      {
                        "type": "parcoords",
                        "line": {
                          "colorbar": {
                            "outlinewidth": 0,
                            "ticks": ""
                          }
                        }
                      }
                    ],
                    "scatterpolargl": [
                      {
                        "type": "scatterpolargl",
                        "marker": {
                          "colorbar": {
                            "outlinewidth": 0,
                            "ticks": ""
                          }
                        }
                      }
                    ],
                    "bar": [
                      {
                        "error_x": {
                          "color": "#2a3f5f"
                        },
                        "error_y": {
                          "color": "#2a3f5f"
                        },
                        "marker": {
                          "line": {
                            "color": "#E5ECF6",
                            "width": 0.5
                          },
                          "pattern": {
                            "fillmode": "overlay",
                            "size": 10,
                            "solidity": 0.2
                          }
                        },
                        "type": "bar"
                      }
                    ],
                    "scattergeo": [
                      {
                        "type": "scattergeo",
                        "marker": {
                          "colorbar": {
                            "outlinewidth": 0,
                            "ticks": ""
                          }
                        }
                      }
                    ],
                    "scatterpolar": [
                      {
                        "type": "scatterpolar",
                        "marker": {
                          "colorbar": {
                            "outlinewidth": 0,
                            "ticks": ""
                          }
                        }
                      }
                    ],
                    "histogram": [
                      {
                        "marker": {
                          "pattern": {
                            "fillmode": "overlay",
                            "size": 10,
                            "solidity": 0.2
                          }
                        },
                        "type": "histogram"
                      }
                    ],
                    "scattergl": [
                      {
                        "type": "scattergl",
                        "marker": {
                          "colorbar": {
                            "outlinewidth": 0,
                            "ticks": ""
                          }
                        }
                      }
                    ],
                    "scatter3d": [
                      {
                        "type": "scatter3d",
                        "line": {
                          "colorbar": {
                            "outlinewidth": 0,
                            "ticks": ""
                          }
                        },
                        "marker": {
                          "colorbar": {
                            "outlinewidth": 0,
                            "ticks": ""
                          }
                        }
                      }
                    ],
                    "scattermapbox": [
                      {
                        "type": "scattermapbox",
                        "marker": {
                          "colorbar": {
                            "outlinewidth": 0,
                            "ticks": ""
                          }
                        }
                      }
                    ],
                    "scatterternary": [
                      {
                        "type": "scatterternary",
                        "marker": {
                          "colorbar": {
                            "outlinewidth": 0,
                            "ticks": ""
                          }
                        }
                      }
                    ],
                    "scattercarpet": [
                      {
                        "type": "scattercarpet",
                        "marker": {
                          "colorbar": {
                            "outlinewidth": 0,
                            "ticks": ""
                          }
                        }
                      }
                    ],
                    "carpet": [
                      {
                        "aaxis": {
                          "endlinecolor": "#2a3f5f",
                          "gridcolor": "white",
                          "linecolor": "white",
                          "minorgridcolor": "white",
                          "startlinecolor": "#2a3f5f"
                        },
                        "baxis": {
                          "endlinecolor": "#2a3f5f",
                          "gridcolor": "white",
                          "linecolor": "white",
                          "minorgridcolor": "white",
                          "startlinecolor": "#2a3f5f"
                        },
                        "type": "carpet"
                      }
                    ],
                    "table": [
                      {
                        "cells": {
                          "fill": {
                            "color": "#EBF0F8"
                          },
                          "line": {
                            "color": "white"
                          }
                        },
                        "header": {
                          "fill": {
                            "color": "#C8D4E3"
                          },
                          "line": {
                            "color": "white"
                          }
                        },
                        "type": "table"
                      }
                    ],
                    "barpolar": [
                      {
                        "marker": {
                          "line": {
                            "color": "#E5ECF6",
                            "width": 0.5
                          },
                          "pattern": {
                            "fillmode": "overlay",
                            "size": 10,
                            "solidity": 0.2
                          }
                        },
                        "type": "barpolar"
                      }
                    ],
                    "pie": [
                      {
                        "automargin": true,
                        "type": "pie"
                      }
                    ]
                  },
                  "layout": {
                    "autotypenumbers": "strict",
                    "colorway": [
                      "#636efa",
                      "#EF553B",
                      "#00cc96",
                      "#ab63fa",
                      "#FFA15A",
                      "#19d3f3",
                      "#FF6692",
                      "#B6E880",
                      "#FF97FF",
                      "#FECB52"
                    ],
                    "font": {
                      "color": "#2a3f5f"
                    },
                    "hovermode": "closest",
                    "hoverlabel": {
                      "align": "left"
                    },
                    "paper_bgcolor": "white",
                    "plot_bgcolor": "#E5ECF6",
                    "polar": {
                      "bgcolor": "#E5ECF6",
                      "angularaxis": {
                        "gridcolor": "white",
                        "linecolor": "white",
                        "ticks": ""
                      },
                      "radialaxis": {
                        "gridcolor": "white",
                        "linecolor": "white",
                        "ticks": ""
                      }
                    },
                    "ternary": {
                      "bgcolor": "#E5ECF6",
                      "aaxis": {
                        "gridcolor": "white",
                        "linecolor": "white",
                        "ticks": ""
                      },
                      "baxis": {
                        "gridcolor": "white",
                        "linecolor": "white",
                        "ticks": ""
                      },
                      "caxis": {
                        "gridcolor": "white",
                        "linecolor": "white",
                        "ticks": ""
                      }
                    },
                    "coloraxis": {
                      "colorbar": {
                        "outlinewidth": 0,
                        "ticks": ""
                      }
                    },
                    "colorscale": {
                      "sequential": [
                        [
                          0,
                          "#0d0887"
                        ],
                        [
                          0.1111111111111111,
                          "#46039f"
                        ],
                        [
                          0.2222222222222222,
                          "#7201a8"
                        ],
                        [
                          0.3333333333333333,
                          "#9c179e"
                        ],
                        [
                          0.4444444444444444,
                          "#bd3786"
                        ],
                        [
                          0.5555555555555556,
                          "#d8576b"
                        ],
                        [
                          0.6666666666666666,
                          "#ed7953"
                        ],
                        [
                          0.7777777777777778,
                          "#fb9f3a"
                        ],
                        [
                          0.8888888888888888,
                          "#fdca26"
                        ],
                        [
                          1,
                          "#f0f921"
                        ]
                      ],
                      "sequentialminus": [
                        [
                          0,
                          "#0d0887"
                        ],
                        [
                          0.1111111111111111,
                          "#46039f"
                        ],
                        [
                          0.2222222222222222,
                          "#7201a8"
                        ],
                        [
                          0.3333333333333333,
                          "#9c179e"
                        ],
                        [
                          0.4444444444444444,
                          "#bd3786"
                        ],
                        [
                          0.5555555555555556,
                          "#d8576b"
                        ],
                        [
                          0.6666666666666666,
                          "#ed7953"
                        ],
                        [
                          0.7777777777777778,
                          "#fb9f3a"
                        ],
                        [
                          0.8888888888888888,
                          "#fdca26"
                        ],
                        [
                          1,
                          "#f0f921"
                        ]
                      ],
                      "diverging": [
                        [
                          0,
                          "#8e0152"
                        ],
                        [
                          0.1,
                          "#c51b7d"
                        ],
                        [
                          0.2,
                          "#de77ae"
                        ],
                        [
                          0.3,
                          "#f1b6da"
                        ],
                        [
                          0.4,
                          "#fde0ef"
                        ],
                        [
                          0.5,
                          "#f7f7f7"
                        ],
                        [
                          0.6,
                          "#e6f5d0"
                        ],
                        [
                          0.7,
                          "#b8e186"
                        ],
                        [
                          0.8,
                          "#7fbc41"
                        ],
                        [
                          0.9,
                          "#4d9221"
                        ],
                        [
                          1,
                          "#276419"
                        ]
                      ]
                    },
                    "xaxis": {
                      "gridcolor": "white",
                      "linecolor": "white",
                      "ticks": "",
                      "title": {
                        "standoff": 15
                      },
                      "zerolinecolor": "white",
                      "automargin": true,
                      "zerolinewidth": 2
                    },
                    "yaxis": {
                      "gridcolor": "white",
                      "linecolor": "white",
                      "ticks": "",
                      "title": {
                        "standoff": 15
                      },
                      "zerolinecolor": "white",
                      "automargin": true,
                      "zerolinewidth": 2
                    },
                    "scene": {
                      "xaxis": {
                        "backgroundcolor": "#E5ECF6",
                        "gridcolor": "white",
                        "linecolor": "white",
                        "showbackground": true,
                        "ticks": "",
                        "zerolinecolor": "white",
                        "gridwidth": 2
                      },
                      "yaxis": {
                        "backgroundcolor": "#E5ECF6",
                        "gridcolor": "white",
                        "linecolor": "white",
                        "showbackground": true,
                        "ticks": "",
                        "zerolinecolor": "white",
                        "gridwidth": 2
                      },
                      "zaxis": {
                        "backgroundcolor": "#E5ECF6",
                        "gridcolor": "white",
                        "linecolor": "white",
                        "showbackground": true,
                        "ticks": "",
                        "zerolinecolor": "white",
                        "gridwidth": 2
                      }
                    },
                    "shapedefaults": {
                      "line": {
                        "color": "#2a3f5f"
                      }
                    },
                    "annotationdefaults": {
                      "arrowcolor": "#2a3f5f",
                      "arrowhead": 0,
                      "arrowwidth": 1
                    },
                    "geo": {
                      "bgcolor": "white",
                      "landcolor": "#E5ECF6",
                      "subunitcolor": "white",
                      "showland": true,
                      "showlakes": true,
                      "lakecolor": "white"
                    },
                    "title": {
                      "x": 0.05
                    },
                    "mapbox": {
                      "style": "light"
                    }
                  }
                },
                "xaxis": {
                  "anchor": "y",
                  "domain": [
                    0,
                    1
                  ],
                  "title": {
                    "text": "Decade"
                  }
                },
                "yaxis": {
                  "anchor": "x",
                  "domain": [
                    0,
                    1
                  ],
                  "title": {
                    "text": "value"
                  }
                },
                "legend": {
                  "title": {
                    "text": "variable"
                  },
                  "tracegroupgap": 0
                },
                "title": {
                  "text": "Song Characteristics Over the Decades"
                }
              },
              "config": {
                "plotlyServerURL": "https://plot.ly"
              }
            },
            "text/html": [
              "<div>                            <div id=\"9681b4ab-dd13-4d74-a0c2-0d1de67beb82\" class=\"plotly-graph-div\" style=\"height:525px; width:100%;\"></div>            <script type=\"text/javascript\">                require([\"plotly\"], function(Plotly) {                    window.PLOTLYENV=window.PLOTLYENV || {};                                    if (document.getElementById(\"9681b4ab-dd13-4d74-a0c2-0d1de67beb82\")) {                    Plotly.newPlot(                        \"9681b4ab-dd13-4d74-a0c2-0d1de67beb82\",                        [{\"hovertemplate\":\"variable=danceability\\u003cbr\\u003eDecade=%{x}\\u003cbr\\u003evalue=%{y}\\u003cextra\\u003e\\u003c\\u002fextra\\u003e\",\"legendgroup\":\"danceability\",\"line\":{\"color\":\"#636efa\",\"dash\":\"solid\"},\"marker\":{\"symbol\":\"circle\"},\"mode\":\"lines\",\"name\":\"danceability\",\"orientation\":\"v\",\"showlegend\":true,\"x\":[1940.0,1950.0,1960.0,1970.0,1980.0,1990.0,2000.0,2010.0,2020.0],\"xaxis\":\"x\",\"y\":[0.24699999392032623,0.5847999811172485,0.7802758648477751,0.7103404313959973,0.6076666715244452,0.505891299766043,0.6055070390583763,0.48726024719313804,0.45246873258221343],\"yaxis\":\"y\",\"type\":\"scatter\"},{\"hovertemplate\":\"variable=energy\\u003cbr\\u003eDecade=%{x}\\u003cbr\\u003evalue=%{y}\\u003cextra\\u003e\\u003c\\u002fextra\\u003e\",\"legendgroup\":\"energy\",\"line\":{\"color\":\"#EF553B\",\"dash\":\"solid\"},\"marker\":{\"symbol\":\"circle\"},\"mode\":\"lines\",\"name\":\"energy\",\"orientation\":\"v\",\"showlegend\":true,\"x\":[1940.0,1950.0,1960.0,1970.0,1980.0,1990.0,2000.0,2010.0,2020.0],\"xaxis\":\"x\",\"y\":[0.15800000727176666,0.2143999993801117,0.4515517158754941,0.5460638245369526,0.6998833306133747,0.567739119672257,0.7793802812065876,0.6266521722170877,0.635929716335395],\"yaxis\":\"y\",\"type\":\"scatter\"},{\"hovertemplate\":\"variable=instrumentalness\\u003cbr\\u003eDecade=%{x}\\u003cbr\\u003evalue=%{y}\\u003cextra\\u003e\\u003c\\u002fextra\\u003e\",\"legendgroup\":\"instrumentalness\",\"line\":{\"color\":\"#00cc96\",\"dash\":\"solid\"},\"marker\":{\"symbol\":\"circle\"},\"mode\":\"lines\",\"name\":\"instrumentalness\",\"orientation\":\"v\",\"showlegend\":true,\"x\":[1940.0,1950.0,1960.0,1970.0,1980.0,1990.0,2000.0,2010.0,2020.0],\"xaxis\":\"x\",\"y\":[0.038100000470876694,0.05838000178337097,0.043251723693362595,0.04965957373063615,0.06673166664938132,0.039528261222269226,0.0948028163328557,0.06334534132425089,0.11901354757228483],\"yaxis\":\"y\",\"type\":\"scatter\"},{\"hovertemplate\":\"variable=valence\\u003cbr\\u003eDecade=%{x}\\u003cbr\\u003evalue=%{y}\\u003cextra\\u003e\\u003c\\u002fextra\\u003e\",\"legendgroup\":\"valence\",\"line\":{\"color\":\"#ab63fa\",\"dash\":\"solid\"},\"marker\":{\"symbol\":\"circle\"},\"mode\":\"lines\",\"name\":\"valence\",\"orientation\":\"v\",\"showlegend\":true,\"x\":[1940.0,1950.0,1960.0,1970.0,1980.0,1990.0,2000.0,2010.0,2020.0],\"xaxis\":\"x\",\"y\":[0.33799999952316284,0.16560000777244568,0.09713103468048162,0.14036808575087406,0.23984333543727795,0.20746522170046103,0.36180563727524917,0.20251428525640358,0.17118978207995791],\"yaxis\":\"y\",\"type\":\"scatter\"},{\"hovertemplate\":\"variable=liveliness\\u003cbr\\u003eDecade=%{x}\\u003cbr\\u003evalue=%{y}\\u003cextra\\u003e\\u003c\\u002fextra\\u003e\",\"legendgroup\":\"liveliness\",\"line\":{\"color\":\"#FFA15A\",\"dash\":\"solid\"},\"marker\":{\"symbol\":\"circle\"},\"mode\":\"lines\",\"name\":\"liveliness\",\"orientation\":\"v\",\"showlegend\":true,\"x\":[1940.0,1950.0,1960.0,1970.0,1980.0,1990.0,2000.0,2010.0,2020.0],\"xaxis\":\"x\",\"y\":[0.31700000166893005,0.47839999198913574,0.5428965528463495,0.5750000090041059,0.5449000005920728,0.45797825442708057,0.5682816899998088,0.5517391369949957,0.6708310367592988],\"yaxis\":\"y\",\"type\":\"scatter\"},{\"hovertemplate\":\"variable=speechiness\\u003cbr\\u003eDecade=%{x}\\u003cbr\\u003evalue=%{y}\\u003cextra\\u003e\\u003c\\u002fextra\\u003e\",\"legendgroup\":\"speechiness\",\"line\":{\"color\":\"#19d3f3\",\"dash\":\"solid\"},\"marker\":{\"symbol\":\"circle\"},\"mode\":\"lines\",\"name\":\"speechiness\",\"orientation\":\"v\",\"showlegend\":true,\"x\":[1940.0,1950.0,1960.0,1970.0,1980.0,1990.0,2000.0,2010.0,2020.0],\"xaxis\":\"x\",\"y\":[0.3529999852180481,0.0,0.001236413763073305,0.00010714574318626546,0.0009414890244215712,0.0016763435164846116,0.00016305802842318473,0.0028578808392379623,0.013558945795356539],\"yaxis\":\"y\",\"type\":\"scatter\"},{\"hovertemplate\":\"variable=acoustics\\u003cbr\\u003eDecade=%{x}\\u003cbr\\u003evalue=%{y}\\u003cextra\\u003e\\u003c\\u002fextra\\u003e\",\"legendgroup\":\"acoustics\",\"line\":{\"color\":\"#FF6692\",\"dash\":\"solid\"},\"marker\":{\"symbol\":\"circle\"},\"mode\":\"lines\",\"name\":\"acoustics\",\"orientation\":\"v\",\"showlegend\":true,\"x\":[1940.0,1950.0,1960.0,1970.0,1980.0,1990.0,2000.0,2010.0,2020.0],\"xaxis\":\"x\",\"y\":[0.6729999780654907,0.7451999902725219,0.7018965498126787,0.390831913719786,0.20190719715998665,0.2777217424515149,0.21033168816938996,0.304609778520119,0.22174079369733468],\"yaxis\":\"y\",\"type\":\"scatter\"}],                        {\"template\":{\"data\":{\"histogram2dcontour\":[{\"type\":\"histogram2dcontour\",\"colorbar\":{\"outlinewidth\":0,\"ticks\":\"\"},\"colorscale\":[[0.0,\"#0d0887\"],[0.1111111111111111,\"#46039f\"],[0.2222222222222222,\"#7201a8\"],[0.3333333333333333,\"#9c179e\"],[0.4444444444444444,\"#bd3786\"],[0.5555555555555556,\"#d8576b\"],[0.6666666666666666,\"#ed7953\"],[0.7777777777777778,\"#fb9f3a\"],[0.8888888888888888,\"#fdca26\"],[1.0,\"#f0f921\"]]}],\"choropleth\":[{\"type\":\"choropleth\",\"colorbar\":{\"outlinewidth\":0,\"ticks\":\"\"}}],\"histogram2d\":[{\"type\":\"histogram2d\",\"colorbar\":{\"outlinewidth\":0,\"ticks\":\"\"},\"colorscale\":[[0.0,\"#0d0887\"],[0.1111111111111111,\"#46039f\"],[0.2222222222222222,\"#7201a8\"],[0.3333333333333333,\"#9c179e\"],[0.4444444444444444,\"#bd3786\"],[0.5555555555555556,\"#d8576b\"],[0.6666666666666666,\"#ed7953\"],[0.7777777777777778,\"#fb9f3a\"],[0.8888888888888888,\"#fdca26\"],[1.0,\"#f0f921\"]]}],\"heatmap\":[{\"type\":\"heatmap\",\"colorbar\":{\"outlinewidth\":0,\"ticks\":\"\"},\"colorscale\":[[0.0,\"#0d0887\"],[0.1111111111111111,\"#46039f\"],[0.2222222222222222,\"#7201a8\"],[0.3333333333333333,\"#9c179e\"],[0.4444444444444444,\"#bd3786\"],[0.5555555555555556,\"#d8576b\"],[0.6666666666666666,\"#ed7953\"],[0.7777777777777778,\"#fb9f3a\"],[0.8888888888888888,\"#fdca26\"],[1.0,\"#f0f921\"]]}],\"heatmapgl\":[{\"type\":\"heatmapgl\",\"colorbar\":{\"outlinewidth\":0,\"ticks\":\"\"},\"colorscale\":[[0.0,\"#0d0887\"],[0.1111111111111111,\"#46039f\"],[0.2222222222222222,\"#7201a8\"],[0.3333333333333333,\"#9c179e\"],[0.4444444444444444,\"#bd3786\"],[0.5555555555555556,\"#d8576b\"],[0.6666666666666666,\"#ed7953\"],[0.7777777777777778,\"#fb9f3a\"],[0.8888888888888888,\"#fdca26\"],[1.0,\"#f0f921\"]]}],\"contourcarpet\":[{\"type\":\"contourcarpet\",\"colorbar\":{\"outlinewidth\":0,\"ticks\":\"\"}}],\"contour\":[{\"type\":\"contour\",\"colorbar\":{\"outlinewidth\":0,\"ticks\":\"\"},\"colorscale\":[[0.0,\"#0d0887\"],[0.1111111111111111,\"#46039f\"],[0.2222222222222222,\"#7201a8\"],[0.3333333333333333,\"#9c179e\"],[0.4444444444444444,\"#bd3786\"],[0.5555555555555556,\"#d8576b\"],[0.6666666666666666,\"#ed7953\"],[0.7777777777777778,\"#fb9f3a\"],[0.8888888888888888,\"#fdca26\"],[1.0,\"#f0f921\"]]}],\"surface\":[{\"type\":\"surface\",\"colorbar\":{\"outlinewidth\":0,\"ticks\":\"\"},\"colorscale\":[[0.0,\"#0d0887\"],[0.1111111111111111,\"#46039f\"],[0.2222222222222222,\"#7201a8\"],[0.3333333333333333,\"#9c179e\"],[0.4444444444444444,\"#bd3786\"],[0.5555555555555556,\"#d8576b\"],[0.6666666666666666,\"#ed7953\"],[0.7777777777777778,\"#fb9f3a\"],[0.8888888888888888,\"#fdca26\"],[1.0,\"#f0f921\"]]}],\"mesh3d\":[{\"type\":\"mesh3d\",\"colorbar\":{\"outlinewidth\":0,\"ticks\":\"\"}}],\"scatter\":[{\"fillpattern\":{\"fillmode\":\"overlay\",\"size\":10,\"solidity\":0.2},\"type\":\"scatter\"}],\"parcoords\":[{\"type\":\"parcoords\",\"line\":{\"colorbar\":{\"outlinewidth\":0,\"ticks\":\"\"}}}],\"scatterpolargl\":[{\"type\":\"scatterpolargl\",\"marker\":{\"colorbar\":{\"outlinewidth\":0,\"ticks\":\"\"}}}],\"bar\":[{\"error_x\":{\"color\":\"#2a3f5f\"},\"error_y\":{\"color\":\"#2a3f5f\"},\"marker\":{\"line\":{\"color\":\"#E5ECF6\",\"width\":0.5},\"pattern\":{\"fillmode\":\"overlay\",\"size\":10,\"solidity\":0.2}},\"type\":\"bar\"}],\"scattergeo\":[{\"type\":\"scattergeo\",\"marker\":{\"colorbar\":{\"outlinewidth\":0,\"ticks\":\"\"}}}],\"scatterpolar\":[{\"type\":\"scatterpolar\",\"marker\":{\"colorbar\":{\"outlinewidth\":0,\"ticks\":\"\"}}}],\"histogram\":[{\"marker\":{\"pattern\":{\"fillmode\":\"overlay\",\"size\":10,\"solidity\":0.2}},\"type\":\"histogram\"}],\"scattergl\":[{\"type\":\"scattergl\",\"marker\":{\"colorbar\":{\"outlinewidth\":0,\"ticks\":\"\"}}}],\"scatter3d\":[{\"type\":\"scatter3d\",\"line\":{\"colorbar\":{\"outlinewidth\":0,\"ticks\":\"\"}},\"marker\":{\"colorbar\":{\"outlinewidth\":0,\"ticks\":\"\"}}}],\"scattermapbox\":[{\"type\":\"scattermapbox\",\"marker\":{\"colorbar\":{\"outlinewidth\":0,\"ticks\":\"\"}}}],\"scatterternary\":[{\"type\":\"scatterternary\",\"marker\":{\"colorbar\":{\"outlinewidth\":0,\"ticks\":\"\"}}}],\"scattercarpet\":[{\"type\":\"scattercarpet\",\"marker\":{\"colorbar\":{\"outlinewidth\":0,\"ticks\":\"\"}}}],\"carpet\":[{\"aaxis\":{\"endlinecolor\":\"#2a3f5f\",\"gridcolor\":\"white\",\"linecolor\":\"white\",\"minorgridcolor\":\"white\",\"startlinecolor\":\"#2a3f5f\"},\"baxis\":{\"endlinecolor\":\"#2a3f5f\",\"gridcolor\":\"white\",\"linecolor\":\"white\",\"minorgridcolor\":\"white\",\"startlinecolor\":\"#2a3f5f\"},\"type\":\"carpet\"}],\"table\":[{\"cells\":{\"fill\":{\"color\":\"#EBF0F8\"},\"line\":{\"color\":\"white\"}},\"header\":{\"fill\":{\"color\":\"#C8D4E3\"},\"line\":{\"color\":\"white\"}},\"type\":\"table\"}],\"barpolar\":[{\"marker\":{\"line\":{\"color\":\"#E5ECF6\",\"width\":0.5},\"pattern\":{\"fillmode\":\"overlay\",\"size\":10,\"solidity\":0.2}},\"type\":\"barpolar\"}],\"pie\":[{\"automargin\":true,\"type\":\"pie\"}]},\"layout\":{\"autotypenumbers\":\"strict\",\"colorway\":[\"#636efa\",\"#EF553B\",\"#00cc96\",\"#ab63fa\",\"#FFA15A\",\"#19d3f3\",\"#FF6692\",\"#B6E880\",\"#FF97FF\",\"#FECB52\"],\"font\":{\"color\":\"#2a3f5f\"},\"hovermode\":\"closest\",\"hoverlabel\":{\"align\":\"left\"},\"paper_bgcolor\":\"white\",\"plot_bgcolor\":\"#E5ECF6\",\"polar\":{\"bgcolor\":\"#E5ECF6\",\"angularaxis\":{\"gridcolor\":\"white\",\"linecolor\":\"white\",\"ticks\":\"\"},\"radialaxis\":{\"gridcolor\":\"white\",\"linecolor\":\"white\",\"ticks\":\"\"}},\"ternary\":{\"bgcolor\":\"#E5ECF6\",\"aaxis\":{\"gridcolor\":\"white\",\"linecolor\":\"white\",\"ticks\":\"\"},\"baxis\":{\"gridcolor\":\"white\",\"linecolor\":\"white\",\"ticks\":\"\"},\"caxis\":{\"gridcolor\":\"white\",\"linecolor\":\"white\",\"ticks\":\"\"}},\"coloraxis\":{\"colorbar\":{\"outlinewidth\":0,\"ticks\":\"\"}},\"colorscale\":{\"sequential\":[[0.0,\"#0d0887\"],[0.1111111111111111,\"#46039f\"],[0.2222222222222222,\"#7201a8\"],[0.3333333333333333,\"#9c179e\"],[0.4444444444444444,\"#bd3786\"],[0.5555555555555556,\"#d8576b\"],[0.6666666666666666,\"#ed7953\"],[0.7777777777777778,\"#fb9f3a\"],[0.8888888888888888,\"#fdca26\"],[1.0,\"#f0f921\"]],\"sequentialminus\":[[0.0,\"#0d0887\"],[0.1111111111111111,\"#46039f\"],[0.2222222222222222,\"#7201a8\"],[0.3333333333333333,\"#9c179e\"],[0.4444444444444444,\"#bd3786\"],[0.5555555555555556,\"#d8576b\"],[0.6666666666666666,\"#ed7953\"],[0.7777777777777778,\"#fb9f3a\"],[0.8888888888888888,\"#fdca26\"],[1.0,\"#f0f921\"]],\"diverging\":[[0,\"#8e0152\"],[0.1,\"#c51b7d\"],[0.2,\"#de77ae\"],[0.3,\"#f1b6da\"],[0.4,\"#fde0ef\"],[0.5,\"#f7f7f7\"],[0.6,\"#e6f5d0\"],[0.7,\"#b8e186\"],[0.8,\"#7fbc41\"],[0.9,\"#4d9221\"],[1,\"#276419\"]]},\"xaxis\":{\"gridcolor\":\"white\",\"linecolor\":\"white\",\"ticks\":\"\",\"title\":{\"standoff\":15},\"zerolinecolor\":\"white\",\"automargin\":true,\"zerolinewidth\":2},\"yaxis\":{\"gridcolor\":\"white\",\"linecolor\":\"white\",\"ticks\":\"\",\"title\":{\"standoff\":15},\"zerolinecolor\":\"white\",\"automargin\":true,\"zerolinewidth\":2},\"scene\":{\"xaxis\":{\"backgroundcolor\":\"#E5ECF6\",\"gridcolor\":\"white\",\"linecolor\":\"white\",\"showbackground\":true,\"ticks\":\"\",\"zerolinecolor\":\"white\",\"gridwidth\":2},\"yaxis\":{\"backgroundcolor\":\"#E5ECF6\",\"gridcolor\":\"white\",\"linecolor\":\"white\",\"showbackground\":true,\"ticks\":\"\",\"zerolinecolor\":\"white\",\"gridwidth\":2},\"zaxis\":{\"backgroundcolor\":\"#E5ECF6\",\"gridcolor\":\"white\",\"linecolor\":\"white\",\"showbackground\":true,\"ticks\":\"\",\"zerolinecolor\":\"white\",\"gridwidth\":2}},\"shapedefaults\":{\"line\":{\"color\":\"#2a3f5f\"}},\"annotationdefaults\":{\"arrowcolor\":\"#2a3f5f\",\"arrowhead\":0,\"arrowwidth\":1},\"geo\":{\"bgcolor\":\"white\",\"landcolor\":\"#E5ECF6\",\"subunitcolor\":\"white\",\"showland\":true,\"showlakes\":true,\"lakecolor\":\"white\"},\"title\":{\"x\":0.05},\"mapbox\":{\"style\":\"light\"}}},\"xaxis\":{\"anchor\":\"y\",\"domain\":[0.0,1.0],\"title\":{\"text\":\"Decade\"}},\"yaxis\":{\"anchor\":\"x\",\"domain\":[0.0,1.0],\"title\":{\"text\":\"value\"}},\"legend\":{\"title\":{\"text\":\"variable\"},\"tracegroupgap\":0},\"title\":{\"text\":\"Song Characteristics Over the Decades\"}},                        {\"responsive\": true}                    ).then(function(){\n",
              "                            \n",
              "var gd = document.getElementById('9681b4ab-dd13-4d74-a0c2-0d1de67beb82');\n",
              "var x = new MutationObserver(function (mutations, observer) {{\n",
              "        var display = window.getComputedStyle(gd).display;\n",
              "        if (!display || display === 'none') {{\n",
              "            console.log([gd, 'removed!']);\n",
              "            Plotly.purge(gd);\n",
              "            observer.disconnect();\n",
              "        }}\n",
              "}});\n",
              "\n",
              "// Listen for the removal of the full notebook cells\n",
              "var notebookContainer = gd.closest('#notebook-container');\n",
              "if (notebookContainer) {{\n",
              "    x.observe(notebookContainer, {childList: true});\n",
              "}}\n",
              "\n",
              "// Listen for the clearing of the current output cell\n",
              "var outputEl = gd.closest('.output');\n",
              "if (outputEl) {{\n",
              "    x.observe(outputEl, {childList: true});\n",
              "}}\n",
              "\n",
              "                        })                };                });            </script>        </div>"
            ]
          },
          "metadata": {}
        }
      ]
    },
    {
      "cell_type": "code",
      "source": [
        "# same as above but with seaborn. (sometimes plotly doesn't show up in the published notebok)\n",
        "sns.lineplot(data=pd.melt(df_music_features, ['Decade']), x='Decade', y='value', hue='variable').set_title('Song Characteristics Over the Decades');"
      ],
      "metadata": {
        "execution": {
          "iopub.status.busy": "2022-07-04T01:16:06.297866Z",
          "iopub.execute_input": "2022-07-04T01:16:06.298571Z",
          "iopub.status.idle": "2022-07-04T01:16:06.721293Z",
          "shell.execute_reply.started": "2022-07-04T01:16:06.298515Z",
          "shell.execute_reply": "2022-07-04T01:16:06.719915Z"
        },
        "trusted": true,
        "colab": {
          "base_uri": "https://localhost:8080/",
          "height": 456
        },
        "id": "CYbr6J3-vznE",
        "outputId": "1639a93a-9032-42eb-b86f-355dbe4dd279"
      },
      "execution_count": 23,
      "outputs": [
        {
          "output_type": "display_data",
          "data": {
            "text/plain": [
              "<Figure size 640x480 with 1 Axes>"
            ],
            "image/svg+xml": "<?xml version=\"1.0\" encoding=\"utf-8\" standalone=\"no\"?>\n<!DOCTYPE svg PUBLIC \"-//W3C//DTD SVG 1.1//EN\"\n  \"http://www.w3.org/Graphics/SVG/1.1/DTD/svg11.dtd\">\n<svg xmlns:xlink=\"http://www.w3.org/1999/xlink\" width=\"408.10125pt\" height=\"325.986375pt\" viewBox=\"0 0 408.10125 325.986375\" xmlns=\"http://www.w3.org/2000/svg\" version=\"1.1\">\n <metadata>\n  <rdf:RDF xmlns:dc=\"http://purl.org/dc/elements/1.1/\" xmlns:cc=\"http://creativecommons.org/ns#\" xmlns:rdf=\"http://www.w3.org/1999/02/22-rdf-syntax-ns#\">\n   <cc:Work>\n    <dc:type rdf:resource=\"http://purl.org/dc/dcmitype/StillImage\"/>\n    <dc:date>2024-09-02T03:43:04.897874</dc:date>\n    <dc:format>image/svg+xml</dc:format>\n    <dc:creator>\n     <cc:Agent>\n      <dc:title>Matplotlib v3.7.1, https://matplotlib.org/</dc:title>\n     </cc:Agent>\n    </dc:creator>\n   </cc:Work>\n  </rdf:RDF>\n </metadata>\n <defs>\n  <style type=\"text/css\">*{stroke-linejoin: round; stroke-linecap: butt}</style>\n </defs>\n <g id=\"figure_1\">\n  <g id=\"patch_1\">\n   <path d=\"M 0 325.986375 \nL 408.10125 325.986375 \nL 408.10125 0 \nL 0 0 \nz\n\" style=\"fill: #ffffff\"/>\n  </g>\n  <g id=\"axes_1\">\n   <g id=\"patch_2\">\n    <path d=\"M 43.78125 288.430125 \nL 400.90125 288.430125 \nL 400.90125 22.318125 \nL 43.78125 22.318125 \nz\n\" style=\"fill: #eaeaf2\"/>\n   </g>\n   <g id=\"matplotlib.axis_1\">\n    <g id=\"xtick_1\">\n     <g id=\"line2d_1\">\n      <path d=\"M 60.013977 288.430125 \nL 60.013977 22.318125 \n\" clip-path=\"url(#pf05b3af19e)\" style=\"fill: none; stroke: #ffffff; stroke-width: 0.8; stroke-linecap: round\"/>\n     </g>\n     <g id=\"text_1\">\n      <!-- 1940 -->\n      <g style=\"fill: #262626\" transform=\"translate(47.288977 303.028562) scale(0.1 -0.1)\">\n       <defs>\n        <path id=\"DejaVuSans-31\" d=\"M 794 531 \nL 1825 531 \nL 1825 4091 \nL 703 3866 \nL 703 4441 \nL 1819 4666 \nL 2450 4666 \nL 2450 531 \nL 3481 531 \nL 3481 0 \nL 794 0 \nL 794 531 \nz\n\" transform=\"scale(0.015625)\"/>\n        <path id=\"DejaVuSans-39\" d=\"M 703 97 \nL 703 672 \nQ 941 559 1184 500 \nQ 1428 441 1663 441 \nQ 2288 441 2617 861 \nQ 2947 1281 2994 2138 \nQ 2813 1869 2534 1725 \nQ 2256 1581 1919 1581 \nQ 1219 1581 811 2004 \nQ 403 2428 403 3163 \nQ 403 3881 828 4315 \nQ 1253 4750 1959 4750 \nQ 2769 4750 3195 4129 \nQ 3622 3509 3622 2328 \nQ 3622 1225 3098 567 \nQ 2575 -91 1691 -91 \nQ 1453 -91 1209 -44 \nQ 966 3 703 97 \nz\nM 1959 2075 \nQ 2384 2075 2632 2365 \nQ 2881 2656 2881 3163 \nQ 2881 3666 2632 3958 \nQ 2384 4250 1959 4250 \nQ 1534 4250 1286 3958 \nQ 1038 3666 1038 3163 \nQ 1038 2656 1286 2365 \nQ 1534 2075 1959 2075 \nz\n\" transform=\"scale(0.015625)\"/>\n        <path id=\"DejaVuSans-34\" d=\"M 2419 4116 \nL 825 1625 \nL 2419 1625 \nL 2419 4116 \nz\nM 2253 4666 \nL 3047 4666 \nL 3047 1625 \nL 3713 1625 \nL 3713 1100 \nL 3047 1100 \nL 3047 0 \nL 2419 0 \nL 2419 1100 \nL 313 1100 \nL 313 1709 \nL 2253 4666 \nz\n\" transform=\"scale(0.015625)\"/>\n        <path id=\"DejaVuSans-30\" d=\"M 2034 4250 \nQ 1547 4250 1301 3770 \nQ 1056 3291 1056 2328 \nQ 1056 1369 1301 889 \nQ 1547 409 2034 409 \nQ 2525 409 2770 889 \nQ 3016 1369 3016 2328 \nQ 3016 3291 2770 3770 \nQ 2525 4250 2034 4250 \nz\nM 2034 4750 \nQ 2819 4750 3233 4129 \nQ 3647 3509 3647 2328 \nQ 3647 1150 3233 529 \nQ 2819 -91 2034 -91 \nQ 1250 -91 836 529 \nQ 422 1150 422 2328 \nQ 422 3509 836 4129 \nQ 1250 4750 2034 4750 \nz\n\" transform=\"scale(0.015625)\"/>\n       </defs>\n       <use xlink:href=\"#DejaVuSans-31\"/>\n       <use xlink:href=\"#DejaVuSans-39\" x=\"63.623047\"/>\n       <use xlink:href=\"#DejaVuSans-34\" x=\"127.246094\"/>\n       <use xlink:href=\"#DejaVuSans-30\" x=\"190.869141\"/>\n      </g>\n     </g>\n    </g>\n    <g id=\"xtick_2\">\n     <g id=\"line2d_2\">\n      <path d=\"M 100.595795 288.430125 \nL 100.595795 22.318125 \n\" clip-path=\"url(#pf05b3af19e)\" style=\"fill: none; stroke: #ffffff; stroke-width: 0.8; stroke-linecap: round\"/>\n     </g>\n     <g id=\"text_2\">\n      <!-- 1950 -->\n      <g style=\"fill: #262626\" transform=\"translate(87.870795 303.028562) scale(0.1 -0.1)\">\n       <defs>\n        <path id=\"DejaVuSans-35\" d=\"M 691 4666 \nL 3169 4666 \nL 3169 4134 \nL 1269 4134 \nL 1269 2991 \nQ 1406 3038 1543 3061 \nQ 1681 3084 1819 3084 \nQ 2600 3084 3056 2656 \nQ 3513 2228 3513 1497 \nQ 3513 744 3044 326 \nQ 2575 -91 1722 -91 \nQ 1428 -91 1123 -41 \nQ 819 9 494 109 \nL 494 744 \nQ 775 591 1075 516 \nQ 1375 441 1709 441 \nQ 2250 441 2565 725 \nQ 2881 1009 2881 1497 \nQ 2881 1984 2565 2268 \nQ 2250 2553 1709 2553 \nQ 1456 2553 1204 2497 \nQ 953 2441 691 2322 \nL 691 4666 \nz\n\" transform=\"scale(0.015625)\"/>\n       </defs>\n       <use xlink:href=\"#DejaVuSans-31\"/>\n       <use xlink:href=\"#DejaVuSans-39\" x=\"63.623047\"/>\n       <use xlink:href=\"#DejaVuSans-35\" x=\"127.246094\"/>\n       <use xlink:href=\"#DejaVuSans-30\" x=\"190.869141\"/>\n      </g>\n     </g>\n    </g>\n    <g id=\"xtick_3\">\n     <g id=\"line2d_3\">\n      <path d=\"M 141.177614 288.430125 \nL 141.177614 22.318125 \n\" clip-path=\"url(#pf05b3af19e)\" style=\"fill: none; stroke: #ffffff; stroke-width: 0.8; stroke-linecap: round\"/>\n     </g>\n     <g id=\"text_3\">\n      <!-- 1960 -->\n      <g style=\"fill: #262626\" transform=\"translate(128.452614 303.028562) scale(0.1 -0.1)\">\n       <defs>\n        <path id=\"DejaVuSans-36\" d=\"M 2113 2584 \nQ 1688 2584 1439 2293 \nQ 1191 2003 1191 1497 \nQ 1191 994 1439 701 \nQ 1688 409 2113 409 \nQ 2538 409 2786 701 \nQ 3034 994 3034 1497 \nQ 3034 2003 2786 2293 \nQ 2538 2584 2113 2584 \nz\nM 3366 4563 \nL 3366 3988 \nQ 3128 4100 2886 4159 \nQ 2644 4219 2406 4219 \nQ 1781 4219 1451 3797 \nQ 1122 3375 1075 2522 \nQ 1259 2794 1537 2939 \nQ 1816 3084 2150 3084 \nQ 2853 3084 3261 2657 \nQ 3669 2231 3669 1497 \nQ 3669 778 3244 343 \nQ 2819 -91 2113 -91 \nQ 1303 -91 875 529 \nQ 447 1150 447 2328 \nQ 447 3434 972 4092 \nQ 1497 4750 2381 4750 \nQ 2619 4750 2861 4703 \nQ 3103 4656 3366 4563 \nz\n\" transform=\"scale(0.015625)\"/>\n       </defs>\n       <use xlink:href=\"#DejaVuSans-31\"/>\n       <use xlink:href=\"#DejaVuSans-39\" x=\"63.623047\"/>\n       <use xlink:href=\"#DejaVuSans-36\" x=\"127.246094\"/>\n       <use xlink:href=\"#DejaVuSans-30\" x=\"190.869141\"/>\n      </g>\n     </g>\n    </g>\n    <g id=\"xtick_4\">\n     <g id=\"line2d_4\">\n      <path d=\"M 181.759432 288.430125 \nL 181.759432 22.318125 \n\" clip-path=\"url(#pf05b3af19e)\" style=\"fill: none; stroke: #ffffff; stroke-width: 0.8; stroke-linecap: round\"/>\n     </g>\n     <g id=\"text_4\">\n      <!-- 1970 -->\n      <g style=\"fill: #262626\" transform=\"translate(169.034432 303.028562) scale(0.1 -0.1)\">\n       <defs>\n        <path id=\"DejaVuSans-37\" d=\"M 525 4666 \nL 3525 4666 \nL 3525 4397 \nL 1831 0 \nL 1172 0 \nL 2766 4134 \nL 525 4134 \nL 525 4666 \nz\n\" transform=\"scale(0.015625)\"/>\n       </defs>\n       <use xlink:href=\"#DejaVuSans-31\"/>\n       <use xlink:href=\"#DejaVuSans-39\" x=\"63.623047\"/>\n       <use xlink:href=\"#DejaVuSans-37\" x=\"127.246094\"/>\n       <use xlink:href=\"#DejaVuSans-30\" x=\"190.869141\"/>\n      </g>\n     </g>\n    </g>\n    <g id=\"xtick_5\">\n     <g id=\"line2d_5\">\n      <path d=\"M 222.34125 288.430125 \nL 222.34125 22.318125 \n\" clip-path=\"url(#pf05b3af19e)\" style=\"fill: none; stroke: #ffffff; stroke-width: 0.8; stroke-linecap: round\"/>\n     </g>\n     <g id=\"text_5\">\n      <!-- 1980 -->\n      <g style=\"fill: #262626\" transform=\"translate(209.61625 303.028562) scale(0.1 -0.1)\">\n       <defs>\n        <path id=\"DejaVuSans-38\" d=\"M 2034 2216 \nQ 1584 2216 1326 1975 \nQ 1069 1734 1069 1313 \nQ 1069 891 1326 650 \nQ 1584 409 2034 409 \nQ 2484 409 2743 651 \nQ 3003 894 3003 1313 \nQ 3003 1734 2745 1975 \nQ 2488 2216 2034 2216 \nz\nM 1403 2484 \nQ 997 2584 770 2862 \nQ 544 3141 544 3541 \nQ 544 4100 942 4425 \nQ 1341 4750 2034 4750 \nQ 2731 4750 3128 4425 \nQ 3525 4100 3525 3541 \nQ 3525 3141 3298 2862 \nQ 3072 2584 2669 2484 \nQ 3125 2378 3379 2068 \nQ 3634 1759 3634 1313 \nQ 3634 634 3220 271 \nQ 2806 -91 2034 -91 \nQ 1263 -91 848 271 \nQ 434 634 434 1313 \nQ 434 1759 690 2068 \nQ 947 2378 1403 2484 \nz\nM 1172 3481 \nQ 1172 3119 1398 2916 \nQ 1625 2713 2034 2713 \nQ 2441 2713 2670 2916 \nQ 2900 3119 2900 3481 \nQ 2900 3844 2670 4047 \nQ 2441 4250 2034 4250 \nQ 1625 4250 1398 4047 \nQ 1172 3844 1172 3481 \nz\n\" transform=\"scale(0.015625)\"/>\n       </defs>\n       <use xlink:href=\"#DejaVuSans-31\"/>\n       <use xlink:href=\"#DejaVuSans-39\" x=\"63.623047\"/>\n       <use xlink:href=\"#DejaVuSans-38\" x=\"127.246094\"/>\n       <use xlink:href=\"#DejaVuSans-30\" x=\"190.869141\"/>\n      </g>\n     </g>\n    </g>\n    <g id=\"xtick_6\">\n     <g id=\"line2d_6\">\n      <path d=\"M 262.923068 288.430125 \nL 262.923068 22.318125 \n\" clip-path=\"url(#pf05b3af19e)\" style=\"fill: none; stroke: #ffffff; stroke-width: 0.8; stroke-linecap: round\"/>\n     </g>\n     <g id=\"text_6\">\n      <!-- 1990 -->\n      <g style=\"fill: #262626\" transform=\"translate(250.198068 303.028562) scale(0.1 -0.1)\">\n       <use xlink:href=\"#DejaVuSans-31\"/>\n       <use xlink:href=\"#DejaVuSans-39\" x=\"63.623047\"/>\n       <use xlink:href=\"#DejaVuSans-39\" x=\"127.246094\"/>\n       <use xlink:href=\"#DejaVuSans-30\" x=\"190.869141\"/>\n      </g>\n     </g>\n    </g>\n    <g id=\"xtick_7\">\n     <g id=\"line2d_7\">\n      <path d=\"M 303.504886 288.430125 \nL 303.504886 22.318125 \n\" clip-path=\"url(#pf05b3af19e)\" style=\"fill: none; stroke: #ffffff; stroke-width: 0.8; stroke-linecap: round\"/>\n     </g>\n     <g id=\"text_7\">\n      <!-- 2000 -->\n      <g style=\"fill: #262626\" transform=\"translate(290.779886 303.028562) scale(0.1 -0.1)\">\n       <defs>\n        <path id=\"DejaVuSans-32\" d=\"M 1228 531 \nL 3431 531 \nL 3431 0 \nL 469 0 \nL 469 531 \nQ 828 903 1448 1529 \nQ 2069 2156 2228 2338 \nQ 2531 2678 2651 2914 \nQ 2772 3150 2772 3378 \nQ 2772 3750 2511 3984 \nQ 2250 4219 1831 4219 \nQ 1534 4219 1204 4116 \nQ 875 4013 500 3803 \nL 500 4441 \nQ 881 4594 1212 4672 \nQ 1544 4750 1819 4750 \nQ 2544 4750 2975 4387 \nQ 3406 4025 3406 3419 \nQ 3406 3131 3298 2873 \nQ 3191 2616 2906 2266 \nQ 2828 2175 2409 1742 \nQ 1991 1309 1228 531 \nz\n\" transform=\"scale(0.015625)\"/>\n       </defs>\n       <use xlink:href=\"#DejaVuSans-32\"/>\n       <use xlink:href=\"#DejaVuSans-30\" x=\"63.623047\"/>\n       <use xlink:href=\"#DejaVuSans-30\" x=\"127.246094\"/>\n       <use xlink:href=\"#DejaVuSans-30\" x=\"190.869141\"/>\n      </g>\n     </g>\n    </g>\n    <g id=\"xtick_8\">\n     <g id=\"line2d_8\">\n      <path d=\"M 344.086705 288.430125 \nL 344.086705 22.318125 \n\" clip-path=\"url(#pf05b3af19e)\" style=\"fill: none; stroke: #ffffff; stroke-width: 0.8; stroke-linecap: round\"/>\n     </g>\n     <g id=\"text_8\">\n      <!-- 2010 -->\n      <g style=\"fill: #262626\" transform=\"translate(331.361705 303.028562) scale(0.1 -0.1)\">\n       <use xlink:href=\"#DejaVuSans-32\"/>\n       <use xlink:href=\"#DejaVuSans-30\" x=\"63.623047\"/>\n       <use xlink:href=\"#DejaVuSans-31\" x=\"127.246094\"/>\n       <use xlink:href=\"#DejaVuSans-30\" x=\"190.869141\"/>\n      </g>\n     </g>\n    </g>\n    <g id=\"xtick_9\">\n     <g id=\"line2d_9\">\n      <path d=\"M 384.668523 288.430125 \nL 384.668523 22.318125 \n\" clip-path=\"url(#pf05b3af19e)\" style=\"fill: none; stroke: #ffffff; stroke-width: 0.8; stroke-linecap: round\"/>\n     </g>\n     <g id=\"text_9\">\n      <!-- 2020 -->\n      <g style=\"fill: #262626\" transform=\"translate(371.943523 303.028562) scale(0.1 -0.1)\">\n       <use xlink:href=\"#DejaVuSans-32\"/>\n       <use xlink:href=\"#DejaVuSans-30\" x=\"63.623047\"/>\n       <use xlink:href=\"#DejaVuSans-32\" x=\"127.246094\"/>\n       <use xlink:href=\"#DejaVuSans-30\" x=\"190.869141\"/>\n      </g>\n     </g>\n    </g>\n    <g id=\"text_10\">\n     <!-- Decade -->\n     <g style=\"fill: #262626\" transform=\"translate(203.350625 316.706687) scale(0.1 -0.1)\">\n      <defs>\n       <path id=\"DejaVuSans-44\" d=\"M 1259 4147 \nL 1259 519 \nL 2022 519 \nQ 2988 519 3436 956 \nQ 3884 1394 3884 2338 \nQ 3884 3275 3436 3711 \nQ 2988 4147 2022 4147 \nL 1259 4147 \nz\nM 628 4666 \nL 1925 4666 \nQ 3281 4666 3915 4102 \nQ 4550 3538 4550 2338 \nQ 4550 1131 3912 565 \nQ 3275 0 1925 0 \nL 628 0 \nL 628 4666 \nz\n\" transform=\"scale(0.015625)\"/>\n       <path id=\"DejaVuSans-65\" d=\"M 3597 1894 \nL 3597 1613 \nL 953 1613 \nQ 991 1019 1311 708 \nQ 1631 397 2203 397 \nQ 2534 397 2845 478 \nQ 3156 559 3463 722 \nL 3463 178 \nQ 3153 47 2828 -22 \nQ 2503 -91 2169 -91 \nQ 1331 -91 842 396 \nQ 353 884 353 1716 \nQ 353 2575 817 3079 \nQ 1281 3584 2069 3584 \nQ 2775 3584 3186 3129 \nQ 3597 2675 3597 1894 \nz\nM 3022 2063 \nQ 3016 2534 2758 2815 \nQ 2500 3097 2075 3097 \nQ 1594 3097 1305 2825 \nQ 1016 2553 972 2059 \nL 3022 2063 \nz\n\" transform=\"scale(0.015625)\"/>\n       <path id=\"DejaVuSans-63\" d=\"M 3122 3366 \nL 3122 2828 \nQ 2878 2963 2633 3030 \nQ 2388 3097 2138 3097 \nQ 1578 3097 1268 2742 \nQ 959 2388 959 1747 \nQ 959 1106 1268 751 \nQ 1578 397 2138 397 \nQ 2388 397 2633 464 \nQ 2878 531 3122 666 \nL 3122 134 \nQ 2881 22 2623 -34 \nQ 2366 -91 2075 -91 \nQ 1284 -91 818 406 \nQ 353 903 353 1747 \nQ 353 2603 823 3093 \nQ 1294 3584 2113 3584 \nQ 2378 3584 2631 3529 \nQ 2884 3475 3122 3366 \nz\n\" transform=\"scale(0.015625)\"/>\n       <path id=\"DejaVuSans-61\" d=\"M 2194 1759 \nQ 1497 1759 1228 1600 \nQ 959 1441 959 1056 \nQ 959 750 1161 570 \nQ 1363 391 1709 391 \nQ 2188 391 2477 730 \nQ 2766 1069 2766 1631 \nL 2766 1759 \nL 2194 1759 \nz\nM 3341 1997 \nL 3341 0 \nL 2766 0 \nL 2766 531 \nQ 2569 213 2275 61 \nQ 1981 -91 1556 -91 \nQ 1019 -91 701 211 \nQ 384 513 384 1019 \nQ 384 1609 779 1909 \nQ 1175 2209 1959 2209 \nL 2766 2209 \nL 2766 2266 \nQ 2766 2663 2505 2880 \nQ 2244 3097 1772 3097 \nQ 1472 3097 1187 3025 \nQ 903 2953 641 2809 \nL 641 3341 \nQ 956 3463 1253 3523 \nQ 1550 3584 1831 3584 \nQ 2591 3584 2966 3190 \nQ 3341 2797 3341 1997 \nz\n\" transform=\"scale(0.015625)\"/>\n       <path id=\"DejaVuSans-64\" d=\"M 2906 2969 \nL 2906 4863 \nL 3481 4863 \nL 3481 0 \nL 2906 0 \nL 2906 525 \nQ 2725 213 2448 61 \nQ 2172 -91 1784 -91 \nQ 1150 -91 751 415 \nQ 353 922 353 1747 \nQ 353 2572 751 3078 \nQ 1150 3584 1784 3584 \nQ 2172 3584 2448 3432 \nQ 2725 3281 2906 2969 \nz\nM 947 1747 \nQ 947 1113 1208 752 \nQ 1469 391 1925 391 \nQ 2381 391 2643 752 \nQ 2906 1113 2906 1747 \nQ 2906 2381 2643 2742 \nQ 2381 3103 1925 3103 \nQ 1469 3103 1208 2742 \nQ 947 2381 947 1747 \nz\n\" transform=\"scale(0.015625)\"/>\n      </defs>\n      <use xlink:href=\"#DejaVuSans-44\"/>\n      <use xlink:href=\"#DejaVuSans-65\" x=\"77.001953\"/>\n      <use xlink:href=\"#DejaVuSans-63\" x=\"138.525391\"/>\n      <use xlink:href=\"#DejaVuSans-61\" x=\"193.505859\"/>\n      <use xlink:href=\"#DejaVuSans-64\" x=\"254.785156\"/>\n      <use xlink:href=\"#DejaVuSans-65\" x=\"318.261719\"/>\n     </g>\n    </g>\n   </g>\n   <g id=\"matplotlib.axis_2\">\n    <g id=\"ytick_1\">\n     <g id=\"line2d_10\">\n      <path d=\"M 43.78125 276.334125 \nL 400.90125 276.334125 \n\" clip-path=\"url(#pf05b3af19e)\" style=\"fill: none; stroke: #ffffff; stroke-width: 0.8; stroke-linecap: round\"/>\n     </g>\n     <g id=\"text_11\">\n      <!-- 0.0 -->\n      <g style=\"fill: #262626\" transform=\"translate(20.878125 280.133344) scale(0.1 -0.1)\">\n       <defs>\n        <path id=\"DejaVuSans-2e\" d=\"M 684 794 \nL 1344 794 \nL 1344 0 \nL 684 0 \nL 684 794 \nz\n\" transform=\"scale(0.015625)\"/>\n       </defs>\n       <use xlink:href=\"#DejaVuSans-30\"/>\n       <use xlink:href=\"#DejaVuSans-2e\" x=\"63.623047\"/>\n       <use xlink:href=\"#DejaVuSans-30\" x=\"95.410156\"/>\n      </g>\n     </g>\n    </g>\n    <g id=\"ytick_2\">\n     <g id=\"line2d_11\">\n      <path d=\"M 43.78125 245.329706 \nL 400.90125 245.329706 \n\" clip-path=\"url(#pf05b3af19e)\" style=\"fill: none; stroke: #ffffff; stroke-width: 0.8; stroke-linecap: round\"/>\n     </g>\n     <g id=\"text_12\">\n      <!-- 0.1 -->\n      <g style=\"fill: #262626\" transform=\"translate(20.878125 249.128925) scale(0.1 -0.1)\">\n       <use xlink:href=\"#DejaVuSans-30\"/>\n       <use xlink:href=\"#DejaVuSans-2e\" x=\"63.623047\"/>\n       <use xlink:href=\"#DejaVuSans-31\" x=\"95.410156\"/>\n      </g>\n     </g>\n    </g>\n    <g id=\"ytick_3\">\n     <g id=\"line2d_12\">\n      <path d=\"M 43.78125 214.325287 \nL 400.90125 214.325287 \n\" clip-path=\"url(#pf05b3af19e)\" style=\"fill: none; stroke: #ffffff; stroke-width: 0.8; stroke-linecap: round\"/>\n     </g>\n     <g id=\"text_13\">\n      <!-- 0.2 -->\n      <g style=\"fill: #262626\" transform=\"translate(20.878125 218.124505) scale(0.1 -0.1)\">\n       <use xlink:href=\"#DejaVuSans-30\"/>\n       <use xlink:href=\"#DejaVuSans-2e\" x=\"63.623047\"/>\n       <use xlink:href=\"#DejaVuSans-32\" x=\"95.410156\"/>\n      </g>\n     </g>\n    </g>\n    <g id=\"ytick_4\">\n     <g id=\"line2d_13\">\n      <path d=\"M 43.78125 183.320867 \nL 400.90125 183.320867 \n\" clip-path=\"url(#pf05b3af19e)\" style=\"fill: none; stroke: #ffffff; stroke-width: 0.8; stroke-linecap: round\"/>\n     </g>\n     <g id=\"text_14\">\n      <!-- 0.3 -->\n      <g style=\"fill: #262626\" transform=\"translate(20.878125 187.120086) scale(0.1 -0.1)\">\n       <defs>\n        <path id=\"DejaVuSans-33\" d=\"M 2597 2516 \nQ 3050 2419 3304 2112 \nQ 3559 1806 3559 1356 \nQ 3559 666 3084 287 \nQ 2609 -91 1734 -91 \nQ 1441 -91 1130 -33 \nQ 819 25 488 141 \nL 488 750 \nQ 750 597 1062 519 \nQ 1375 441 1716 441 \nQ 2309 441 2620 675 \nQ 2931 909 2931 1356 \nQ 2931 1769 2642 2001 \nQ 2353 2234 1838 2234 \nL 1294 2234 \nL 1294 2753 \nL 1863 2753 \nQ 2328 2753 2575 2939 \nQ 2822 3125 2822 3475 \nQ 2822 3834 2567 4026 \nQ 2313 4219 1838 4219 \nQ 1578 4219 1281 4162 \nQ 984 4106 628 3988 \nL 628 4550 \nQ 988 4650 1302 4700 \nQ 1616 4750 1894 4750 \nQ 2613 4750 3031 4423 \nQ 3450 4097 3450 3541 \nQ 3450 3153 3228 2886 \nQ 3006 2619 2597 2516 \nz\n\" transform=\"scale(0.015625)\"/>\n       </defs>\n       <use xlink:href=\"#DejaVuSans-30\"/>\n       <use xlink:href=\"#DejaVuSans-2e\" x=\"63.623047\"/>\n       <use xlink:href=\"#DejaVuSans-33\" x=\"95.410156\"/>\n      </g>\n     </g>\n    </g>\n    <g id=\"ytick_5\">\n     <g id=\"line2d_14\">\n      <path d=\"M 43.78125 152.316448 \nL 400.90125 152.316448 \n\" clip-path=\"url(#pf05b3af19e)\" style=\"fill: none; stroke: #ffffff; stroke-width: 0.8; stroke-linecap: round\"/>\n     </g>\n     <g id=\"text_15\">\n      <!-- 0.4 -->\n      <g style=\"fill: #262626\" transform=\"translate(20.878125 156.115667) scale(0.1 -0.1)\">\n       <use xlink:href=\"#DejaVuSans-30\"/>\n       <use xlink:href=\"#DejaVuSans-2e\" x=\"63.623047\"/>\n       <use xlink:href=\"#DejaVuSans-34\" x=\"95.410156\"/>\n      </g>\n     </g>\n    </g>\n    <g id=\"ytick_6\">\n     <g id=\"line2d_15\">\n      <path d=\"M 43.78125 121.312029 \nL 400.90125 121.312029 \n\" clip-path=\"url(#pf05b3af19e)\" style=\"fill: none; stroke: #ffffff; stroke-width: 0.8; stroke-linecap: round\"/>\n     </g>\n     <g id=\"text_16\">\n      <!-- 0.5 -->\n      <g style=\"fill: #262626\" transform=\"translate(20.878125 125.111248) scale(0.1 -0.1)\">\n       <use xlink:href=\"#DejaVuSans-30\"/>\n       <use xlink:href=\"#DejaVuSans-2e\" x=\"63.623047\"/>\n       <use xlink:href=\"#DejaVuSans-35\" x=\"95.410156\"/>\n      </g>\n     </g>\n    </g>\n    <g id=\"ytick_7\">\n     <g id=\"line2d_16\">\n      <path d=\"M 43.78125 90.30761 \nL 400.90125 90.30761 \n\" clip-path=\"url(#pf05b3af19e)\" style=\"fill: none; stroke: #ffffff; stroke-width: 0.8; stroke-linecap: round\"/>\n     </g>\n     <g id=\"text_17\">\n      <!-- 0.6 -->\n      <g style=\"fill: #262626\" transform=\"translate(20.878125 94.106829) scale(0.1 -0.1)\">\n       <use xlink:href=\"#DejaVuSans-30\"/>\n       <use xlink:href=\"#DejaVuSans-2e\" x=\"63.623047\"/>\n       <use xlink:href=\"#DejaVuSans-36\" x=\"95.410156\"/>\n      </g>\n     </g>\n    </g>\n    <g id=\"ytick_8\">\n     <g id=\"line2d_17\">\n      <path d=\"M 43.78125 59.303191 \nL 400.90125 59.303191 \n\" clip-path=\"url(#pf05b3af19e)\" style=\"fill: none; stroke: #ffffff; stroke-width: 0.8; stroke-linecap: round\"/>\n     </g>\n     <g id=\"text_18\">\n      <!-- 0.7 -->\n      <g style=\"fill: #262626\" transform=\"translate(20.878125 63.102409) scale(0.1 -0.1)\">\n       <use xlink:href=\"#DejaVuSans-30\"/>\n       <use xlink:href=\"#DejaVuSans-2e\" x=\"63.623047\"/>\n       <use xlink:href=\"#DejaVuSans-37\" x=\"95.410156\"/>\n      </g>\n     </g>\n    </g>\n    <g id=\"ytick_9\">\n     <g id=\"line2d_18\">\n      <path d=\"M 43.78125 28.298771 \nL 400.90125 28.298771 \n\" clip-path=\"url(#pf05b3af19e)\" style=\"fill: none; stroke: #ffffff; stroke-width: 0.8; stroke-linecap: round\"/>\n     </g>\n     <g id=\"text_19\">\n      <!-- 0.8 -->\n      <g style=\"fill: #262626\" transform=\"translate(20.878125 32.09799) scale(0.1 -0.1)\">\n       <use xlink:href=\"#DejaVuSans-30\"/>\n       <use xlink:href=\"#DejaVuSans-2e\" x=\"63.623047\"/>\n       <use xlink:href=\"#DejaVuSans-38\" x=\"95.410156\"/>\n      </g>\n     </g>\n    </g>\n    <g id=\"text_20\">\n     <!-- value -->\n     <g style=\"fill: #262626\" transform=\"translate(14.798438 169.031937) rotate(-90) scale(0.1 -0.1)\">\n      <defs>\n       <path id=\"DejaVuSans-76\" d=\"M 191 3500 \nL 800 3500 \nL 1894 563 \nL 2988 3500 \nL 3597 3500 \nL 2284 0 \nL 1503 0 \nL 191 3500 \nz\n\" transform=\"scale(0.015625)\"/>\n       <path id=\"DejaVuSans-6c\" d=\"M 603 4863 \nL 1178 4863 \nL 1178 0 \nL 603 0 \nL 603 4863 \nz\n\" transform=\"scale(0.015625)\"/>\n       <path id=\"DejaVuSans-75\" d=\"M 544 1381 \nL 544 3500 \nL 1119 3500 \nL 1119 1403 \nQ 1119 906 1312 657 \nQ 1506 409 1894 409 \nQ 2359 409 2629 706 \nQ 2900 1003 2900 1516 \nL 2900 3500 \nL 3475 3500 \nL 3475 0 \nL 2900 0 \nL 2900 538 \nQ 2691 219 2414 64 \nQ 2138 -91 1772 -91 \nQ 1169 -91 856 284 \nQ 544 659 544 1381 \nz\nM 1991 3584 \nL 1991 3584 \nz\n\" transform=\"scale(0.015625)\"/>\n      </defs>\n      <use xlink:href=\"#DejaVuSans-76\"/>\n      <use xlink:href=\"#DejaVuSans-61\" x=\"59.179688\"/>\n      <use xlink:href=\"#DejaVuSans-6c\" x=\"120.458984\"/>\n      <use xlink:href=\"#DejaVuSans-75\" x=\"148.242188\"/>\n      <use xlink:href=\"#DejaVuSans-65\" x=\"211.621094\"/>\n     </g>\n    </g>\n   </g>\n   <g id=\"PolyCollection_1\"/>\n   <g id=\"PolyCollection_2\"/>\n   <g id=\"PolyCollection_3\"/>\n   <g id=\"PolyCollection_4\"/>\n   <g id=\"PolyCollection_5\"/>\n   <g id=\"PolyCollection_6\"/>\n   <g id=\"PolyCollection_7\"/>\n   <g id=\"line2d_19\">\n    <path d=\"M 60.013977 199.753211 \nL 100.595795 95.020287 \nL 141.177614 34.414125 \nL 181.759432 56.0972 \nL 222.34125 87.930603 \nL 262.923068 119.485466 \nL 303.504886 88.600184 \nL 344.086705 125.261915 \nL 384.668523 136.048822 \n\" clip-path=\"url(#pf05b3af19e)\" style=\"fill: none; stroke: #f77189; stroke-width: 1.5; stroke-linecap: round\"/>\n   </g>\n   <g id=\"line2d_20\">\n    <path d=\"M 60.013977 227.34714 \nL 100.595795 209.86065 \nL 141.177614 136.333138 \nL 181.759432 107.030208 \nL 222.34125 59.339363 \nL 262.923068 100.309908 \nL 303.504886 34.691796 \nL 344.086705 82.044259 \nL 384.668523 79.16781 \n\" clip-path=\"url(#pf05b3af19e)\" style=\"fill: none; stroke: #c69432; stroke-width: 1.5; stroke-linecap: round\"/>\n   </g>\n   <g id=\"line2d_21\">\n    <path d=\"M 60.013977 264.521441 \nL 100.595795 258.233745 \nL 141.177614 262.924179 \nL 181.759432 260.937463 \nL 222.34125 255.644359 \nL 262.923068 264.078617 \nL 303.504886 246.941062 \nL 344.086705 256.69427 \nL 384.668523 239.434666 \n\" clip-path=\"url(#pf05b3af19e)\" style=\"fill: none; stroke: #82a931; stroke-width: 1.5; stroke-linecap: round\"/>\n   </g>\n   <g id=\"line2d_22\">\n    <path d=\"M 60.013977 171.539188 \nL 100.595795 224.990804 \nL 141.177614 246.219212 \nL 181.759432 232.813815 \nL 222.34125 201.972092 \nL 262.923068 212.010738 \nL 303.504886 164.158389 \nL 344.086705 213.545747 \nL 384.668523 223.257727 \n\" clip-path=\"url(#pf05b3af19e)\" style=\"fill: none; stroke: #34af8a; stroke-width: 1.5; stroke-linecap: round\"/>\n   </g>\n   <g id=\"line2d_23\">\n    <path d=\"M 60.013977 178.050116 \nL 100.595795 128.008986 \nL 141.177614 108.012202 \nL 181.759432 98.058712 \nL 222.34125 107.391045 \nL 262.923068 134.340627 \nL 303.504886 100.141688 \nL 344.086705 105.27061 \nL 384.668523 68.346858 \n\" clip-path=\"url(#pf05b3af19e)\" style=\"fill: none; stroke: #37aabb; stroke-width: 1.5; stroke-linecap: round\"/>\n   </g>\n   <g id=\"line2d_24\">\n    <path d=\"M 60.013977 166.88853 \nL 100.595795 276.334125 \nL 141.177614 275.950782 \nL 181.759432 276.300905 \nL 222.34125 276.042222 \nL 262.923068 275.814384 \nL 303.504886 276.28357 \nL 344.086705 275.448056 \nL 384.668523 272.130253 \n\" clip-path=\"url(#pf05b3af19e)\" style=\"fill: none; stroke: #8197f4; stroke-width: 1.5; stroke-linecap: round\"/>\n   </g>\n   <g id=\"line2d_25\">\n    <path d=\"M 60.013977 67.674391 \nL 100.595795 45.289196 \nL 141.177614 58.715176 \nL 181.759432 155.15896 \nL 222.34125 213.733971 \nL 262.923068 190.228112 \nL 303.504886 211.122007 \nL 344.086705 181.891632 \nL 384.668523 207.58468 \n\" clip-path=\"url(#pf05b3af19e)\" style=\"fill: none; stroke: #f45deb; stroke-width: 1.5; stroke-linecap: round\"/>\n   </g>\n   <g id=\"line2d_26\"/>\n   <g id=\"line2d_27\"/>\n   <g id=\"line2d_28\"/>\n   <g id=\"line2d_29\"/>\n   <g id=\"line2d_30\"/>\n   <g id=\"line2d_31\"/>\n   <g id=\"line2d_32\"/>\n   <g id=\"patch_3\">\n    <path d=\"M 43.78125 288.430125 \nL 43.78125 22.318125 \n\" style=\"fill: none; stroke: #ffffff; stroke-width: 0.8; stroke-linejoin: miter; stroke-linecap: square\"/>\n   </g>\n   <g id=\"patch_4\">\n    <path d=\"M 400.90125 288.430125 \nL 400.90125 22.318125 \n\" style=\"fill: none; stroke: #ffffff; stroke-width: 0.8; stroke-linejoin: miter; stroke-linecap: square\"/>\n   </g>\n   <g id=\"patch_5\">\n    <path d=\"M 43.78125 288.430125 \nL 400.90125 288.430125 \n\" style=\"fill: none; stroke: #ffffff; stroke-width: 0.8; stroke-linejoin: miter; stroke-linecap: square\"/>\n   </g>\n   <g id=\"patch_6\">\n    <path d=\"M 43.78125 22.318125 \nL 400.90125 22.318125 \n\" style=\"fill: none; stroke: #ffffff; stroke-width: 0.8; stroke-linejoin: miter; stroke-linecap: square\"/>\n   </g>\n   <g id=\"text_21\">\n    <!-- Song Characteristics Over the Decades -->\n    <g style=\"fill: #262626\" transform=\"translate(104.569688 16.318125) scale(0.12 -0.12)\">\n     <defs>\n      <path id=\"DejaVuSans-53\" d=\"M 3425 4513 \nL 3425 3897 \nQ 3066 4069 2747 4153 \nQ 2428 4238 2131 4238 \nQ 1616 4238 1336 4038 \nQ 1056 3838 1056 3469 \nQ 1056 3159 1242 3001 \nQ 1428 2844 1947 2747 \nL 2328 2669 \nQ 3034 2534 3370 2195 \nQ 3706 1856 3706 1288 \nQ 3706 609 3251 259 \nQ 2797 -91 1919 -91 \nQ 1588 -91 1214 -16 \nQ 841 59 441 206 \nL 441 856 \nQ 825 641 1194 531 \nQ 1563 422 1919 422 \nQ 2459 422 2753 634 \nQ 3047 847 3047 1241 \nQ 3047 1584 2836 1778 \nQ 2625 1972 2144 2069 \nL 1759 2144 \nQ 1053 2284 737 2584 \nQ 422 2884 422 3419 \nQ 422 4038 858 4394 \nQ 1294 4750 2059 4750 \nQ 2388 4750 2728 4690 \nQ 3069 4631 3425 4513 \nz\n\" transform=\"scale(0.015625)\"/>\n      <path id=\"DejaVuSans-6f\" d=\"M 1959 3097 \nQ 1497 3097 1228 2736 \nQ 959 2375 959 1747 \nQ 959 1119 1226 758 \nQ 1494 397 1959 397 \nQ 2419 397 2687 759 \nQ 2956 1122 2956 1747 \nQ 2956 2369 2687 2733 \nQ 2419 3097 1959 3097 \nz\nM 1959 3584 \nQ 2709 3584 3137 3096 \nQ 3566 2609 3566 1747 \nQ 3566 888 3137 398 \nQ 2709 -91 1959 -91 \nQ 1206 -91 779 398 \nQ 353 888 353 1747 \nQ 353 2609 779 3096 \nQ 1206 3584 1959 3584 \nz\n\" transform=\"scale(0.015625)\"/>\n      <path id=\"DejaVuSans-6e\" d=\"M 3513 2113 \nL 3513 0 \nL 2938 0 \nL 2938 2094 \nQ 2938 2591 2744 2837 \nQ 2550 3084 2163 3084 \nQ 1697 3084 1428 2787 \nQ 1159 2491 1159 1978 \nL 1159 0 \nL 581 0 \nL 581 3500 \nL 1159 3500 \nL 1159 2956 \nQ 1366 3272 1645 3428 \nQ 1925 3584 2291 3584 \nQ 2894 3584 3203 3211 \nQ 3513 2838 3513 2113 \nz\n\" transform=\"scale(0.015625)\"/>\n      <path id=\"DejaVuSans-67\" d=\"M 2906 1791 \nQ 2906 2416 2648 2759 \nQ 2391 3103 1925 3103 \nQ 1463 3103 1205 2759 \nQ 947 2416 947 1791 \nQ 947 1169 1205 825 \nQ 1463 481 1925 481 \nQ 2391 481 2648 825 \nQ 2906 1169 2906 1791 \nz\nM 3481 434 \nQ 3481 -459 3084 -895 \nQ 2688 -1331 1869 -1331 \nQ 1566 -1331 1297 -1286 \nQ 1028 -1241 775 -1147 \nL 775 -588 \nQ 1028 -725 1275 -790 \nQ 1522 -856 1778 -856 \nQ 2344 -856 2625 -561 \nQ 2906 -266 2906 331 \nL 2906 616 \nQ 2728 306 2450 153 \nQ 2172 0 1784 0 \nQ 1141 0 747 490 \nQ 353 981 353 1791 \nQ 353 2603 747 3093 \nQ 1141 3584 1784 3584 \nQ 2172 3584 2450 3431 \nQ 2728 3278 2906 2969 \nL 2906 3500 \nL 3481 3500 \nL 3481 434 \nz\n\" transform=\"scale(0.015625)\"/>\n      <path id=\"DejaVuSans-20\" transform=\"scale(0.015625)\"/>\n      <path id=\"DejaVuSans-43\" d=\"M 4122 4306 \nL 4122 3641 \nQ 3803 3938 3442 4084 \nQ 3081 4231 2675 4231 \nQ 1875 4231 1450 3742 \nQ 1025 3253 1025 2328 \nQ 1025 1406 1450 917 \nQ 1875 428 2675 428 \nQ 3081 428 3442 575 \nQ 3803 722 4122 1019 \nL 4122 359 \nQ 3791 134 3420 21 \nQ 3050 -91 2638 -91 \nQ 1578 -91 968 557 \nQ 359 1206 359 2328 \nQ 359 3453 968 4101 \nQ 1578 4750 2638 4750 \nQ 3056 4750 3426 4639 \nQ 3797 4528 4122 4306 \nz\n\" transform=\"scale(0.015625)\"/>\n      <path id=\"DejaVuSans-68\" d=\"M 3513 2113 \nL 3513 0 \nL 2938 0 \nL 2938 2094 \nQ 2938 2591 2744 2837 \nQ 2550 3084 2163 3084 \nQ 1697 3084 1428 2787 \nQ 1159 2491 1159 1978 \nL 1159 0 \nL 581 0 \nL 581 4863 \nL 1159 4863 \nL 1159 2956 \nQ 1366 3272 1645 3428 \nQ 1925 3584 2291 3584 \nQ 2894 3584 3203 3211 \nQ 3513 2838 3513 2113 \nz\n\" transform=\"scale(0.015625)\"/>\n      <path id=\"DejaVuSans-72\" d=\"M 2631 2963 \nQ 2534 3019 2420 3045 \nQ 2306 3072 2169 3072 \nQ 1681 3072 1420 2755 \nQ 1159 2438 1159 1844 \nL 1159 0 \nL 581 0 \nL 581 3500 \nL 1159 3500 \nL 1159 2956 \nQ 1341 3275 1631 3429 \nQ 1922 3584 2338 3584 \nQ 2397 3584 2469 3576 \nQ 2541 3569 2628 3553 \nL 2631 2963 \nz\n\" transform=\"scale(0.015625)\"/>\n      <path id=\"DejaVuSans-74\" d=\"M 1172 4494 \nL 1172 3500 \nL 2356 3500 \nL 2356 3053 \nL 1172 3053 \nL 1172 1153 \nQ 1172 725 1289 603 \nQ 1406 481 1766 481 \nL 2356 481 \nL 2356 0 \nL 1766 0 \nQ 1100 0 847 248 \nQ 594 497 594 1153 \nL 594 3053 \nL 172 3053 \nL 172 3500 \nL 594 3500 \nL 594 4494 \nL 1172 4494 \nz\n\" transform=\"scale(0.015625)\"/>\n      <path id=\"DejaVuSans-69\" d=\"M 603 3500 \nL 1178 3500 \nL 1178 0 \nL 603 0 \nL 603 3500 \nz\nM 603 4863 \nL 1178 4863 \nL 1178 4134 \nL 603 4134 \nL 603 4863 \nz\n\" transform=\"scale(0.015625)\"/>\n      <path id=\"DejaVuSans-73\" d=\"M 2834 3397 \nL 2834 2853 \nQ 2591 2978 2328 3040 \nQ 2066 3103 1784 3103 \nQ 1356 3103 1142 2972 \nQ 928 2841 928 2578 \nQ 928 2378 1081 2264 \nQ 1234 2150 1697 2047 \nL 1894 2003 \nQ 2506 1872 2764 1633 \nQ 3022 1394 3022 966 \nQ 3022 478 2636 193 \nQ 2250 -91 1575 -91 \nQ 1294 -91 989 -36 \nQ 684 19 347 128 \nL 347 722 \nQ 666 556 975 473 \nQ 1284 391 1588 391 \nQ 1994 391 2212 530 \nQ 2431 669 2431 922 \nQ 2431 1156 2273 1281 \nQ 2116 1406 1581 1522 \nL 1381 1569 \nQ 847 1681 609 1914 \nQ 372 2147 372 2553 \nQ 372 3047 722 3315 \nQ 1072 3584 1716 3584 \nQ 2034 3584 2315 3537 \nQ 2597 3491 2834 3397 \nz\n\" transform=\"scale(0.015625)\"/>\n      <path id=\"DejaVuSans-4f\" d=\"M 2522 4238 \nQ 1834 4238 1429 3725 \nQ 1025 3213 1025 2328 \nQ 1025 1447 1429 934 \nQ 1834 422 2522 422 \nQ 3209 422 3611 934 \nQ 4013 1447 4013 2328 \nQ 4013 3213 3611 3725 \nQ 3209 4238 2522 4238 \nz\nM 2522 4750 \nQ 3503 4750 4090 4092 \nQ 4678 3434 4678 2328 \nQ 4678 1225 4090 567 \nQ 3503 -91 2522 -91 \nQ 1538 -91 948 565 \nQ 359 1222 359 2328 \nQ 359 3434 948 4092 \nQ 1538 4750 2522 4750 \nz\n\" transform=\"scale(0.015625)\"/>\n     </defs>\n     <use xlink:href=\"#DejaVuSans-53\"/>\n     <use xlink:href=\"#DejaVuSans-6f\" x=\"63.476562\"/>\n     <use xlink:href=\"#DejaVuSans-6e\" x=\"124.658203\"/>\n     <use xlink:href=\"#DejaVuSans-67\" x=\"188.037109\"/>\n     <use xlink:href=\"#DejaVuSans-20\" x=\"251.513672\"/>\n     <use xlink:href=\"#DejaVuSans-43\" x=\"283.300781\"/>\n     <use xlink:href=\"#DejaVuSans-68\" x=\"353.125\"/>\n     <use xlink:href=\"#DejaVuSans-61\" x=\"416.503906\"/>\n     <use xlink:href=\"#DejaVuSans-72\" x=\"477.783203\"/>\n     <use xlink:href=\"#DejaVuSans-61\" x=\"518.896484\"/>\n     <use xlink:href=\"#DejaVuSans-63\" x=\"580.175781\"/>\n     <use xlink:href=\"#DejaVuSans-74\" x=\"635.15625\"/>\n     <use xlink:href=\"#DejaVuSans-65\" x=\"674.365234\"/>\n     <use xlink:href=\"#DejaVuSans-72\" x=\"735.888672\"/>\n     <use xlink:href=\"#DejaVuSans-69\" x=\"777.001953\"/>\n     <use xlink:href=\"#DejaVuSans-73\" x=\"804.785156\"/>\n     <use xlink:href=\"#DejaVuSans-74\" x=\"856.884766\"/>\n     <use xlink:href=\"#DejaVuSans-69\" x=\"896.09375\"/>\n     <use xlink:href=\"#DejaVuSans-63\" x=\"923.876953\"/>\n     <use xlink:href=\"#DejaVuSans-73\" x=\"978.857422\"/>\n     <use xlink:href=\"#DejaVuSans-20\" x=\"1030.957031\"/>\n     <use xlink:href=\"#DejaVuSans-4f\" x=\"1062.744141\"/>\n     <use xlink:href=\"#DejaVuSans-76\" x=\"1141.455078\"/>\n     <use xlink:href=\"#DejaVuSans-65\" x=\"1200.634766\"/>\n     <use xlink:href=\"#DejaVuSans-72\" x=\"1262.158203\"/>\n     <use xlink:href=\"#DejaVuSans-20\" x=\"1303.271484\"/>\n     <use xlink:href=\"#DejaVuSans-74\" x=\"1335.058594\"/>\n     <use xlink:href=\"#DejaVuSans-68\" x=\"1374.267578\"/>\n     <use xlink:href=\"#DejaVuSans-65\" x=\"1437.646484\"/>\n     <use xlink:href=\"#DejaVuSans-20\" x=\"1499.169922\"/>\n     <use xlink:href=\"#DejaVuSans-44\" x=\"1530.957031\"/>\n     <use xlink:href=\"#DejaVuSans-65\" x=\"1607.958984\"/>\n     <use xlink:href=\"#DejaVuSans-63\" x=\"1669.482422\"/>\n     <use xlink:href=\"#DejaVuSans-61\" x=\"1724.462891\"/>\n     <use xlink:href=\"#DejaVuSans-64\" x=\"1785.742188\"/>\n     <use xlink:href=\"#DejaVuSans-65\" x=\"1849.21875\"/>\n     <use xlink:href=\"#DejaVuSans-73\" x=\"1910.742188\"/>\n    </g>\n   </g>\n   <g id=\"legend_1\">\n    <g id=\"patch_7\">\n     <path d=\"M 275.240313 147.743125 \nL 393.90125 147.743125 \nQ 395.90125 147.743125 395.90125 145.743125 \nL 395.90125 29.318125 \nQ 395.90125 27.318125 393.90125 27.318125 \nL 275.240313 27.318125 \nQ 273.240313 27.318125 273.240313 29.318125 \nL 273.240313 145.743125 \nQ 273.240313 147.743125 275.240313 147.743125 \nz\n\" style=\"fill: #eaeaf2; opacity: 0.8; stroke: #cccccc; stroke-linejoin: miter\"/>\n    </g>\n    <g id=\"text_22\">\n     <!-- variable -->\n     <g style=\"fill: #262626\" transform=\"translate(314.398906 38.916562) scale(0.1 -0.1)\">\n      <defs>\n       <path id=\"DejaVuSans-62\" d=\"M 3116 1747 \nQ 3116 2381 2855 2742 \nQ 2594 3103 2138 3103 \nQ 1681 3103 1420 2742 \nQ 1159 2381 1159 1747 \nQ 1159 1113 1420 752 \nQ 1681 391 2138 391 \nQ 2594 391 2855 752 \nQ 3116 1113 3116 1747 \nz\nM 1159 2969 \nQ 1341 3281 1617 3432 \nQ 1894 3584 2278 3584 \nQ 2916 3584 3314 3078 \nQ 3713 2572 3713 1747 \nQ 3713 922 3314 415 \nQ 2916 -91 2278 -91 \nQ 1894 -91 1617 61 \nQ 1341 213 1159 525 \nL 1159 0 \nL 581 0 \nL 581 4863 \nL 1159 4863 \nL 1159 2969 \nz\n\" transform=\"scale(0.015625)\"/>\n      </defs>\n      <use xlink:href=\"#DejaVuSans-76\"/>\n      <use xlink:href=\"#DejaVuSans-61\" x=\"59.179688\"/>\n      <use xlink:href=\"#DejaVuSans-72\" x=\"120.458984\"/>\n      <use xlink:href=\"#DejaVuSans-69\" x=\"161.572266\"/>\n      <use xlink:href=\"#DejaVuSans-61\" x=\"189.355469\"/>\n      <use xlink:href=\"#DejaVuSans-62\" x=\"250.634766\"/>\n      <use xlink:href=\"#DejaVuSans-6c\" x=\"314.111328\"/>\n      <use xlink:href=\"#DejaVuSans-65\" x=\"341.894531\"/>\n     </g>\n    </g>\n    <g id=\"line2d_33\">\n     <path d=\"M 277.240313 50.094688 \nL 287.240313 50.094688 \nL 297.240313 50.094688 \n\" style=\"fill: none; stroke: #f77189; stroke-width: 1.5; stroke-linecap: round\"/>\n    </g>\n    <g id=\"text_23\">\n     <!-- danceability -->\n     <g style=\"fill: #262626\" transform=\"translate(305.240313 53.594688) scale(0.1 -0.1)\">\n      <defs>\n       <path id=\"DejaVuSans-79\" d=\"M 2059 -325 \nQ 1816 -950 1584 -1140 \nQ 1353 -1331 966 -1331 \nL 506 -1331 \nL 506 -850 \nL 844 -850 \nQ 1081 -850 1212 -737 \nQ 1344 -625 1503 -206 \nL 1606 56 \nL 191 3500 \nL 800 3500 \nL 1894 763 \nL 2988 3500 \nL 3597 3500 \nL 2059 -325 \nz\n\" transform=\"scale(0.015625)\"/>\n      </defs>\n      <use xlink:href=\"#DejaVuSans-64\"/>\n      <use xlink:href=\"#DejaVuSans-61\" x=\"63.476562\"/>\n      <use xlink:href=\"#DejaVuSans-6e\" x=\"124.755859\"/>\n      <use xlink:href=\"#DejaVuSans-63\" x=\"188.134766\"/>\n      <use xlink:href=\"#DejaVuSans-65\" x=\"243.115234\"/>\n      <use xlink:href=\"#DejaVuSans-61\" x=\"304.638672\"/>\n      <use xlink:href=\"#DejaVuSans-62\" x=\"365.917969\"/>\n      <use xlink:href=\"#DejaVuSans-69\" x=\"429.394531\"/>\n      <use xlink:href=\"#DejaVuSans-6c\" x=\"457.177734\"/>\n      <use xlink:href=\"#DejaVuSans-69\" x=\"484.960938\"/>\n      <use xlink:href=\"#DejaVuSans-74\" x=\"512.744141\"/>\n      <use xlink:href=\"#DejaVuSans-79\" x=\"551.953125\"/>\n     </g>\n    </g>\n    <g id=\"line2d_34\">\n     <path d=\"M 277.240313 64.772813 \nL 287.240313 64.772813 \nL 297.240313 64.772813 \n\" style=\"fill: none; stroke: #c69432; stroke-width: 1.5; stroke-linecap: round\"/>\n    </g>\n    <g id=\"text_24\">\n     <!-- energy -->\n     <g style=\"fill: #262626\" transform=\"translate(305.240313 68.272813) scale(0.1 -0.1)\">\n      <use xlink:href=\"#DejaVuSans-65\"/>\n      <use xlink:href=\"#DejaVuSans-6e\" x=\"61.523438\"/>\n      <use xlink:href=\"#DejaVuSans-65\" x=\"124.902344\"/>\n      <use xlink:href=\"#DejaVuSans-72\" x=\"186.425781\"/>\n      <use xlink:href=\"#DejaVuSans-67\" x=\"225.789062\"/>\n      <use xlink:href=\"#DejaVuSans-79\" x=\"289.265625\"/>\n     </g>\n    </g>\n    <g id=\"line2d_35\">\n     <path d=\"M 277.240313 79.450938 \nL 287.240313 79.450938 \nL 297.240313 79.450938 \n\" style=\"fill: none; stroke: #82a931; stroke-width: 1.5; stroke-linecap: round\"/>\n    </g>\n    <g id=\"text_25\">\n     <!-- instrumentalness -->\n     <g style=\"fill: #262626\" transform=\"translate(305.240313 82.950938) scale(0.1 -0.1)\">\n      <defs>\n       <path id=\"DejaVuSans-6d\" d=\"M 3328 2828 \nQ 3544 3216 3844 3400 \nQ 4144 3584 4550 3584 \nQ 5097 3584 5394 3201 \nQ 5691 2819 5691 2113 \nL 5691 0 \nL 5113 0 \nL 5113 2094 \nQ 5113 2597 4934 2840 \nQ 4756 3084 4391 3084 \nQ 3944 3084 3684 2787 \nQ 3425 2491 3425 1978 \nL 3425 0 \nL 2847 0 \nL 2847 2094 \nQ 2847 2600 2669 2842 \nQ 2491 3084 2119 3084 \nQ 1678 3084 1418 2786 \nQ 1159 2488 1159 1978 \nL 1159 0 \nL 581 0 \nL 581 3500 \nL 1159 3500 \nL 1159 2956 \nQ 1356 3278 1631 3431 \nQ 1906 3584 2284 3584 \nQ 2666 3584 2933 3390 \nQ 3200 3197 3328 2828 \nz\n\" transform=\"scale(0.015625)\"/>\n      </defs>\n      <use xlink:href=\"#DejaVuSans-69\"/>\n      <use xlink:href=\"#DejaVuSans-6e\" x=\"27.783203\"/>\n      <use xlink:href=\"#DejaVuSans-73\" x=\"91.162109\"/>\n      <use xlink:href=\"#DejaVuSans-74\" x=\"143.261719\"/>\n      <use xlink:href=\"#DejaVuSans-72\" x=\"182.470703\"/>\n      <use xlink:href=\"#DejaVuSans-75\" x=\"223.583984\"/>\n      <use xlink:href=\"#DejaVuSans-6d\" x=\"286.962891\"/>\n      <use xlink:href=\"#DejaVuSans-65\" x=\"384.375\"/>\n      <use xlink:href=\"#DejaVuSans-6e\" x=\"445.898438\"/>\n      <use xlink:href=\"#DejaVuSans-74\" x=\"509.277344\"/>\n      <use xlink:href=\"#DejaVuSans-61\" x=\"548.486328\"/>\n      <use xlink:href=\"#DejaVuSans-6c\" x=\"609.765625\"/>\n      <use xlink:href=\"#DejaVuSans-6e\" x=\"637.548828\"/>\n      <use xlink:href=\"#DejaVuSans-65\" x=\"700.927734\"/>\n      <use xlink:href=\"#DejaVuSans-73\" x=\"762.451172\"/>\n      <use xlink:href=\"#DejaVuSans-73\" x=\"814.550781\"/>\n     </g>\n    </g>\n    <g id=\"line2d_36\">\n     <path d=\"M 277.240313 94.129063 \nL 287.240313 94.129063 \nL 297.240313 94.129063 \n\" style=\"fill: none; stroke: #34af8a; stroke-width: 1.5; stroke-linecap: round\"/>\n    </g>\n    <g id=\"text_26\">\n     <!-- valence -->\n     <g style=\"fill: #262626\" transform=\"translate(305.240313 97.629063) scale(0.1 -0.1)\">\n      <use xlink:href=\"#DejaVuSans-76\"/>\n      <use xlink:href=\"#DejaVuSans-61\" x=\"59.179688\"/>\n      <use xlink:href=\"#DejaVuSans-6c\" x=\"120.458984\"/>\n      <use xlink:href=\"#DejaVuSans-65\" x=\"148.242188\"/>\n      <use xlink:href=\"#DejaVuSans-6e\" x=\"209.765625\"/>\n      <use xlink:href=\"#DejaVuSans-63\" x=\"273.144531\"/>\n      <use xlink:href=\"#DejaVuSans-65\" x=\"328.125\"/>\n     </g>\n    </g>\n    <g id=\"line2d_37\">\n     <path d=\"M 277.240313 108.807188 \nL 287.240313 108.807188 \nL 297.240313 108.807188 \n\" style=\"fill: none; stroke: #37aabb; stroke-width: 1.5; stroke-linecap: round\"/>\n    </g>\n    <g id=\"text_27\">\n     <!-- liveliness -->\n     <g style=\"fill: #262626\" transform=\"translate(305.240313 112.307188) scale(0.1 -0.1)\">\n      <use xlink:href=\"#DejaVuSans-6c\"/>\n      <use xlink:href=\"#DejaVuSans-69\" x=\"27.783203\"/>\n      <use xlink:href=\"#DejaVuSans-76\" x=\"55.566406\"/>\n      <use xlink:href=\"#DejaVuSans-65\" x=\"114.746094\"/>\n      <use xlink:href=\"#DejaVuSans-6c\" x=\"176.269531\"/>\n      <use xlink:href=\"#DejaVuSans-69\" x=\"204.052734\"/>\n      <use xlink:href=\"#DejaVuSans-6e\" x=\"231.835938\"/>\n      <use xlink:href=\"#DejaVuSans-65\" x=\"295.214844\"/>\n      <use xlink:href=\"#DejaVuSans-73\" x=\"356.738281\"/>\n      <use xlink:href=\"#DejaVuSans-73\" x=\"408.837891\"/>\n     </g>\n    </g>\n    <g id=\"line2d_38\">\n     <path d=\"M 277.240313 123.485313 \nL 287.240313 123.485313 \nL 297.240313 123.485313 \n\" style=\"fill: none; stroke: #8197f4; stroke-width: 1.5; stroke-linecap: round\"/>\n    </g>\n    <g id=\"text_28\">\n     <!-- speechiness -->\n     <g style=\"fill: #262626\" transform=\"translate(305.240313 126.985313) scale(0.1 -0.1)\">\n      <defs>\n       <path id=\"DejaVuSans-70\" d=\"M 1159 525 \nL 1159 -1331 \nL 581 -1331 \nL 581 3500 \nL 1159 3500 \nL 1159 2969 \nQ 1341 3281 1617 3432 \nQ 1894 3584 2278 3584 \nQ 2916 3584 3314 3078 \nQ 3713 2572 3713 1747 \nQ 3713 922 3314 415 \nQ 2916 -91 2278 -91 \nQ 1894 -91 1617 61 \nQ 1341 213 1159 525 \nz\nM 3116 1747 \nQ 3116 2381 2855 2742 \nQ 2594 3103 2138 3103 \nQ 1681 3103 1420 2742 \nQ 1159 2381 1159 1747 \nQ 1159 1113 1420 752 \nQ 1681 391 2138 391 \nQ 2594 391 2855 752 \nQ 3116 1113 3116 1747 \nz\n\" transform=\"scale(0.015625)\"/>\n      </defs>\n      <use xlink:href=\"#DejaVuSans-73\"/>\n      <use xlink:href=\"#DejaVuSans-70\" x=\"52.099609\"/>\n      <use xlink:href=\"#DejaVuSans-65\" x=\"115.576172\"/>\n      <use xlink:href=\"#DejaVuSans-65\" x=\"177.099609\"/>\n      <use xlink:href=\"#DejaVuSans-63\" x=\"238.623047\"/>\n      <use xlink:href=\"#DejaVuSans-68\" x=\"293.603516\"/>\n      <use xlink:href=\"#DejaVuSans-69\" x=\"356.982422\"/>\n      <use xlink:href=\"#DejaVuSans-6e\" x=\"384.765625\"/>\n      <use xlink:href=\"#DejaVuSans-65\" x=\"448.144531\"/>\n      <use xlink:href=\"#DejaVuSans-73\" x=\"509.667969\"/>\n      <use xlink:href=\"#DejaVuSans-73\" x=\"561.767578\"/>\n     </g>\n    </g>\n    <g id=\"line2d_39\">\n     <path d=\"M 277.240313 138.163438 \nL 287.240313 138.163438 \nL 297.240313 138.163438 \n\" style=\"fill: none; stroke: #f45deb; stroke-width: 1.5; stroke-linecap: round\"/>\n    </g>\n    <g id=\"text_29\">\n     <!-- acoustics -->\n     <g style=\"fill: #262626\" transform=\"translate(305.240313 141.663438) scale(0.1 -0.1)\">\n      <use xlink:href=\"#DejaVuSans-61\"/>\n      <use xlink:href=\"#DejaVuSans-63\" x=\"61.279297\"/>\n      <use xlink:href=\"#DejaVuSans-6f\" x=\"116.259766\"/>\n      <use xlink:href=\"#DejaVuSans-75\" x=\"177.441406\"/>\n      <use xlink:href=\"#DejaVuSans-73\" x=\"240.820312\"/>\n      <use xlink:href=\"#DejaVuSans-74\" x=\"292.919922\"/>\n      <use xlink:href=\"#DejaVuSans-69\" x=\"332.128906\"/>\n      <use xlink:href=\"#DejaVuSans-63\" x=\"359.912109\"/>\n      <use xlink:href=\"#DejaVuSans-73\" x=\"414.892578\"/>\n     </g>\n    </g>\n   </g>\n  </g>\n </g>\n <defs>\n  <clipPath id=\"pf05b3af19e\">\n   <rect x=\"43.78125\" y=\"22.318125\" width=\"357.12\" height=\"266.112\"/>\n  </clipPath>\n </defs>\n</svg>\n"
          },
          "metadata": {}
        }
      ]
    },
    {
      "cell_type": "markdown",
      "source": [
        "# Clustering"
      ],
      "metadata": {
        "id": "r1B_YZ8CvznE"
      }
    },
    {
      "cell_type": "markdown",
      "source": [
        "## First check out the cosine similiarty of song feature vectors"
      ],
      "metadata": {
        "id": "Jc4QwpV0vznH"
      }
    },
    {
      "cell_type": "code",
      "source": [
        "###### First query_usa ######\n",
        "query_usa = \"\"\"\n",
        "SELECT Title, Artist, {}\n",
        "FROM df_table\n",
        "WHERE `USA` = 1\n",
        "\"\"\".format(', '.join(numerical_features))\n",
        "\n",
        "df_usa_songs = (spark.sql(query_usa)\n",
        "                      .sample(.1)\n",
        "                      .dropna()\n",
        "                      .toPandas() # don't do this, it's better to sample before querying\n",
        "                )\n",
        "####### Now Rap #######\n",
        "query_rap = \"\"\"\n",
        "SELECT Title, Artist, {}\n",
        "FROM df_table\n",
        "WHERE rap = 1\n",
        "\"\"\".format(', '.join(numerical_features))\n",
        "\n",
        "df_rap_songs = (spark.sql(query_rap)\n",
        "                     .sample(.1)\n",
        "                     .dropna()\n",
        "                     .toPandas() # don't do this, it's better to sample before querying\n",
        "               )\n",
        "df_rap_songs.head()"
      ],
      "metadata": {
        "execution": {
          "iopub.status.busy": "2022-07-04T01:16:14.439616Z",
          "iopub.execute_input": "2022-07-04T01:16:14.440431Z",
          "iopub.status.idle": "2022-07-04T01:16:16.997833Z",
          "shell.execute_reply.started": "2022-07-04T01:16:14.440372Z",
          "shell.execute_reply": "2022-07-04T01:16:16.996616Z"
        },
        "trusted": true,
        "colab": {
          "base_uri": "https://localhost:8080/",
          "height": 224
        },
        "id": "Q_5iPxvDvznH",
        "outputId": "d078e629-e17f-4517-98d6-4181558cfdd1"
      },
      "execution_count": 24,
      "outputs": [
        {
          "output_type": "execute_result",
          "data": {
            "text/plain": [
              "             Title                                   Artist  danceability  \\\n",
              "0         betrayed                                  Lil Xan         0.821   \n",
              "1            japan                               Famous Dex         0.733   \n",
              "2            japan                               Famous Dex         0.733   \n",
              "3            japan                               Famous Dex         0.733   \n",
              "4  do you remember  Chance the Rapper - Death Cab for Cutie         0.606   \n",
              "\n",
              "   energy  instrumentalness  valence  liveliness  speechiness  acoustics  \\\n",
              "0   0.434               0.0    0.241       0.128        0.118      0.434   \n",
              "1   0.678               0.0    0.841       0.345        0.439      0.121   \n",
              "2   0.678               0.0    0.841       0.345        0.439      0.121   \n",
              "3   0.678               0.0    0.841       0.345        0.439      0.121   \n",
              "4   0.655               0.0    0.696       0.103        0.402      0.139   \n",
              "\n",
              "   instrumentalness       tempo  duration_ms  time_signature  \\\n",
              "0               0.0  120.012001     187173.0             4.0   \n",
              "1               0.0  175.983994     144149.0             4.0   \n",
              "2               0.0  175.983994     144149.0             4.0   \n",
              "3               0.0  175.983994     144149.0             4.0   \n",
              "4               0.0  159.824005     236686.0             4.0   \n",
              "\n",
              "   Days_since_release  n_words  \n",
              "0               953.0    346.0  \n",
              "1               974.0    531.0  \n",
              "2               974.0    531.0  \n",
              "3               974.0    531.0  \n",
              "4               477.0    221.0  "
            ],
            "text/html": [
              "\n",
              "  <div id=\"df-d3b69dab-7814-4c0f-9848-2f40a23eadec\" class=\"colab-df-container\">\n",
              "    <div>\n",
              "<style scoped>\n",
              "    .dataframe tbody tr th:only-of-type {\n",
              "        vertical-align: middle;\n",
              "    }\n",
              "\n",
              "    .dataframe tbody tr th {\n",
              "        vertical-align: top;\n",
              "    }\n",
              "\n",
              "    .dataframe thead th {\n",
              "        text-align: right;\n",
              "    }\n",
              "</style>\n",
              "<table border=\"1\" class=\"dataframe\">\n",
              "  <thead>\n",
              "    <tr style=\"text-align: right;\">\n",
              "      <th></th>\n",
              "      <th>Title</th>\n",
              "      <th>Artist</th>\n",
              "      <th>danceability</th>\n",
              "      <th>energy</th>\n",
              "      <th>instrumentalness</th>\n",
              "      <th>valence</th>\n",
              "      <th>liveliness</th>\n",
              "      <th>speechiness</th>\n",
              "      <th>acoustics</th>\n",
              "      <th>instrumentalness</th>\n",
              "      <th>tempo</th>\n",
              "      <th>duration_ms</th>\n",
              "      <th>time_signature</th>\n",
              "      <th>Days_since_release</th>\n",
              "      <th>n_words</th>\n",
              "    </tr>\n",
              "  </thead>\n",
              "  <tbody>\n",
              "    <tr>\n",
              "      <th>0</th>\n",
              "      <td>betrayed</td>\n",
              "      <td>Lil Xan</td>\n",
              "      <td>0.821</td>\n",
              "      <td>0.434</td>\n",
              "      <td>0.0</td>\n",
              "      <td>0.241</td>\n",
              "      <td>0.128</td>\n",
              "      <td>0.118</td>\n",
              "      <td>0.434</td>\n",
              "      <td>0.0</td>\n",
              "      <td>120.012001</td>\n",
              "      <td>187173.0</td>\n",
              "      <td>4.0</td>\n",
              "      <td>953.0</td>\n",
              "      <td>346.0</td>\n",
              "    </tr>\n",
              "    <tr>\n",
              "      <th>1</th>\n",
              "      <td>japan</td>\n",
              "      <td>Famous Dex</td>\n",
              "      <td>0.733</td>\n",
              "      <td>0.678</td>\n",
              "      <td>0.0</td>\n",
              "      <td>0.841</td>\n",
              "      <td>0.345</td>\n",
              "      <td>0.439</td>\n",
              "      <td>0.121</td>\n",
              "      <td>0.0</td>\n",
              "      <td>175.983994</td>\n",
              "      <td>144149.0</td>\n",
              "      <td>4.0</td>\n",
              "      <td>974.0</td>\n",
              "      <td>531.0</td>\n",
              "    </tr>\n",
              "    <tr>\n",
              "      <th>2</th>\n",
              "      <td>japan</td>\n",
              "      <td>Famous Dex</td>\n",
              "      <td>0.733</td>\n",
              "      <td>0.678</td>\n",
              "      <td>0.0</td>\n",
              "      <td>0.841</td>\n",
              "      <td>0.345</td>\n",
              "      <td>0.439</td>\n",
              "      <td>0.121</td>\n",
              "      <td>0.0</td>\n",
              "      <td>175.983994</td>\n",
              "      <td>144149.0</td>\n",
              "      <td>4.0</td>\n",
              "      <td>974.0</td>\n",
              "      <td>531.0</td>\n",
              "    </tr>\n",
              "    <tr>\n",
              "      <th>3</th>\n",
              "      <td>japan</td>\n",
              "      <td>Famous Dex</td>\n",
              "      <td>0.733</td>\n",
              "      <td>0.678</td>\n",
              "      <td>0.0</td>\n",
              "      <td>0.841</td>\n",
              "      <td>0.345</td>\n",
              "      <td>0.439</td>\n",
              "      <td>0.121</td>\n",
              "      <td>0.0</td>\n",
              "      <td>175.983994</td>\n",
              "      <td>144149.0</td>\n",
              "      <td>4.0</td>\n",
              "      <td>974.0</td>\n",
              "      <td>531.0</td>\n",
              "    </tr>\n",
              "    <tr>\n",
              "      <th>4</th>\n",
              "      <td>do you remember</td>\n",
              "      <td>Chance the Rapper - Death Cab for Cutie</td>\n",
              "      <td>0.606</td>\n",
              "      <td>0.655</td>\n",
              "      <td>0.0</td>\n",
              "      <td>0.696</td>\n",
              "      <td>0.103</td>\n",
              "      <td>0.402</td>\n",
              "      <td>0.139</td>\n",
              "      <td>0.0</td>\n",
              "      <td>159.824005</td>\n",
              "      <td>236686.0</td>\n",
              "      <td>4.0</td>\n",
              "      <td>477.0</td>\n",
              "      <td>221.0</td>\n",
              "    </tr>\n",
              "  </tbody>\n",
              "</table>\n",
              "</div>\n",
              "    <div class=\"colab-df-buttons\">\n",
              "\n",
              "  <div class=\"colab-df-container\">\n",
              "    <button class=\"colab-df-convert\" onclick=\"convertToInteractive('df-d3b69dab-7814-4c0f-9848-2f40a23eadec')\"\n",
              "            title=\"Convert this dataframe to an interactive table.\"\n",
              "            style=\"display:none;\">\n",
              "\n",
              "  <svg xmlns=\"http://www.w3.org/2000/svg\" height=\"24px\" viewBox=\"0 -960 960 960\">\n",
              "    <path d=\"M120-120v-720h720v720H120Zm60-500h600v-160H180v160Zm220 220h160v-160H400v160Zm0 220h160v-160H400v160ZM180-400h160v-160H180v160Zm440 0h160v-160H620v160ZM180-180h160v-160H180v160Zm440 0h160v-160H620v160Z\"/>\n",
              "  </svg>\n",
              "    </button>\n",
              "\n",
              "  <style>\n",
              "    .colab-df-container {\n",
              "      display:flex;\n",
              "      gap: 12px;\n",
              "    }\n",
              "\n",
              "    .colab-df-convert {\n",
              "      background-color: #E8F0FE;\n",
              "      border: none;\n",
              "      border-radius: 50%;\n",
              "      cursor: pointer;\n",
              "      display: none;\n",
              "      fill: #1967D2;\n",
              "      height: 32px;\n",
              "      padding: 0 0 0 0;\n",
              "      width: 32px;\n",
              "    }\n",
              "\n",
              "    .colab-df-convert:hover {\n",
              "      background-color: #E2EBFA;\n",
              "      box-shadow: 0px 1px 2px rgba(60, 64, 67, 0.3), 0px 1px 3px 1px rgba(60, 64, 67, 0.15);\n",
              "      fill: #174EA6;\n",
              "    }\n",
              "\n",
              "    .colab-df-buttons div {\n",
              "      margin-bottom: 4px;\n",
              "    }\n",
              "\n",
              "    [theme=dark] .colab-df-convert {\n",
              "      background-color: #3B4455;\n",
              "      fill: #D2E3FC;\n",
              "    }\n",
              "\n",
              "    [theme=dark] .colab-df-convert:hover {\n",
              "      background-color: #434B5C;\n",
              "      box-shadow: 0px 1px 3px 1px rgba(0, 0, 0, 0.15);\n",
              "      filter: drop-shadow(0px 1px 2px rgba(0, 0, 0, 0.3));\n",
              "      fill: #FFFFFF;\n",
              "    }\n",
              "  </style>\n",
              "\n",
              "    <script>\n",
              "      const buttonEl =\n",
              "        document.querySelector('#df-d3b69dab-7814-4c0f-9848-2f40a23eadec button.colab-df-convert');\n",
              "      buttonEl.style.display =\n",
              "        google.colab.kernel.accessAllowed ? 'block' : 'none';\n",
              "\n",
              "      async function convertToInteractive(key) {\n",
              "        const element = document.querySelector('#df-d3b69dab-7814-4c0f-9848-2f40a23eadec');\n",
              "        const dataTable =\n",
              "          await google.colab.kernel.invokeFunction('convertToInteractive',\n",
              "                                                    [key], {});\n",
              "        if (!dataTable) return;\n",
              "\n",
              "        const docLinkHtml = 'Like what you see? Visit the ' +\n",
              "          '<a target=\"_blank\" href=https://colab.research.google.com/notebooks/data_table.ipynb>data table notebook</a>'\n",
              "          + ' to learn more about interactive tables.';\n",
              "        element.innerHTML = '';\n",
              "        dataTable['output_type'] = 'display_data';\n",
              "        await google.colab.output.renderOutput(dataTable, element);\n",
              "        const docLink = document.createElement('div');\n",
              "        docLink.innerHTML = docLinkHtml;\n",
              "        element.appendChild(docLink);\n",
              "      }\n",
              "    </script>\n",
              "  </div>\n",
              "\n",
              "\n",
              "<div id=\"df-2c75e6e0-dc60-464e-82fe-c805d885af41\">\n",
              "  <button class=\"colab-df-quickchart\" onclick=\"quickchart('df-2c75e6e0-dc60-464e-82fe-c805d885af41')\"\n",
              "            title=\"Suggest charts\"\n",
              "            style=\"display:none;\">\n",
              "\n",
              "<svg xmlns=\"http://www.w3.org/2000/svg\" height=\"24px\"viewBox=\"0 0 24 24\"\n",
              "     width=\"24px\">\n",
              "    <g>\n",
              "        <path d=\"M19 3H5c-1.1 0-2 .9-2 2v14c0 1.1.9 2 2 2h14c1.1 0 2-.9 2-2V5c0-1.1-.9-2-2-2zM9 17H7v-7h2v7zm4 0h-2V7h2v10zm4 0h-2v-4h2v4z\"/>\n",
              "    </g>\n",
              "</svg>\n",
              "  </button>\n",
              "\n",
              "<style>\n",
              "  .colab-df-quickchart {\n",
              "      --bg-color: #E8F0FE;\n",
              "      --fill-color: #1967D2;\n",
              "      --hover-bg-color: #E2EBFA;\n",
              "      --hover-fill-color: #174EA6;\n",
              "      --disabled-fill-color: #AAA;\n",
              "      --disabled-bg-color: #DDD;\n",
              "  }\n",
              "\n",
              "  [theme=dark] .colab-df-quickchart {\n",
              "      --bg-color: #3B4455;\n",
              "      --fill-color: #D2E3FC;\n",
              "      --hover-bg-color: #434B5C;\n",
              "      --hover-fill-color: #FFFFFF;\n",
              "      --disabled-bg-color: #3B4455;\n",
              "      --disabled-fill-color: #666;\n",
              "  }\n",
              "\n",
              "  .colab-df-quickchart {\n",
              "    background-color: var(--bg-color);\n",
              "    border: none;\n",
              "    border-radius: 50%;\n",
              "    cursor: pointer;\n",
              "    display: none;\n",
              "    fill: var(--fill-color);\n",
              "    height: 32px;\n",
              "    padding: 0;\n",
              "    width: 32px;\n",
              "  }\n",
              "\n",
              "  .colab-df-quickchart:hover {\n",
              "    background-color: var(--hover-bg-color);\n",
              "    box-shadow: 0 1px 2px rgba(60, 64, 67, 0.3), 0 1px 3px 1px rgba(60, 64, 67, 0.15);\n",
              "    fill: var(--button-hover-fill-color);\n",
              "  }\n",
              "\n",
              "  .colab-df-quickchart-complete:disabled,\n",
              "  .colab-df-quickchart-complete:disabled:hover {\n",
              "    background-color: var(--disabled-bg-color);\n",
              "    fill: var(--disabled-fill-color);\n",
              "    box-shadow: none;\n",
              "  }\n",
              "\n",
              "  .colab-df-spinner {\n",
              "    border: 2px solid var(--fill-color);\n",
              "    border-color: transparent;\n",
              "    border-bottom-color: var(--fill-color);\n",
              "    animation:\n",
              "      spin 1s steps(1) infinite;\n",
              "  }\n",
              "\n",
              "  @keyframes spin {\n",
              "    0% {\n",
              "      border-color: transparent;\n",
              "      border-bottom-color: var(--fill-color);\n",
              "      border-left-color: var(--fill-color);\n",
              "    }\n",
              "    20% {\n",
              "      border-color: transparent;\n",
              "      border-left-color: var(--fill-color);\n",
              "      border-top-color: var(--fill-color);\n",
              "    }\n",
              "    30% {\n",
              "      border-color: transparent;\n",
              "      border-left-color: var(--fill-color);\n",
              "      border-top-color: var(--fill-color);\n",
              "      border-right-color: var(--fill-color);\n",
              "    }\n",
              "    40% {\n",
              "      border-color: transparent;\n",
              "      border-right-color: var(--fill-color);\n",
              "      border-top-color: var(--fill-color);\n",
              "    }\n",
              "    60% {\n",
              "      border-color: transparent;\n",
              "      border-right-color: var(--fill-color);\n",
              "    }\n",
              "    80% {\n",
              "      border-color: transparent;\n",
              "      border-right-color: var(--fill-color);\n",
              "      border-bottom-color: var(--fill-color);\n",
              "    }\n",
              "    90% {\n",
              "      border-color: transparent;\n",
              "      border-bottom-color: var(--fill-color);\n",
              "    }\n",
              "  }\n",
              "</style>\n",
              "\n",
              "  <script>\n",
              "    async function quickchart(key) {\n",
              "      const quickchartButtonEl =\n",
              "        document.querySelector('#' + key + ' button');\n",
              "      quickchartButtonEl.disabled = true;  // To prevent multiple clicks.\n",
              "      quickchartButtonEl.classList.add('colab-df-spinner');\n",
              "      try {\n",
              "        const charts = await google.colab.kernel.invokeFunction(\n",
              "            'suggestCharts', [key], {});\n",
              "      } catch (error) {\n",
              "        console.error('Error during call to suggestCharts:', error);\n",
              "      }\n",
              "      quickchartButtonEl.classList.remove('colab-df-spinner');\n",
              "      quickchartButtonEl.classList.add('colab-df-quickchart-complete');\n",
              "    }\n",
              "    (() => {\n",
              "      let quickchartButtonEl =\n",
              "        document.querySelector('#df-2c75e6e0-dc60-464e-82fe-c805d885af41 button');\n",
              "      quickchartButtonEl.style.display =\n",
              "        google.colab.kernel.accessAllowed ? 'block' : 'none';\n",
              "    })();\n",
              "  </script>\n",
              "</div>\n",
              "\n",
              "    </div>\n",
              "  </div>\n"
            ],
            "application/vnd.google.colaboratory.intrinsic+json": {
              "type": "dataframe",
              "variable_name": "df_rap_songs",
              "summary": "{\n  \"name\": \"df_rap_songs\",\n  \"rows\": 175,\n  \"fields\": [\n    {\n      \"column\": \"Title\",\n      \"properties\": {\n        \"dtype\": \"category\",\n        \"num_unique_values\": 86,\n        \"samples\": [\n          \"on god\",\n          \"betrayed\",\n          \"city of angels\"\n        ],\n        \"semantic_type\": \"\",\n        \"description\": \"\"\n      }\n    },\n    {\n      \"column\": \"Artist\",\n      \"properties\": {\n        \"dtype\": \"category\",\n        \"num_unique_values\": 54,\n        \"samples\": [\n          \"6ix9ine - Kanye West\",\n          \"Lil Mosey - Gunna\",\n          \"ScHoolboy Q\"\n        ],\n        \"semantic_type\": \"\",\n        \"description\": \"\"\n      }\n    },\n    {\n      \"column\": \"danceability\",\n      \"properties\": {\n        \"dtype\": \"float32\",\n        \"num_unique_values\": 76,\n        \"samples\": [\n          0.7459999918937683,\n          0.746999979019165,\n          0.75\n        ],\n        \"semantic_type\": \"\",\n        \"description\": \"\"\n      }\n    },\n    {\n      \"column\": \"energy\",\n      \"properties\": {\n        \"dtype\": \"float32\",\n        \"num_unique_values\": 79,\n        \"samples\": [\n          0.5379999876022339,\n          0.4339999854564667,\n          0.5389999747276306\n        ],\n        \"semantic_type\": \"\",\n        \"description\": \"\"\n      }\n    },\n    {\n      \"column\": \"instrumentalness\",\n      \"properties\": {\n        \"dtype\": \"float32\",\n        \"num_unique_values\": 29,\n        \"samples\": [\n          0.0009710000013001263,\n          1.7500000240033842e-06,\n          0.9179999828338623\n        ],\n        \"semantic_type\": \"\",\n        \"description\": \"\"\n      }\n    },\n    {\n      \"column\": \"valence\",\n      \"properties\": {\n        \"dtype\": \"float32\",\n        \"num_unique_values\": 82,\n        \"samples\": [\n          0.597000002861023,\n          0.2409999966621399,\n          0.3880000114440918\n        ],\n        \"semantic_type\": \"\",\n        \"description\": \"\"\n      }\n    },\n    {\n      \"column\": \"liveliness\",\n      \"properties\": {\n        \"dtype\": \"float32\",\n        \"num_unique_values\": 74,\n        \"samples\": [\n          0.10599999874830246,\n          0.16699999570846558,\n          0.1459999978542328\n        ],\n        \"semantic_type\": \"\",\n        \"description\": \"\"\n      }\n    },\n    {\n      \"column\": \"speechiness\",\n      \"properties\": {\n        \"dtype\": \"float32\",\n        \"num_unique_values\": 84,\n        \"samples\": [\n          0.060100000351667404,\n          0.11800000071525574,\n          0.03759999945759773\n        ],\n        \"semantic_type\": \"\",\n        \"description\": \"\"\n      }\n    },\n    {\n      \"column\": \"acoustics\",\n      \"properties\": {\n        \"dtype\": \"float32\",\n        \"num_unique_values\": 87,\n        \"samples\": [\n          0.0925000011920929,\n          0.4339999854564667,\n          0.004189999774098396\n        ],\n        \"semantic_type\": \"\",\n        \"description\": \"\"\n      }\n    },\n    {\n      \"column\": \"instrumentalness\",\n      \"properties\": {\n        \"dtype\": \"float32\",\n        \"num_unique_values\": 29,\n        \"samples\": [\n          0.0009710000013001263,\n          1.7500000240033842e-06,\n          0.9179999828338623\n        ],\n        \"semantic_type\": \"\",\n        \"description\": \"\"\n      }\n    },\n    {\n      \"column\": \"tempo\",\n      \"properties\": {\n        \"dtype\": \"float32\",\n        \"num_unique_values\": 87,\n        \"samples\": [\n          145.99000549316406,\n          120.01200103759766,\n          74.49600219726562\n        ],\n        \"semantic_type\": \"\",\n        \"description\": \"\"\n      }\n    },\n    {\n      \"column\": \"duration_ms\",\n      \"properties\": {\n        \"dtype\": \"float32\",\n        \"num_unique_values\": 88,\n        \"samples\": [\n          147905.0,\n          187173.0,\n          236779.0\n        ],\n        \"semantic_type\": \"\",\n        \"description\": \"\"\n      }\n    },\n    {\n      \"column\": \"time_signature\",\n      \"properties\": {\n        \"dtype\": \"float32\",\n        \"num_unique_values\": 3,\n        \"samples\": [\n          4.0,\n          3.0,\n          5.0\n        ],\n        \"semantic_type\": \"\",\n        \"description\": \"\"\n      }\n    },\n    {\n      \"column\": \"Days_since_release\",\n      \"properties\": {\n        \"dtype\": \"float32\",\n        \"num_unique_values\": 57,\n        \"samples\": [\n          953.0,\n          1068.0,\n          708.0\n        ],\n        \"semantic_type\": \"\",\n        \"description\": \"\"\n      }\n    },\n    {\n      \"column\": \"n_words\",\n      \"properties\": {\n        \"dtype\": \"float32\",\n        \"num_unique_values\": 80,\n        \"samples\": [\n          325.0,\n          346.0,\n          326.0\n        ],\n        \"semantic_type\": \"\",\n        \"description\": \"\"\n      }\n    }\n  ]\n}"
            }
          },
          "metadata": {},
          "execution_count": 24
        }
      ]
    },
    {
      "cell_type": "code",
      "source": [
        "df_usa_songs.head()"
      ],
      "metadata": {
        "execution": {
          "iopub.status.busy": "2022-07-04T01:16:16.999176Z",
          "iopub.execute_input": "2022-07-04T01:16:16.999495Z",
          "iopub.status.idle": "2022-07-04T01:16:17.029223Z",
          "shell.execute_reply.started": "2022-07-04T01:16:16.999464Z",
          "shell.execute_reply": "2022-07-04T01:16:17.027969Z"
        },
        "trusted": true,
        "colab": {
          "base_uri": "https://localhost:8080/",
          "height": 224
        },
        "id": "72Nbk77xvznH",
        "outputId": "01c8d60c-0178-4f18-8724-0f6c4bab31d0"
      },
      "execution_count": 25,
      "outputs": [
        {
          "output_type": "execute_result",
          "data": {
            "text/plain": [
              "             Title                                   Artist  danceability  \\\n",
              "0  it wont kill ya                The Chainsmokers - Louane         0.572   \n",
              "1     living proof                           Camila Cabello         0.735   \n",
              "2  do you remember  Chance the Rapper - Death Cab for Cutie         0.606   \n",
              "3         nowadays                  Lil Skies - Landon Cube         0.745   \n",
              "4    all around me                            Justin Bieber         0.566   \n",
              "\n",
              "   energy  instrumentalness  valence  liveliness  speechiness  acoustics  \\\n",
              "0   0.530          0.000169    0.120       0.127       0.0654     0.0647   \n",
              "1   0.514          0.000000    0.517       0.359       0.0820     0.1090   \n",
              "2   0.655          0.000000    0.696       0.103       0.4020     0.1390   \n",
              "3   0.646          0.000000    0.460       0.338       0.1700     0.1570   \n",
              "4   0.438          0.000000    0.692       0.212       0.0367     0.8090   \n",
              "\n",
              "   instrumentalness       tempo  duration_ms  time_signature  \\\n",
              "0          0.000169  170.138000     217613.0             4.0   \n",
              "1          0.000000   77.566002     194440.0             4.0   \n",
              "2          0.000000  159.824005     236686.0             4.0   \n",
              "3          0.000000   79.992996     203908.0             4.0   \n",
              "4          0.000000  117.126999     136907.0             4.0   \n",
              "\n",
              "   Days_since_release  n_words  \n",
              "0              1314.0    274.0  \n",
              "1               365.0    293.0  \n",
              "2               477.0    221.0  \n",
              "3              1068.0    130.0  \n",
              "4               274.0    193.0  "
            ],
            "text/html": [
              "\n",
              "  <div id=\"df-c4eb9e78-a45b-4c8d-89f0-4836b807762b\" class=\"colab-df-container\">\n",
              "    <div>\n",
              "<style scoped>\n",
              "    .dataframe tbody tr th:only-of-type {\n",
              "        vertical-align: middle;\n",
              "    }\n",
              "\n",
              "    .dataframe tbody tr th {\n",
              "        vertical-align: top;\n",
              "    }\n",
              "\n",
              "    .dataframe thead th {\n",
              "        text-align: right;\n",
              "    }\n",
              "</style>\n",
              "<table border=\"1\" class=\"dataframe\">\n",
              "  <thead>\n",
              "    <tr style=\"text-align: right;\">\n",
              "      <th></th>\n",
              "      <th>Title</th>\n",
              "      <th>Artist</th>\n",
              "      <th>danceability</th>\n",
              "      <th>energy</th>\n",
              "      <th>instrumentalness</th>\n",
              "      <th>valence</th>\n",
              "      <th>liveliness</th>\n",
              "      <th>speechiness</th>\n",
              "      <th>acoustics</th>\n",
              "      <th>instrumentalness</th>\n",
              "      <th>tempo</th>\n",
              "      <th>duration_ms</th>\n",
              "      <th>time_signature</th>\n",
              "      <th>Days_since_release</th>\n",
              "      <th>n_words</th>\n",
              "    </tr>\n",
              "  </thead>\n",
              "  <tbody>\n",
              "    <tr>\n",
              "      <th>0</th>\n",
              "      <td>it wont kill ya</td>\n",
              "      <td>The Chainsmokers - Louane</td>\n",
              "      <td>0.572</td>\n",
              "      <td>0.530</td>\n",
              "      <td>0.000169</td>\n",
              "      <td>0.120</td>\n",
              "      <td>0.127</td>\n",
              "      <td>0.0654</td>\n",
              "      <td>0.0647</td>\n",
              "      <td>0.000169</td>\n",
              "      <td>170.138000</td>\n",
              "      <td>217613.0</td>\n",
              "      <td>4.0</td>\n",
              "      <td>1314.0</td>\n",
              "      <td>274.0</td>\n",
              "    </tr>\n",
              "    <tr>\n",
              "      <th>1</th>\n",
              "      <td>living proof</td>\n",
              "      <td>Camila Cabello</td>\n",
              "      <td>0.735</td>\n",
              "      <td>0.514</td>\n",
              "      <td>0.000000</td>\n",
              "      <td>0.517</td>\n",
              "      <td>0.359</td>\n",
              "      <td>0.0820</td>\n",
              "      <td>0.1090</td>\n",
              "      <td>0.000000</td>\n",
              "      <td>77.566002</td>\n",
              "      <td>194440.0</td>\n",
              "      <td>4.0</td>\n",
              "      <td>365.0</td>\n",
              "      <td>293.0</td>\n",
              "    </tr>\n",
              "    <tr>\n",
              "      <th>2</th>\n",
              "      <td>do you remember</td>\n",
              "      <td>Chance the Rapper - Death Cab for Cutie</td>\n",
              "      <td>0.606</td>\n",
              "      <td>0.655</td>\n",
              "      <td>0.000000</td>\n",
              "      <td>0.696</td>\n",
              "      <td>0.103</td>\n",
              "      <td>0.4020</td>\n",
              "      <td>0.1390</td>\n",
              "      <td>0.000000</td>\n",
              "      <td>159.824005</td>\n",
              "      <td>236686.0</td>\n",
              "      <td>4.0</td>\n",
              "      <td>477.0</td>\n",
              "      <td>221.0</td>\n",
              "    </tr>\n",
              "    <tr>\n",
              "      <th>3</th>\n",
              "      <td>nowadays</td>\n",
              "      <td>Lil Skies - Landon Cube</td>\n",
              "      <td>0.745</td>\n",
              "      <td>0.646</td>\n",
              "      <td>0.000000</td>\n",
              "      <td>0.460</td>\n",
              "      <td>0.338</td>\n",
              "      <td>0.1700</td>\n",
              "      <td>0.1570</td>\n",
              "      <td>0.000000</td>\n",
              "      <td>79.992996</td>\n",
              "      <td>203908.0</td>\n",
              "      <td>4.0</td>\n",
              "      <td>1068.0</td>\n",
              "      <td>130.0</td>\n",
              "    </tr>\n",
              "    <tr>\n",
              "      <th>4</th>\n",
              "      <td>all around me</td>\n",
              "      <td>Justin Bieber</td>\n",
              "      <td>0.566</td>\n",
              "      <td>0.438</td>\n",
              "      <td>0.000000</td>\n",
              "      <td>0.692</td>\n",
              "      <td>0.212</td>\n",
              "      <td>0.0367</td>\n",
              "      <td>0.8090</td>\n",
              "      <td>0.000000</td>\n",
              "      <td>117.126999</td>\n",
              "      <td>136907.0</td>\n",
              "      <td>4.0</td>\n",
              "      <td>274.0</td>\n",
              "      <td>193.0</td>\n",
              "    </tr>\n",
              "  </tbody>\n",
              "</table>\n",
              "</div>\n",
              "    <div class=\"colab-df-buttons\">\n",
              "\n",
              "  <div class=\"colab-df-container\">\n",
              "    <button class=\"colab-df-convert\" onclick=\"convertToInteractive('df-c4eb9e78-a45b-4c8d-89f0-4836b807762b')\"\n",
              "            title=\"Convert this dataframe to an interactive table.\"\n",
              "            style=\"display:none;\">\n",
              "\n",
              "  <svg xmlns=\"http://www.w3.org/2000/svg\" height=\"24px\" viewBox=\"0 -960 960 960\">\n",
              "    <path d=\"M120-120v-720h720v720H120Zm60-500h600v-160H180v160Zm220 220h160v-160H400v160Zm0 220h160v-160H400v160ZM180-400h160v-160H180v160Zm440 0h160v-160H620v160ZM180-180h160v-160H180v160Zm440 0h160v-160H620v160Z\"/>\n",
              "  </svg>\n",
              "    </button>\n",
              "\n",
              "  <style>\n",
              "    .colab-df-container {\n",
              "      display:flex;\n",
              "      gap: 12px;\n",
              "    }\n",
              "\n",
              "    .colab-df-convert {\n",
              "      background-color: #E8F0FE;\n",
              "      border: none;\n",
              "      border-radius: 50%;\n",
              "      cursor: pointer;\n",
              "      display: none;\n",
              "      fill: #1967D2;\n",
              "      height: 32px;\n",
              "      padding: 0 0 0 0;\n",
              "      width: 32px;\n",
              "    }\n",
              "\n",
              "    .colab-df-convert:hover {\n",
              "      background-color: #E2EBFA;\n",
              "      box-shadow: 0px 1px 2px rgba(60, 64, 67, 0.3), 0px 1px 3px 1px rgba(60, 64, 67, 0.15);\n",
              "      fill: #174EA6;\n",
              "    }\n",
              "\n",
              "    .colab-df-buttons div {\n",
              "      margin-bottom: 4px;\n",
              "    }\n",
              "\n",
              "    [theme=dark] .colab-df-convert {\n",
              "      background-color: #3B4455;\n",
              "      fill: #D2E3FC;\n",
              "    }\n",
              "\n",
              "    [theme=dark] .colab-df-convert:hover {\n",
              "      background-color: #434B5C;\n",
              "      box-shadow: 0px 1px 3px 1px rgba(0, 0, 0, 0.15);\n",
              "      filter: drop-shadow(0px 1px 2px rgba(0, 0, 0, 0.3));\n",
              "      fill: #FFFFFF;\n",
              "    }\n",
              "  </style>\n",
              "\n",
              "    <script>\n",
              "      const buttonEl =\n",
              "        document.querySelector('#df-c4eb9e78-a45b-4c8d-89f0-4836b807762b button.colab-df-convert');\n",
              "      buttonEl.style.display =\n",
              "        google.colab.kernel.accessAllowed ? 'block' : 'none';\n",
              "\n",
              "      async function convertToInteractive(key) {\n",
              "        const element = document.querySelector('#df-c4eb9e78-a45b-4c8d-89f0-4836b807762b');\n",
              "        const dataTable =\n",
              "          await google.colab.kernel.invokeFunction('convertToInteractive',\n",
              "                                                    [key], {});\n",
              "        if (!dataTable) return;\n",
              "\n",
              "        const docLinkHtml = 'Like what you see? Visit the ' +\n",
              "          '<a target=\"_blank\" href=https://colab.research.google.com/notebooks/data_table.ipynb>data table notebook</a>'\n",
              "          + ' to learn more about interactive tables.';\n",
              "        element.innerHTML = '';\n",
              "        dataTable['output_type'] = 'display_data';\n",
              "        await google.colab.output.renderOutput(dataTable, element);\n",
              "        const docLink = document.createElement('div');\n",
              "        docLink.innerHTML = docLinkHtml;\n",
              "        element.appendChild(docLink);\n",
              "      }\n",
              "    </script>\n",
              "  </div>\n",
              "\n",
              "\n",
              "<div id=\"df-61134cdb-9f4b-4650-a90f-a7decd671d6d\">\n",
              "  <button class=\"colab-df-quickchart\" onclick=\"quickchart('df-61134cdb-9f4b-4650-a90f-a7decd671d6d')\"\n",
              "            title=\"Suggest charts\"\n",
              "            style=\"display:none;\">\n",
              "\n",
              "<svg xmlns=\"http://www.w3.org/2000/svg\" height=\"24px\"viewBox=\"0 0 24 24\"\n",
              "     width=\"24px\">\n",
              "    <g>\n",
              "        <path d=\"M19 3H5c-1.1 0-2 .9-2 2v14c0 1.1.9 2 2 2h14c1.1 0 2-.9 2-2V5c0-1.1-.9-2-2-2zM9 17H7v-7h2v7zm4 0h-2V7h2v10zm4 0h-2v-4h2v4z\"/>\n",
              "    </g>\n",
              "</svg>\n",
              "  </button>\n",
              "\n",
              "<style>\n",
              "  .colab-df-quickchart {\n",
              "      --bg-color: #E8F0FE;\n",
              "      --fill-color: #1967D2;\n",
              "      --hover-bg-color: #E2EBFA;\n",
              "      --hover-fill-color: #174EA6;\n",
              "      --disabled-fill-color: #AAA;\n",
              "      --disabled-bg-color: #DDD;\n",
              "  }\n",
              "\n",
              "  [theme=dark] .colab-df-quickchart {\n",
              "      --bg-color: #3B4455;\n",
              "      --fill-color: #D2E3FC;\n",
              "      --hover-bg-color: #434B5C;\n",
              "      --hover-fill-color: #FFFFFF;\n",
              "      --disabled-bg-color: #3B4455;\n",
              "      --disabled-fill-color: #666;\n",
              "  }\n",
              "\n",
              "  .colab-df-quickchart {\n",
              "    background-color: var(--bg-color);\n",
              "    border: none;\n",
              "    border-radius: 50%;\n",
              "    cursor: pointer;\n",
              "    display: none;\n",
              "    fill: var(--fill-color);\n",
              "    height: 32px;\n",
              "    padding: 0;\n",
              "    width: 32px;\n",
              "  }\n",
              "\n",
              "  .colab-df-quickchart:hover {\n",
              "    background-color: var(--hover-bg-color);\n",
              "    box-shadow: 0 1px 2px rgba(60, 64, 67, 0.3), 0 1px 3px 1px rgba(60, 64, 67, 0.15);\n",
              "    fill: var(--button-hover-fill-color);\n",
              "  }\n",
              "\n",
              "  .colab-df-quickchart-complete:disabled,\n",
              "  .colab-df-quickchart-complete:disabled:hover {\n",
              "    background-color: var(--disabled-bg-color);\n",
              "    fill: var(--disabled-fill-color);\n",
              "    box-shadow: none;\n",
              "  }\n",
              "\n",
              "  .colab-df-spinner {\n",
              "    border: 2px solid var(--fill-color);\n",
              "    border-color: transparent;\n",
              "    border-bottom-color: var(--fill-color);\n",
              "    animation:\n",
              "      spin 1s steps(1) infinite;\n",
              "  }\n",
              "\n",
              "  @keyframes spin {\n",
              "    0% {\n",
              "      border-color: transparent;\n",
              "      border-bottom-color: var(--fill-color);\n",
              "      border-left-color: var(--fill-color);\n",
              "    }\n",
              "    20% {\n",
              "      border-color: transparent;\n",
              "      border-left-color: var(--fill-color);\n",
              "      border-top-color: var(--fill-color);\n",
              "    }\n",
              "    30% {\n",
              "      border-color: transparent;\n",
              "      border-left-color: var(--fill-color);\n",
              "      border-top-color: var(--fill-color);\n",
              "      border-right-color: var(--fill-color);\n",
              "    }\n",
              "    40% {\n",
              "      border-color: transparent;\n",
              "      border-right-color: var(--fill-color);\n",
              "      border-top-color: var(--fill-color);\n",
              "    }\n",
              "    60% {\n",
              "      border-color: transparent;\n",
              "      border-right-color: var(--fill-color);\n",
              "    }\n",
              "    80% {\n",
              "      border-color: transparent;\n",
              "      border-right-color: var(--fill-color);\n",
              "      border-bottom-color: var(--fill-color);\n",
              "    }\n",
              "    90% {\n",
              "      border-color: transparent;\n",
              "      border-bottom-color: var(--fill-color);\n",
              "    }\n",
              "  }\n",
              "</style>\n",
              "\n",
              "  <script>\n",
              "    async function quickchart(key) {\n",
              "      const quickchartButtonEl =\n",
              "        document.querySelector('#' + key + ' button');\n",
              "      quickchartButtonEl.disabled = true;  // To prevent multiple clicks.\n",
              "      quickchartButtonEl.classList.add('colab-df-spinner');\n",
              "      try {\n",
              "        const charts = await google.colab.kernel.invokeFunction(\n",
              "            'suggestCharts', [key], {});\n",
              "      } catch (error) {\n",
              "        console.error('Error during call to suggestCharts:', error);\n",
              "      }\n",
              "      quickchartButtonEl.classList.remove('colab-df-spinner');\n",
              "      quickchartButtonEl.classList.add('colab-df-quickchart-complete');\n",
              "    }\n",
              "    (() => {\n",
              "      let quickchartButtonEl =\n",
              "        document.querySelector('#df-61134cdb-9f4b-4650-a90f-a7decd671d6d button');\n",
              "      quickchartButtonEl.style.display =\n",
              "        google.colab.kernel.accessAllowed ? 'block' : 'none';\n",
              "    })();\n",
              "  </script>\n",
              "</div>\n",
              "\n",
              "    </div>\n",
              "  </div>\n"
            ],
            "application/vnd.google.colaboratory.intrinsic+json": {
              "type": "dataframe",
              "variable_name": "df_usa_songs",
              "summary": "{\n  \"name\": \"df_usa_songs\",\n  \"rows\": 92,\n  \"fields\": [\n    {\n      \"column\": \"Title\",\n      \"properties\": {\n        \"dtype\": \"string\",\n        \"num_unique_values\": 91,\n        \"samples\": [\n          \"in your eyes\",\n          \"glorious\",\n          \"go go\"\n        ],\n        \"semantic_type\": \"\",\n        \"description\": \"\"\n      }\n    },\n    {\n      \"column\": \"Artist\",\n      \"properties\": {\n        \"dtype\": \"string\",\n        \"num_unique_values\": 79,\n        \"samples\": [\n          \"Slipknot\",\n          \"The Chainsmokers - Louane\",\n          \"Tyler, The Creator - A$AP Rocky\"\n        ],\n        \"semantic_type\": \"\",\n        \"description\": \"\"\n      }\n    },\n    {\n      \"column\": \"danceability\",\n      \"properties\": {\n        \"dtype\": \"float32\",\n        \"num_unique_values\": 84,\n        \"samples\": [\n          0.5879999995231628,\n          0.5720000267028809,\n          0.6119999885559082\n        ],\n        \"semantic_type\": \"\",\n        \"description\": \"\"\n      }\n    },\n    {\n      \"column\": \"energy\",\n      \"properties\": {\n        \"dtype\": \"float32\",\n        \"num_unique_values\": 83,\n        \"samples\": [\n          0.9440000057220459,\n          0.5299999713897705,\n          0.48500001430511475\n        ],\n        \"semantic_type\": \"\",\n        \"description\": \"\"\n      }\n    },\n    {\n      \"column\": \"instrumentalness\",\n      \"properties\": {\n        \"dtype\": \"float32\",\n        \"num_unique_values\": 32,\n        \"samples\": [\n          0.004530000034719706,\n          8.099999831756577e-05,\n          1.720000000204891e-05\n        ],\n        \"semantic_type\": \"\",\n        \"description\": \"\"\n      }\n    },\n    {\n      \"column\": \"valence\",\n      \"properties\": {\n        \"dtype\": \"float32\",\n        \"num_unique_values\": 81,\n        \"samples\": [\n          0.06480000168085098,\n          0.11999999731779099,\n          0.14399999380111694\n        ],\n        \"semantic_type\": \"\",\n        \"description\": \"\"\n      }\n    },\n    {\n      \"column\": \"liveliness\",\n      \"properties\": {\n        \"dtype\": \"float32\",\n        \"num_unique_values\": 81,\n        \"samples\": [\n          0.6069999933242798,\n          0.12700000405311584,\n          0.12200000137090683\n        ],\n        \"semantic_type\": \"\",\n        \"description\": \"\"\n      }\n    },\n    {\n      \"column\": \"speechiness\",\n      \"properties\": {\n        \"dtype\": \"float32\",\n        \"num_unique_values\": 89,\n        \"samples\": [\n          0.027799999341368675,\n          0.08410000056028366,\n          0.07519999891519547\n        ],\n        \"semantic_type\": \"\",\n        \"description\": \"\"\n      }\n    },\n    {\n      \"column\": \"acoustics\",\n      \"properties\": {\n        \"dtype\": \"float32\",\n        \"num_unique_values\": 92,\n        \"samples\": [\n          0.002850000048056245,\n          0.03229999914765358,\n          0.17100000381469727\n        ],\n        \"semantic_type\": \"\",\n        \"description\": \"\"\n      }\n    },\n    {\n      \"column\": \"instrumentalness\",\n      \"properties\": {\n        \"dtype\": \"float32\",\n        \"num_unique_values\": 32,\n        \"samples\": [\n          0.004530000034719706,\n          8.099999831756577e-05,\n          1.720000000204891e-05\n        ],\n        \"semantic_type\": \"\",\n        \"description\": \"\"\n      }\n    },\n    {\n      \"column\": \"tempo\",\n      \"properties\": {\n        \"dtype\": \"float32\",\n        \"num_unique_values\": 92,\n        \"samples\": [\n          100.02100372314453,\n          139.99400329589844,\n          136.08200073242188\n        ],\n        \"semantic_type\": \"\",\n        \"description\": \"\"\n      }\n    },\n    {\n      \"column\": \"duration_ms\",\n      \"properties\": {\n        \"dtype\": \"float32\",\n        \"num_unique_values\": 92,\n        \"samples\": [\n          237520.0,\n          220454.0,\n          235780.0\n        ],\n        \"semantic_type\": \"\",\n        \"description\": \"\"\n      }\n    },\n    {\n      \"column\": \"time_signature\",\n      \"properties\": {\n        \"dtype\": \"float32\",\n        \"num_unique_values\": 3,\n        \"samples\": [\n          4.0,\n          3.0,\n          5.0\n        ],\n        \"semantic_type\": \"\",\n        \"description\": \"\"\n      }\n    },\n    {\n      \"column\": \"Days_since_release\",\n      \"properties\": {\n        \"dtype\": \"float32\",\n        \"num_unique_values\": 83,\n        \"samples\": [\n          701.0,\n          1314.0,\n          1248.0\n        ],\n        \"semantic_type\": \"\",\n        \"description\": \"\"\n      }\n    },\n    {\n      \"column\": \"n_words\",\n      \"properties\": {\n        \"dtype\": \"float32\",\n        \"num_unique_values\": 78,\n        \"samples\": [\n          123.0,\n          274.0,\n          407.0\n        ],\n        \"semantic_type\": \"\",\n        \"description\": \"\"\n      }\n    }\n  ]\n}"
            }
          },
          "metadata": {},
          "execution_count": 25
        }
      ]
    },
    {
      "cell_type": "code",
      "source": [
        "# it might be better to used a normalized cosine similarity instead of scaling first and then doing it.\n",
        "from scipy import spatial\n",
        "from sklearn.preprocessing import Normalizer\n",
        "from sklearn.preprocessing import MinMaxScaler\n",
        "scaler = MinMaxScaler()\n",
        "transformer = Normalizer()\n",
        "\n",
        "scaled_usa_df = scaler.fit_transform(df_usa_songs.iloc[:, 2:]) # drop the title and artist with the iloc\n",
        "scaled_rap_df = scaler.fit_transform(df_rap_songs.iloc[:, 2:])\n",
        "\n",
        "\n",
        "# cos similarity of a rap and a k-pop song\n",
        "song1 = np.array(scaled_rap_df[1])\n",
        "song2 = np.array(scaled_usa_df[2])\n",
        "result = 1 - spatial.distance.cosine(song1, song2)\n",
        "print(\"Cosine similarity of a rap and a usa song:\", result)"
      ],
      "metadata": {
        "execution": {
          "iopub.status.busy": "2022-07-04T01:16:17.030771Z",
          "iopub.execute_input": "2022-07-04T01:16:17.031148Z",
          "iopub.status.idle": "2022-07-04T01:16:17.054214Z",
          "shell.execute_reply.started": "2022-07-04T01:16:17.03111Z",
          "shell.execute_reply": "2022-07-04T01:16:17.053105Z"
        },
        "trusted": true,
        "colab": {
          "base_uri": "https://localhost:8080/"
        },
        "id": "saM2FBiEvznI",
        "outputId": "1522dab1-f53c-4fb3-f41f-70f57447d869"
      },
      "execution_count": 26,
      "outputs": [
        {
          "output_type": "stream",
          "name": "stdout",
          "text": [
            "Cosine similarity of a rap and a usa song: 0.9241468045759581\n"
          ]
        }
      ]
    },
    {
      "cell_type": "code",
      "source": [
        "# cos similarity of two rap songs\n",
        "song1 = np.array(scaled_rap_df[1])\n",
        "song2 = np.array(scaled_rap_df[10])\n",
        "result = 1 - spatial.distance.cosine(song1, song2)\n",
        "print(\"Cosine similarity of two rap songs:\", result)"
      ],
      "metadata": {
        "execution": {
          "iopub.status.busy": "2022-07-04T01:16:17.055891Z",
          "iopub.execute_input": "2022-07-04T01:16:17.056518Z",
          "iopub.status.idle": "2022-07-04T01:16:17.064045Z",
          "shell.execute_reply.started": "2022-07-04T01:16:17.056468Z",
          "shell.execute_reply": "2022-07-04T01:16:17.062899Z"
        },
        "trusted": true,
        "colab": {
          "base_uri": "https://localhost:8080/"
        },
        "id": "9r51LirYvznI",
        "outputId": "4d943a4f-a62d-428c-ae74-3b27bc843b0d"
      },
      "execution_count": 27,
      "outputs": [
        {
          "output_type": "stream",
          "name": "stdout",
          "text": [
            "Cosine similarity of two rap songs: 0.8807599040430228\n"
          ]
        }
      ]
    },
    {
      "cell_type": "markdown",
      "source": [
        "## Dimentionality reduction\n",
        "This is useful for visualizing kmeans clustering later. One mistake people make with PCA, is assuming that the dimentions you get will be interpretable. In this case, we're going to take two types of music (USA and Rap), and then try reducing all the numeric, musical features down to two dimentions. The two dimentions won't really represent the genre of the music, but we can pretend that this is true. When we do KMeans clustering later on, we can visualize it on these two PCA axes."
      ],
      "metadata": {
        "id": "41ybGdVTvznI"
      }
    },
    {
      "cell_type": "code",
      "source": [
        "# let's add an OHE genre encoding\n",
        "df_rap_songs = df_rap_songs.assign(is_rap=1,\n",
        "                                   is_usa=0\n",
        "                                   )\n",
        "df_usa_songs = df_usa_songs.assign(is_rap=0,\n",
        "                                     is_usa=1\n",
        "                                     )\n",
        "df_rap_and_usa = pd.concat([df_rap_songs, df_usa_songs])\n",
        "X = scaler.fit_transform(df_rap_and_usa.iloc[:, 2:])\n",
        "\n",
        "pca = PCA(n_components=10)\n",
        "pca.fit(X)\n",
        "print(pca.explained_variance_ratio_)"
      ],
      "metadata": {
        "execution": {
          "iopub.status.busy": "2022-07-04T01:16:17.065562Z",
          "iopub.execute_input": "2022-07-04T01:16:17.066066Z",
          "iopub.status.idle": "2022-07-04T01:16:17.106199Z",
          "shell.execute_reply.started": "2022-07-04T01:16:17.066017Z",
          "shell.execute_reply": "2022-07-04T01:16:17.104914Z"
        },
        "trusted": true,
        "colab": {
          "base_uri": "https://localhost:8080/"
        },
        "id": "DSqzt6uAvznJ",
        "outputId": "e96dae23-6757-497c-b0b4-6518b9a02c92"
      },
      "execution_count": 28,
      "outputs": [
        {
          "output_type": "stream",
          "name": "stdout",
          "text": [
            "[0.52502978 0.09959264 0.07871588 0.0679184  0.05628617 0.04804907\n",
            " 0.03381027 0.03264639 0.02112465 0.01402021]\n"
          ]
        }
      ]
    },
    {
      "cell_type": "code",
      "source": [
        "sns.lineplot(x=[x for x in range(1, 11)], y=pca.explained_variance_ratio_).set_title(\"% Variance Explained vs # Dimensions\");"
      ],
      "metadata": {
        "execution": {
          "iopub.status.busy": "2022-07-04T01:16:17.112584Z",
          "iopub.execute_input": "2022-07-04T01:16:17.115944Z",
          "iopub.status.idle": "2022-07-04T01:16:17.386497Z",
          "shell.execute_reply.started": "2022-07-04T01:16:17.115869Z",
          "shell.execute_reply": "2022-07-04T01:16:17.385215Z"
        },
        "trusted": true,
        "colab": {
          "base_uri": "https://localhost:8080/",
          "height": 438
        },
        "id": "26-Xyq52vznJ",
        "outputId": "bb3f03a6-c7a5-4557-8687-e9ccc42e1778"
      },
      "execution_count": 29,
      "outputs": [
        {
          "output_type": "display_data",
          "data": {
            "text/plain": [
              "<Figure size 640x480 with 1 Axes>"
            ],
            "image/svg+xml": "<?xml version=\"1.0\" encoding=\"utf-8\" standalone=\"no\"?>\n<!DOCTYPE svg PUBLIC \"-//W3C//DTD SVG 1.1//EN\"\n  \"http://www.w3.org/Graphics/SVG/1.1/DTD/svg11.dtd\">\n<svg xmlns:xlink=\"http://www.w3.org/1999/xlink\" width=\"394.423125pt\" height=\"312.30825pt\" viewBox=\"0 0 394.423125 312.30825\" xmlns=\"http://www.w3.org/2000/svg\" version=\"1.1\">\n <metadata>\n  <rdf:RDF xmlns:dc=\"http://purl.org/dc/elements/1.1/\" xmlns:cc=\"http://creativecommons.org/ns#\" xmlns:rdf=\"http://www.w3.org/1999/02/22-rdf-syntax-ns#\">\n   <cc:Work>\n    <dc:type rdf:resource=\"http://purl.org/dc/dcmitype/StillImage\"/>\n    <dc:date>2024-09-02T03:43:09.853141</dc:date>\n    <dc:format>image/svg+xml</dc:format>\n    <dc:creator>\n     <cc:Agent>\n      <dc:title>Matplotlib v3.7.1, https://matplotlib.org/</dc:title>\n     </cc:Agent>\n    </dc:creator>\n   </cc:Work>\n  </rdf:RDF>\n </metadata>\n <defs>\n  <style type=\"text/css\">*{stroke-linejoin: round; stroke-linecap: butt}</style>\n </defs>\n <g id=\"figure_1\">\n  <g id=\"patch_1\">\n   <path d=\"M 0 312.30825 \nL 394.423125 312.30825 \nL 394.423125 0 \nL 0 0 \nz\n\" style=\"fill: #ffffff\"/>\n  </g>\n  <g id=\"axes_1\">\n   <g id=\"patch_2\">\n    <path d=\"M 30.103125 288.430125 \nL 387.223125 288.430125 \nL 387.223125 22.318125 \nL 30.103125 22.318125 \nz\n\" style=\"fill: #eaeaf2\"/>\n   </g>\n   <g id=\"matplotlib.axis_1\">\n    <g id=\"xtick_1\">\n     <g id=\"line2d_1\">\n      <path d=\"M 82.40858 288.430125 \nL 82.40858 22.318125 \n\" clip-path=\"url(#pf673dd5037)\" style=\"fill: none; stroke: #ffffff; stroke-width: 0.8; stroke-linecap: round\"/>\n     </g>\n     <g id=\"text_1\">\n      <!-- 2 -->\n      <g style=\"fill: #262626\" transform=\"translate(79.22733 303.028562) scale(0.1 -0.1)\">\n       <defs>\n        <path id=\"DejaVuSans-32\" d=\"M 1228 531 \nL 3431 531 \nL 3431 0 \nL 469 0 \nL 469 531 \nQ 828 903 1448 1529 \nQ 2069 2156 2228 2338 \nQ 2531 2678 2651 2914 \nQ 2772 3150 2772 3378 \nQ 2772 3750 2511 3984 \nQ 2250 4219 1831 4219 \nQ 1534 4219 1204 4116 \nQ 875 4013 500 3803 \nL 500 4441 \nQ 881 4594 1212 4672 \nQ 1544 4750 1819 4750 \nQ 2544 4750 2975 4387 \nQ 3406 4025 3406 3419 \nQ 3406 3131 3298 2873 \nQ 3191 2616 2906 2266 \nQ 2828 2175 2409 1742 \nQ 1991 1309 1228 531 \nz\n\" transform=\"scale(0.015625)\"/>\n       </defs>\n       <use xlink:href=\"#DejaVuSans-32\"/>\n      </g>\n     </g>\n    </g>\n    <g id=\"xtick_2\">\n     <g id=\"line2d_2\">\n      <path d=\"M 154.554034 288.430125 \nL 154.554034 22.318125 \n\" clip-path=\"url(#pf673dd5037)\" style=\"fill: none; stroke: #ffffff; stroke-width: 0.8; stroke-linecap: round\"/>\n     </g>\n     <g id=\"text_2\">\n      <!-- 4 -->\n      <g style=\"fill: #262626\" transform=\"translate(151.372784 303.028562) scale(0.1 -0.1)\">\n       <defs>\n        <path id=\"DejaVuSans-34\" d=\"M 2419 4116 \nL 825 1625 \nL 2419 1625 \nL 2419 4116 \nz\nM 2253 4666 \nL 3047 4666 \nL 3047 1625 \nL 3713 1625 \nL 3713 1100 \nL 3047 1100 \nL 3047 0 \nL 2419 0 \nL 2419 1100 \nL 313 1100 \nL 313 1709 \nL 2253 4666 \nz\n\" transform=\"scale(0.015625)\"/>\n       </defs>\n       <use xlink:href=\"#DejaVuSans-34\"/>\n      </g>\n     </g>\n    </g>\n    <g id=\"xtick_3\">\n     <g id=\"line2d_3\">\n      <path d=\"M 226.699489 288.430125 \nL 226.699489 22.318125 \n\" clip-path=\"url(#pf673dd5037)\" style=\"fill: none; stroke: #ffffff; stroke-width: 0.8; stroke-linecap: round\"/>\n     </g>\n     <g id=\"text_3\">\n      <!-- 6 -->\n      <g style=\"fill: #262626\" transform=\"translate(223.518239 303.028562) scale(0.1 -0.1)\">\n       <defs>\n        <path id=\"DejaVuSans-36\" d=\"M 2113 2584 \nQ 1688 2584 1439 2293 \nQ 1191 2003 1191 1497 \nQ 1191 994 1439 701 \nQ 1688 409 2113 409 \nQ 2538 409 2786 701 \nQ 3034 994 3034 1497 \nQ 3034 2003 2786 2293 \nQ 2538 2584 2113 2584 \nz\nM 3366 4563 \nL 3366 3988 \nQ 3128 4100 2886 4159 \nQ 2644 4219 2406 4219 \nQ 1781 4219 1451 3797 \nQ 1122 3375 1075 2522 \nQ 1259 2794 1537 2939 \nQ 1816 3084 2150 3084 \nQ 2853 3084 3261 2657 \nQ 3669 2231 3669 1497 \nQ 3669 778 3244 343 \nQ 2819 -91 2113 -91 \nQ 1303 -91 875 529 \nQ 447 1150 447 2328 \nQ 447 3434 972 4092 \nQ 1497 4750 2381 4750 \nQ 2619 4750 2861 4703 \nQ 3103 4656 3366 4563 \nz\n\" transform=\"scale(0.015625)\"/>\n       </defs>\n       <use xlink:href=\"#DejaVuSans-36\"/>\n      </g>\n     </g>\n    </g>\n    <g id=\"xtick_4\">\n     <g id=\"line2d_4\">\n      <path d=\"M 298.844943 288.430125 \nL 298.844943 22.318125 \n\" clip-path=\"url(#pf673dd5037)\" style=\"fill: none; stroke: #ffffff; stroke-width: 0.8; stroke-linecap: round\"/>\n     </g>\n     <g id=\"text_4\">\n      <!-- 8 -->\n      <g style=\"fill: #262626\" transform=\"translate(295.663693 303.028562) scale(0.1 -0.1)\">\n       <defs>\n        <path id=\"DejaVuSans-38\" d=\"M 2034 2216 \nQ 1584 2216 1326 1975 \nQ 1069 1734 1069 1313 \nQ 1069 891 1326 650 \nQ 1584 409 2034 409 \nQ 2484 409 2743 651 \nQ 3003 894 3003 1313 \nQ 3003 1734 2745 1975 \nQ 2488 2216 2034 2216 \nz\nM 1403 2484 \nQ 997 2584 770 2862 \nQ 544 3141 544 3541 \nQ 544 4100 942 4425 \nQ 1341 4750 2034 4750 \nQ 2731 4750 3128 4425 \nQ 3525 4100 3525 3541 \nQ 3525 3141 3298 2862 \nQ 3072 2584 2669 2484 \nQ 3125 2378 3379 2068 \nQ 3634 1759 3634 1313 \nQ 3634 634 3220 271 \nQ 2806 -91 2034 -91 \nQ 1263 -91 848 271 \nQ 434 634 434 1313 \nQ 434 1759 690 2068 \nQ 947 2378 1403 2484 \nz\nM 1172 3481 \nQ 1172 3119 1398 2916 \nQ 1625 2713 2034 2713 \nQ 2441 2713 2670 2916 \nQ 2900 3119 2900 3481 \nQ 2900 3844 2670 4047 \nQ 2441 4250 2034 4250 \nQ 1625 4250 1398 4047 \nQ 1172 3844 1172 3481 \nz\n\" transform=\"scale(0.015625)\"/>\n       </defs>\n       <use xlink:href=\"#DejaVuSans-38\"/>\n      </g>\n     </g>\n    </g>\n    <g id=\"xtick_5\">\n     <g id=\"line2d_5\">\n      <path d=\"M 370.990398 288.430125 \nL 370.990398 22.318125 \n\" clip-path=\"url(#pf673dd5037)\" style=\"fill: none; stroke: #ffffff; stroke-width: 0.8; stroke-linecap: round\"/>\n     </g>\n     <g id=\"text_5\">\n      <!-- 10 -->\n      <g style=\"fill: #262626\" transform=\"translate(364.627898 303.028562) scale(0.1 -0.1)\">\n       <defs>\n        <path id=\"DejaVuSans-31\" d=\"M 794 531 \nL 1825 531 \nL 1825 4091 \nL 703 3866 \nL 703 4441 \nL 1819 4666 \nL 2450 4666 \nL 2450 531 \nL 3481 531 \nL 3481 0 \nL 794 0 \nL 794 531 \nz\n\" transform=\"scale(0.015625)\"/>\n        <path id=\"DejaVuSans-30\" d=\"M 2034 4250 \nQ 1547 4250 1301 3770 \nQ 1056 3291 1056 2328 \nQ 1056 1369 1301 889 \nQ 1547 409 2034 409 \nQ 2525 409 2770 889 \nQ 3016 1369 3016 2328 \nQ 3016 3291 2770 3770 \nQ 2525 4250 2034 4250 \nz\nM 2034 4750 \nQ 2819 4750 3233 4129 \nQ 3647 3509 3647 2328 \nQ 3647 1150 3233 529 \nQ 2819 -91 2034 -91 \nQ 1250 -91 836 529 \nQ 422 1150 422 2328 \nQ 422 3509 836 4129 \nQ 1250 4750 2034 4750 \nz\n\" transform=\"scale(0.015625)\"/>\n       </defs>\n       <use xlink:href=\"#DejaVuSans-31\"/>\n       <use xlink:href=\"#DejaVuSans-30\" x=\"63.623047\"/>\n      </g>\n     </g>\n    </g>\n   </g>\n   <g id=\"matplotlib.axis_2\">\n    <g id=\"ytick_1\">\n     <g id=\"line2d_6\">\n      <path d=\"M 30.103125 282.971513 \nL 387.223125 282.971513 \n\" clip-path=\"url(#pf673dd5037)\" style=\"fill: none; stroke: #ffffff; stroke-width: 0.8; stroke-linecap: round\"/>\n     </g>\n     <g id=\"text_6\">\n      <!-- 0.0 -->\n      <g style=\"fill: #262626\" transform=\"translate(7.2 286.770731) scale(0.1 -0.1)\">\n       <defs>\n        <path id=\"DejaVuSans-2e\" d=\"M 684 794 \nL 1344 794 \nL 1344 0 \nL 684 0 \nL 684 794 \nz\n\" transform=\"scale(0.015625)\"/>\n       </defs>\n       <use xlink:href=\"#DejaVuSans-30\"/>\n       <use xlink:href=\"#DejaVuSans-2e\" x=\"63.623047\"/>\n       <use xlink:href=\"#DejaVuSans-30\" x=\"95.410156\"/>\n      </g>\n     </g>\n    </g>\n    <g id=\"ytick_2\">\n     <g id=\"line2d_7\">\n      <path d=\"M 30.103125 235.629933 \nL 387.223125 235.629933 \n\" clip-path=\"url(#pf673dd5037)\" style=\"fill: none; stroke: #ffffff; stroke-width: 0.8; stroke-linecap: round\"/>\n     </g>\n     <g id=\"text_7\">\n      <!-- 0.1 -->\n      <g style=\"fill: #262626\" transform=\"translate(7.2 239.429152) scale(0.1 -0.1)\">\n       <use xlink:href=\"#DejaVuSans-30\"/>\n       <use xlink:href=\"#DejaVuSans-2e\" x=\"63.623047\"/>\n       <use xlink:href=\"#DejaVuSans-31\" x=\"95.410156\"/>\n      </g>\n     </g>\n    </g>\n    <g id=\"ytick_3\">\n     <g id=\"line2d_8\">\n      <path d=\"M 30.103125 188.288354 \nL 387.223125 188.288354 \n\" clip-path=\"url(#pf673dd5037)\" style=\"fill: none; stroke: #ffffff; stroke-width: 0.8; stroke-linecap: round\"/>\n     </g>\n     <g id=\"text_8\">\n      <!-- 0.2 -->\n      <g style=\"fill: #262626\" transform=\"translate(7.2 192.087573) scale(0.1 -0.1)\">\n       <use xlink:href=\"#DejaVuSans-30\"/>\n       <use xlink:href=\"#DejaVuSans-2e\" x=\"63.623047\"/>\n       <use xlink:href=\"#DejaVuSans-32\" x=\"95.410156\"/>\n      </g>\n     </g>\n    </g>\n    <g id=\"ytick_4\">\n     <g id=\"line2d_9\">\n      <path d=\"M 30.103125 140.946775 \nL 387.223125 140.946775 \n\" clip-path=\"url(#pf673dd5037)\" style=\"fill: none; stroke: #ffffff; stroke-width: 0.8; stroke-linecap: round\"/>\n     </g>\n     <g id=\"text_9\">\n      <!-- 0.3 -->\n      <g style=\"fill: #262626\" transform=\"translate(7.2 144.745993) scale(0.1 -0.1)\">\n       <defs>\n        <path id=\"DejaVuSans-33\" d=\"M 2597 2516 \nQ 3050 2419 3304 2112 \nQ 3559 1806 3559 1356 \nQ 3559 666 3084 287 \nQ 2609 -91 1734 -91 \nQ 1441 -91 1130 -33 \nQ 819 25 488 141 \nL 488 750 \nQ 750 597 1062 519 \nQ 1375 441 1716 441 \nQ 2309 441 2620 675 \nQ 2931 909 2931 1356 \nQ 2931 1769 2642 2001 \nQ 2353 2234 1838 2234 \nL 1294 2234 \nL 1294 2753 \nL 1863 2753 \nQ 2328 2753 2575 2939 \nQ 2822 3125 2822 3475 \nQ 2822 3834 2567 4026 \nQ 2313 4219 1838 4219 \nQ 1578 4219 1281 4162 \nQ 984 4106 628 3988 \nL 628 4550 \nQ 988 4650 1302 4700 \nQ 1616 4750 1894 4750 \nQ 2613 4750 3031 4423 \nQ 3450 4097 3450 3541 \nQ 3450 3153 3228 2886 \nQ 3006 2619 2597 2516 \nz\n\" transform=\"scale(0.015625)\"/>\n       </defs>\n       <use xlink:href=\"#DejaVuSans-30\"/>\n       <use xlink:href=\"#DejaVuSans-2e\" x=\"63.623047\"/>\n       <use xlink:href=\"#DejaVuSans-33\" x=\"95.410156\"/>\n      </g>\n     </g>\n    </g>\n    <g id=\"ytick_5\">\n     <g id=\"line2d_10\">\n      <path d=\"M 30.103125 93.605195 \nL 387.223125 93.605195 \n\" clip-path=\"url(#pf673dd5037)\" style=\"fill: none; stroke: #ffffff; stroke-width: 0.8; stroke-linecap: round\"/>\n     </g>\n     <g id=\"text_10\">\n      <!-- 0.4 -->\n      <g style=\"fill: #262626\" transform=\"translate(7.2 97.404414) scale(0.1 -0.1)\">\n       <use xlink:href=\"#DejaVuSans-30\"/>\n       <use xlink:href=\"#DejaVuSans-2e\" x=\"63.623047\"/>\n       <use xlink:href=\"#DejaVuSans-34\" x=\"95.410156\"/>\n      </g>\n     </g>\n    </g>\n    <g id=\"ytick_6\">\n     <g id=\"line2d_11\">\n      <path d=\"M 30.103125 46.263616 \nL 387.223125 46.263616 \n\" clip-path=\"url(#pf673dd5037)\" style=\"fill: none; stroke: #ffffff; stroke-width: 0.8; stroke-linecap: round\"/>\n     </g>\n     <g id=\"text_11\">\n      <!-- 0.5 -->\n      <g style=\"fill: #262626\" transform=\"translate(7.2 50.062835) scale(0.1 -0.1)\">\n       <defs>\n        <path id=\"DejaVuSans-35\" d=\"M 691 4666 \nL 3169 4666 \nL 3169 4134 \nL 1269 4134 \nL 1269 2991 \nQ 1406 3038 1543 3061 \nQ 1681 3084 1819 3084 \nQ 2600 3084 3056 2656 \nQ 3513 2228 3513 1497 \nQ 3513 744 3044 326 \nQ 2575 -91 1722 -91 \nQ 1428 -91 1123 -41 \nQ 819 9 494 109 \nL 494 744 \nQ 775 591 1075 516 \nQ 1375 441 1709 441 \nQ 2250 441 2565 725 \nQ 2881 1009 2881 1497 \nQ 2881 1984 2565 2268 \nQ 2250 2553 1709 2553 \nQ 1456 2553 1204 2497 \nQ 953 2441 691 2322 \nL 691 4666 \nz\n\" transform=\"scale(0.015625)\"/>\n       </defs>\n       <use xlink:href=\"#DejaVuSans-30\"/>\n       <use xlink:href=\"#DejaVuSans-2e\" x=\"63.623047\"/>\n       <use xlink:href=\"#DejaVuSans-35\" x=\"95.410156\"/>\n      </g>\n     </g>\n    </g>\n   </g>\n   <g id=\"PolyCollection_1\"/>\n   <g id=\"line2d_12\">\n    <path d=\"M 46.335852 34.414125 \nL 82.40858 235.822786 \nL 118.481307 245.70617 \nL 154.554034 250.817869 \nL 190.626761 256.32475 \nL 226.699489 260.224325 \nL 262.772216 266.965196 \nL 298.844943 267.516196 \nL 334.91767 272.97077 \nL 370.990398 276.334125 \n\" clip-path=\"url(#pf673dd5037)\" style=\"fill: none; stroke: #386df9; stroke-width: 1.5; stroke-linecap: round\"/>\n   </g>\n   <g id=\"patch_3\">\n    <path d=\"M 30.103125 288.430125 \nL 30.103125 22.318125 \n\" style=\"fill: none; stroke: #ffffff; stroke-width: 0.8; stroke-linejoin: miter; stroke-linecap: square\"/>\n   </g>\n   <g id=\"patch_4\">\n    <path d=\"M 387.223125 288.430125 \nL 387.223125 22.318125 \n\" style=\"fill: none; stroke: #ffffff; stroke-width: 0.8; stroke-linejoin: miter; stroke-linecap: square\"/>\n   </g>\n   <g id=\"patch_5\">\n    <path d=\"M 30.103125 288.430125 \nL 387.223125 288.430125 \n\" style=\"fill: none; stroke: #ffffff; stroke-width: 0.8; stroke-linejoin: miter; stroke-linecap: square\"/>\n   </g>\n   <g id=\"patch_6\">\n    <path d=\"M 30.103125 22.318125 \nL 387.223125 22.318125 \n\" style=\"fill: none; stroke: #ffffff; stroke-width: 0.8; stroke-linejoin: miter; stroke-linecap: square\"/>\n   </g>\n   <g id=\"text_12\">\n    <!-- % Variance Explained vs # Dimensions -->\n    <g style=\"fill: #262626\" transform=\"translate(91.32 16.318125) scale(0.12 -0.12)\">\n     <defs>\n      <path id=\"DejaVuSans-25\" d=\"M 4653 2053 \nQ 4381 2053 4226 1822 \nQ 4072 1591 4072 1178 \nQ 4072 772 4226 539 \nQ 4381 306 4653 306 \nQ 4919 306 5073 539 \nQ 5228 772 5228 1178 \nQ 5228 1588 5073 1820 \nQ 4919 2053 4653 2053 \nz\nM 4653 2450 \nQ 5147 2450 5437 2106 \nQ 5728 1763 5728 1178 \nQ 5728 594 5436 251 \nQ 5144 -91 4653 -91 \nQ 4153 -91 3862 251 \nQ 3572 594 3572 1178 \nQ 3572 1766 3864 2108 \nQ 4156 2450 4653 2450 \nz\nM 1428 4353 \nQ 1159 4353 1004 4120 \nQ 850 3888 850 3481 \nQ 850 3069 1003 2837 \nQ 1156 2606 1428 2606 \nQ 1700 2606 1854 2837 \nQ 2009 3069 2009 3481 \nQ 2009 3884 1853 4118 \nQ 1697 4353 1428 4353 \nz\nM 4250 4750 \nL 4750 4750 \nL 1831 -91 \nL 1331 -91 \nL 4250 4750 \nz\nM 1428 4750 \nQ 1922 4750 2215 4408 \nQ 2509 4066 2509 3481 \nQ 2509 2891 2217 2550 \nQ 1925 2209 1428 2209 \nQ 931 2209 642 2551 \nQ 353 2894 353 3481 \nQ 353 4063 643 4406 \nQ 934 4750 1428 4750 \nz\n\" transform=\"scale(0.015625)\"/>\n      <path id=\"DejaVuSans-20\" transform=\"scale(0.015625)\"/>\n      <path id=\"DejaVuSans-56\" d=\"M 1831 0 \nL 50 4666 \nL 709 4666 \nL 2188 738 \nL 3669 4666 \nL 4325 4666 \nL 2547 0 \nL 1831 0 \nz\n\" transform=\"scale(0.015625)\"/>\n      <path id=\"DejaVuSans-61\" d=\"M 2194 1759 \nQ 1497 1759 1228 1600 \nQ 959 1441 959 1056 \nQ 959 750 1161 570 \nQ 1363 391 1709 391 \nQ 2188 391 2477 730 \nQ 2766 1069 2766 1631 \nL 2766 1759 \nL 2194 1759 \nz\nM 3341 1997 \nL 3341 0 \nL 2766 0 \nL 2766 531 \nQ 2569 213 2275 61 \nQ 1981 -91 1556 -91 \nQ 1019 -91 701 211 \nQ 384 513 384 1019 \nQ 384 1609 779 1909 \nQ 1175 2209 1959 2209 \nL 2766 2209 \nL 2766 2266 \nQ 2766 2663 2505 2880 \nQ 2244 3097 1772 3097 \nQ 1472 3097 1187 3025 \nQ 903 2953 641 2809 \nL 641 3341 \nQ 956 3463 1253 3523 \nQ 1550 3584 1831 3584 \nQ 2591 3584 2966 3190 \nQ 3341 2797 3341 1997 \nz\n\" transform=\"scale(0.015625)\"/>\n      <path id=\"DejaVuSans-72\" d=\"M 2631 2963 \nQ 2534 3019 2420 3045 \nQ 2306 3072 2169 3072 \nQ 1681 3072 1420 2755 \nQ 1159 2438 1159 1844 \nL 1159 0 \nL 581 0 \nL 581 3500 \nL 1159 3500 \nL 1159 2956 \nQ 1341 3275 1631 3429 \nQ 1922 3584 2338 3584 \nQ 2397 3584 2469 3576 \nQ 2541 3569 2628 3553 \nL 2631 2963 \nz\n\" transform=\"scale(0.015625)\"/>\n      <path id=\"DejaVuSans-69\" d=\"M 603 3500 \nL 1178 3500 \nL 1178 0 \nL 603 0 \nL 603 3500 \nz\nM 603 4863 \nL 1178 4863 \nL 1178 4134 \nL 603 4134 \nL 603 4863 \nz\n\" transform=\"scale(0.015625)\"/>\n      <path id=\"DejaVuSans-6e\" d=\"M 3513 2113 \nL 3513 0 \nL 2938 0 \nL 2938 2094 \nQ 2938 2591 2744 2837 \nQ 2550 3084 2163 3084 \nQ 1697 3084 1428 2787 \nQ 1159 2491 1159 1978 \nL 1159 0 \nL 581 0 \nL 581 3500 \nL 1159 3500 \nL 1159 2956 \nQ 1366 3272 1645 3428 \nQ 1925 3584 2291 3584 \nQ 2894 3584 3203 3211 \nQ 3513 2838 3513 2113 \nz\n\" transform=\"scale(0.015625)\"/>\n      <path id=\"DejaVuSans-63\" d=\"M 3122 3366 \nL 3122 2828 \nQ 2878 2963 2633 3030 \nQ 2388 3097 2138 3097 \nQ 1578 3097 1268 2742 \nQ 959 2388 959 1747 \nQ 959 1106 1268 751 \nQ 1578 397 2138 397 \nQ 2388 397 2633 464 \nQ 2878 531 3122 666 \nL 3122 134 \nQ 2881 22 2623 -34 \nQ 2366 -91 2075 -91 \nQ 1284 -91 818 406 \nQ 353 903 353 1747 \nQ 353 2603 823 3093 \nQ 1294 3584 2113 3584 \nQ 2378 3584 2631 3529 \nQ 2884 3475 3122 3366 \nz\n\" transform=\"scale(0.015625)\"/>\n      <path id=\"DejaVuSans-65\" d=\"M 3597 1894 \nL 3597 1613 \nL 953 1613 \nQ 991 1019 1311 708 \nQ 1631 397 2203 397 \nQ 2534 397 2845 478 \nQ 3156 559 3463 722 \nL 3463 178 \nQ 3153 47 2828 -22 \nQ 2503 -91 2169 -91 \nQ 1331 -91 842 396 \nQ 353 884 353 1716 \nQ 353 2575 817 3079 \nQ 1281 3584 2069 3584 \nQ 2775 3584 3186 3129 \nQ 3597 2675 3597 1894 \nz\nM 3022 2063 \nQ 3016 2534 2758 2815 \nQ 2500 3097 2075 3097 \nQ 1594 3097 1305 2825 \nQ 1016 2553 972 2059 \nL 3022 2063 \nz\n\" transform=\"scale(0.015625)\"/>\n      <path id=\"DejaVuSans-45\" d=\"M 628 4666 \nL 3578 4666 \nL 3578 4134 \nL 1259 4134 \nL 1259 2753 \nL 3481 2753 \nL 3481 2222 \nL 1259 2222 \nL 1259 531 \nL 3634 531 \nL 3634 0 \nL 628 0 \nL 628 4666 \nz\n\" transform=\"scale(0.015625)\"/>\n      <path id=\"DejaVuSans-78\" d=\"M 3513 3500 \nL 2247 1797 \nL 3578 0 \nL 2900 0 \nL 1881 1375 \nL 863 0 \nL 184 0 \nL 1544 1831 \nL 300 3500 \nL 978 3500 \nL 1906 2253 \nL 2834 3500 \nL 3513 3500 \nz\n\" transform=\"scale(0.015625)\"/>\n      <path id=\"DejaVuSans-70\" d=\"M 1159 525 \nL 1159 -1331 \nL 581 -1331 \nL 581 3500 \nL 1159 3500 \nL 1159 2969 \nQ 1341 3281 1617 3432 \nQ 1894 3584 2278 3584 \nQ 2916 3584 3314 3078 \nQ 3713 2572 3713 1747 \nQ 3713 922 3314 415 \nQ 2916 -91 2278 -91 \nQ 1894 -91 1617 61 \nQ 1341 213 1159 525 \nz\nM 3116 1747 \nQ 3116 2381 2855 2742 \nQ 2594 3103 2138 3103 \nQ 1681 3103 1420 2742 \nQ 1159 2381 1159 1747 \nQ 1159 1113 1420 752 \nQ 1681 391 2138 391 \nQ 2594 391 2855 752 \nQ 3116 1113 3116 1747 \nz\n\" transform=\"scale(0.015625)\"/>\n      <path id=\"DejaVuSans-6c\" d=\"M 603 4863 \nL 1178 4863 \nL 1178 0 \nL 603 0 \nL 603 4863 \nz\n\" transform=\"scale(0.015625)\"/>\n      <path id=\"DejaVuSans-64\" d=\"M 2906 2969 \nL 2906 4863 \nL 3481 4863 \nL 3481 0 \nL 2906 0 \nL 2906 525 \nQ 2725 213 2448 61 \nQ 2172 -91 1784 -91 \nQ 1150 -91 751 415 \nQ 353 922 353 1747 \nQ 353 2572 751 3078 \nQ 1150 3584 1784 3584 \nQ 2172 3584 2448 3432 \nQ 2725 3281 2906 2969 \nz\nM 947 1747 \nQ 947 1113 1208 752 \nQ 1469 391 1925 391 \nQ 2381 391 2643 752 \nQ 2906 1113 2906 1747 \nQ 2906 2381 2643 2742 \nQ 2381 3103 1925 3103 \nQ 1469 3103 1208 2742 \nQ 947 2381 947 1747 \nz\n\" transform=\"scale(0.015625)\"/>\n      <path id=\"DejaVuSans-76\" d=\"M 191 3500 \nL 800 3500 \nL 1894 563 \nL 2988 3500 \nL 3597 3500 \nL 2284 0 \nL 1503 0 \nL 191 3500 \nz\n\" transform=\"scale(0.015625)\"/>\n      <path id=\"DejaVuSans-73\" d=\"M 2834 3397 \nL 2834 2853 \nQ 2591 2978 2328 3040 \nQ 2066 3103 1784 3103 \nQ 1356 3103 1142 2972 \nQ 928 2841 928 2578 \nQ 928 2378 1081 2264 \nQ 1234 2150 1697 2047 \nL 1894 2003 \nQ 2506 1872 2764 1633 \nQ 3022 1394 3022 966 \nQ 3022 478 2636 193 \nQ 2250 -91 1575 -91 \nQ 1294 -91 989 -36 \nQ 684 19 347 128 \nL 347 722 \nQ 666 556 975 473 \nQ 1284 391 1588 391 \nQ 1994 391 2212 530 \nQ 2431 669 2431 922 \nQ 2431 1156 2273 1281 \nQ 2116 1406 1581 1522 \nL 1381 1569 \nQ 847 1681 609 1914 \nQ 372 2147 372 2553 \nQ 372 3047 722 3315 \nQ 1072 3584 1716 3584 \nQ 2034 3584 2315 3537 \nQ 2597 3491 2834 3397 \nz\n\" transform=\"scale(0.015625)\"/>\n      <path id=\"DejaVuSans-23\" d=\"M 3272 2816 \nL 2363 2816 \nL 2100 1772 \nL 3016 1772 \nL 3272 2816 \nz\nM 2803 4594 \nL 2478 3297 \nL 3391 3297 \nL 3719 4594 \nL 4219 4594 \nL 3897 3297 \nL 4872 3297 \nL 4872 2816 \nL 3775 2816 \nL 3519 1772 \nL 4513 1772 \nL 4513 1294 \nL 3397 1294 \nL 3072 0 \nL 2572 0 \nL 2894 1294 \nL 1978 1294 \nL 1656 0 \nL 1153 0 \nL 1478 1294 \nL 494 1294 \nL 494 1772 \nL 1594 1772 \nL 1856 2816 \nL 850 2816 \nL 850 3297 \nL 1978 3297 \nL 2297 4594 \nL 2803 4594 \nz\n\" transform=\"scale(0.015625)\"/>\n      <path id=\"DejaVuSans-44\" d=\"M 1259 4147 \nL 1259 519 \nL 2022 519 \nQ 2988 519 3436 956 \nQ 3884 1394 3884 2338 \nQ 3884 3275 3436 3711 \nQ 2988 4147 2022 4147 \nL 1259 4147 \nz\nM 628 4666 \nL 1925 4666 \nQ 3281 4666 3915 4102 \nQ 4550 3538 4550 2338 \nQ 4550 1131 3912 565 \nQ 3275 0 1925 0 \nL 628 0 \nL 628 4666 \nz\n\" transform=\"scale(0.015625)\"/>\n      <path id=\"DejaVuSans-6d\" d=\"M 3328 2828 \nQ 3544 3216 3844 3400 \nQ 4144 3584 4550 3584 \nQ 5097 3584 5394 3201 \nQ 5691 2819 5691 2113 \nL 5691 0 \nL 5113 0 \nL 5113 2094 \nQ 5113 2597 4934 2840 \nQ 4756 3084 4391 3084 \nQ 3944 3084 3684 2787 \nQ 3425 2491 3425 1978 \nL 3425 0 \nL 2847 0 \nL 2847 2094 \nQ 2847 2600 2669 2842 \nQ 2491 3084 2119 3084 \nQ 1678 3084 1418 2786 \nQ 1159 2488 1159 1978 \nL 1159 0 \nL 581 0 \nL 581 3500 \nL 1159 3500 \nL 1159 2956 \nQ 1356 3278 1631 3431 \nQ 1906 3584 2284 3584 \nQ 2666 3584 2933 3390 \nQ 3200 3197 3328 2828 \nz\n\" transform=\"scale(0.015625)\"/>\n      <path id=\"DejaVuSans-6f\" d=\"M 1959 3097 \nQ 1497 3097 1228 2736 \nQ 959 2375 959 1747 \nQ 959 1119 1226 758 \nQ 1494 397 1959 397 \nQ 2419 397 2687 759 \nQ 2956 1122 2956 1747 \nQ 2956 2369 2687 2733 \nQ 2419 3097 1959 3097 \nz\nM 1959 3584 \nQ 2709 3584 3137 3096 \nQ 3566 2609 3566 1747 \nQ 3566 888 3137 398 \nQ 2709 -91 1959 -91 \nQ 1206 -91 779 398 \nQ 353 888 353 1747 \nQ 353 2609 779 3096 \nQ 1206 3584 1959 3584 \nz\n\" transform=\"scale(0.015625)\"/>\n     </defs>\n     <use xlink:href=\"#DejaVuSans-25\"/>\n     <use xlink:href=\"#DejaVuSans-20\" x=\"95.019531\"/>\n     <use xlink:href=\"#DejaVuSans-56\" x=\"126.806641\"/>\n     <use xlink:href=\"#DejaVuSans-61\" x=\"187.464844\"/>\n     <use xlink:href=\"#DejaVuSans-72\" x=\"248.744141\"/>\n     <use xlink:href=\"#DejaVuSans-69\" x=\"289.857422\"/>\n     <use xlink:href=\"#DejaVuSans-61\" x=\"317.640625\"/>\n     <use xlink:href=\"#DejaVuSans-6e\" x=\"378.919922\"/>\n     <use xlink:href=\"#DejaVuSans-63\" x=\"442.298828\"/>\n     <use xlink:href=\"#DejaVuSans-65\" x=\"497.279297\"/>\n     <use xlink:href=\"#DejaVuSans-20\" x=\"558.802734\"/>\n     <use xlink:href=\"#DejaVuSans-45\" x=\"590.589844\"/>\n     <use xlink:href=\"#DejaVuSans-78\" x=\"653.773438\"/>\n     <use xlink:href=\"#DejaVuSans-70\" x=\"712.953125\"/>\n     <use xlink:href=\"#DejaVuSans-6c\" x=\"776.429688\"/>\n     <use xlink:href=\"#DejaVuSans-61\" x=\"804.212891\"/>\n     <use xlink:href=\"#DejaVuSans-69\" x=\"865.492188\"/>\n     <use xlink:href=\"#DejaVuSans-6e\" x=\"893.275391\"/>\n     <use xlink:href=\"#DejaVuSans-65\" x=\"956.654297\"/>\n     <use xlink:href=\"#DejaVuSans-64\" x=\"1018.177734\"/>\n     <use xlink:href=\"#DejaVuSans-20\" x=\"1081.654297\"/>\n     <use xlink:href=\"#DejaVuSans-76\" x=\"1113.441406\"/>\n     <use xlink:href=\"#DejaVuSans-73\" x=\"1172.621094\"/>\n     <use xlink:href=\"#DejaVuSans-20\" x=\"1224.720703\"/>\n     <use xlink:href=\"#DejaVuSans-23\" x=\"1256.507812\"/>\n     <use xlink:href=\"#DejaVuSans-20\" x=\"1340.296875\"/>\n     <use xlink:href=\"#DejaVuSans-44\" x=\"1372.083984\"/>\n     <use xlink:href=\"#DejaVuSans-69\" x=\"1449.085938\"/>\n     <use xlink:href=\"#DejaVuSans-6d\" x=\"1476.869141\"/>\n     <use xlink:href=\"#DejaVuSans-65\" x=\"1574.28125\"/>\n     <use xlink:href=\"#DejaVuSans-6e\" x=\"1635.804688\"/>\n     <use xlink:href=\"#DejaVuSans-73\" x=\"1699.183594\"/>\n     <use xlink:href=\"#DejaVuSans-69\" x=\"1751.283203\"/>\n     <use xlink:href=\"#DejaVuSans-6f\" x=\"1779.066406\"/>\n     <use xlink:href=\"#DejaVuSans-6e\" x=\"1840.248047\"/>\n     <use xlink:href=\"#DejaVuSans-73\" x=\"1903.626953\"/>\n    </g>\n   </g>\n  </g>\n </g>\n <defs>\n  <clipPath id=\"pf673dd5037\">\n   <rect x=\"30.103125\" y=\"22.318125\" width=\"357.12\" height=\"266.112\"/>\n  </clipPath>\n </defs>\n</svg>\n"
          },
          "metadata": {}
        }
      ]
    },
    {
      "cell_type": "markdown",
      "source": [
        "As expected, it's able to explain most the vairance using 1 dimension. This roughly corresponds to \"genre,\" which instead was encoded as either `is_rap` or `is_query_usa`"
      ],
      "metadata": {
        "id": "3WtzkUqwvznJ"
      }
    },
    {
      "cell_type": "code",
      "source": [
        "pca = PCA(n_components=2)\n",
        "principalComponents = pca.fit_transform(X)\n",
        "PCA_components = pd.DataFrame(principalComponents)\n",
        "\n",
        "# sns.scatterplot(data=principalComponents, alpha=.1)\n",
        "sns.scatterplot(x=PCA_components[0], y=PCA_components[1], alpha=.1).set_title(\"First 2 PCA Components\");\n",
        "plt.xlabel('PCA 1');\n",
        "plt.ylabel('PCA 2');"
      ],
      "metadata": {
        "execution": {
          "iopub.status.busy": "2022-07-04T01:16:17.388324Z",
          "iopub.execute_input": "2022-07-04T01:16:17.388784Z",
          "iopub.status.idle": "2022-07-04T01:16:17.747369Z",
          "shell.execute_reply.started": "2022-07-04T01:16:17.388735Z",
          "shell.execute_reply": "2022-07-04T01:16:17.746081Z"
        },
        "trusted": true,
        "colab": {
          "base_uri": "https://localhost:8080/",
          "height": 456
        },
        "id": "OFEIjbphvznJ",
        "outputId": "5e889cbe-50aa-4480-83cc-e6c86522a2fb"
      },
      "execution_count": 30,
      "outputs": [
        {
          "output_type": "display_data",
          "data": {
            "text/plain": [
              "<Figure size 640x480 with 1 Axes>"
            ],
            "image/svg+xml": "<?xml version=\"1.0\" encoding=\"utf-8\" standalone=\"no\"?>\n<!DOCTYPE svg PUBLIC \"-//W3C//DTD SVG 1.1//EN\"\n  \"http://www.w3.org/Graphics/SVG/1.1/DTD/svg11.dtd\">\n<svg xmlns:xlink=\"http://www.w3.org/1999/xlink\" width=\"422.843437pt\" height=\"325.986375pt\" viewBox=\"0 0 422.843437 325.986375\" xmlns=\"http://www.w3.org/2000/svg\" version=\"1.1\">\n <metadata>\n  <rdf:RDF xmlns:dc=\"http://purl.org/dc/elements/1.1/\" xmlns:cc=\"http://creativecommons.org/ns#\" xmlns:rdf=\"http://www.w3.org/1999/02/22-rdf-syntax-ns#\">\n   <cc:Work>\n    <dc:type rdf:resource=\"http://purl.org/dc/dcmitype/StillImage\"/>\n    <dc:date>2024-09-02T03:43:11.401247</dc:date>\n    <dc:format>image/svg+xml</dc:format>\n    <dc:creator>\n     <cc:Agent>\n      <dc:title>Matplotlib v3.7.1, https://matplotlib.org/</dc:title>\n     </cc:Agent>\n    </dc:creator>\n   </cc:Work>\n  </rdf:RDF>\n </metadata>\n <defs>\n  <style type=\"text/css\">*{stroke-linejoin: round; stroke-linecap: butt}</style>\n </defs>\n <g id=\"figure_1\">\n  <g id=\"patch_1\">\n   <path d=\"M 0 325.986375 \nL 422.843437 325.986375 \nL 422.843437 0 \nL 0 0 \nz\n\" style=\"fill: #ffffff\"/>\n  </g>\n  <g id=\"axes_1\">\n   <g id=\"patch_2\">\n    <path d=\"M 58.523438 288.430125 \nL 415.643438 288.430125 \nL 415.643438 22.318125 \nL 58.523438 22.318125 \nz\n\" style=\"fill: #eaeaf2\"/>\n   </g>\n   <g id=\"matplotlib.axis_1\">\n    <g id=\"xtick_1\">\n     <g id=\"line2d_1\">\n      <path d=\"M 66.777688 288.430125 \nL 66.777688 22.318125 \n\" clip-path=\"url(#pb42b081d00)\" style=\"fill: none; stroke: #ffffff; stroke-width: 0.8; stroke-linecap: round\"/>\n     </g>\n     <g id=\"text_1\">\n      <!-- −0.6 -->\n      <g style=\"fill: #262626\" transform=\"translate(54.636281 303.028562) scale(0.1 -0.1)\">\n       <defs>\n        <path id=\"DejaVuSans-2212\" d=\"M 678 2272 \nL 4684 2272 \nL 4684 1741 \nL 678 1741 \nL 678 2272 \nz\n\" transform=\"scale(0.015625)\"/>\n        <path id=\"DejaVuSans-30\" d=\"M 2034 4250 \nQ 1547 4250 1301 3770 \nQ 1056 3291 1056 2328 \nQ 1056 1369 1301 889 \nQ 1547 409 2034 409 \nQ 2525 409 2770 889 \nQ 3016 1369 3016 2328 \nQ 3016 3291 2770 3770 \nQ 2525 4250 2034 4250 \nz\nM 2034 4750 \nQ 2819 4750 3233 4129 \nQ 3647 3509 3647 2328 \nQ 3647 1150 3233 529 \nQ 2819 -91 2034 -91 \nQ 1250 -91 836 529 \nQ 422 1150 422 2328 \nQ 422 3509 836 4129 \nQ 1250 4750 2034 4750 \nz\n\" transform=\"scale(0.015625)\"/>\n        <path id=\"DejaVuSans-2e\" d=\"M 684 794 \nL 1344 794 \nL 1344 0 \nL 684 0 \nL 684 794 \nz\n\" transform=\"scale(0.015625)\"/>\n        <path id=\"DejaVuSans-36\" d=\"M 2113 2584 \nQ 1688 2584 1439 2293 \nQ 1191 2003 1191 1497 \nQ 1191 994 1439 701 \nQ 1688 409 2113 409 \nQ 2538 409 2786 701 \nQ 3034 994 3034 1497 \nQ 3034 2003 2786 2293 \nQ 2538 2584 2113 2584 \nz\nM 3366 4563 \nL 3366 3988 \nQ 3128 4100 2886 4159 \nQ 2644 4219 2406 4219 \nQ 1781 4219 1451 3797 \nQ 1122 3375 1075 2522 \nQ 1259 2794 1537 2939 \nQ 1816 3084 2150 3084 \nQ 2853 3084 3261 2657 \nQ 3669 2231 3669 1497 \nQ 3669 778 3244 343 \nQ 2819 -91 2113 -91 \nQ 1303 -91 875 529 \nQ 447 1150 447 2328 \nQ 447 3434 972 4092 \nQ 1497 4750 2381 4750 \nQ 2619 4750 2861 4703 \nQ 3103 4656 3366 4563 \nz\n\" transform=\"scale(0.015625)\"/>\n       </defs>\n       <use xlink:href=\"#DejaVuSans-2212\"/>\n       <use xlink:href=\"#DejaVuSans-30\" x=\"83.789062\"/>\n       <use xlink:href=\"#DejaVuSans-2e\" x=\"147.412109\"/>\n       <use xlink:href=\"#DejaVuSans-36\" x=\"179.199219\"/>\n      </g>\n     </g>\n    </g>\n    <g id=\"xtick_2\">\n     <g id=\"line2d_2\">\n      <path d=\"M 108.317532 288.430125 \nL 108.317532 22.318125 \n\" clip-path=\"url(#pb42b081d00)\" style=\"fill: none; stroke: #ffffff; stroke-width: 0.8; stroke-linecap: round\"/>\n     </g>\n     <g id=\"text_2\">\n      <!-- −0.4 -->\n      <g style=\"fill: #262626\" transform=\"translate(96.176125 303.028562) scale(0.1 -0.1)\">\n       <defs>\n        <path id=\"DejaVuSans-34\" d=\"M 2419 4116 \nL 825 1625 \nL 2419 1625 \nL 2419 4116 \nz\nM 2253 4666 \nL 3047 4666 \nL 3047 1625 \nL 3713 1625 \nL 3713 1100 \nL 3047 1100 \nL 3047 0 \nL 2419 0 \nL 2419 1100 \nL 313 1100 \nL 313 1709 \nL 2253 4666 \nz\n\" transform=\"scale(0.015625)\"/>\n       </defs>\n       <use xlink:href=\"#DejaVuSans-2212\"/>\n       <use xlink:href=\"#DejaVuSans-30\" x=\"83.789062\"/>\n       <use xlink:href=\"#DejaVuSans-2e\" x=\"147.412109\"/>\n       <use xlink:href=\"#DejaVuSans-34\" x=\"179.199219\"/>\n      </g>\n     </g>\n    </g>\n    <g id=\"xtick_3\">\n     <g id=\"line2d_3\">\n      <path d=\"M 149.857376 288.430125 \nL 149.857376 22.318125 \n\" clip-path=\"url(#pb42b081d00)\" style=\"fill: none; stroke: #ffffff; stroke-width: 0.8; stroke-linecap: round\"/>\n     </g>\n     <g id=\"text_3\">\n      <!-- −0.2 -->\n      <g style=\"fill: #262626\" transform=\"translate(137.71597 303.028562) scale(0.1 -0.1)\">\n       <defs>\n        <path id=\"DejaVuSans-32\" d=\"M 1228 531 \nL 3431 531 \nL 3431 0 \nL 469 0 \nL 469 531 \nQ 828 903 1448 1529 \nQ 2069 2156 2228 2338 \nQ 2531 2678 2651 2914 \nQ 2772 3150 2772 3378 \nQ 2772 3750 2511 3984 \nQ 2250 4219 1831 4219 \nQ 1534 4219 1204 4116 \nQ 875 4013 500 3803 \nL 500 4441 \nQ 881 4594 1212 4672 \nQ 1544 4750 1819 4750 \nQ 2544 4750 2975 4387 \nQ 3406 4025 3406 3419 \nQ 3406 3131 3298 2873 \nQ 3191 2616 2906 2266 \nQ 2828 2175 2409 1742 \nQ 1991 1309 1228 531 \nz\n\" transform=\"scale(0.015625)\"/>\n       </defs>\n       <use xlink:href=\"#DejaVuSans-2212\"/>\n       <use xlink:href=\"#DejaVuSans-30\" x=\"83.789062\"/>\n       <use xlink:href=\"#DejaVuSans-2e\" x=\"147.412109\"/>\n       <use xlink:href=\"#DejaVuSans-32\" x=\"179.199219\"/>\n      </g>\n     </g>\n    </g>\n    <g id=\"xtick_4\">\n     <g id=\"line2d_4\">\n      <path d=\"M 191.39722 288.430125 \nL 191.39722 22.318125 \n\" clip-path=\"url(#pb42b081d00)\" style=\"fill: none; stroke: #ffffff; stroke-width: 0.8; stroke-linecap: round\"/>\n     </g>\n     <g id=\"text_4\">\n      <!-- 0.0 -->\n      <g style=\"fill: #262626\" transform=\"translate(183.445657 303.028562) scale(0.1 -0.1)\">\n       <use xlink:href=\"#DejaVuSans-30\"/>\n       <use xlink:href=\"#DejaVuSans-2e\" x=\"63.623047\"/>\n       <use xlink:href=\"#DejaVuSans-30\" x=\"95.410156\"/>\n      </g>\n     </g>\n    </g>\n    <g id=\"xtick_5\">\n     <g id=\"line2d_5\">\n      <path d=\"M 232.937064 288.430125 \nL 232.937064 22.318125 \n\" clip-path=\"url(#pb42b081d00)\" style=\"fill: none; stroke: #ffffff; stroke-width: 0.8; stroke-linecap: round\"/>\n     </g>\n     <g id=\"text_5\">\n      <!-- 0.2 -->\n      <g style=\"fill: #262626\" transform=\"translate(224.985502 303.028562) scale(0.1 -0.1)\">\n       <use xlink:href=\"#DejaVuSans-30\"/>\n       <use xlink:href=\"#DejaVuSans-2e\" x=\"63.623047\"/>\n       <use xlink:href=\"#DejaVuSans-32\" x=\"95.410156\"/>\n      </g>\n     </g>\n    </g>\n    <g id=\"xtick_6\">\n     <g id=\"line2d_6\">\n      <path d=\"M 274.476908 288.430125 \nL 274.476908 22.318125 \n\" clip-path=\"url(#pb42b081d00)\" style=\"fill: none; stroke: #ffffff; stroke-width: 0.8; stroke-linecap: round\"/>\n     </g>\n     <g id=\"text_6\">\n      <!-- 0.4 -->\n      <g style=\"fill: #262626\" transform=\"translate(266.525346 303.028562) scale(0.1 -0.1)\">\n       <use xlink:href=\"#DejaVuSans-30\"/>\n       <use xlink:href=\"#DejaVuSans-2e\" x=\"63.623047\"/>\n       <use xlink:href=\"#DejaVuSans-34\" x=\"95.410156\"/>\n      </g>\n     </g>\n    </g>\n    <g id=\"xtick_7\">\n     <g id=\"line2d_7\">\n      <path d=\"M 316.016752 288.430125 \nL 316.016752 22.318125 \n\" clip-path=\"url(#pb42b081d00)\" style=\"fill: none; stroke: #ffffff; stroke-width: 0.8; stroke-linecap: round\"/>\n     </g>\n     <g id=\"text_7\">\n      <!-- 0.6 -->\n      <g style=\"fill: #262626\" transform=\"translate(308.06519 303.028562) scale(0.1 -0.1)\">\n       <use xlink:href=\"#DejaVuSans-30\"/>\n       <use xlink:href=\"#DejaVuSans-2e\" x=\"63.623047\"/>\n       <use xlink:href=\"#DejaVuSans-36\" x=\"95.410156\"/>\n      </g>\n     </g>\n    </g>\n    <g id=\"xtick_8\">\n     <g id=\"line2d_8\">\n      <path d=\"M 357.556596 288.430125 \nL 357.556596 22.318125 \n\" clip-path=\"url(#pb42b081d00)\" style=\"fill: none; stroke: #ffffff; stroke-width: 0.8; stroke-linecap: round\"/>\n     </g>\n     <g id=\"text_8\">\n      <!-- 0.8 -->\n      <g style=\"fill: #262626\" transform=\"translate(349.605034 303.028562) scale(0.1 -0.1)\">\n       <defs>\n        <path id=\"DejaVuSans-38\" d=\"M 2034 2216 \nQ 1584 2216 1326 1975 \nQ 1069 1734 1069 1313 \nQ 1069 891 1326 650 \nQ 1584 409 2034 409 \nQ 2484 409 2743 651 \nQ 3003 894 3003 1313 \nQ 3003 1734 2745 1975 \nQ 2488 2216 2034 2216 \nz\nM 1403 2484 \nQ 997 2584 770 2862 \nQ 544 3141 544 3541 \nQ 544 4100 942 4425 \nQ 1341 4750 2034 4750 \nQ 2731 4750 3128 4425 \nQ 3525 4100 3525 3541 \nQ 3525 3141 3298 2862 \nQ 3072 2584 2669 2484 \nQ 3125 2378 3379 2068 \nQ 3634 1759 3634 1313 \nQ 3634 634 3220 271 \nQ 2806 -91 2034 -91 \nQ 1263 -91 848 271 \nQ 434 634 434 1313 \nQ 434 1759 690 2068 \nQ 947 2378 1403 2484 \nz\nM 1172 3481 \nQ 1172 3119 1398 2916 \nQ 1625 2713 2034 2713 \nQ 2441 2713 2670 2916 \nQ 2900 3119 2900 3481 \nQ 2900 3844 2670 4047 \nQ 2441 4250 2034 4250 \nQ 1625 4250 1398 4047 \nQ 1172 3844 1172 3481 \nz\n\" transform=\"scale(0.015625)\"/>\n       </defs>\n       <use xlink:href=\"#DejaVuSans-30\"/>\n       <use xlink:href=\"#DejaVuSans-2e\" x=\"63.623047\"/>\n       <use xlink:href=\"#DejaVuSans-38\" x=\"95.410156\"/>\n      </g>\n     </g>\n    </g>\n    <g id=\"xtick_9\">\n     <g id=\"line2d_9\">\n      <path d=\"M 399.096441 288.430125 \nL 399.096441 22.318125 \n\" clip-path=\"url(#pb42b081d00)\" style=\"fill: none; stroke: #ffffff; stroke-width: 0.8; stroke-linecap: round\"/>\n     </g>\n     <g id=\"text_9\">\n      <!-- 1.0 -->\n      <g style=\"fill: #262626\" transform=\"translate(391.144878 303.028562) scale(0.1 -0.1)\">\n       <defs>\n        <path id=\"DejaVuSans-31\" d=\"M 794 531 \nL 1825 531 \nL 1825 4091 \nL 703 3866 \nL 703 4441 \nL 1819 4666 \nL 2450 4666 \nL 2450 531 \nL 3481 531 \nL 3481 0 \nL 794 0 \nL 794 531 \nz\n\" transform=\"scale(0.015625)\"/>\n       </defs>\n       <use xlink:href=\"#DejaVuSans-31\"/>\n       <use xlink:href=\"#DejaVuSans-2e\" x=\"63.623047\"/>\n       <use xlink:href=\"#DejaVuSans-30\" x=\"95.410156\"/>\n      </g>\n     </g>\n    </g>\n    <g id=\"text_10\">\n     <!-- PCA 1 -->\n     <g style=\"fill: #262626\" transform=\"translate(222.386562 316.706687) scale(0.1 -0.1)\">\n      <defs>\n       <path id=\"DejaVuSans-50\" d=\"M 1259 4147 \nL 1259 2394 \nL 2053 2394 \nQ 2494 2394 2734 2622 \nQ 2975 2850 2975 3272 \nQ 2975 3691 2734 3919 \nQ 2494 4147 2053 4147 \nL 1259 4147 \nz\nM 628 4666 \nL 2053 4666 \nQ 2838 4666 3239 4311 \nQ 3641 3956 3641 3272 \nQ 3641 2581 3239 2228 \nQ 2838 1875 2053 1875 \nL 1259 1875 \nL 1259 0 \nL 628 0 \nL 628 4666 \nz\n\" transform=\"scale(0.015625)\"/>\n       <path id=\"DejaVuSans-43\" d=\"M 4122 4306 \nL 4122 3641 \nQ 3803 3938 3442 4084 \nQ 3081 4231 2675 4231 \nQ 1875 4231 1450 3742 \nQ 1025 3253 1025 2328 \nQ 1025 1406 1450 917 \nQ 1875 428 2675 428 \nQ 3081 428 3442 575 \nQ 3803 722 4122 1019 \nL 4122 359 \nQ 3791 134 3420 21 \nQ 3050 -91 2638 -91 \nQ 1578 -91 968 557 \nQ 359 1206 359 2328 \nQ 359 3453 968 4101 \nQ 1578 4750 2638 4750 \nQ 3056 4750 3426 4639 \nQ 3797 4528 4122 4306 \nz\n\" transform=\"scale(0.015625)\"/>\n       <path id=\"DejaVuSans-41\" d=\"M 2188 4044 \nL 1331 1722 \nL 3047 1722 \nL 2188 4044 \nz\nM 1831 4666 \nL 2547 4666 \nL 4325 0 \nL 3669 0 \nL 3244 1197 \nL 1141 1197 \nL 716 0 \nL 50 0 \nL 1831 4666 \nz\n\" transform=\"scale(0.015625)\"/>\n       <path id=\"DejaVuSans-20\" transform=\"scale(0.015625)\"/>\n      </defs>\n      <use xlink:href=\"#DejaVuSans-50\"/>\n      <use xlink:href=\"#DejaVuSans-43\" x=\"60.302734\"/>\n      <use xlink:href=\"#DejaVuSans-41\" x=\"130.126953\"/>\n      <use xlink:href=\"#DejaVuSans-20\" x=\"198.535156\"/>\n      <use xlink:href=\"#DejaVuSans-31\" x=\"230.322266\"/>\n     </g>\n    </g>\n   </g>\n   <g id=\"matplotlib.axis_2\">\n    <g id=\"ytick_1\">\n     <g id=\"line2d_10\">\n      <path d=\"M 58.523438 272.584478 \nL 415.643438 272.584478 \n\" clip-path=\"url(#pb42b081d00)\" style=\"fill: none; stroke: #ffffff; stroke-width: 0.8; stroke-linecap: round\"/>\n     </g>\n     <g id=\"text_11\">\n      <!-- −0.75 -->\n      <g style=\"fill: #262626\" transform=\"translate(20.878125 276.383697) scale(0.1 -0.1)\">\n       <defs>\n        <path id=\"DejaVuSans-37\" d=\"M 525 4666 \nL 3525 4666 \nL 3525 4397 \nL 1831 0 \nL 1172 0 \nL 2766 4134 \nL 525 4134 \nL 525 4666 \nz\n\" transform=\"scale(0.015625)\"/>\n        <path id=\"DejaVuSans-35\" d=\"M 691 4666 \nL 3169 4666 \nL 3169 4134 \nL 1269 4134 \nL 1269 2991 \nQ 1406 3038 1543 3061 \nQ 1681 3084 1819 3084 \nQ 2600 3084 3056 2656 \nQ 3513 2228 3513 1497 \nQ 3513 744 3044 326 \nQ 2575 -91 1722 -91 \nQ 1428 -91 1123 -41 \nQ 819 9 494 109 \nL 494 744 \nQ 775 591 1075 516 \nQ 1375 441 1709 441 \nQ 2250 441 2565 725 \nQ 2881 1009 2881 1497 \nQ 2881 1984 2565 2268 \nQ 2250 2553 1709 2553 \nQ 1456 2553 1204 2497 \nQ 953 2441 691 2322 \nL 691 4666 \nz\n\" transform=\"scale(0.015625)\"/>\n       </defs>\n       <use xlink:href=\"#DejaVuSans-2212\"/>\n       <use xlink:href=\"#DejaVuSans-30\" x=\"83.789062\"/>\n       <use xlink:href=\"#DejaVuSans-2e\" x=\"147.412109\"/>\n       <use xlink:href=\"#DejaVuSans-37\" x=\"179.199219\"/>\n       <use xlink:href=\"#DejaVuSans-35\" x=\"242.822266\"/>\n      </g>\n     </g>\n    </g>\n    <g id=\"ytick_2\">\n     <g id=\"line2d_11\">\n      <path d=\"M 58.523438 236.781911 \nL 415.643438 236.781911 \n\" clip-path=\"url(#pb42b081d00)\" style=\"fill: none; stroke: #ffffff; stroke-width: 0.8; stroke-linecap: round\"/>\n     </g>\n     <g id=\"text_12\">\n      <!-- −0.50 -->\n      <g style=\"fill: #262626\" transform=\"translate(20.878125 240.581129) scale(0.1 -0.1)\">\n       <use xlink:href=\"#DejaVuSans-2212\"/>\n       <use xlink:href=\"#DejaVuSans-30\" x=\"83.789062\"/>\n       <use xlink:href=\"#DejaVuSans-2e\" x=\"147.412109\"/>\n       <use xlink:href=\"#DejaVuSans-35\" x=\"179.199219\"/>\n       <use xlink:href=\"#DejaVuSans-30\" x=\"242.822266\"/>\n      </g>\n     </g>\n    </g>\n    <g id=\"ytick_3\">\n     <g id=\"line2d_12\">\n      <path d=\"M 58.523438 200.979343 \nL 415.643438 200.979343 \n\" clip-path=\"url(#pb42b081d00)\" style=\"fill: none; stroke: #ffffff; stroke-width: 0.8; stroke-linecap: round\"/>\n     </g>\n     <g id=\"text_13\">\n      <!-- −0.25 -->\n      <g style=\"fill: #262626\" transform=\"translate(20.878125 204.778562) scale(0.1 -0.1)\">\n       <use xlink:href=\"#DejaVuSans-2212\"/>\n       <use xlink:href=\"#DejaVuSans-30\" x=\"83.789062\"/>\n       <use xlink:href=\"#DejaVuSans-2e\" x=\"147.412109\"/>\n       <use xlink:href=\"#DejaVuSans-32\" x=\"179.199219\"/>\n       <use xlink:href=\"#DejaVuSans-35\" x=\"242.822266\"/>\n      </g>\n     </g>\n    </g>\n    <g id=\"ytick_4\">\n     <g id=\"line2d_13\">\n      <path d=\"M 58.523438 165.176776 \nL 415.643438 165.176776 \n\" clip-path=\"url(#pb42b081d00)\" style=\"fill: none; stroke: #ffffff; stroke-width: 0.8; stroke-linecap: round\"/>\n     </g>\n     <g id=\"text_14\">\n      <!-- 0.00 -->\n      <g style=\"fill: #262626\" transform=\"translate(29.257813 168.975995) scale(0.1 -0.1)\">\n       <use xlink:href=\"#DejaVuSans-30\"/>\n       <use xlink:href=\"#DejaVuSans-2e\" x=\"63.623047\"/>\n       <use xlink:href=\"#DejaVuSans-30\" x=\"95.410156\"/>\n       <use xlink:href=\"#DejaVuSans-30\" x=\"159.033203\"/>\n      </g>\n     </g>\n    </g>\n    <g id=\"ytick_5\">\n     <g id=\"line2d_14\">\n      <path d=\"M 58.523438 129.374209 \nL 415.643438 129.374209 \n\" clip-path=\"url(#pb42b081d00)\" style=\"fill: none; stroke: #ffffff; stroke-width: 0.8; stroke-linecap: round\"/>\n     </g>\n     <g id=\"text_15\">\n      <!-- 0.25 -->\n      <g style=\"fill: #262626\" transform=\"translate(29.257813 133.173428) scale(0.1 -0.1)\">\n       <use xlink:href=\"#DejaVuSans-30\"/>\n       <use xlink:href=\"#DejaVuSans-2e\" x=\"63.623047\"/>\n       <use xlink:href=\"#DejaVuSans-32\" x=\"95.410156\"/>\n       <use xlink:href=\"#DejaVuSans-35\" x=\"159.033203\"/>\n      </g>\n     </g>\n    </g>\n    <g id=\"ytick_6\">\n     <g id=\"line2d_15\">\n      <path d=\"M 58.523438 93.571642 \nL 415.643438 93.571642 \n\" clip-path=\"url(#pb42b081d00)\" style=\"fill: none; stroke: #ffffff; stroke-width: 0.8; stroke-linecap: round\"/>\n     </g>\n     <g id=\"text_16\">\n      <!-- 0.50 -->\n      <g style=\"fill: #262626\" transform=\"translate(29.257813 97.37086) scale(0.1 -0.1)\">\n       <use xlink:href=\"#DejaVuSans-30\"/>\n       <use xlink:href=\"#DejaVuSans-2e\" x=\"63.623047\"/>\n       <use xlink:href=\"#DejaVuSans-35\" x=\"95.410156\"/>\n       <use xlink:href=\"#DejaVuSans-30\" x=\"159.033203\"/>\n      </g>\n     </g>\n    </g>\n    <g id=\"ytick_7\">\n     <g id=\"line2d_16\">\n      <path d=\"M 58.523438 57.769074 \nL 415.643438 57.769074 \n\" clip-path=\"url(#pb42b081d00)\" style=\"fill: none; stroke: #ffffff; stroke-width: 0.8; stroke-linecap: round\"/>\n     </g>\n     <g id=\"text_17\">\n      <!-- 0.75 -->\n      <g style=\"fill: #262626\" transform=\"translate(29.257813 61.568293) scale(0.1 -0.1)\">\n       <use xlink:href=\"#DejaVuSans-30\"/>\n       <use xlink:href=\"#DejaVuSans-2e\" x=\"63.623047\"/>\n       <use xlink:href=\"#DejaVuSans-37\" x=\"95.410156\"/>\n       <use xlink:href=\"#DejaVuSans-35\" x=\"159.033203\"/>\n      </g>\n     </g>\n    </g>\n    <g id=\"text_18\">\n     <!-- PCA 2 -->\n     <g style=\"fill: #262626\" transform=\"translate(14.798438 170.071) rotate(-90) scale(0.1 -0.1)\">\n      <use xlink:href=\"#DejaVuSans-50\"/>\n      <use xlink:href=\"#DejaVuSans-43\" x=\"60.302734\"/>\n      <use xlink:href=\"#DejaVuSans-41\" x=\"130.126953\"/>\n      <use xlink:href=\"#DejaVuSans-20\" x=\"198.535156\"/>\n      <use xlink:href=\"#DejaVuSans-32\" x=\"230.322266\"/>\n     </g>\n    </g>\n   </g>\n   <g id=\"PathCollection_1\">\n    <defs>\n     <path id=\"mef8e7892a7\" d=\"M 0 3 \nC 0.795609 3 1.55874 2.683901 2.12132 2.12132 \nC 2.683901 1.55874 3 0.795609 3 0 \nC 3 -0.795609 2.683901 -1.55874 2.12132 -2.12132 \nC 1.55874 -2.683901 0.795609 -3 0 -3 \nC -0.795609 -3 -1.55874 -2.683901 -2.12132 -2.12132 \nC -2.683901 -1.55874 -3 -0.795609 -3 0 \nC -3 0.795609 -2.683901 1.55874 -2.12132 2.12132 \nC -1.55874 2.683901 -0.795609 3 0 3 \nz\n\" style=\"stroke: #ffffff; stroke-opacity: 0.1; stroke-width: 0.48\"/>\n    </defs>\n    <g clip-path=\"url(#pb42b081d00)\">\n     <use xlink:href=\"#mef8e7892a7\" x=\"84.841\" y=\"138.207767\" style=\"fill: #386df9; fill-opacity: 0.1; stroke: #ffffff; stroke-opacity: 0.1; stroke-width: 0.48\"/>\n     <use xlink:href=\"#mef8e7892a7\" x=\"84.11698\" y=\"276.334125\" style=\"fill: #386df9; fill-opacity: 0.1; stroke: #ffffff; stroke-opacity: 0.1; stroke-width: 0.48\"/>\n     <use xlink:href=\"#mef8e7892a7\" x=\"84.11698\" y=\"276.334125\" style=\"fill: #386df9; fill-opacity: 0.1; stroke: #ffffff; stroke-opacity: 0.1; stroke-width: 0.48\"/>\n     <use xlink:href=\"#mef8e7892a7\" x=\"84.11698\" y=\"276.334125\" style=\"fill: #386df9; fill-opacity: 0.1; stroke: #ffffff; stroke-opacity: 0.1; stroke-width: 0.48\"/>\n     <use xlink:href=\"#mef8e7892a7\" x=\"94.597678\" y=\"221.759179\" style=\"fill: #386df9; fill-opacity: 0.1; stroke: #ffffff; stroke-opacity: 0.1; stroke-width: 0.48\"/>\n     <use xlink:href=\"#mef8e7892a7\" x=\"85.258302\" y=\"189.352562\" style=\"fill: #386df9; fill-opacity: 0.1; stroke: #ffffff; stroke-opacity: 0.1; stroke-width: 0.48\"/>\n     <use xlink:href=\"#mef8e7892a7\" x=\"74.756165\" y=\"145.025601\" style=\"fill: #386df9; fill-opacity: 0.1; stroke: #ffffff; stroke-opacity: 0.1; stroke-width: 0.48\"/>\n     <use xlink:href=\"#mef8e7892a7\" x=\"74.756165\" y=\"145.025601\" style=\"fill: #386df9; fill-opacity: 0.1; stroke: #ffffff; stroke-opacity: 0.1; stroke-width: 0.48\"/>\n     <use xlink:href=\"#mef8e7892a7\" x=\"95.614541\" y=\"161.83658\" style=\"fill: #386df9; fill-opacity: 0.1; stroke: #ffffff; stroke-opacity: 0.1; stroke-width: 0.48\"/>\n     <use xlink:href=\"#mef8e7892a7\" x=\"91.648907\" y=\"154.823708\" style=\"fill: #386df9; fill-opacity: 0.1; stroke: #ffffff; stroke-opacity: 0.1; stroke-width: 0.48\"/>\n     <use xlink:href=\"#mef8e7892a7\" x=\"91.648907\" y=\"154.823708\" style=\"fill: #386df9; fill-opacity: 0.1; stroke: #ffffff; stroke-opacity: 0.1; stroke-width: 0.48\"/>\n     <use xlink:href=\"#mef8e7892a7\" x=\"84.428607\" y=\"149.986394\" style=\"fill: #386df9; fill-opacity: 0.1; stroke: #ffffff; stroke-opacity: 0.1; stroke-width: 0.48\"/>\n     <use xlink:href=\"#mef8e7892a7\" x=\"84.428607\" y=\"149.986394\" style=\"fill: #386df9; fill-opacity: 0.1; stroke: #ffffff; stroke-opacity: 0.1; stroke-width: 0.48\"/>\n     <use xlink:href=\"#mef8e7892a7\" x=\"84.291503\" y=\"165.211473\" style=\"fill: #386df9; fill-opacity: 0.1; stroke: #ffffff; stroke-opacity: 0.1; stroke-width: 0.48\"/>\n     <use xlink:href=\"#mef8e7892a7\" x=\"90.931728\" y=\"195.031123\" style=\"fill: #386df9; fill-opacity: 0.1; stroke: #ffffff; stroke-opacity: 0.1; stroke-width: 0.48\"/>\n     <use xlink:href=\"#mef8e7892a7\" x=\"90.931728\" y=\"195.031123\" style=\"fill: #386df9; fill-opacity: 0.1; stroke: #ffffff; stroke-opacity: 0.1; stroke-width: 0.48\"/>\n     <use xlink:href=\"#mef8e7892a7\" x=\"90.931728\" y=\"195.031123\" style=\"fill: #386df9; fill-opacity: 0.1; stroke: #ffffff; stroke-opacity: 0.1; stroke-width: 0.48\"/>\n     <use xlink:href=\"#mef8e7892a7\" x=\"89.026592\" y=\"147.791626\" style=\"fill: #386df9; fill-opacity: 0.1; stroke: #ffffff; stroke-opacity: 0.1; stroke-width: 0.48\"/>\n     <use xlink:href=\"#mef8e7892a7\" x=\"89.026592\" y=\"147.791626\" style=\"fill: #386df9; fill-opacity: 0.1; stroke: #ffffff; stroke-opacity: 0.1; stroke-width: 0.48\"/>\n     <use xlink:href=\"#mef8e7892a7\" x=\"89.026592\" y=\"147.791626\" style=\"fill: #386df9; fill-opacity: 0.1; stroke: #ffffff; stroke-opacity: 0.1; stroke-width: 0.48\"/>\n     <use xlink:href=\"#mef8e7892a7\" x=\"84.574413\" y=\"228.11352\" style=\"fill: #386df9; fill-opacity: 0.1; stroke: #ffffff; stroke-opacity: 0.1; stroke-width: 0.48\"/>\n     <use xlink:href=\"#mef8e7892a7\" x=\"84.574413\" y=\"228.11352\" style=\"fill: #386df9; fill-opacity: 0.1; stroke: #ffffff; stroke-opacity: 0.1; stroke-width: 0.48\"/>\n     <use xlink:href=\"#mef8e7892a7\" x=\"84.574413\" y=\"228.11352\" style=\"fill: #386df9; fill-opacity: 0.1; stroke: #ffffff; stroke-opacity: 0.1; stroke-width: 0.48\"/>\n     <use xlink:href=\"#mef8e7892a7\" x=\"94.545437\" y=\"100.875276\" style=\"fill: #386df9; fill-opacity: 0.1; stroke: #ffffff; stroke-opacity: 0.1; stroke-width: 0.48\"/>\n     <use xlink:href=\"#mef8e7892a7\" x=\"94.545437\" y=\"100.875276\" style=\"fill: #386df9; fill-opacity: 0.1; stroke: #ffffff; stroke-opacity: 0.1; stroke-width: 0.48\"/>\n     <use xlink:href=\"#mef8e7892a7\" x=\"91.138237\" y=\"234.542094\" style=\"fill: #386df9; fill-opacity: 0.1; stroke: #ffffff; stroke-opacity: 0.1; stroke-width: 0.48\"/>\n     <use xlink:href=\"#mef8e7892a7\" x=\"88.059654\" y=\"155.632039\" style=\"fill: #386df9; fill-opacity: 0.1; stroke: #ffffff; stroke-opacity: 0.1; stroke-width: 0.48\"/>\n     <use xlink:href=\"#mef8e7892a7\" x=\"87.590901\" y=\"195.753939\" style=\"fill: #386df9; fill-opacity: 0.1; stroke: #ffffff; stroke-opacity: 0.1; stroke-width: 0.48\"/>\n     <use xlink:href=\"#mef8e7892a7\" x=\"89.694476\" y=\"92.437823\" style=\"fill: #386df9; fill-opacity: 0.1; stroke: #ffffff; stroke-opacity: 0.1; stroke-width: 0.48\"/>\n     <use xlink:href=\"#mef8e7892a7\" x=\"89.694476\" y=\"92.437823\" style=\"fill: #386df9; fill-opacity: 0.1; stroke: #ffffff; stroke-opacity: 0.1; stroke-width: 0.48\"/>\n     <use xlink:href=\"#mef8e7892a7\" x=\"89.694476\" y=\"92.437823\" style=\"fill: #386df9; fill-opacity: 0.1; stroke: #ffffff; stroke-opacity: 0.1; stroke-width: 0.48\"/>\n     <use xlink:href=\"#mef8e7892a7\" x=\"89.694476\" y=\"92.437823\" style=\"fill: #386df9; fill-opacity: 0.1; stroke: #ffffff; stroke-opacity: 0.1; stroke-width: 0.48\"/>\n     <use xlink:href=\"#mef8e7892a7\" x=\"80.512224\" y=\"224.995076\" style=\"fill: #386df9; fill-opacity: 0.1; stroke: #ffffff; stroke-opacity: 0.1; stroke-width: 0.48\"/>\n     <use xlink:href=\"#mef8e7892a7\" x=\"85.751928\" y=\"151.076766\" style=\"fill: #386df9; fill-opacity: 0.1; stroke: #ffffff; stroke-opacity: 0.1; stroke-width: 0.48\"/>\n     <use xlink:href=\"#mef8e7892a7\" x=\"88.391167\" y=\"227.54399\" style=\"fill: #386df9; fill-opacity: 0.1; stroke: #ffffff; stroke-opacity: 0.1; stroke-width: 0.48\"/>\n     <use xlink:href=\"#mef8e7892a7\" x=\"85.824992\" y=\"186.797892\" style=\"fill: #386df9; fill-opacity: 0.1; stroke: #ffffff; stroke-opacity: 0.1; stroke-width: 0.48\"/>\n     <use xlink:href=\"#mef8e7892a7\" x=\"85.824992\" y=\"186.797892\" style=\"fill: #386df9; fill-opacity: 0.1; stroke: #ffffff; stroke-opacity: 0.1; stroke-width: 0.48\"/>\n     <use xlink:href=\"#mef8e7892a7\" x=\"85.906976\" y=\"101.465403\" style=\"fill: #386df9; fill-opacity: 0.1; stroke: #ffffff; stroke-opacity: 0.1; stroke-width: 0.48\"/>\n     <use xlink:href=\"#mef8e7892a7\" x=\"85.906976\" y=\"101.465403\" style=\"fill: #386df9; fill-opacity: 0.1; stroke: #ffffff; stroke-opacity: 0.1; stroke-width: 0.48\"/>\n     <use xlink:href=\"#mef8e7892a7\" x=\"87.38034\" y=\"179.74439\" style=\"fill: #386df9; fill-opacity: 0.1; stroke: #ffffff; stroke-opacity: 0.1; stroke-width: 0.48\"/>\n     <use xlink:href=\"#mef8e7892a7\" x=\"85.435379\" y=\"158.748153\" style=\"fill: #386df9; fill-opacity: 0.1; stroke: #ffffff; stroke-opacity: 0.1; stroke-width: 0.48\"/>\n     <use xlink:href=\"#mef8e7892a7\" x=\"85.435379\" y=\"158.748153\" style=\"fill: #386df9; fill-opacity: 0.1; stroke: #ffffff; stroke-opacity: 0.1; stroke-width: 0.48\"/>\n     <use xlink:href=\"#mef8e7892a7\" x=\"84.13179\" y=\"167.70833\" style=\"fill: #386df9; fill-opacity: 0.1; stroke: #ffffff; stroke-opacity: 0.1; stroke-width: 0.48\"/>\n     <use xlink:href=\"#mef8e7892a7\" x=\"87.125606\" y=\"257.386211\" style=\"fill: #386df9; fill-opacity: 0.1; stroke: #ffffff; stroke-opacity: 0.1; stroke-width: 0.48\"/>\n     <use xlink:href=\"#mef8e7892a7\" x=\"87.125606\" y=\"257.386211\" style=\"fill: #386df9; fill-opacity: 0.1; stroke: #ffffff; stroke-opacity: 0.1; stroke-width: 0.48\"/>\n     <use xlink:href=\"#mef8e7892a7\" x=\"87.125606\" y=\"257.386211\" style=\"fill: #386df9; fill-opacity: 0.1; stroke: #ffffff; stroke-opacity: 0.1; stroke-width: 0.48\"/>\n     <use xlink:href=\"#mef8e7892a7\" x=\"88.884014\" y=\"165.242032\" style=\"fill: #386df9; fill-opacity: 0.1; stroke: #ffffff; stroke-opacity: 0.1; stroke-width: 0.48\"/>\n     <use xlink:href=\"#mef8e7892a7\" x=\"83.029455\" y=\"193.463415\" style=\"fill: #386df9; fill-opacity: 0.1; stroke: #ffffff; stroke-opacity: 0.1; stroke-width: 0.48\"/>\n     <use xlink:href=\"#mef8e7892a7\" x=\"83.029455\" y=\"193.463415\" style=\"fill: #386df9; fill-opacity: 0.1; stroke: #ffffff; stroke-opacity: 0.1; stroke-width: 0.48\"/>\n     <use xlink:href=\"#mef8e7892a7\" x=\"86.780129\" y=\"128.966148\" style=\"fill: #386df9; fill-opacity: 0.1; stroke: #ffffff; stroke-opacity: 0.1; stroke-width: 0.48\"/>\n     <use xlink:href=\"#mef8e7892a7\" x=\"86.780129\" y=\"128.966148\" style=\"fill: #386df9; fill-opacity: 0.1; stroke: #ffffff; stroke-opacity: 0.1; stroke-width: 0.48\"/>\n     <use xlink:href=\"#mef8e7892a7\" x=\"86.780129\" y=\"128.966148\" style=\"fill: #386df9; fill-opacity: 0.1; stroke: #ffffff; stroke-opacity: 0.1; stroke-width: 0.48\"/>\n     <use xlink:href=\"#mef8e7892a7\" x=\"86.780129\" y=\"128.966148\" style=\"fill: #386df9; fill-opacity: 0.1; stroke: #ffffff; stroke-opacity: 0.1; stroke-width: 0.48\"/>\n     <use xlink:href=\"#mef8e7892a7\" x=\"86.780129\" y=\"128.966148\" style=\"fill: #386df9; fill-opacity: 0.1; stroke: #ffffff; stroke-opacity: 0.1; stroke-width: 0.48\"/>\n     <use xlink:href=\"#mef8e7892a7\" x=\"83.100538\" y=\"168.976436\" style=\"fill: #386df9; fill-opacity: 0.1; stroke: #ffffff; stroke-opacity: 0.1; stroke-width: 0.48\"/>\n     <use xlink:href=\"#mef8e7892a7\" x=\"83.100538\" y=\"168.976436\" style=\"fill: #386df9; fill-opacity: 0.1; stroke: #ffffff; stroke-opacity: 0.1; stroke-width: 0.48\"/>\n     <use xlink:href=\"#mef8e7892a7\" x=\"83.100538\" y=\"168.976436\" style=\"fill: #386df9; fill-opacity: 0.1; stroke: #ffffff; stroke-opacity: 0.1; stroke-width: 0.48\"/>\n     <use xlink:href=\"#mef8e7892a7\" x=\"83.100538\" y=\"168.976436\" style=\"fill: #386df9; fill-opacity: 0.1; stroke: #ffffff; stroke-opacity: 0.1; stroke-width: 0.48\"/>\n     <use xlink:href=\"#mef8e7892a7\" x=\"83.100538\" y=\"168.976436\" style=\"fill: #386df9; fill-opacity: 0.1; stroke: #ffffff; stroke-opacity: 0.1; stroke-width: 0.48\"/>\n     <use xlink:href=\"#mef8e7892a7\" x=\"88.17941\" y=\"214.219472\" style=\"fill: #386df9; fill-opacity: 0.1; stroke: #ffffff; stroke-opacity: 0.1; stroke-width: 0.48\"/>\n     <use xlink:href=\"#mef8e7892a7\" x=\"87.521501\" y=\"180.101796\" style=\"fill: #386df9; fill-opacity: 0.1; stroke: #ffffff; stroke-opacity: 0.1; stroke-width: 0.48\"/>\n     <use xlink:href=\"#mef8e7892a7\" x=\"87.521501\" y=\"180.101796\" style=\"fill: #386df9; fill-opacity: 0.1; stroke: #ffffff; stroke-opacity: 0.1; stroke-width: 0.48\"/>\n     <use xlink:href=\"#mef8e7892a7\" x=\"87.521501\" y=\"180.101796\" style=\"fill: #386df9; fill-opacity: 0.1; stroke: #ffffff; stroke-opacity: 0.1; stroke-width: 0.48\"/>\n     <use xlink:href=\"#mef8e7892a7\" x=\"87.521501\" y=\"180.101796\" style=\"fill: #386df9; fill-opacity: 0.1; stroke: #ffffff; stroke-opacity: 0.1; stroke-width: 0.48\"/>\n     <use xlink:href=\"#mef8e7892a7\" x=\"90.579662\" y=\"208.518843\" style=\"fill: #386df9; fill-opacity: 0.1; stroke: #ffffff; stroke-opacity: 0.1; stroke-width: 0.48\"/>\n     <use xlink:href=\"#mef8e7892a7\" x=\"90.579662\" y=\"208.518843\" style=\"fill: #386df9; fill-opacity: 0.1; stroke: #ffffff; stroke-opacity: 0.1; stroke-width: 0.48\"/>\n     <use xlink:href=\"#mef8e7892a7\" x=\"83.886626\" y=\"216.392002\" style=\"fill: #386df9; fill-opacity: 0.1; stroke: #ffffff; stroke-opacity: 0.1; stroke-width: 0.48\"/>\n     <use xlink:href=\"#mef8e7892a7\" x=\"83.886626\" y=\"216.392002\" style=\"fill: #386df9; fill-opacity: 0.1; stroke: #ffffff; stroke-opacity: 0.1; stroke-width: 0.48\"/>\n     <use xlink:href=\"#mef8e7892a7\" x=\"83.886626\" y=\"216.392002\" style=\"fill: #386df9; fill-opacity: 0.1; stroke: #ffffff; stroke-opacity: 0.1; stroke-width: 0.48\"/>\n     <use xlink:href=\"#mef8e7892a7\" x=\"83.886626\" y=\"216.392002\" style=\"fill: #386df9; fill-opacity: 0.1; stroke: #ffffff; stroke-opacity: 0.1; stroke-width: 0.48\"/>\n     <use xlink:href=\"#mef8e7892a7\" x=\"89.115238\" y=\"174.070402\" style=\"fill: #386df9; fill-opacity: 0.1; stroke: #ffffff; stroke-opacity: 0.1; stroke-width: 0.48\"/>\n     <use xlink:href=\"#mef8e7892a7\" x=\"84.55153\" y=\"149.561555\" style=\"fill: #386df9; fill-opacity: 0.1; stroke: #ffffff; stroke-opacity: 0.1; stroke-width: 0.48\"/>\n     <use xlink:href=\"#mef8e7892a7\" x=\"84.55153\" y=\"149.561555\" style=\"fill: #386df9; fill-opacity: 0.1; stroke: #ffffff; stroke-opacity: 0.1; stroke-width: 0.48\"/>\n     <use xlink:href=\"#mef8e7892a7\" x=\"88.27842\" y=\"149.4757\" style=\"fill: #386df9; fill-opacity: 0.1; stroke: #ffffff; stroke-opacity: 0.1; stroke-width: 0.48\"/>\n     <use xlink:href=\"#mef8e7892a7\" x=\"88.27842\" y=\"149.4757\" style=\"fill: #386df9; fill-opacity: 0.1; stroke: #ffffff; stroke-opacity: 0.1; stroke-width: 0.48\"/>\n     <use xlink:href=\"#mef8e7892a7\" x=\"88.400711\" y=\"201.530787\" style=\"fill: #386df9; fill-opacity: 0.1; stroke: #ffffff; stroke-opacity: 0.1; stroke-width: 0.48\"/>\n     <use xlink:href=\"#mef8e7892a7\" x=\"88.400711\" y=\"201.530787\" style=\"fill: #386df9; fill-opacity: 0.1; stroke: #ffffff; stroke-opacity: 0.1; stroke-width: 0.48\"/>\n     <use xlink:href=\"#mef8e7892a7\" x=\"88.400711\" y=\"201.530787\" style=\"fill: #386df9; fill-opacity: 0.1; stroke: #ffffff; stroke-opacity: 0.1; stroke-width: 0.48\"/>\n     <use xlink:href=\"#mef8e7892a7\" x=\"92.932593\" y=\"149.847813\" style=\"fill: #386df9; fill-opacity: 0.1; stroke: #ffffff; stroke-opacity: 0.1; stroke-width: 0.48\"/>\n     <use xlink:href=\"#mef8e7892a7\" x=\"81.24682\" y=\"107.556224\" style=\"fill: #386df9; fill-opacity: 0.1; stroke: #ffffff; stroke-opacity: 0.1; stroke-width: 0.48\"/>\n     <use xlink:href=\"#mef8e7892a7\" x=\"81.24682\" y=\"107.556224\" style=\"fill: #386df9; fill-opacity: 0.1; stroke: #ffffff; stroke-opacity: 0.1; stroke-width: 0.48\"/>\n     <use xlink:href=\"#mef8e7892a7\" x=\"84.966658\" y=\"228.157654\" style=\"fill: #386df9; fill-opacity: 0.1; stroke: #ffffff; stroke-opacity: 0.1; stroke-width: 0.48\"/>\n     <use xlink:href=\"#mef8e7892a7\" x=\"84.966658\" y=\"228.157654\" style=\"fill: #386df9; fill-opacity: 0.1; stroke: #ffffff; stroke-opacity: 0.1; stroke-width: 0.48\"/>\n     <use xlink:href=\"#mef8e7892a7\" x=\"93.215606\" y=\"146.431269\" style=\"fill: #386df9; fill-opacity: 0.1; stroke: #ffffff; stroke-opacity: 0.1; stroke-width: 0.48\"/>\n     <use xlink:href=\"#mef8e7892a7\" x=\"100.862696\" y=\"102.991544\" style=\"fill: #386df9; fill-opacity: 0.1; stroke: #ffffff; stroke-opacity: 0.1; stroke-width: 0.48\"/>\n     <use xlink:href=\"#mef8e7892a7\" x=\"92.563858\" y=\"148.561581\" style=\"fill: #386df9; fill-opacity: 0.1; stroke: #ffffff; stroke-opacity: 0.1; stroke-width: 0.48\"/>\n     <use xlink:href=\"#mef8e7892a7\" x=\"92.563858\" y=\"148.561581\" style=\"fill: #386df9; fill-opacity: 0.1; stroke: #ffffff; stroke-opacity: 0.1; stroke-width: 0.48\"/>\n     <use xlink:href=\"#mef8e7892a7\" x=\"92.563858\" y=\"148.561581\" style=\"fill: #386df9; fill-opacity: 0.1; stroke: #ffffff; stroke-opacity: 0.1; stroke-width: 0.48\"/>\n     <use xlink:href=\"#mef8e7892a7\" x=\"91.908505\" y=\"217.210942\" style=\"fill: #386df9; fill-opacity: 0.1; stroke: #ffffff; stroke-opacity: 0.1; stroke-width: 0.48\"/>\n     <use xlink:href=\"#mef8e7892a7\" x=\"91.908505\" y=\"217.210942\" style=\"fill: #386df9; fill-opacity: 0.1; stroke: #ffffff; stroke-opacity: 0.1; stroke-width: 0.48\"/>\n     <use xlink:href=\"#mef8e7892a7\" x=\"87.109755\" y=\"211.773408\" style=\"fill: #386df9; fill-opacity: 0.1; stroke: #ffffff; stroke-opacity: 0.1; stroke-width: 0.48\"/>\n     <use xlink:href=\"#mef8e7892a7\" x=\"87.109755\" y=\"211.773408\" style=\"fill: #386df9; fill-opacity: 0.1; stroke: #ffffff; stroke-opacity: 0.1; stroke-width: 0.48\"/>\n     <use xlink:href=\"#mef8e7892a7\" x=\"87.109755\" y=\"211.773408\" style=\"fill: #386df9; fill-opacity: 0.1; stroke: #ffffff; stroke-opacity: 0.1; stroke-width: 0.48\"/>\n     <use xlink:href=\"#mef8e7892a7\" x=\"94.711165\" y=\"94.78583\" style=\"fill: #386df9; fill-opacity: 0.1; stroke: #ffffff; stroke-opacity: 0.1; stroke-width: 0.48\"/>\n     <use xlink:href=\"#mef8e7892a7\" x=\"94.711165\" y=\"94.78583\" style=\"fill: #386df9; fill-opacity: 0.1; stroke: #ffffff; stroke-opacity: 0.1; stroke-width: 0.48\"/>\n     <use xlink:href=\"#mef8e7892a7\" x=\"90.682426\" y=\"155.880549\" style=\"fill: #386df9; fill-opacity: 0.1; stroke: #ffffff; stroke-opacity: 0.1; stroke-width: 0.48\"/>\n     <use xlink:href=\"#mef8e7892a7\" x=\"91.984853\" y=\"210.625343\" style=\"fill: #386df9; fill-opacity: 0.1; stroke: #ffffff; stroke-opacity: 0.1; stroke-width: 0.48\"/>\n     <use xlink:href=\"#mef8e7892a7\" x=\"91.984853\" y=\"210.625343\" style=\"fill: #386df9; fill-opacity: 0.1; stroke: #ffffff; stroke-opacity: 0.1; stroke-width: 0.48\"/>\n     <use xlink:href=\"#mef8e7892a7\" x=\"93.564914\" y=\"116.276553\" style=\"fill: #386df9; fill-opacity: 0.1; stroke: #ffffff; stroke-opacity: 0.1; stroke-width: 0.48\"/>\n     <use xlink:href=\"#mef8e7892a7\" x=\"93.564914\" y=\"116.276553\" style=\"fill: #386df9; fill-opacity: 0.1; stroke: #ffffff; stroke-opacity: 0.1; stroke-width: 0.48\"/>\n     <use xlink:href=\"#mef8e7892a7\" x=\"93.564914\" y=\"116.276553\" style=\"fill: #386df9; fill-opacity: 0.1; stroke: #ffffff; stroke-opacity: 0.1; stroke-width: 0.48\"/>\n     <use xlink:href=\"#mef8e7892a7\" x=\"93.564914\" y=\"116.276553\" style=\"fill: #386df9; fill-opacity: 0.1; stroke: #ffffff; stroke-opacity: 0.1; stroke-width: 0.48\"/>\n     <use xlink:href=\"#mef8e7892a7\" x=\"93.200102\" y=\"142.431449\" style=\"fill: #386df9; fill-opacity: 0.1; stroke: #ffffff; stroke-opacity: 0.1; stroke-width: 0.48\"/>\n     <use xlink:href=\"#mef8e7892a7\" x=\"93.200102\" y=\"142.431449\" style=\"fill: #386df9; fill-opacity: 0.1; stroke: #ffffff; stroke-opacity: 0.1; stroke-width: 0.48\"/>\n     <use xlink:href=\"#mef8e7892a7\" x=\"91.480901\" y=\"121.175242\" style=\"fill: #386df9; fill-opacity: 0.1; stroke: #ffffff; stroke-opacity: 0.1; stroke-width: 0.48\"/>\n     <use xlink:href=\"#mef8e7892a7\" x=\"91.480901\" y=\"121.175242\" style=\"fill: #386df9; fill-opacity: 0.1; stroke: #ffffff; stroke-opacity: 0.1; stroke-width: 0.48\"/>\n     <use xlink:href=\"#mef8e7892a7\" x=\"91.480901\" y=\"121.175242\" style=\"fill: #386df9; fill-opacity: 0.1; stroke: #ffffff; stroke-opacity: 0.1; stroke-width: 0.48\"/>\n     <use xlink:href=\"#mef8e7892a7\" x=\"92.915431\" y=\"183.593381\" style=\"fill: #386df9; fill-opacity: 0.1; stroke: #ffffff; stroke-opacity: 0.1; stroke-width: 0.48\"/>\n     <use xlink:href=\"#mef8e7892a7\" x=\"87.38034\" y=\"179.74439\" style=\"fill: #386df9; fill-opacity: 0.1; stroke: #ffffff; stroke-opacity: 0.1; stroke-width: 0.48\"/>\n     <use xlink:href=\"#mef8e7892a7\" x=\"90.334145\" y=\"183.97626\" style=\"fill: #386df9; fill-opacity: 0.1; stroke: #ffffff; stroke-opacity: 0.1; stroke-width: 0.48\"/>\n     <use xlink:href=\"#mef8e7892a7\" x=\"90.334145\" y=\"183.97626\" style=\"fill: #386df9; fill-opacity: 0.1; stroke: #ffffff; stroke-opacity: 0.1; stroke-width: 0.48\"/>\n     <use xlink:href=\"#mef8e7892a7\" x=\"90.334145\" y=\"183.97626\" style=\"fill: #386df9; fill-opacity: 0.1; stroke: #ffffff; stroke-opacity: 0.1; stroke-width: 0.48\"/>\n     <use xlink:href=\"#mef8e7892a7\" x=\"90.334145\" y=\"183.97626\" style=\"fill: #386df9; fill-opacity: 0.1; stroke: #ffffff; stroke-opacity: 0.1; stroke-width: 0.48\"/>\n     <use xlink:href=\"#mef8e7892a7\" x=\"90.334145\" y=\"183.97626\" style=\"fill: #386df9; fill-opacity: 0.1; stroke: #ffffff; stroke-opacity: 0.1; stroke-width: 0.48\"/>\n     <use xlink:href=\"#mef8e7892a7\" x=\"90.137883\" y=\"154.664844\" style=\"fill: #386df9; fill-opacity: 0.1; stroke: #ffffff; stroke-opacity: 0.1; stroke-width: 0.48\"/>\n     <use xlink:href=\"#mef8e7892a7\" x=\"93.356884\" y=\"174.526872\" style=\"fill: #386df9; fill-opacity: 0.1; stroke: #ffffff; stroke-opacity: 0.1; stroke-width: 0.48\"/>\n     <use xlink:href=\"#mef8e7892a7\" x=\"93.356884\" y=\"174.526872\" style=\"fill: #386df9; fill-opacity: 0.1; stroke: #ffffff; stroke-opacity: 0.1; stroke-width: 0.48\"/>\n     <use xlink:href=\"#mef8e7892a7\" x=\"93.356884\" y=\"174.526872\" style=\"fill: #386df9; fill-opacity: 0.1; stroke: #ffffff; stroke-opacity: 0.1; stroke-width: 0.48\"/>\n     <use xlink:href=\"#mef8e7892a7\" x=\"88.87598\" y=\"142.189536\" style=\"fill: #386df9; fill-opacity: 0.1; stroke: #ffffff; stroke-opacity: 0.1; stroke-width: 0.48\"/>\n     <use xlink:href=\"#mef8e7892a7\" x=\"88.87598\" y=\"142.189536\" style=\"fill: #386df9; fill-opacity: 0.1; stroke: #ffffff; stroke-opacity: 0.1; stroke-width: 0.48\"/>\n     <use xlink:href=\"#mef8e7892a7\" x=\"88.87598\" y=\"142.189536\" style=\"fill: #386df9; fill-opacity: 0.1; stroke: #ffffff; stroke-opacity: 0.1; stroke-width: 0.48\"/>\n     <use xlink:href=\"#mef8e7892a7\" x=\"94.981493\" y=\"128.39138\" style=\"fill: #386df9; fill-opacity: 0.1; stroke: #ffffff; stroke-opacity: 0.1; stroke-width: 0.48\"/>\n     <use xlink:href=\"#mef8e7892a7\" x=\"94.981493\" y=\"128.39138\" style=\"fill: #386df9; fill-opacity: 0.1; stroke: #ffffff; stroke-opacity: 0.1; stroke-width: 0.48\"/>\n     <use xlink:href=\"#mef8e7892a7\" x=\"91.915048\" y=\"184.177145\" style=\"fill: #386df9; fill-opacity: 0.1; stroke: #ffffff; stroke-opacity: 0.1; stroke-width: 0.48\"/>\n     <use xlink:href=\"#mef8e7892a7\" x=\"92.204279\" y=\"170.917887\" style=\"fill: #386df9; fill-opacity: 0.1; stroke: #ffffff; stroke-opacity: 0.1; stroke-width: 0.48\"/>\n     <use xlink:href=\"#mef8e7892a7\" x=\"92.204279\" y=\"170.917887\" style=\"fill: #386df9; fill-opacity: 0.1; stroke: #ffffff; stroke-opacity: 0.1; stroke-width: 0.48\"/>\n     <use xlink:href=\"#mef8e7892a7\" x=\"94.601786\" y=\"144.22605\" style=\"fill: #386df9; fill-opacity: 0.1; stroke: #ffffff; stroke-opacity: 0.1; stroke-width: 0.48\"/>\n     <use xlink:href=\"#mef8e7892a7\" x=\"94.601786\" y=\"144.22605\" style=\"fill: #386df9; fill-opacity: 0.1; stroke: #ffffff; stroke-opacity: 0.1; stroke-width: 0.48\"/>\n     <use xlink:href=\"#mef8e7892a7\" x=\"94.601786\" y=\"144.22605\" style=\"fill: #386df9; fill-opacity: 0.1; stroke: #ffffff; stroke-opacity: 0.1; stroke-width: 0.48\"/>\n     <use xlink:href=\"#mef8e7892a7\" x=\"90.190444\" y=\"156.937632\" style=\"fill: #386df9; fill-opacity: 0.1; stroke: #ffffff; stroke-opacity: 0.1; stroke-width: 0.48\"/>\n     <use xlink:href=\"#mef8e7892a7\" x=\"90.190444\" y=\"156.937632\" style=\"fill: #386df9; fill-opacity: 0.1; stroke: #ffffff; stroke-opacity: 0.1; stroke-width: 0.48\"/>\n     <use xlink:href=\"#mef8e7892a7\" x=\"90.190444\" y=\"156.937632\" style=\"fill: #386df9; fill-opacity: 0.1; stroke: #ffffff; stroke-opacity: 0.1; stroke-width: 0.48\"/>\n     <use xlink:href=\"#mef8e7892a7\" x=\"90.190444\" y=\"156.937632\" style=\"fill: #386df9; fill-opacity: 0.1; stroke: #ffffff; stroke-opacity: 0.1; stroke-width: 0.48\"/>\n     <use xlink:href=\"#mef8e7892a7\" x=\"94.15188\" y=\"229.165288\" style=\"fill: #386df9; fill-opacity: 0.1; stroke: #ffffff; stroke-opacity: 0.1; stroke-width: 0.48\"/>\n     <use xlink:href=\"#mef8e7892a7\" x=\"93.951756\" y=\"144.307672\" style=\"fill: #386df9; fill-opacity: 0.1; stroke: #ffffff; stroke-opacity: 0.1; stroke-width: 0.48\"/>\n     <use xlink:href=\"#mef8e7892a7\" x=\"92.608119\" y=\"161.100277\" style=\"fill: #386df9; fill-opacity: 0.1; stroke: #ffffff; stroke-opacity: 0.1; stroke-width: 0.48\"/>\n     <use xlink:href=\"#mef8e7892a7\" x=\"87.092326\" y=\"111.682928\" style=\"fill: #386df9; fill-opacity: 0.1; stroke: #ffffff; stroke-opacity: 0.1; stroke-width: 0.48\"/>\n     <use xlink:href=\"#mef8e7892a7\" x=\"86.864759\" y=\"163.099998\" style=\"fill: #386df9; fill-opacity: 0.1; stroke: #ffffff; stroke-opacity: 0.1; stroke-width: 0.48\"/>\n     <use xlink:href=\"#mef8e7892a7\" x=\"86.864759\" y=\"163.099998\" style=\"fill: #386df9; fill-opacity: 0.1; stroke: #ffffff; stroke-opacity: 0.1; stroke-width: 0.48\"/>\n     <use xlink:href=\"#mef8e7892a7\" x=\"94.22735\" y=\"148.020051\" style=\"fill: #386df9; fill-opacity: 0.1; stroke: #ffffff; stroke-opacity: 0.1; stroke-width: 0.48\"/>\n     <use xlink:href=\"#mef8e7892a7\" x=\"89.644307\" y=\"213.689689\" style=\"fill: #386df9; fill-opacity: 0.1; stroke: #ffffff; stroke-opacity: 0.1; stroke-width: 0.48\"/>\n     <use xlink:href=\"#mef8e7892a7\" x=\"87.113151\" y=\"117.871917\" style=\"fill: #386df9; fill-opacity: 0.1; stroke: #ffffff; stroke-opacity: 0.1; stroke-width: 0.48\"/>\n     <use xlink:href=\"#mef8e7892a7\" x=\"91.546751\" y=\"132.841429\" style=\"fill: #386df9; fill-opacity: 0.1; stroke: #ffffff; stroke-opacity: 0.1; stroke-width: 0.48\"/>\n     <use xlink:href=\"#mef8e7892a7\" x=\"91.546751\" y=\"132.841429\" style=\"fill: #386df9; fill-opacity: 0.1; stroke: #ffffff; stroke-opacity: 0.1; stroke-width: 0.48\"/>\n     <use xlink:href=\"#mef8e7892a7\" x=\"91.546751\" y=\"132.841429\" style=\"fill: #386df9; fill-opacity: 0.1; stroke: #ffffff; stroke-opacity: 0.1; stroke-width: 0.48\"/>\n     <use xlink:href=\"#mef8e7892a7\" x=\"90.398769\" y=\"119.808507\" style=\"fill: #386df9; fill-opacity: 0.1; stroke: #ffffff; stroke-opacity: 0.1; stroke-width: 0.48\"/>\n     <use xlink:href=\"#mef8e7892a7\" x=\"94.099293\" y=\"173.755538\" style=\"fill: #386df9; fill-opacity: 0.1; stroke: #ffffff; stroke-opacity: 0.1; stroke-width: 0.48\"/>\n     <use xlink:href=\"#mef8e7892a7\" x=\"94.099293\" y=\"173.755538\" style=\"fill: #386df9; fill-opacity: 0.1; stroke: #ffffff; stroke-opacity: 0.1; stroke-width: 0.48\"/>\n     <use xlink:href=\"#mef8e7892a7\" x=\"90.85714\" y=\"176.960599\" style=\"fill: #386df9; fill-opacity: 0.1; stroke: #ffffff; stroke-opacity: 0.1; stroke-width: 0.48\"/>\n     <use xlink:href=\"#mef8e7892a7\" x=\"79.736459\" y=\"213.604687\" style=\"fill: #386df9; fill-opacity: 0.1; stroke: #ffffff; stroke-opacity: 0.1; stroke-width: 0.48\"/>\n     <use xlink:href=\"#mef8e7892a7\" x=\"86.355994\" y=\"185.905369\" style=\"fill: #386df9; fill-opacity: 0.1; stroke: #ffffff; stroke-opacity: 0.1; stroke-width: 0.48\"/>\n     <use xlink:href=\"#mef8e7892a7\" x=\"86.355994\" y=\"185.905369\" style=\"fill: #386df9; fill-opacity: 0.1; stroke: #ffffff; stroke-opacity: 0.1; stroke-width: 0.48\"/>\n     <use xlink:href=\"#mef8e7892a7\" x=\"89.938579\" y=\"185.463424\" style=\"fill: #386df9; fill-opacity: 0.1; stroke: #ffffff; stroke-opacity: 0.1; stroke-width: 0.48\"/>\n     <use xlink:href=\"#mef8e7892a7\" x=\"89.938579\" y=\"185.463424\" style=\"fill: #386df9; fill-opacity: 0.1; stroke: #ffffff; stroke-opacity: 0.1; stroke-width: 0.48\"/>\n     <use xlink:href=\"#mef8e7892a7\" x=\"93.293205\" y=\"155.480451\" style=\"fill: #386df9; fill-opacity: 0.1; stroke: #ffffff; stroke-opacity: 0.1; stroke-width: 0.48\"/>\n     <use xlink:href=\"#mef8e7892a7\" x=\"95.592134\" y=\"160.831425\" style=\"fill: #386df9; fill-opacity: 0.1; stroke: #ffffff; stroke-opacity: 0.1; stroke-width: 0.48\"/>\n     <use xlink:href=\"#mef8e7892a7\" x=\"95.592134\" y=\"160.831425\" style=\"fill: #386df9; fill-opacity: 0.1; stroke: #ffffff; stroke-opacity: 0.1; stroke-width: 0.48\"/>\n     <use xlink:href=\"#mef8e7892a7\" x=\"95.592134\" y=\"160.831425\" style=\"fill: #386df9; fill-opacity: 0.1; stroke: #ffffff; stroke-opacity: 0.1; stroke-width: 0.48\"/>\n     <use xlink:href=\"#mef8e7892a7\" x=\"80.958392\" y=\"176.304195\" style=\"fill: #386df9; fill-opacity: 0.1; stroke: #ffffff; stroke-opacity: 0.1; stroke-width: 0.48\"/>\n     <use xlink:href=\"#mef8e7892a7\" x=\"95.903366\" y=\"123.177528\" style=\"fill: #386df9; fill-opacity: 0.1; stroke: #ffffff; stroke-opacity: 0.1; stroke-width: 0.48\"/>\n     <use xlink:href=\"#mef8e7892a7\" x=\"89.296087\" y=\"225.072348\" style=\"fill: #386df9; fill-opacity: 0.1; stroke: #ffffff; stroke-opacity: 0.1; stroke-width: 0.48\"/>\n     <use xlink:href=\"#mef8e7892a7\" x=\"97.071268\" y=\"146.075416\" style=\"fill: #386df9; fill-opacity: 0.1; stroke: #ffffff; stroke-opacity: 0.1; stroke-width: 0.48\"/>\n     <use xlink:href=\"#mef8e7892a7\" x=\"96.162445\" y=\"148.571861\" style=\"fill: #386df9; fill-opacity: 0.1; stroke: #ffffff; stroke-opacity: 0.1; stroke-width: 0.48\"/>\n     <use xlink:href=\"#mef8e7892a7\" x=\"96.162445\" y=\"148.571861\" style=\"fill: #386df9; fill-opacity: 0.1; stroke: #ffffff; stroke-opacity: 0.1; stroke-width: 0.48\"/>\n     <use xlink:href=\"#mef8e7892a7\" x=\"96.162445\" y=\"148.571861\" style=\"fill: #386df9; fill-opacity: 0.1; stroke: #ffffff; stroke-opacity: 0.1; stroke-width: 0.48\"/>\n     <use xlink:href=\"#mef8e7892a7\" x=\"99.743256\" y=\"168.152993\" style=\"fill: #386df9; fill-opacity: 0.1; stroke: #ffffff; stroke-opacity: 0.1; stroke-width: 0.48\"/>\n     <use xlink:href=\"#mef8e7892a7\" x=\"99.743256\" y=\"168.152993\" style=\"fill: #386df9; fill-opacity: 0.1; stroke: #ffffff; stroke-opacity: 0.1; stroke-width: 0.48\"/>\n     <use xlink:href=\"#mef8e7892a7\" x=\"85.227561\" y=\"99.497591\" style=\"fill: #386df9; fill-opacity: 0.1; stroke: #ffffff; stroke-opacity: 0.1; stroke-width: 0.48\"/>\n     <use xlink:href=\"#mef8e7892a7\" x=\"97.805342\" y=\"106.80907\" style=\"fill: #386df9; fill-opacity: 0.1; stroke: #ffffff; stroke-opacity: 0.1; stroke-width: 0.48\"/>\n     <use xlink:href=\"#mef8e7892a7\" x=\"97.805342\" y=\"106.80907\" style=\"fill: #386df9; fill-opacity: 0.1; stroke: #ffffff; stroke-opacity: 0.1; stroke-width: 0.48\"/>\n     <use xlink:href=\"#mef8e7892a7\" x=\"97.805342\" y=\"106.80907\" style=\"fill: #386df9; fill-opacity: 0.1; stroke: #ffffff; stroke-opacity: 0.1; stroke-width: 0.48\"/>\n     <use xlink:href=\"#mef8e7892a7\" x=\"97.805342\" y=\"106.80907\" style=\"fill: #386df9; fill-opacity: 0.1; stroke: #ffffff; stroke-opacity: 0.1; stroke-width: 0.48\"/>\n     <use xlink:href=\"#mef8e7892a7\" x=\"94.191356\" y=\"114.436477\" style=\"fill: #386df9; fill-opacity: 0.1; stroke: #ffffff; stroke-opacity: 0.1; stroke-width: 0.48\"/>\n     <use xlink:href=\"#mef8e7892a7\" x=\"94.191356\" y=\"114.436477\" style=\"fill: #386df9; fill-opacity: 0.1; stroke: #ffffff; stroke-opacity: 0.1; stroke-width: 0.48\"/>\n     <use xlink:href=\"#mef8e7892a7\" x=\"94.191356\" y=\"114.436477\" style=\"fill: #386df9; fill-opacity: 0.1; stroke: #ffffff; stroke-opacity: 0.1; stroke-width: 0.48\"/>\n     <use xlink:href=\"#mef8e7892a7\" x=\"385.24903\" y=\"119.938244\" style=\"fill: #386df9; fill-opacity: 0.1; stroke: #ffffff; stroke-opacity: 0.1; stroke-width: 0.48\"/>\n     <use xlink:href=\"#mef8e7892a7\" x=\"384.891521\" y=\"166.470837\" style=\"fill: #386df9; fill-opacity: 0.1; stroke: #ffffff; stroke-opacity: 0.1; stroke-width: 0.48\"/>\n     <use xlink:href=\"#mef8e7892a7\" x=\"386.073229\" y=\"227.631067\" style=\"fill: #386df9; fill-opacity: 0.1; stroke: #ffffff; stroke-opacity: 0.1; stroke-width: 0.48\"/>\n     <use xlink:href=\"#mef8e7892a7\" x=\"387.090093\" y=\"167.708468\" style=\"fill: #386df9; fill-opacity: 0.1; stroke: #ffffff; stroke-opacity: 0.1; stroke-width: 0.48\"/>\n     <use xlink:href=\"#mef8e7892a7\" x=\"380.808098\" y=\"136.991347\" style=\"fill: #386df9; fill-opacity: 0.1; stroke: #ffffff; stroke-opacity: 0.1; stroke-width: 0.48\"/>\n     <use xlink:href=\"#mef8e7892a7\" x=\"392.774559\" y=\"107.452316\" style=\"fill: #386df9; fill-opacity: 0.1; stroke: #ffffff; stroke-opacity: 0.1; stroke-width: 0.48\"/>\n     <use xlink:href=\"#mef8e7892a7\" x=\"389.753039\" y=\"110.726819\" style=\"fill: #386df9; fill-opacity: 0.1; stroke: #ffffff; stroke-opacity: 0.1; stroke-width: 0.48\"/>\n     <use xlink:href=\"#mef8e7892a7\" x=\"375.767054\" y=\"171.083361\" style=\"fill: #386df9; fill-opacity: 0.1; stroke: #ffffff; stroke-opacity: 0.1; stroke-width: 0.48\"/>\n     <use xlink:href=\"#mef8e7892a7\" x=\"382.407279\" y=\"200.903011\" style=\"fill: #386df9; fill-opacity: 0.1; stroke: #ffffff; stroke-opacity: 0.1; stroke-width: 0.48\"/>\n     <use xlink:href=\"#mef8e7892a7\" x=\"380.502143\" y=\"153.663514\" style=\"fill: #386df9; fill-opacity: 0.1; stroke: #ffffff; stroke-opacity: 0.1; stroke-width: 0.48\"/>\n     <use xlink:href=\"#mef8e7892a7\" x=\"381.848082\" y=\"244.146548\" style=\"fill: #386df9; fill-opacity: 0.1; stroke: #ffffff; stroke-opacity: 0.1; stroke-width: 0.48\"/>\n     <use xlink:href=\"#mef8e7892a7\" x=\"384.318149\" y=\"194.088243\" style=\"fill: #386df9; fill-opacity: 0.1; stroke: #ffffff; stroke-opacity: 0.1; stroke-width: 0.48\"/>\n     <use xlink:href=\"#mef8e7892a7\" x=\"391.883517\" y=\"173.975061\" style=\"fill: #386df9; fill-opacity: 0.1; stroke: #ffffff; stroke-opacity: 0.1; stroke-width: 0.48\"/>\n     <use xlink:href=\"#mef8e7892a7\" x=\"397.609648\" y=\"88.45721\" style=\"fill: #386df9; fill-opacity: 0.1; stroke: #ffffff; stroke-opacity: 0.1; stroke-width: 0.48\"/>\n     <use xlink:href=\"#mef8e7892a7\" x=\"382.607344\" y=\"174.199026\" style=\"fill: #386df9; fill-opacity: 0.1; stroke: #ffffff; stroke-opacity: 0.1; stroke-width: 0.48\"/>\n     <use xlink:href=\"#mef8e7892a7\" x=\"390.622084\" y=\"132.647527\" style=\"fill: #386df9; fill-opacity: 0.1; stroke: #ffffff; stroke-opacity: 0.1; stroke-width: 0.48\"/>\n     <use xlink:href=\"#mef8e7892a7\" x=\"394.559144\" y=\"152.026124\" style=\"fill: #386df9; fill-opacity: 0.1; stroke: #ffffff; stroke-opacity: 0.1; stroke-width: 0.48\"/>\n     <use xlink:href=\"#mef8e7892a7\" x=\"384.230657\" y=\"184.551848\" style=\"fill: #386df9; fill-opacity: 0.1; stroke: #ffffff; stroke-opacity: 0.1; stroke-width: 0.48\"/>\n     <use xlink:href=\"#mef8e7892a7\" x=\"391.848154\" y=\"182.537775\" style=\"fill: #386df9; fill-opacity: 0.1; stroke: #ffffff; stroke-opacity: 0.1; stroke-width: 0.48\"/>\n     <use xlink:href=\"#mef8e7892a7\" x=\"375.950753\" y=\"209.099718\" style=\"fill: #386df9; fill-opacity: 0.1; stroke: #ffffff; stroke-opacity: 0.1; stroke-width: 0.48\"/>\n     <use xlink:href=\"#mef8e7892a7\" x=\"384.886571\" y=\"254.125376\" style=\"fill: #386df9; fill-opacity: 0.1; stroke: #ffffff; stroke-opacity: 0.1; stroke-width: 0.48\"/>\n     <use xlink:href=\"#mef8e7892a7\" x=\"383.352508\" y=\"163.988003\" style=\"fill: #386df9; fill-opacity: 0.1; stroke: #ffffff; stroke-opacity: 0.1; stroke-width: 0.48\"/>\n     <use xlink:href=\"#mef8e7892a7\" x=\"388.670125\" y=\"152.916854\" style=\"fill: #386df9; fill-opacity: 0.1; stroke: #ffffff; stroke-opacity: 0.1; stroke-width: 0.48\"/>\n     <use xlink:href=\"#mef8e7892a7\" x=\"376.544494\" y=\"170.151782\" style=\"fill: #386df9; fill-opacity: 0.1; stroke: #ffffff; stroke-opacity: 0.1; stroke-width: 0.48\"/>\n     <use xlink:href=\"#mef8e7892a7\" x=\"385.808383\" y=\"211.727351\" style=\"fill: #386df9; fill-opacity: 0.1; stroke: #ffffff; stroke-opacity: 0.1; stroke-width: 0.48\"/>\n     <use xlink:href=\"#mef8e7892a7\" x=\"391.559777\" y=\"140.153497\" style=\"fill: #386df9; fill-opacity: 0.1; stroke: #ffffff; stroke-opacity: 0.1; stroke-width: 0.48\"/>\n     <use xlink:href=\"#mef8e7892a7\" x=\"385.135137\" y=\"101.541566\" style=\"fill: #386df9; fill-opacity: 0.1; stroke: #ffffff; stroke-opacity: 0.1; stroke-width: 0.48\"/>\n     <use xlink:href=\"#mef8e7892a7\" x=\"392.441306\" y=\"134.266735\" style=\"fill: #386df9; fill-opacity: 0.1; stroke: #ffffff; stroke-opacity: 0.1; stroke-width: 0.48\"/>\n     <use xlink:href=\"#mef8e7892a7\" x=\"381.699079\" y=\"215.009167\" style=\"fill: #386df9; fill-opacity: 0.1; stroke: #ffffff; stroke-opacity: 0.1; stroke-width: 0.48\"/>\n     <use xlink:href=\"#mef8e7892a7\" x=\"386.405847\" y=\"112.121122\" style=\"fill: #386df9; fill-opacity: 0.1; stroke: #ffffff; stroke-opacity: 0.1; stroke-width: 0.48\"/>\n     <use xlink:href=\"#mef8e7892a7\" x=\"383.408815\" y=\"138.661989\" style=\"fill: #386df9; fill-opacity: 0.1; stroke: #ffffff; stroke-opacity: 0.1; stroke-width: 0.48\"/>\n     <use xlink:href=\"#mef8e7892a7\" x=\"385.032774\" y=\"150.365418\" style=\"fill: #386df9; fill-opacity: 0.1; stroke: #ffffff; stroke-opacity: 0.1; stroke-width: 0.48\"/>\n     <use xlink:href=\"#mef8e7892a7\" x=\"396.76965\" y=\"127.616691\" style=\"fill: #386df9; fill-opacity: 0.1; stroke: #ffffff; stroke-opacity: 0.1; stroke-width: 0.48\"/>\n     <use xlink:href=\"#mef8e7892a7\" x=\"392.169058\" y=\"202.046417\" style=\"fill: #386df9; fill-opacity: 0.1; stroke: #ffffff; stroke-opacity: 0.1; stroke-width: 0.48\"/>\n     <use xlink:href=\"#mef8e7892a7\" x=\"379.566112\" y=\"210.11782\" style=\"fill: #386df9; fill-opacity: 0.1; stroke: #ffffff; stroke-opacity: 0.1; stroke-width: 0.48\"/>\n     <use xlink:href=\"#mef8e7892a7\" x=\"382.541744\" y=\"188.823436\" style=\"fill: #386df9; fill-opacity: 0.1; stroke: #ffffff; stroke-opacity: 0.1; stroke-width: 0.48\"/>\n     <use xlink:href=\"#mef8e7892a7\" x=\"386.490104\" y=\"164.00672\" style=\"fill: #386df9; fill-opacity: 0.1; stroke: #ffffff; stroke-opacity: 0.1; stroke-width: 0.48\"/>\n     <use xlink:href=\"#mef8e7892a7\" x=\"380.59079\" y=\"179.94229\" style=\"fill: #386df9; fill-opacity: 0.1; stroke: #ffffff; stroke-opacity: 0.1; stroke-width: 0.48\"/>\n     <use xlink:href=\"#mef8e7892a7\" x=\"386.450543\" y=\"206.464762\" style=\"fill: #386df9; fill-opacity: 0.1; stroke: #ffffff; stroke-opacity: 0.1; stroke-width: 0.48\"/>\n     <use xlink:href=\"#mef8e7892a7\" x=\"373.00045\" y=\"217.80513\" style=\"fill: #386df9; fill-opacity: 0.1; stroke: #ffffff; stroke-opacity: 0.1; stroke-width: 0.48\"/>\n     <use xlink:href=\"#mef8e7892a7\" x=\"392.803179\" y=\"177.086772\" style=\"fill: #386df9; fill-opacity: 0.1; stroke: #ffffff; stroke-opacity: 0.1; stroke-width: 0.48\"/>\n     <use xlink:href=\"#mef8e7892a7\" x=\"383.592809\" y=\"34.414125\" style=\"fill: #386df9; fill-opacity: 0.1; stroke: #ffffff; stroke-opacity: 0.1; stroke-width: 0.48\"/>\n     <use xlink:href=\"#mef8e7892a7\" x=\"384.110136\" y=\"132.887872\" style=\"fill: #386df9; fill-opacity: 0.1; stroke: #ffffff; stroke-opacity: 0.1; stroke-width: 0.48\"/>\n     <use xlink:href=\"#mef8e7892a7\" x=\"392.338248\" y=\"108.863432\" style=\"fill: #386df9; fill-opacity: 0.1; stroke: #ffffff; stroke-opacity: 0.1; stroke-width: 0.48\"/>\n     <use xlink:href=\"#mef8e7892a7\" x=\"391.76005\" y=\"162.103703\" style=\"fill: #386df9; fill-opacity: 0.1; stroke: #ffffff; stroke-opacity: 0.1; stroke-width: 0.48\"/>\n     <use xlink:href=\"#mef8e7892a7\" x=\"383.346769\" y=\"150.836074\" style=\"fill: #386df9; fill-opacity: 0.1; stroke: #ffffff; stroke-opacity: 0.1; stroke-width: 0.48\"/>\n     <use xlink:href=\"#mef8e7892a7\" x=\"389.412827\" y=\"121.166724\" style=\"fill: #386df9; fill-opacity: 0.1; stroke: #ffffff; stroke-opacity: 0.1; stroke-width: 0.48\"/>\n     <use xlink:href=\"#mef8e7892a7\" x=\"378.976702\" y=\"248.784563\" style=\"fill: #386df9; fill-opacity: 0.1; stroke: #ffffff; stroke-opacity: 0.1; stroke-width: 0.48\"/>\n     <use xlink:href=\"#mef8e7892a7\" x=\"390.943429\" y=\"183.269279\" style=\"fill: #386df9; fill-opacity: 0.1; stroke: #ffffff; stroke-opacity: 0.1; stroke-width: 0.48\"/>\n     <use xlink:href=\"#mef8e7892a7\" x=\"375.871531\" y=\"263.229923\" style=\"fill: #386df9; fill-opacity: 0.1; stroke: #ffffff; stroke-opacity: 0.1; stroke-width: 0.48\"/>\n     <use xlink:href=\"#mef8e7892a7\" x=\"377.279994\" y=\"168.17007\" style=\"fill: #386df9; fill-opacity: 0.1; stroke: #ffffff; stroke-opacity: 0.1; stroke-width: 0.48\"/>\n     <use xlink:href=\"#mef8e7892a7\" x=\"376.984066\" y=\"169.230132\" style=\"fill: #386df9; fill-opacity: 0.1; stroke: #ffffff; stroke-opacity: 0.1; stroke-width: 0.48\"/>\n     <use xlink:href=\"#mef8e7892a7\" x=\"399.41071\" y=\"168.279798\" style=\"fill: #386df9; fill-opacity: 0.1; stroke: #ffffff; stroke-opacity: 0.1; stroke-width: 0.48\"/>\n     <use xlink:href=\"#mef8e7892a7\" x=\"378.685021\" y=\"218.499917\" style=\"fill: #386df9; fill-opacity: 0.1; stroke: #ffffff; stroke-opacity: 0.1; stroke-width: 0.48\"/>\n     <use xlink:href=\"#mef8e7892a7\" x=\"378.270004\" y=\"212.891924\" style=\"fill: #386df9; fill-opacity: 0.1; stroke: #ffffff; stroke-opacity: 0.1; stroke-width: 0.48\"/>\n     <use xlink:href=\"#mef8e7892a7\" x=\"384.140343\" y=\"202.159989\" style=\"fill: #386df9; fill-opacity: 0.1; stroke: #ffffff; stroke-opacity: 0.1; stroke-width: 0.48\"/>\n     <use xlink:href=\"#mef8e7892a7\" x=\"382.132503\" y=\"102.623325\" style=\"fill: #386df9; fill-opacity: 0.1; stroke: #ffffff; stroke-opacity: 0.1; stroke-width: 0.48\"/>\n     <use xlink:href=\"#mef8e7892a7\" x=\"385.559907\" y=\"191.108056\" style=\"fill: #386df9; fill-opacity: 0.1; stroke: #ffffff; stroke-opacity: 0.1; stroke-width: 0.48\"/>\n     <use xlink:href=\"#mef8e7892a7\" x=\"389.651899\" y=\"126.437609\" style=\"fill: #386df9; fill-opacity: 0.1; stroke: #ffffff; stroke-opacity: 0.1; stroke-width: 0.48\"/>\n     <use xlink:href=\"#mef8e7892a7\" x=\"375.630722\" y=\"261.580168\" style=\"fill: #386df9; fill-opacity: 0.1; stroke: #ffffff; stroke-opacity: 0.1; stroke-width: 0.48\"/>\n     <use xlink:href=\"#mef8e7892a7\" x=\"385.729152\" y=\"143.887944\" style=\"fill: #386df9; fill-opacity: 0.1; stroke: #ffffff; stroke-opacity: 0.1; stroke-width: 0.48\"/>\n     <use xlink:href=\"#mef8e7892a7\" x=\"389.288648\" y=\"134.26429\" style=\"fill: #386df9; fill-opacity: 0.1; stroke: #ffffff; stroke-opacity: 0.1; stroke-width: 0.48\"/>\n     <use xlink:href=\"#mef8e7892a7\" x=\"390.1994\" y=\"181.762872\" style=\"fill: #386df9; fill-opacity: 0.1; stroke: #ffffff; stroke-opacity: 0.1; stroke-width: 0.48\"/>\n     <use xlink:href=\"#mef8e7892a7\" x=\"388.515752\" y=\"108.666859\" style=\"fill: #386df9; fill-opacity: 0.1; stroke: #ffffff; stroke-opacity: 0.1; stroke-width: 0.48\"/>\n     <use xlink:href=\"#mef8e7892a7\" x=\"383.679831\" y=\"176.789775\" style=\"fill: #386df9; fill-opacity: 0.1; stroke: #ffffff; stroke-opacity: 0.1; stroke-width: 0.48\"/>\n     <use xlink:href=\"#mef8e7892a7\" x=\"384.778325\" y=\"160.677219\" style=\"fill: #386df9; fill-opacity: 0.1; stroke: #ffffff; stroke-opacity: 0.1; stroke-width: 0.48\"/>\n     <use xlink:href=\"#mef8e7892a7\" x=\"380.321386\" y=\"225.114035\" style=\"fill: #386df9; fill-opacity: 0.1; stroke: #ffffff; stroke-opacity: 0.1; stroke-width: 0.48\"/>\n     <use xlink:href=\"#mef8e7892a7\" x=\"388.364163\" y=\"132.169879\" style=\"fill: #386df9; fill-opacity: 0.1; stroke: #ffffff; stroke-opacity: 0.1; stroke-width: 0.48\"/>\n     <use xlink:href=\"#mef8e7892a7\" x=\"383.482028\" y=\"163.926946\" style=\"fill: #386df9; fill-opacity: 0.1; stroke: #ffffff; stroke-opacity: 0.1; stroke-width: 0.48\"/>\n     <use xlink:href=\"#mef8e7892a7\" x=\"378.589421\" y=\"123.743448\" style=\"fill: #386df9; fill-opacity: 0.1; stroke: #ffffff; stroke-opacity: 0.1; stroke-width: 0.48\"/>\n     <use xlink:href=\"#mef8e7892a7\" x=\"378.340311\" y=\"168.971886\" style=\"fill: #386df9; fill-opacity: 0.1; stroke: #ffffff; stroke-opacity: 0.1; stroke-width: 0.48\"/>\n     <use xlink:href=\"#mef8e7892a7\" x=\"393.153645\" y=\"152.376045\" style=\"fill: #386df9; fill-opacity: 0.1; stroke: #ffffff; stroke-opacity: 0.1; stroke-width: 0.48\"/>\n     <use xlink:href=\"#mef8e7892a7\" x=\"395.895168\" y=\"167.991618\" style=\"fill: #386df9; fill-opacity: 0.1; stroke: #ffffff; stroke-opacity: 0.1; stroke-width: 0.48\"/>\n     <use xlink:href=\"#mef8e7892a7\" x=\"385.650019\" y=\"170.49133\" style=\"fill: #386df9; fill-opacity: 0.1; stroke: #ffffff; stroke-opacity: 0.1; stroke-width: 0.48\"/>\n     <use xlink:href=\"#mef8e7892a7\" x=\"381.139179\" y=\"207.378984\" style=\"fill: #386df9; fill-opacity: 0.1; stroke: #ffffff; stroke-opacity: 0.1; stroke-width: 0.48\"/>\n     <use xlink:href=\"#mef8e7892a7\" x=\"373.602447\" y=\"203.410221\" style=\"fill: #386df9; fill-opacity: 0.1; stroke: #ffffff; stroke-opacity: 0.1; stroke-width: 0.48\"/>\n     <use xlink:href=\"#mef8e7892a7\" x=\"386.858778\" y=\"165.038977\" style=\"fill: #386df9; fill-opacity: 0.1; stroke: #ffffff; stroke-opacity: 0.1; stroke-width: 0.48\"/>\n     <use xlink:href=\"#mef8e7892a7\" x=\"390.217064\" y=\"114.727436\" style=\"fill: #386df9; fill-opacity: 0.1; stroke: #ffffff; stroke-opacity: 0.1; stroke-width: 0.48\"/>\n     <use xlink:href=\"#mef8e7892a7\" x=\"392.335472\" y=\"191.928509\" style=\"fill: #386df9; fill-opacity: 0.1; stroke: #ffffff; stroke-opacity: 0.1; stroke-width: 0.48\"/>\n     <use xlink:href=\"#mef8e7892a7\" x=\"387.792363\" y=\"114.543794\" style=\"fill: #386df9; fill-opacity: 0.1; stroke: #ffffff; stroke-opacity: 0.1; stroke-width: 0.48\"/>\n     <use xlink:href=\"#mef8e7892a7\" x=\"387.378918\" y=\"129.049417\" style=\"fill: #386df9; fill-opacity: 0.1; stroke: #ffffff; stroke-opacity: 0.1; stroke-width: 0.48\"/>\n     <use xlink:href=\"#mef8e7892a7\" x=\"385.905065\" y=\"211.049929\" style=\"fill: #386df9; fill-opacity: 0.1; stroke: #ffffff; stroke-opacity: 0.1; stroke-width: 0.48\"/>\n     <use xlink:href=\"#mef8e7892a7\" x=\"389.639254\" y=\"181.143452\" style=\"fill: #386df9; fill-opacity: 0.1; stroke: #ffffff; stroke-opacity: 0.1; stroke-width: 0.48\"/>\n     <use xlink:href=\"#mef8e7892a7\" x=\"380.285693\" y=\"109.53467\" style=\"fill: #386df9; fill-opacity: 0.1; stroke: #ffffff; stroke-opacity: 0.1; stroke-width: 0.48\"/>\n     <use xlink:href=\"#mef8e7892a7\" x=\"381.14886\" y=\"56.638049\" style=\"fill: #386df9; fill-opacity: 0.1; stroke: #ffffff; stroke-opacity: 0.1; stroke-width: 0.48\"/>\n     <use xlink:href=\"#mef8e7892a7\" x=\"375.070301\" y=\"262.193249\" style=\"fill: #386df9; fill-opacity: 0.1; stroke: #ffffff; stroke-opacity: 0.1; stroke-width: 0.48\"/>\n     <use xlink:href=\"#mef8e7892a7\" x=\"379.654111\" y=\"220.091705\" style=\"fill: #386df9; fill-opacity: 0.1; stroke: #ffffff; stroke-opacity: 0.1; stroke-width: 0.48\"/>\n     <use xlink:href=\"#mef8e7892a7\" x=\"379.665747\" y=\"155.941916\" style=\"fill: #386df9; fill-opacity: 0.1; stroke: #ffffff; stroke-opacity: 0.1; stroke-width: 0.48\"/>\n     <use xlink:href=\"#mef8e7892a7\" x=\"379.839008\" y=\"129.032514\" style=\"fill: #386df9; fill-opacity: 0.1; stroke: #ffffff; stroke-opacity: 0.1; stroke-width: 0.48\"/>\n     <use xlink:href=\"#mef8e7892a7\" x=\"389.280894\" y=\"112.680958\" style=\"fill: #386df9; fill-opacity: 0.1; stroke: #ffffff; stroke-opacity: 0.1; stroke-width: 0.48\"/>\n     <use xlink:href=\"#mef8e7892a7\" x=\"383.462303\" y=\"196.2199\" style=\"fill: #386df9; fill-opacity: 0.1; stroke: #ffffff; stroke-opacity: 0.1; stroke-width: 0.48\"/>\n     <use xlink:href=\"#mef8e7892a7\" x=\"391.182751\" y=\"149.172103\" style=\"fill: #386df9; fill-opacity: 0.1; stroke: #ffffff; stroke-opacity: 0.1; stroke-width: 0.48\"/>\n    </g>\n   </g>\n   <g id=\"patch_3\">\n    <path d=\"M 58.523438 288.430125 \nL 58.523438 22.318125 \n\" style=\"fill: none; stroke: #ffffff; stroke-width: 0.8; stroke-linejoin: miter; stroke-linecap: square\"/>\n   </g>\n   <g id=\"patch_4\">\n    <path d=\"M 415.643438 288.430125 \nL 415.643438 22.318125 \n\" style=\"fill: none; stroke: #ffffff; stroke-width: 0.8; stroke-linejoin: miter; stroke-linecap: square\"/>\n   </g>\n   <g id=\"patch_5\">\n    <path d=\"M 58.523438 288.430125 \nL 415.643438 288.430125 \n\" style=\"fill: none; stroke: #ffffff; stroke-width: 0.8; stroke-linejoin: miter; stroke-linecap: square\"/>\n   </g>\n   <g id=\"patch_6\">\n    <path d=\"M 58.523438 22.318125 \nL 415.643438 22.318125 \n\" style=\"fill: none; stroke: #ffffff; stroke-width: 0.8; stroke-linejoin: miter; stroke-linecap: square\"/>\n   </g>\n   <g id=\"text_19\">\n    <!-- First 2 PCA Components -->\n    <g style=\"fill: #262626\" transform=\"translate(165.045938 16.318125) scale(0.12 -0.12)\">\n     <defs>\n      <path id=\"DejaVuSans-46\" d=\"M 628 4666 \nL 3309 4666 \nL 3309 4134 \nL 1259 4134 \nL 1259 2759 \nL 3109 2759 \nL 3109 2228 \nL 1259 2228 \nL 1259 0 \nL 628 0 \nL 628 4666 \nz\n\" transform=\"scale(0.015625)\"/>\n      <path id=\"DejaVuSans-69\" d=\"M 603 3500 \nL 1178 3500 \nL 1178 0 \nL 603 0 \nL 603 3500 \nz\nM 603 4863 \nL 1178 4863 \nL 1178 4134 \nL 603 4134 \nL 603 4863 \nz\n\" transform=\"scale(0.015625)\"/>\n      <path id=\"DejaVuSans-72\" d=\"M 2631 2963 \nQ 2534 3019 2420 3045 \nQ 2306 3072 2169 3072 \nQ 1681 3072 1420 2755 \nQ 1159 2438 1159 1844 \nL 1159 0 \nL 581 0 \nL 581 3500 \nL 1159 3500 \nL 1159 2956 \nQ 1341 3275 1631 3429 \nQ 1922 3584 2338 3584 \nQ 2397 3584 2469 3576 \nQ 2541 3569 2628 3553 \nL 2631 2963 \nz\n\" transform=\"scale(0.015625)\"/>\n      <path id=\"DejaVuSans-73\" d=\"M 2834 3397 \nL 2834 2853 \nQ 2591 2978 2328 3040 \nQ 2066 3103 1784 3103 \nQ 1356 3103 1142 2972 \nQ 928 2841 928 2578 \nQ 928 2378 1081 2264 \nQ 1234 2150 1697 2047 \nL 1894 2003 \nQ 2506 1872 2764 1633 \nQ 3022 1394 3022 966 \nQ 3022 478 2636 193 \nQ 2250 -91 1575 -91 \nQ 1294 -91 989 -36 \nQ 684 19 347 128 \nL 347 722 \nQ 666 556 975 473 \nQ 1284 391 1588 391 \nQ 1994 391 2212 530 \nQ 2431 669 2431 922 \nQ 2431 1156 2273 1281 \nQ 2116 1406 1581 1522 \nL 1381 1569 \nQ 847 1681 609 1914 \nQ 372 2147 372 2553 \nQ 372 3047 722 3315 \nQ 1072 3584 1716 3584 \nQ 2034 3584 2315 3537 \nQ 2597 3491 2834 3397 \nz\n\" transform=\"scale(0.015625)\"/>\n      <path id=\"DejaVuSans-74\" d=\"M 1172 4494 \nL 1172 3500 \nL 2356 3500 \nL 2356 3053 \nL 1172 3053 \nL 1172 1153 \nQ 1172 725 1289 603 \nQ 1406 481 1766 481 \nL 2356 481 \nL 2356 0 \nL 1766 0 \nQ 1100 0 847 248 \nQ 594 497 594 1153 \nL 594 3053 \nL 172 3053 \nL 172 3500 \nL 594 3500 \nL 594 4494 \nL 1172 4494 \nz\n\" transform=\"scale(0.015625)\"/>\n      <path id=\"DejaVuSans-6f\" d=\"M 1959 3097 \nQ 1497 3097 1228 2736 \nQ 959 2375 959 1747 \nQ 959 1119 1226 758 \nQ 1494 397 1959 397 \nQ 2419 397 2687 759 \nQ 2956 1122 2956 1747 \nQ 2956 2369 2687 2733 \nQ 2419 3097 1959 3097 \nz\nM 1959 3584 \nQ 2709 3584 3137 3096 \nQ 3566 2609 3566 1747 \nQ 3566 888 3137 398 \nQ 2709 -91 1959 -91 \nQ 1206 -91 779 398 \nQ 353 888 353 1747 \nQ 353 2609 779 3096 \nQ 1206 3584 1959 3584 \nz\n\" transform=\"scale(0.015625)\"/>\n      <path id=\"DejaVuSans-6d\" d=\"M 3328 2828 \nQ 3544 3216 3844 3400 \nQ 4144 3584 4550 3584 \nQ 5097 3584 5394 3201 \nQ 5691 2819 5691 2113 \nL 5691 0 \nL 5113 0 \nL 5113 2094 \nQ 5113 2597 4934 2840 \nQ 4756 3084 4391 3084 \nQ 3944 3084 3684 2787 \nQ 3425 2491 3425 1978 \nL 3425 0 \nL 2847 0 \nL 2847 2094 \nQ 2847 2600 2669 2842 \nQ 2491 3084 2119 3084 \nQ 1678 3084 1418 2786 \nQ 1159 2488 1159 1978 \nL 1159 0 \nL 581 0 \nL 581 3500 \nL 1159 3500 \nL 1159 2956 \nQ 1356 3278 1631 3431 \nQ 1906 3584 2284 3584 \nQ 2666 3584 2933 3390 \nQ 3200 3197 3328 2828 \nz\n\" transform=\"scale(0.015625)\"/>\n      <path id=\"DejaVuSans-70\" d=\"M 1159 525 \nL 1159 -1331 \nL 581 -1331 \nL 581 3500 \nL 1159 3500 \nL 1159 2969 \nQ 1341 3281 1617 3432 \nQ 1894 3584 2278 3584 \nQ 2916 3584 3314 3078 \nQ 3713 2572 3713 1747 \nQ 3713 922 3314 415 \nQ 2916 -91 2278 -91 \nQ 1894 -91 1617 61 \nQ 1341 213 1159 525 \nz\nM 3116 1747 \nQ 3116 2381 2855 2742 \nQ 2594 3103 2138 3103 \nQ 1681 3103 1420 2742 \nQ 1159 2381 1159 1747 \nQ 1159 1113 1420 752 \nQ 1681 391 2138 391 \nQ 2594 391 2855 752 \nQ 3116 1113 3116 1747 \nz\n\" transform=\"scale(0.015625)\"/>\n      <path id=\"DejaVuSans-6e\" d=\"M 3513 2113 \nL 3513 0 \nL 2938 0 \nL 2938 2094 \nQ 2938 2591 2744 2837 \nQ 2550 3084 2163 3084 \nQ 1697 3084 1428 2787 \nQ 1159 2491 1159 1978 \nL 1159 0 \nL 581 0 \nL 581 3500 \nL 1159 3500 \nL 1159 2956 \nQ 1366 3272 1645 3428 \nQ 1925 3584 2291 3584 \nQ 2894 3584 3203 3211 \nQ 3513 2838 3513 2113 \nz\n\" transform=\"scale(0.015625)\"/>\n      <path id=\"DejaVuSans-65\" d=\"M 3597 1894 \nL 3597 1613 \nL 953 1613 \nQ 991 1019 1311 708 \nQ 1631 397 2203 397 \nQ 2534 397 2845 478 \nQ 3156 559 3463 722 \nL 3463 178 \nQ 3153 47 2828 -22 \nQ 2503 -91 2169 -91 \nQ 1331 -91 842 396 \nQ 353 884 353 1716 \nQ 353 2575 817 3079 \nQ 1281 3584 2069 3584 \nQ 2775 3584 3186 3129 \nQ 3597 2675 3597 1894 \nz\nM 3022 2063 \nQ 3016 2534 2758 2815 \nQ 2500 3097 2075 3097 \nQ 1594 3097 1305 2825 \nQ 1016 2553 972 2059 \nL 3022 2063 \nz\n\" transform=\"scale(0.015625)\"/>\n     </defs>\n     <use xlink:href=\"#DejaVuSans-46\"/>\n     <use xlink:href=\"#DejaVuSans-69\" x=\"50.269531\"/>\n     <use xlink:href=\"#DejaVuSans-72\" x=\"78.052734\"/>\n     <use xlink:href=\"#DejaVuSans-73\" x=\"119.166016\"/>\n     <use xlink:href=\"#DejaVuSans-74\" x=\"171.265625\"/>\n     <use xlink:href=\"#DejaVuSans-20\" x=\"210.474609\"/>\n     <use xlink:href=\"#DejaVuSans-32\" x=\"242.261719\"/>\n     <use xlink:href=\"#DejaVuSans-20\" x=\"305.884766\"/>\n     <use xlink:href=\"#DejaVuSans-50\" x=\"337.671875\"/>\n     <use xlink:href=\"#DejaVuSans-43\" x=\"397.974609\"/>\n     <use xlink:href=\"#DejaVuSans-41\" x=\"467.798828\"/>\n     <use xlink:href=\"#DejaVuSans-20\" x=\"536.207031\"/>\n     <use xlink:href=\"#DejaVuSans-43\" x=\"567.994141\"/>\n     <use xlink:href=\"#DejaVuSans-6f\" x=\"637.818359\"/>\n     <use xlink:href=\"#DejaVuSans-6d\" x=\"699\"/>\n     <use xlink:href=\"#DejaVuSans-70\" x=\"796.412109\"/>\n     <use xlink:href=\"#DejaVuSans-6f\" x=\"859.888672\"/>\n     <use xlink:href=\"#DejaVuSans-6e\" x=\"921.070312\"/>\n     <use xlink:href=\"#DejaVuSans-65\" x=\"984.449219\"/>\n     <use xlink:href=\"#DejaVuSans-6e\" x=\"1045.972656\"/>\n     <use xlink:href=\"#DejaVuSans-74\" x=\"1109.351562\"/>\n     <use xlink:href=\"#DejaVuSans-73\" x=\"1148.560547\"/>\n    </g>\n   </g>\n  </g>\n </g>\n <defs>\n  <clipPath id=\"pb42b081d00\">\n   <rect x=\"58.523438\" y=\"22.318125\" width=\"357.12\" height=\"266.112\"/>\n  </clipPath>\n </defs>\n</svg>\n"
          },
          "metadata": {}
        }
      ]
    },
    {
      "cell_type": "code",
      "source": [
        "from sklearn.cluster import KMeans\n",
        "import matplotlib.pyplot as plt\n",
        "import seaborn as sns\n",
        "\n",
        "# Sử dụng dữ liệu đã chuẩn hóa trước đó (X_scaled)\n",
        "# Giả sử X_scaled đã được chuẩn hóa và là đầu vào cho mô hình\n",
        "\n",
        "# Nếu X_scaled chưa chuẩn hóa thì thực hiện chuẩn hóa lại\n",
        "# X_scaled = scaler.fit_transform(X)\n",
        "# Tìm số cụm tối ưu bằng Elbow Method\n",
        "wcss = []  # within-cluster sum of squares\n",
        "\n",
        "for i in range(1, 11):\n",
        "    kmeans = KMeans(n_clusters=i, init='k-means++', max_iter=300, n_init=10, random_state=42)\n",
        "    kmeans.fit(X_scaled)\n",
        "    wcss.append(kmeans.inertia_)\n",
        "\n",
        "# Vẽ biểu đồ Elbow\n",
        "plt.figure(figsize=(10, 6))\n",
        "sns.lineplot(x=range(1, 11), y=wcss)\n",
        "plt.title('Elbow Method')\n",
        "plt.xlabel('Number of clusters')\n",
        "plt.ylabel('WCSS')\n",
        "plt.show()\n"
      ],
      "metadata": {
        "colab": {
          "base_uri": "https://localhost:8080/",
          "height": 545
        },
        "id": "r_Mu3Hli1KMM",
        "outputId": "fcd3e421-8e4d-4638-8a38-944644a1c2c2"
      },
      "execution_count": 42,
      "outputs": [
        {
          "output_type": "display_data",
          "data": {
            "text/plain": [
              "<Figure size 1000x600 with 1 Axes>"
            ],
            "image/svg+xml": "<?xml version=\"1.0\" encoding=\"utf-8\" standalone=\"no\"?>\n<!DOCTYPE svg PUBLIC \"-//W3C//DTD SVG 1.1//EN\"\n  \"http://www.w3.org/Graphics/SVG/1.1/DTD/svg11.dtd\">\n<svg xmlns:xlink=\"http://www.w3.org/1999/xlink\" width=\"612.165625pt\" height=\"392.514375pt\" viewBox=\"0 0 612.165625 392.514375\" xmlns=\"http://www.w3.org/2000/svg\" version=\"1.1\">\n <metadata>\n  <rdf:RDF xmlns:dc=\"http://purl.org/dc/elements/1.1/\" xmlns:cc=\"http://creativecommons.org/ns#\" xmlns:rdf=\"http://www.w3.org/1999/02/22-rdf-syntax-ns#\">\n   <cc:Work>\n    <dc:type rdf:resource=\"http://purl.org/dc/dcmitype/StillImage\"/>\n    <dc:date>2024-09-02T03:52:35.221073</dc:date>\n    <dc:format>image/svg+xml</dc:format>\n    <dc:creator>\n     <cc:Agent>\n      <dc:title>Matplotlib v3.7.1, https://matplotlib.org/</dc:title>\n     </cc:Agent>\n    </dc:creator>\n   </cc:Work>\n  </rdf:RDF>\n </metadata>\n <defs>\n  <style type=\"text/css\">*{stroke-linejoin: round; stroke-linecap: butt}</style>\n </defs>\n <g id=\"figure_1\">\n  <g id=\"patch_1\">\n   <path d=\"M 0 392.514375 \nL 612.165625 392.514375 \nL 612.165625 0 \nL 0 0 \nz\n\" style=\"fill: #ffffff\"/>\n  </g>\n  <g id=\"axes_1\">\n   <g id=\"patch_2\">\n    <path d=\"M 46.965625 354.958125 \nL 604.965625 354.958125 \nL 604.965625 22.318125 \nL 46.965625 22.318125 \nz\n\" style=\"fill: #eaeaf2\"/>\n   </g>\n   <g id=\"matplotlib.axis_1\">\n    <g id=\"xtick_1\">\n     <g id=\"line2d_1\">\n      <path d=\"M 128.692898 354.958125 \nL 128.692898 22.318125 \n\" clip-path=\"url(#pb3a3feb36b)\" style=\"fill: none; stroke: #ffffff; stroke-width: 0.8; stroke-linecap: round\"/>\n     </g>\n     <g id=\"text_1\">\n      <!-- 2 -->\n      <g style=\"fill: #262626\" transform=\"translate(125.511648 369.556562) scale(0.1 -0.1)\">\n       <defs>\n        <path id=\"DejaVuSans-32\" d=\"M 1228 531 \nL 3431 531 \nL 3431 0 \nL 469 0 \nL 469 531 \nQ 828 903 1448 1529 \nQ 2069 2156 2228 2338 \nQ 2531 2678 2651 2914 \nQ 2772 3150 2772 3378 \nQ 2772 3750 2511 3984 \nQ 2250 4219 1831 4219 \nQ 1534 4219 1204 4116 \nQ 875 4013 500 3803 \nL 500 4441 \nQ 881 4594 1212 4672 \nQ 1544 4750 1819 4750 \nQ 2544 4750 2975 4387 \nQ 3406 4025 3406 3419 \nQ 3406 3131 3298 2873 \nQ 3191 2616 2906 2266 \nQ 2828 2175 2409 1742 \nQ 1991 1309 1228 531 \nz\n\" transform=\"scale(0.015625)\"/>\n       </defs>\n       <use xlink:href=\"#DejaVuSans-32\"/>\n      </g>\n     </g>\n    </g>\n    <g id=\"xtick_2\">\n     <g id=\"line2d_2\">\n      <path d=\"M 241.42017 354.958125 \nL 241.42017 22.318125 \n\" clip-path=\"url(#pb3a3feb36b)\" style=\"fill: none; stroke: #ffffff; stroke-width: 0.8; stroke-linecap: round\"/>\n     </g>\n     <g id=\"text_2\">\n      <!-- 4 -->\n      <g style=\"fill: #262626\" transform=\"translate(238.23892 369.556562) scale(0.1 -0.1)\">\n       <defs>\n        <path id=\"DejaVuSans-34\" d=\"M 2419 4116 \nL 825 1625 \nL 2419 1625 \nL 2419 4116 \nz\nM 2253 4666 \nL 3047 4666 \nL 3047 1625 \nL 3713 1625 \nL 3713 1100 \nL 3047 1100 \nL 3047 0 \nL 2419 0 \nL 2419 1100 \nL 313 1100 \nL 313 1709 \nL 2253 4666 \nz\n\" transform=\"scale(0.015625)\"/>\n       </defs>\n       <use xlink:href=\"#DejaVuSans-34\"/>\n      </g>\n     </g>\n    </g>\n    <g id=\"xtick_3\">\n     <g id=\"line2d_3\">\n      <path d=\"M 354.147443 354.958125 \nL 354.147443 22.318125 \n\" clip-path=\"url(#pb3a3feb36b)\" style=\"fill: none; stroke: #ffffff; stroke-width: 0.8; stroke-linecap: round\"/>\n     </g>\n     <g id=\"text_3\">\n      <!-- 6 -->\n      <g style=\"fill: #262626\" transform=\"translate(350.966193 369.556562) scale(0.1 -0.1)\">\n       <defs>\n        <path id=\"DejaVuSans-36\" d=\"M 2113 2584 \nQ 1688 2584 1439 2293 \nQ 1191 2003 1191 1497 \nQ 1191 994 1439 701 \nQ 1688 409 2113 409 \nQ 2538 409 2786 701 \nQ 3034 994 3034 1497 \nQ 3034 2003 2786 2293 \nQ 2538 2584 2113 2584 \nz\nM 3366 4563 \nL 3366 3988 \nQ 3128 4100 2886 4159 \nQ 2644 4219 2406 4219 \nQ 1781 4219 1451 3797 \nQ 1122 3375 1075 2522 \nQ 1259 2794 1537 2939 \nQ 1816 3084 2150 3084 \nQ 2853 3084 3261 2657 \nQ 3669 2231 3669 1497 \nQ 3669 778 3244 343 \nQ 2819 -91 2113 -91 \nQ 1303 -91 875 529 \nQ 447 1150 447 2328 \nQ 447 3434 972 4092 \nQ 1497 4750 2381 4750 \nQ 2619 4750 2861 4703 \nQ 3103 4656 3366 4563 \nz\n\" transform=\"scale(0.015625)\"/>\n       </defs>\n       <use xlink:href=\"#DejaVuSans-36\"/>\n      </g>\n     </g>\n    </g>\n    <g id=\"xtick_4\">\n     <g id=\"line2d_4\">\n      <path d=\"M 466.874716 354.958125 \nL 466.874716 22.318125 \n\" clip-path=\"url(#pb3a3feb36b)\" style=\"fill: none; stroke: #ffffff; stroke-width: 0.8; stroke-linecap: round\"/>\n     </g>\n     <g id=\"text_4\">\n      <!-- 8 -->\n      <g style=\"fill: #262626\" transform=\"translate(463.693466 369.556562) scale(0.1 -0.1)\">\n       <defs>\n        <path id=\"DejaVuSans-38\" d=\"M 2034 2216 \nQ 1584 2216 1326 1975 \nQ 1069 1734 1069 1313 \nQ 1069 891 1326 650 \nQ 1584 409 2034 409 \nQ 2484 409 2743 651 \nQ 3003 894 3003 1313 \nQ 3003 1734 2745 1975 \nQ 2488 2216 2034 2216 \nz\nM 1403 2484 \nQ 997 2584 770 2862 \nQ 544 3141 544 3541 \nQ 544 4100 942 4425 \nQ 1341 4750 2034 4750 \nQ 2731 4750 3128 4425 \nQ 3525 4100 3525 3541 \nQ 3525 3141 3298 2862 \nQ 3072 2584 2669 2484 \nQ 3125 2378 3379 2068 \nQ 3634 1759 3634 1313 \nQ 3634 634 3220 271 \nQ 2806 -91 2034 -91 \nQ 1263 -91 848 271 \nQ 434 634 434 1313 \nQ 434 1759 690 2068 \nQ 947 2378 1403 2484 \nz\nM 1172 3481 \nQ 1172 3119 1398 2916 \nQ 1625 2713 2034 2713 \nQ 2441 2713 2670 2916 \nQ 2900 3119 2900 3481 \nQ 2900 3844 2670 4047 \nQ 2441 4250 2034 4250 \nQ 1625 4250 1398 4047 \nQ 1172 3844 1172 3481 \nz\n\" transform=\"scale(0.015625)\"/>\n       </defs>\n       <use xlink:href=\"#DejaVuSans-38\"/>\n      </g>\n     </g>\n    </g>\n    <g id=\"xtick_5\">\n     <g id=\"line2d_5\">\n      <path d=\"M 579.601989 354.958125 \nL 579.601989 22.318125 \n\" clip-path=\"url(#pb3a3feb36b)\" style=\"fill: none; stroke: #ffffff; stroke-width: 0.8; stroke-linecap: round\"/>\n     </g>\n     <g id=\"text_5\">\n      <!-- 10 -->\n      <g style=\"fill: #262626\" transform=\"translate(573.239489 369.556562) scale(0.1 -0.1)\">\n       <defs>\n        <path id=\"DejaVuSans-31\" d=\"M 794 531 \nL 1825 531 \nL 1825 4091 \nL 703 3866 \nL 703 4441 \nL 1819 4666 \nL 2450 4666 \nL 2450 531 \nL 3481 531 \nL 3481 0 \nL 794 0 \nL 794 531 \nz\n\" transform=\"scale(0.015625)\"/>\n        <path id=\"DejaVuSans-30\" d=\"M 2034 4250 \nQ 1547 4250 1301 3770 \nQ 1056 3291 1056 2328 \nQ 1056 1369 1301 889 \nQ 1547 409 2034 409 \nQ 2525 409 2770 889 \nQ 3016 1369 3016 2328 \nQ 3016 3291 2770 3770 \nQ 2525 4250 2034 4250 \nz\nM 2034 4750 \nQ 2819 4750 3233 4129 \nQ 3647 3509 3647 2328 \nQ 3647 1150 3233 529 \nQ 2819 -91 2034 -91 \nQ 1250 -91 836 529 \nQ 422 1150 422 2328 \nQ 422 3509 836 4129 \nQ 1250 4750 2034 4750 \nz\n\" transform=\"scale(0.015625)\"/>\n       </defs>\n       <use xlink:href=\"#DejaVuSans-31\"/>\n       <use xlink:href=\"#DejaVuSans-30\" x=\"63.623047\"/>\n      </g>\n     </g>\n    </g>\n    <g id=\"text_6\">\n     <!-- Number of clusters -->\n     <g style=\"fill: #262626\" transform=\"translate(278.273438 383.234687) scale(0.1 -0.1)\">\n      <defs>\n       <path id=\"DejaVuSans-4e\" d=\"M 628 4666 \nL 1478 4666 \nL 3547 763 \nL 3547 4666 \nL 4159 4666 \nL 4159 0 \nL 3309 0 \nL 1241 3903 \nL 1241 0 \nL 628 0 \nL 628 4666 \nz\n\" transform=\"scale(0.015625)\"/>\n       <path id=\"DejaVuSans-75\" d=\"M 544 1381 \nL 544 3500 \nL 1119 3500 \nL 1119 1403 \nQ 1119 906 1312 657 \nQ 1506 409 1894 409 \nQ 2359 409 2629 706 \nQ 2900 1003 2900 1516 \nL 2900 3500 \nL 3475 3500 \nL 3475 0 \nL 2900 0 \nL 2900 538 \nQ 2691 219 2414 64 \nQ 2138 -91 1772 -91 \nQ 1169 -91 856 284 \nQ 544 659 544 1381 \nz\nM 1991 3584 \nL 1991 3584 \nz\n\" transform=\"scale(0.015625)\"/>\n       <path id=\"DejaVuSans-6d\" d=\"M 3328 2828 \nQ 3544 3216 3844 3400 \nQ 4144 3584 4550 3584 \nQ 5097 3584 5394 3201 \nQ 5691 2819 5691 2113 \nL 5691 0 \nL 5113 0 \nL 5113 2094 \nQ 5113 2597 4934 2840 \nQ 4756 3084 4391 3084 \nQ 3944 3084 3684 2787 \nQ 3425 2491 3425 1978 \nL 3425 0 \nL 2847 0 \nL 2847 2094 \nQ 2847 2600 2669 2842 \nQ 2491 3084 2119 3084 \nQ 1678 3084 1418 2786 \nQ 1159 2488 1159 1978 \nL 1159 0 \nL 581 0 \nL 581 3500 \nL 1159 3500 \nL 1159 2956 \nQ 1356 3278 1631 3431 \nQ 1906 3584 2284 3584 \nQ 2666 3584 2933 3390 \nQ 3200 3197 3328 2828 \nz\n\" transform=\"scale(0.015625)\"/>\n       <path id=\"DejaVuSans-62\" d=\"M 3116 1747 \nQ 3116 2381 2855 2742 \nQ 2594 3103 2138 3103 \nQ 1681 3103 1420 2742 \nQ 1159 2381 1159 1747 \nQ 1159 1113 1420 752 \nQ 1681 391 2138 391 \nQ 2594 391 2855 752 \nQ 3116 1113 3116 1747 \nz\nM 1159 2969 \nQ 1341 3281 1617 3432 \nQ 1894 3584 2278 3584 \nQ 2916 3584 3314 3078 \nQ 3713 2572 3713 1747 \nQ 3713 922 3314 415 \nQ 2916 -91 2278 -91 \nQ 1894 -91 1617 61 \nQ 1341 213 1159 525 \nL 1159 0 \nL 581 0 \nL 581 4863 \nL 1159 4863 \nL 1159 2969 \nz\n\" transform=\"scale(0.015625)\"/>\n       <path id=\"DejaVuSans-65\" d=\"M 3597 1894 \nL 3597 1613 \nL 953 1613 \nQ 991 1019 1311 708 \nQ 1631 397 2203 397 \nQ 2534 397 2845 478 \nQ 3156 559 3463 722 \nL 3463 178 \nQ 3153 47 2828 -22 \nQ 2503 -91 2169 -91 \nQ 1331 -91 842 396 \nQ 353 884 353 1716 \nQ 353 2575 817 3079 \nQ 1281 3584 2069 3584 \nQ 2775 3584 3186 3129 \nQ 3597 2675 3597 1894 \nz\nM 3022 2063 \nQ 3016 2534 2758 2815 \nQ 2500 3097 2075 3097 \nQ 1594 3097 1305 2825 \nQ 1016 2553 972 2059 \nL 3022 2063 \nz\n\" transform=\"scale(0.015625)\"/>\n       <path id=\"DejaVuSans-72\" d=\"M 2631 2963 \nQ 2534 3019 2420 3045 \nQ 2306 3072 2169 3072 \nQ 1681 3072 1420 2755 \nQ 1159 2438 1159 1844 \nL 1159 0 \nL 581 0 \nL 581 3500 \nL 1159 3500 \nL 1159 2956 \nQ 1341 3275 1631 3429 \nQ 1922 3584 2338 3584 \nQ 2397 3584 2469 3576 \nQ 2541 3569 2628 3553 \nL 2631 2963 \nz\n\" transform=\"scale(0.015625)\"/>\n       <path id=\"DejaVuSans-20\" transform=\"scale(0.015625)\"/>\n       <path id=\"DejaVuSans-6f\" d=\"M 1959 3097 \nQ 1497 3097 1228 2736 \nQ 959 2375 959 1747 \nQ 959 1119 1226 758 \nQ 1494 397 1959 397 \nQ 2419 397 2687 759 \nQ 2956 1122 2956 1747 \nQ 2956 2369 2687 2733 \nQ 2419 3097 1959 3097 \nz\nM 1959 3584 \nQ 2709 3584 3137 3096 \nQ 3566 2609 3566 1747 \nQ 3566 888 3137 398 \nQ 2709 -91 1959 -91 \nQ 1206 -91 779 398 \nQ 353 888 353 1747 \nQ 353 2609 779 3096 \nQ 1206 3584 1959 3584 \nz\n\" transform=\"scale(0.015625)\"/>\n       <path id=\"DejaVuSans-66\" d=\"M 2375 4863 \nL 2375 4384 \nL 1825 4384 \nQ 1516 4384 1395 4259 \nQ 1275 4134 1275 3809 \nL 1275 3500 \nL 2222 3500 \nL 2222 3053 \nL 1275 3053 \nL 1275 0 \nL 697 0 \nL 697 3053 \nL 147 3053 \nL 147 3500 \nL 697 3500 \nL 697 3744 \nQ 697 4328 969 4595 \nQ 1241 4863 1831 4863 \nL 2375 4863 \nz\n\" transform=\"scale(0.015625)\"/>\n       <path id=\"DejaVuSans-63\" d=\"M 3122 3366 \nL 3122 2828 \nQ 2878 2963 2633 3030 \nQ 2388 3097 2138 3097 \nQ 1578 3097 1268 2742 \nQ 959 2388 959 1747 \nQ 959 1106 1268 751 \nQ 1578 397 2138 397 \nQ 2388 397 2633 464 \nQ 2878 531 3122 666 \nL 3122 134 \nQ 2881 22 2623 -34 \nQ 2366 -91 2075 -91 \nQ 1284 -91 818 406 \nQ 353 903 353 1747 \nQ 353 2603 823 3093 \nQ 1294 3584 2113 3584 \nQ 2378 3584 2631 3529 \nQ 2884 3475 3122 3366 \nz\n\" transform=\"scale(0.015625)\"/>\n       <path id=\"DejaVuSans-6c\" d=\"M 603 4863 \nL 1178 4863 \nL 1178 0 \nL 603 0 \nL 603 4863 \nz\n\" transform=\"scale(0.015625)\"/>\n       <path id=\"DejaVuSans-73\" d=\"M 2834 3397 \nL 2834 2853 \nQ 2591 2978 2328 3040 \nQ 2066 3103 1784 3103 \nQ 1356 3103 1142 2972 \nQ 928 2841 928 2578 \nQ 928 2378 1081 2264 \nQ 1234 2150 1697 2047 \nL 1894 2003 \nQ 2506 1872 2764 1633 \nQ 3022 1394 3022 966 \nQ 3022 478 2636 193 \nQ 2250 -91 1575 -91 \nQ 1294 -91 989 -36 \nQ 684 19 347 128 \nL 347 722 \nQ 666 556 975 473 \nQ 1284 391 1588 391 \nQ 1994 391 2212 530 \nQ 2431 669 2431 922 \nQ 2431 1156 2273 1281 \nQ 2116 1406 1581 1522 \nL 1381 1569 \nQ 847 1681 609 1914 \nQ 372 2147 372 2553 \nQ 372 3047 722 3315 \nQ 1072 3584 1716 3584 \nQ 2034 3584 2315 3537 \nQ 2597 3491 2834 3397 \nz\n\" transform=\"scale(0.015625)\"/>\n       <path id=\"DejaVuSans-74\" d=\"M 1172 4494 \nL 1172 3500 \nL 2356 3500 \nL 2356 3053 \nL 1172 3053 \nL 1172 1153 \nQ 1172 725 1289 603 \nQ 1406 481 1766 481 \nL 2356 481 \nL 2356 0 \nL 1766 0 \nQ 1100 0 847 248 \nQ 594 497 594 1153 \nL 594 3053 \nL 172 3053 \nL 172 3500 \nL 594 3500 \nL 594 4494 \nL 1172 4494 \nz\n\" transform=\"scale(0.015625)\"/>\n      </defs>\n      <use xlink:href=\"#DejaVuSans-4e\"/>\n      <use xlink:href=\"#DejaVuSans-75\" x=\"74.804688\"/>\n      <use xlink:href=\"#DejaVuSans-6d\" x=\"138.183594\"/>\n      <use xlink:href=\"#DejaVuSans-62\" x=\"235.595703\"/>\n      <use xlink:href=\"#DejaVuSans-65\" x=\"299.072266\"/>\n      <use xlink:href=\"#DejaVuSans-72\" x=\"360.595703\"/>\n      <use xlink:href=\"#DejaVuSans-20\" x=\"401.708984\"/>\n      <use xlink:href=\"#DejaVuSans-6f\" x=\"433.496094\"/>\n      <use xlink:href=\"#DejaVuSans-66\" x=\"494.677734\"/>\n      <use xlink:href=\"#DejaVuSans-20\" x=\"529.882812\"/>\n      <use xlink:href=\"#DejaVuSans-63\" x=\"561.669922\"/>\n      <use xlink:href=\"#DejaVuSans-6c\" x=\"616.650391\"/>\n      <use xlink:href=\"#DejaVuSans-75\" x=\"644.433594\"/>\n      <use xlink:href=\"#DejaVuSans-73\" x=\"707.8125\"/>\n      <use xlink:href=\"#DejaVuSans-74\" x=\"759.912109\"/>\n      <use xlink:href=\"#DejaVuSans-65\" x=\"799.121094\"/>\n      <use xlink:href=\"#DejaVuSans-72\" x=\"860.644531\"/>\n      <use xlink:href=\"#DejaVuSans-73\" x=\"901.757812\"/>\n     </g>\n    </g>\n   </g>\n   <g id=\"matplotlib.axis_2\">\n    <g id=\"ytick_1\">\n     <g id=\"line2d_6\">\n      <path d=\"M 46.965625 318.696084 \nL 604.965625 318.696084 \n\" clip-path=\"url(#pb3a3feb36b)\" style=\"fill: none; stroke: #ffffff; stroke-width: 0.8; stroke-linecap: round\"/>\n     </g>\n     <g id=\"text_7\">\n      <!-- 75 -->\n      <g style=\"fill: #262626\" transform=\"translate(27.240625 322.495303) scale(0.1 -0.1)\">\n       <defs>\n        <path id=\"DejaVuSans-37\" d=\"M 525 4666 \nL 3525 4666 \nL 3525 4397 \nL 1831 0 \nL 1172 0 \nL 2766 4134 \nL 525 4134 \nL 525 4666 \nz\n\" transform=\"scale(0.015625)\"/>\n        <path id=\"DejaVuSans-35\" d=\"M 691 4666 \nL 3169 4666 \nL 3169 4134 \nL 1269 4134 \nL 1269 2991 \nQ 1406 3038 1543 3061 \nQ 1681 3084 1819 3084 \nQ 2600 3084 3056 2656 \nQ 3513 2228 3513 1497 \nQ 3513 744 3044 326 \nQ 2575 -91 1722 -91 \nQ 1428 -91 1123 -41 \nQ 819 9 494 109 \nL 494 744 \nQ 775 591 1075 516 \nQ 1375 441 1709 441 \nQ 2250 441 2565 725 \nQ 2881 1009 2881 1497 \nQ 2881 1984 2565 2268 \nQ 2250 2553 1709 2553 \nQ 1456 2553 1204 2497 \nQ 953 2441 691 2322 \nL 691 4666 \nz\n\" transform=\"scale(0.015625)\"/>\n       </defs>\n       <use xlink:href=\"#DejaVuSans-37\"/>\n       <use xlink:href=\"#DejaVuSans-35\" x=\"63.623047\"/>\n      </g>\n     </g>\n    </g>\n    <g id=\"ytick_2\">\n     <g id=\"line2d_7\">\n      <path d=\"M 46.965625 274.184901 \nL 604.965625 274.184901 \n\" clip-path=\"url(#pb3a3feb36b)\" style=\"fill: none; stroke: #ffffff; stroke-width: 0.8; stroke-linecap: round\"/>\n     </g>\n     <g id=\"text_8\">\n      <!-- 100 -->\n      <g style=\"fill: #262626\" transform=\"translate(20.878125 277.98412) scale(0.1 -0.1)\">\n       <use xlink:href=\"#DejaVuSans-31\"/>\n       <use xlink:href=\"#DejaVuSans-30\" x=\"63.623047\"/>\n       <use xlink:href=\"#DejaVuSans-30\" x=\"127.246094\"/>\n      </g>\n     </g>\n    </g>\n    <g id=\"ytick_3\">\n     <g id=\"line2d_8\">\n      <path d=\"M 46.965625 229.673718 \nL 604.965625 229.673718 \n\" clip-path=\"url(#pb3a3feb36b)\" style=\"fill: none; stroke: #ffffff; stroke-width: 0.8; stroke-linecap: round\"/>\n     </g>\n     <g id=\"text_9\">\n      <!-- 125 -->\n      <g style=\"fill: #262626\" transform=\"translate(20.878125 233.472937) scale(0.1 -0.1)\">\n       <use xlink:href=\"#DejaVuSans-31\"/>\n       <use xlink:href=\"#DejaVuSans-32\" x=\"63.623047\"/>\n       <use xlink:href=\"#DejaVuSans-35\" x=\"127.246094\"/>\n      </g>\n     </g>\n    </g>\n    <g id=\"ytick_4\">\n     <g id=\"line2d_9\">\n      <path d=\"M 46.965625 185.162535 \nL 604.965625 185.162535 \n\" clip-path=\"url(#pb3a3feb36b)\" style=\"fill: none; stroke: #ffffff; stroke-width: 0.8; stroke-linecap: round\"/>\n     </g>\n     <g id=\"text_10\">\n      <!-- 150 -->\n      <g style=\"fill: #262626\" transform=\"translate(20.878125 188.961754) scale(0.1 -0.1)\">\n       <use xlink:href=\"#DejaVuSans-31\"/>\n       <use xlink:href=\"#DejaVuSans-35\" x=\"63.623047\"/>\n       <use xlink:href=\"#DejaVuSans-30\" x=\"127.246094\"/>\n      </g>\n     </g>\n    </g>\n    <g id=\"ytick_5\">\n     <g id=\"line2d_10\">\n      <path d=\"M 46.965625 140.651352 \nL 604.965625 140.651352 \n\" clip-path=\"url(#pb3a3feb36b)\" style=\"fill: none; stroke: #ffffff; stroke-width: 0.8; stroke-linecap: round\"/>\n     </g>\n     <g id=\"text_11\">\n      <!-- 175 -->\n      <g style=\"fill: #262626\" transform=\"translate(20.878125 144.450571) scale(0.1 -0.1)\">\n       <use xlink:href=\"#DejaVuSans-31\"/>\n       <use xlink:href=\"#DejaVuSans-37\" x=\"63.623047\"/>\n       <use xlink:href=\"#DejaVuSans-35\" x=\"127.246094\"/>\n      </g>\n     </g>\n    </g>\n    <g id=\"ytick_6\">\n     <g id=\"line2d_11\">\n      <path d=\"M 46.965625 96.140169 \nL 604.965625 96.140169 \n\" clip-path=\"url(#pb3a3feb36b)\" style=\"fill: none; stroke: #ffffff; stroke-width: 0.8; stroke-linecap: round\"/>\n     </g>\n     <g id=\"text_12\">\n      <!-- 200 -->\n      <g style=\"fill: #262626\" transform=\"translate(20.878125 99.939388) scale(0.1 -0.1)\">\n       <use xlink:href=\"#DejaVuSans-32\"/>\n       <use xlink:href=\"#DejaVuSans-30\" x=\"63.623047\"/>\n       <use xlink:href=\"#DejaVuSans-30\" x=\"127.246094\"/>\n      </g>\n     </g>\n    </g>\n    <g id=\"ytick_7\">\n     <g id=\"line2d_12\">\n      <path d=\"M 46.965625 51.628986 \nL 604.965625 51.628986 \n\" clip-path=\"url(#pb3a3feb36b)\" style=\"fill: none; stroke: #ffffff; stroke-width: 0.8; stroke-linecap: round\"/>\n     </g>\n     <g id=\"text_13\">\n      <!-- 225 -->\n      <g style=\"fill: #262626\" transform=\"translate(20.878125 55.428205) scale(0.1 -0.1)\">\n       <use xlink:href=\"#DejaVuSans-32\"/>\n       <use xlink:href=\"#DejaVuSans-32\" x=\"63.623047\"/>\n       <use xlink:href=\"#DejaVuSans-35\" x=\"127.246094\"/>\n      </g>\n     </g>\n    </g>\n    <g id=\"text_14\">\n     <!-- WCSS -->\n     <g style=\"fill: #262626\" transform=\"translate(14.798437 203.421719) rotate(-90) scale(0.1 -0.1)\">\n      <defs>\n       <path id=\"DejaVuSans-57\" d=\"M 213 4666 \nL 850 4666 \nL 1831 722 \nL 2809 4666 \nL 3519 4666 \nL 4500 722 \nL 5478 4666 \nL 6119 4666 \nL 4947 0 \nL 4153 0 \nL 3169 4050 \nL 2175 0 \nL 1381 0 \nL 213 4666 \nz\n\" transform=\"scale(0.015625)\"/>\n       <path id=\"DejaVuSans-43\" d=\"M 4122 4306 \nL 4122 3641 \nQ 3803 3938 3442 4084 \nQ 3081 4231 2675 4231 \nQ 1875 4231 1450 3742 \nQ 1025 3253 1025 2328 \nQ 1025 1406 1450 917 \nQ 1875 428 2675 428 \nQ 3081 428 3442 575 \nQ 3803 722 4122 1019 \nL 4122 359 \nQ 3791 134 3420 21 \nQ 3050 -91 2638 -91 \nQ 1578 -91 968 557 \nQ 359 1206 359 2328 \nQ 359 3453 968 4101 \nQ 1578 4750 2638 4750 \nQ 3056 4750 3426 4639 \nQ 3797 4528 4122 4306 \nz\n\" transform=\"scale(0.015625)\"/>\n       <path id=\"DejaVuSans-53\" d=\"M 3425 4513 \nL 3425 3897 \nQ 3066 4069 2747 4153 \nQ 2428 4238 2131 4238 \nQ 1616 4238 1336 4038 \nQ 1056 3838 1056 3469 \nQ 1056 3159 1242 3001 \nQ 1428 2844 1947 2747 \nL 2328 2669 \nQ 3034 2534 3370 2195 \nQ 3706 1856 3706 1288 \nQ 3706 609 3251 259 \nQ 2797 -91 1919 -91 \nQ 1588 -91 1214 -16 \nQ 841 59 441 206 \nL 441 856 \nQ 825 641 1194 531 \nQ 1563 422 1919 422 \nQ 2459 422 2753 634 \nQ 3047 847 3047 1241 \nQ 3047 1584 2836 1778 \nQ 2625 1972 2144 2069 \nL 1759 2144 \nQ 1053 2284 737 2584 \nQ 422 2884 422 3419 \nQ 422 4038 858 4394 \nQ 1294 4750 2059 4750 \nQ 2388 4750 2728 4690 \nQ 3069 4631 3425 4513 \nz\n\" transform=\"scale(0.015625)\"/>\n      </defs>\n      <use xlink:href=\"#DejaVuSans-57\"/>\n      <use xlink:href=\"#DejaVuSans-43\" x=\"98.876953\"/>\n      <use xlink:href=\"#DejaVuSans-53\" x=\"168.701172\"/>\n      <use xlink:href=\"#DejaVuSans-53\" x=\"232.177734\"/>\n     </g>\n    </g>\n   </g>\n   <g id=\"PolyCollection_1\"/>\n   <g id=\"line2d_13\">\n    <path d=\"M 72.329261 37.438125 \nL 128.692898 254.968991 \nL 185.056534 272.99929 \nL 241.42017 288.923824 \nL 297.783807 300.854273 \nL 354.147443 310.197967 \nL 410.51108 320.343513 \nL 466.874716 330.451619 \nL 523.238352 333.527768 \nL 579.601989 339.838125 \n\" clip-path=\"url(#pb3a3feb36b)\" style=\"fill: none; stroke: #386df9; stroke-width: 1.5; stroke-linecap: round\"/>\n   </g>\n   <g id=\"patch_3\">\n    <path d=\"M 46.965625 354.958125 \nL 46.965625 22.318125 \n\" style=\"fill: none; stroke: #ffffff; stroke-width: 0.8; stroke-linejoin: miter; stroke-linecap: square\"/>\n   </g>\n   <g id=\"patch_4\">\n    <path d=\"M 604.965625 354.958125 \nL 604.965625 22.318125 \n\" style=\"fill: none; stroke: #ffffff; stroke-width: 0.8; stroke-linejoin: miter; stroke-linecap: square\"/>\n   </g>\n   <g id=\"patch_5\">\n    <path d=\"M 46.965625 354.958125 \nL 604.965625 354.958125 \n\" style=\"fill: none; stroke: #ffffff; stroke-width: 0.8; stroke-linejoin: miter; stroke-linecap: square\"/>\n   </g>\n   <g id=\"patch_6\">\n    <path d=\"M 46.965625 22.318125 \nL 604.965625 22.318125 \n\" style=\"fill: none; stroke: #ffffff; stroke-width: 0.8; stroke-linejoin: miter; stroke-linecap: square\"/>\n   </g>\n   <g id=\"text_15\">\n    <!-- Elbow Method -->\n    <g style=\"fill: #262626\" transform=\"translate(283.709687 16.318125) scale(0.12 -0.12)\">\n     <defs>\n      <path id=\"DejaVuSans-45\" d=\"M 628 4666 \nL 3578 4666 \nL 3578 4134 \nL 1259 4134 \nL 1259 2753 \nL 3481 2753 \nL 3481 2222 \nL 1259 2222 \nL 1259 531 \nL 3634 531 \nL 3634 0 \nL 628 0 \nL 628 4666 \nz\n\" transform=\"scale(0.015625)\"/>\n      <path id=\"DejaVuSans-77\" d=\"M 269 3500 \nL 844 3500 \nL 1563 769 \nL 2278 3500 \nL 2956 3500 \nL 3675 769 \nL 4391 3500 \nL 4966 3500 \nL 4050 0 \nL 3372 0 \nL 2619 2869 \nL 1863 0 \nL 1184 0 \nL 269 3500 \nz\n\" transform=\"scale(0.015625)\"/>\n      <path id=\"DejaVuSans-4d\" d=\"M 628 4666 \nL 1569 4666 \nL 2759 1491 \nL 3956 4666 \nL 4897 4666 \nL 4897 0 \nL 4281 0 \nL 4281 4097 \nL 3078 897 \nL 2444 897 \nL 1241 4097 \nL 1241 0 \nL 628 0 \nL 628 4666 \nz\n\" transform=\"scale(0.015625)\"/>\n      <path id=\"DejaVuSans-68\" d=\"M 3513 2113 \nL 3513 0 \nL 2938 0 \nL 2938 2094 \nQ 2938 2591 2744 2837 \nQ 2550 3084 2163 3084 \nQ 1697 3084 1428 2787 \nQ 1159 2491 1159 1978 \nL 1159 0 \nL 581 0 \nL 581 4863 \nL 1159 4863 \nL 1159 2956 \nQ 1366 3272 1645 3428 \nQ 1925 3584 2291 3584 \nQ 2894 3584 3203 3211 \nQ 3513 2838 3513 2113 \nz\n\" transform=\"scale(0.015625)\"/>\n      <path id=\"DejaVuSans-64\" d=\"M 2906 2969 \nL 2906 4863 \nL 3481 4863 \nL 3481 0 \nL 2906 0 \nL 2906 525 \nQ 2725 213 2448 61 \nQ 2172 -91 1784 -91 \nQ 1150 -91 751 415 \nQ 353 922 353 1747 \nQ 353 2572 751 3078 \nQ 1150 3584 1784 3584 \nQ 2172 3584 2448 3432 \nQ 2725 3281 2906 2969 \nz\nM 947 1747 \nQ 947 1113 1208 752 \nQ 1469 391 1925 391 \nQ 2381 391 2643 752 \nQ 2906 1113 2906 1747 \nQ 2906 2381 2643 2742 \nQ 2381 3103 1925 3103 \nQ 1469 3103 1208 2742 \nQ 947 2381 947 1747 \nz\n\" transform=\"scale(0.015625)\"/>\n     </defs>\n     <use xlink:href=\"#DejaVuSans-45\"/>\n     <use xlink:href=\"#DejaVuSans-6c\" x=\"63.183594\"/>\n     <use xlink:href=\"#DejaVuSans-62\" x=\"90.966797\"/>\n     <use xlink:href=\"#DejaVuSans-6f\" x=\"154.443359\"/>\n     <use xlink:href=\"#DejaVuSans-77\" x=\"215.625\"/>\n     <use xlink:href=\"#DejaVuSans-20\" x=\"297.412109\"/>\n     <use xlink:href=\"#DejaVuSans-4d\" x=\"329.199219\"/>\n     <use xlink:href=\"#DejaVuSans-65\" x=\"415.478516\"/>\n     <use xlink:href=\"#DejaVuSans-74\" x=\"477.001953\"/>\n     <use xlink:href=\"#DejaVuSans-68\" x=\"516.210938\"/>\n     <use xlink:href=\"#DejaVuSans-6f\" x=\"579.589844\"/>\n     <use xlink:href=\"#DejaVuSans-64\" x=\"640.771484\"/>\n    </g>\n   </g>\n  </g>\n </g>\n <defs>\n  <clipPath id=\"pb3a3feb36b\">\n   <rect x=\"46.965625\" y=\"22.318125\" width=\"558\" height=\"332.64\"/>\n  </clipPath>\n </defs>\n</svg>\n"
          },
          "metadata": {}
        }
      ]
    },
    {
      "cell_type": "code",
      "source": [
        "# Giả sử từ Elbow Method, số cụm tối ưu là 3\n",
        "kmeans = KMeans(n_clusters=3, init='k-means++', max_iter=300, n_init=10, random_state=42)\n",
        "clusters = kmeans.fit_predict(X_scaled)\n",
        "\n",
        "# Thêm nhãn cụm vào DataFrame\n",
        "df_rap_and_usa['Cluster'] = clusters\n",
        "\n",
        "# In kết quả phân cụm\n",
        "print(df_rap_and_usa[['Title', 'Artist', 'Cluster']].head(10))\n"
      ],
      "metadata": {
        "colab": {
          "base_uri": "https://localhost:8080/"
        },
        "id": "RU30aH2e1K7-",
        "outputId": "196bdb8b-6f8e-4e99-91f1-614b8b7dafee"
      },
      "execution_count": 40,
      "outputs": [
        {
          "output_type": "stream",
          "name": "stdout",
          "text": [
            "                Title                                   Artist  Cluster\n",
            "0            betrayed                                  Lil Xan        0\n",
            "1               japan                               Famous Dex        2\n",
            "2               japan                               Famous Dex        2\n",
            "3               japan                               Famous Dex        2\n",
            "4     do you remember  Chance the Rapper - Death Cab for Cutie        2\n",
            "5         ball for me                Post Malone - Nicki Minaj        2\n",
            "6             revenge                             XXXTENTACION        0\n",
            "7             revenge                             XXXTENTACION        0\n",
            "8            nowadays                  Lil Skies - Landon Cube        0\n",
            "9  houstonfornication                             Travis Scott        0\n"
          ]
        }
      ]
    },
    {
      "cell_type": "code",
      "source": [
        "# Tính toán số lượng bài hát trong mỗi cụm\n",
        "print(df_rap_and_usa['Cluster'].value_counts())\n",
        "\n",
        "# Vẽ biểu đồ để trực quan hóa các cụm\n",
        "plt.figure(figsize=(10, 6))\n",
        "sns.scatterplot(x=X_scaled[:, 0], y=X_scaled[:, 1], hue=clusters, palette='viridis')\n",
        "plt.title('K-Means Clustering')\n",
        "plt.xlabel('Feature 1')\n",
        "plt.ylabel('Feature 2')\n",
        "plt.show()\n"
      ],
      "metadata": {
        "colab": {
          "base_uri": "https://localhost:8080/",
          "height": 632
        },
        "id": "vQx5XgoW2KsW",
        "outputId": "961a570b-d99e-49e4-de94-1b1124b450ca"
      },
      "execution_count": 43,
      "outputs": [
        {
          "output_type": "stream",
          "name": "stdout",
          "text": [
            "Cluster\n",
            "0    117\n",
            "1     92\n",
            "2     58\n",
            "Name: count, dtype: int64\n"
          ]
        },
        {
          "output_type": "display_data",
          "data": {
            "text/plain": [
              "<Figure size 1000x600 with 1 Axes>"
            ],
            "image/svg+xml": "<?xml version=\"1.0\" encoding=\"utf-8\" standalone=\"no\"?>\n<!DOCTYPE svg PUBLIC \"-//W3C//DTD SVG 1.1//EN\"\n  \"http://www.w3.org/Graphics/SVG/1.1/DTD/svg11.dtd\">\n<svg xmlns:xlink=\"http://www.w3.org/1999/xlink\" width=\"608.98125pt\" height=\"392.514375pt\" viewBox=\"0 0 608.98125 392.514375\" xmlns=\"http://www.w3.org/2000/svg\" version=\"1.1\">\n <metadata>\n  <rdf:RDF xmlns:dc=\"http://purl.org/dc/elements/1.1/\" xmlns:cc=\"http://creativecommons.org/ns#\" xmlns:rdf=\"http://www.w3.org/1999/02/22-rdf-syntax-ns#\">\n   <cc:Work>\n    <dc:type rdf:resource=\"http://purl.org/dc/dcmitype/StillImage\"/>\n    <dc:date>2024-09-02T04:06:51.963685</dc:date>\n    <dc:format>image/svg+xml</dc:format>\n    <dc:creator>\n     <cc:Agent>\n      <dc:title>Matplotlib v3.7.1, https://matplotlib.org/</dc:title>\n     </cc:Agent>\n    </dc:creator>\n   </cc:Work>\n  </rdf:RDF>\n </metadata>\n <defs>\n  <style type=\"text/css\">*{stroke-linejoin: round; stroke-linecap: butt}</style>\n </defs>\n <g id=\"figure_1\">\n  <g id=\"patch_1\">\n   <path d=\"M 0 392.514375 \nL 608.98125 392.514375 \nL 608.98125 0 \nL 0 0 \nz\n\" style=\"fill: #ffffff\"/>\n  </g>\n  <g id=\"axes_1\">\n   <g id=\"patch_2\">\n    <path d=\"M 43.78125 354.958125 \nL 601.78125 354.958125 \nL 601.78125 22.318125 \nL 43.78125 22.318125 \nz\n\" style=\"fill: #eaeaf2\"/>\n   </g>\n   <g id=\"matplotlib.axis_1\">\n    <g id=\"xtick_1\">\n     <g id=\"line2d_1\">\n      <path d=\"M 69.144886 354.958125 \nL 69.144886 22.318125 \n\" clip-path=\"url(#pc44035e5a8)\" style=\"fill: none; stroke: #ffffff; stroke-width: 0.8; stroke-linecap: round\"/>\n     </g>\n     <g id=\"text_1\">\n      <!-- 0.0 -->\n      <g style=\"fill: #262626\" transform=\"translate(61.193324 369.556562) scale(0.1 -0.1)\">\n       <defs>\n        <path id=\"DejaVuSans-30\" d=\"M 2034 4250 \nQ 1547 4250 1301 3770 \nQ 1056 3291 1056 2328 \nQ 1056 1369 1301 889 \nQ 1547 409 2034 409 \nQ 2525 409 2770 889 \nQ 3016 1369 3016 2328 \nQ 3016 3291 2770 3770 \nQ 2525 4250 2034 4250 \nz\nM 2034 4750 \nQ 2819 4750 3233 4129 \nQ 3647 3509 3647 2328 \nQ 3647 1150 3233 529 \nQ 2819 -91 2034 -91 \nQ 1250 -91 836 529 \nQ 422 1150 422 2328 \nQ 422 3509 836 4129 \nQ 1250 4750 2034 4750 \nz\n\" transform=\"scale(0.015625)\"/>\n        <path id=\"DejaVuSans-2e\" d=\"M 684 794 \nL 1344 794 \nL 1344 0 \nL 684 0 \nL 684 794 \nz\n\" transform=\"scale(0.015625)\"/>\n       </defs>\n       <use xlink:href=\"#DejaVuSans-30\"/>\n       <use xlink:href=\"#DejaVuSans-2e\" x=\"63.623047\"/>\n       <use xlink:href=\"#DejaVuSans-30\" x=\"95.410156\"/>\n      </g>\n     </g>\n    </g>\n    <g id=\"xtick_2\">\n     <g id=\"line2d_2\">\n      <path d=\"M 170.599432 354.958125 \nL 170.599432 22.318125 \n\" clip-path=\"url(#pc44035e5a8)\" style=\"fill: none; stroke: #ffffff; stroke-width: 0.8; stroke-linecap: round\"/>\n     </g>\n     <g id=\"text_2\">\n      <!-- 0.2 -->\n      <g style=\"fill: #262626\" transform=\"translate(162.647869 369.556562) scale(0.1 -0.1)\">\n       <defs>\n        <path id=\"DejaVuSans-32\" d=\"M 1228 531 \nL 3431 531 \nL 3431 0 \nL 469 0 \nL 469 531 \nQ 828 903 1448 1529 \nQ 2069 2156 2228 2338 \nQ 2531 2678 2651 2914 \nQ 2772 3150 2772 3378 \nQ 2772 3750 2511 3984 \nQ 2250 4219 1831 4219 \nQ 1534 4219 1204 4116 \nQ 875 4013 500 3803 \nL 500 4441 \nQ 881 4594 1212 4672 \nQ 1544 4750 1819 4750 \nQ 2544 4750 2975 4387 \nQ 3406 4025 3406 3419 \nQ 3406 3131 3298 2873 \nQ 3191 2616 2906 2266 \nQ 2828 2175 2409 1742 \nQ 1991 1309 1228 531 \nz\n\" transform=\"scale(0.015625)\"/>\n       </defs>\n       <use xlink:href=\"#DejaVuSans-30\"/>\n       <use xlink:href=\"#DejaVuSans-2e\" x=\"63.623047\"/>\n       <use xlink:href=\"#DejaVuSans-32\" x=\"95.410156\"/>\n      </g>\n     </g>\n    </g>\n    <g id=\"xtick_3\">\n     <g id=\"line2d_3\">\n      <path d=\"M 272.053977 354.958125 \nL 272.053977 22.318125 \n\" clip-path=\"url(#pc44035e5a8)\" style=\"fill: none; stroke: #ffffff; stroke-width: 0.8; stroke-linecap: round\"/>\n     </g>\n     <g id=\"text_3\">\n      <!-- 0.4 -->\n      <g style=\"fill: #262626\" transform=\"translate(264.102415 369.556562) scale(0.1 -0.1)\">\n       <defs>\n        <path id=\"DejaVuSans-34\" d=\"M 2419 4116 \nL 825 1625 \nL 2419 1625 \nL 2419 4116 \nz\nM 2253 4666 \nL 3047 4666 \nL 3047 1625 \nL 3713 1625 \nL 3713 1100 \nL 3047 1100 \nL 3047 0 \nL 2419 0 \nL 2419 1100 \nL 313 1100 \nL 313 1709 \nL 2253 4666 \nz\n\" transform=\"scale(0.015625)\"/>\n       </defs>\n       <use xlink:href=\"#DejaVuSans-30\"/>\n       <use xlink:href=\"#DejaVuSans-2e\" x=\"63.623047\"/>\n       <use xlink:href=\"#DejaVuSans-34\" x=\"95.410156\"/>\n      </g>\n     </g>\n    </g>\n    <g id=\"xtick_4\">\n     <g id=\"line2d_4\">\n      <path d=\"M 373.508523 354.958125 \nL 373.508523 22.318125 \n\" clip-path=\"url(#pc44035e5a8)\" style=\"fill: none; stroke: #ffffff; stroke-width: 0.8; stroke-linecap: round\"/>\n     </g>\n     <g id=\"text_4\">\n      <!-- 0.6 -->\n      <g style=\"fill: #262626\" transform=\"translate(365.55696 369.556562) scale(0.1 -0.1)\">\n       <defs>\n        <path id=\"DejaVuSans-36\" d=\"M 2113 2584 \nQ 1688 2584 1439 2293 \nQ 1191 2003 1191 1497 \nQ 1191 994 1439 701 \nQ 1688 409 2113 409 \nQ 2538 409 2786 701 \nQ 3034 994 3034 1497 \nQ 3034 2003 2786 2293 \nQ 2538 2584 2113 2584 \nz\nM 3366 4563 \nL 3366 3988 \nQ 3128 4100 2886 4159 \nQ 2644 4219 2406 4219 \nQ 1781 4219 1451 3797 \nQ 1122 3375 1075 2522 \nQ 1259 2794 1537 2939 \nQ 1816 3084 2150 3084 \nQ 2853 3084 3261 2657 \nQ 3669 2231 3669 1497 \nQ 3669 778 3244 343 \nQ 2819 -91 2113 -91 \nQ 1303 -91 875 529 \nQ 447 1150 447 2328 \nQ 447 3434 972 4092 \nQ 1497 4750 2381 4750 \nQ 2619 4750 2861 4703 \nQ 3103 4656 3366 4563 \nz\n\" transform=\"scale(0.015625)\"/>\n       </defs>\n       <use xlink:href=\"#DejaVuSans-30\"/>\n       <use xlink:href=\"#DejaVuSans-2e\" x=\"63.623047\"/>\n       <use xlink:href=\"#DejaVuSans-36\" x=\"95.410156\"/>\n      </g>\n     </g>\n    </g>\n    <g id=\"xtick_5\">\n     <g id=\"line2d_5\">\n      <path d=\"M 474.963068 354.958125 \nL 474.963068 22.318125 \n\" clip-path=\"url(#pc44035e5a8)\" style=\"fill: none; stroke: #ffffff; stroke-width: 0.8; stroke-linecap: round\"/>\n     </g>\n     <g id=\"text_5\">\n      <!-- 0.8 -->\n      <g style=\"fill: #262626\" transform=\"translate(467.011506 369.556562) scale(0.1 -0.1)\">\n       <defs>\n        <path id=\"DejaVuSans-38\" d=\"M 2034 2216 \nQ 1584 2216 1326 1975 \nQ 1069 1734 1069 1313 \nQ 1069 891 1326 650 \nQ 1584 409 2034 409 \nQ 2484 409 2743 651 \nQ 3003 894 3003 1313 \nQ 3003 1734 2745 1975 \nQ 2488 2216 2034 2216 \nz\nM 1403 2484 \nQ 997 2584 770 2862 \nQ 544 3141 544 3541 \nQ 544 4100 942 4425 \nQ 1341 4750 2034 4750 \nQ 2731 4750 3128 4425 \nQ 3525 4100 3525 3541 \nQ 3525 3141 3298 2862 \nQ 3072 2584 2669 2484 \nQ 3125 2378 3379 2068 \nQ 3634 1759 3634 1313 \nQ 3634 634 3220 271 \nQ 2806 -91 2034 -91 \nQ 1263 -91 848 271 \nQ 434 634 434 1313 \nQ 434 1759 690 2068 \nQ 947 2378 1403 2484 \nz\nM 1172 3481 \nQ 1172 3119 1398 2916 \nQ 1625 2713 2034 2713 \nQ 2441 2713 2670 2916 \nQ 2900 3119 2900 3481 \nQ 2900 3844 2670 4047 \nQ 2441 4250 2034 4250 \nQ 1625 4250 1398 4047 \nQ 1172 3844 1172 3481 \nz\n\" transform=\"scale(0.015625)\"/>\n       </defs>\n       <use xlink:href=\"#DejaVuSans-30\"/>\n       <use xlink:href=\"#DejaVuSans-2e\" x=\"63.623047\"/>\n       <use xlink:href=\"#DejaVuSans-38\" x=\"95.410156\"/>\n      </g>\n     </g>\n    </g>\n    <g id=\"xtick_6\">\n     <g id=\"line2d_6\">\n      <path d=\"M 576.417614 354.958125 \nL 576.417614 22.318125 \n\" clip-path=\"url(#pc44035e5a8)\" style=\"fill: none; stroke: #ffffff; stroke-width: 0.8; stroke-linecap: round\"/>\n     </g>\n     <g id=\"text_6\">\n      <!-- 1.0 -->\n      <g style=\"fill: #262626\" transform=\"translate(568.466051 369.556562) scale(0.1 -0.1)\">\n       <defs>\n        <path id=\"DejaVuSans-31\" d=\"M 794 531 \nL 1825 531 \nL 1825 4091 \nL 703 3866 \nL 703 4441 \nL 1819 4666 \nL 2450 4666 \nL 2450 531 \nL 3481 531 \nL 3481 0 \nL 794 0 \nL 794 531 \nz\n\" transform=\"scale(0.015625)\"/>\n       </defs>\n       <use xlink:href=\"#DejaVuSans-31\"/>\n       <use xlink:href=\"#DejaVuSans-2e\" x=\"63.623047\"/>\n       <use xlink:href=\"#DejaVuSans-30\" x=\"95.410156\"/>\n      </g>\n     </g>\n    </g>\n    <g id=\"text_7\">\n     <!-- Feature 1 -->\n     <g style=\"fill: #262626\" transform=\"translate(299.121094 383.234687) scale(0.1 -0.1)\">\n      <defs>\n       <path id=\"DejaVuSans-46\" d=\"M 628 4666 \nL 3309 4666 \nL 3309 4134 \nL 1259 4134 \nL 1259 2759 \nL 3109 2759 \nL 3109 2228 \nL 1259 2228 \nL 1259 0 \nL 628 0 \nL 628 4666 \nz\n\" transform=\"scale(0.015625)\"/>\n       <path id=\"DejaVuSans-65\" d=\"M 3597 1894 \nL 3597 1613 \nL 953 1613 \nQ 991 1019 1311 708 \nQ 1631 397 2203 397 \nQ 2534 397 2845 478 \nQ 3156 559 3463 722 \nL 3463 178 \nQ 3153 47 2828 -22 \nQ 2503 -91 2169 -91 \nQ 1331 -91 842 396 \nQ 353 884 353 1716 \nQ 353 2575 817 3079 \nQ 1281 3584 2069 3584 \nQ 2775 3584 3186 3129 \nQ 3597 2675 3597 1894 \nz\nM 3022 2063 \nQ 3016 2534 2758 2815 \nQ 2500 3097 2075 3097 \nQ 1594 3097 1305 2825 \nQ 1016 2553 972 2059 \nL 3022 2063 \nz\n\" transform=\"scale(0.015625)\"/>\n       <path id=\"DejaVuSans-61\" d=\"M 2194 1759 \nQ 1497 1759 1228 1600 \nQ 959 1441 959 1056 \nQ 959 750 1161 570 \nQ 1363 391 1709 391 \nQ 2188 391 2477 730 \nQ 2766 1069 2766 1631 \nL 2766 1759 \nL 2194 1759 \nz\nM 3341 1997 \nL 3341 0 \nL 2766 0 \nL 2766 531 \nQ 2569 213 2275 61 \nQ 1981 -91 1556 -91 \nQ 1019 -91 701 211 \nQ 384 513 384 1019 \nQ 384 1609 779 1909 \nQ 1175 2209 1959 2209 \nL 2766 2209 \nL 2766 2266 \nQ 2766 2663 2505 2880 \nQ 2244 3097 1772 3097 \nQ 1472 3097 1187 3025 \nQ 903 2953 641 2809 \nL 641 3341 \nQ 956 3463 1253 3523 \nQ 1550 3584 1831 3584 \nQ 2591 3584 2966 3190 \nQ 3341 2797 3341 1997 \nz\n\" transform=\"scale(0.015625)\"/>\n       <path id=\"DejaVuSans-74\" d=\"M 1172 4494 \nL 1172 3500 \nL 2356 3500 \nL 2356 3053 \nL 1172 3053 \nL 1172 1153 \nQ 1172 725 1289 603 \nQ 1406 481 1766 481 \nL 2356 481 \nL 2356 0 \nL 1766 0 \nQ 1100 0 847 248 \nQ 594 497 594 1153 \nL 594 3053 \nL 172 3053 \nL 172 3500 \nL 594 3500 \nL 594 4494 \nL 1172 4494 \nz\n\" transform=\"scale(0.015625)\"/>\n       <path id=\"DejaVuSans-75\" d=\"M 544 1381 \nL 544 3500 \nL 1119 3500 \nL 1119 1403 \nQ 1119 906 1312 657 \nQ 1506 409 1894 409 \nQ 2359 409 2629 706 \nQ 2900 1003 2900 1516 \nL 2900 3500 \nL 3475 3500 \nL 3475 0 \nL 2900 0 \nL 2900 538 \nQ 2691 219 2414 64 \nQ 2138 -91 1772 -91 \nQ 1169 -91 856 284 \nQ 544 659 544 1381 \nz\nM 1991 3584 \nL 1991 3584 \nz\n\" transform=\"scale(0.015625)\"/>\n       <path id=\"DejaVuSans-72\" d=\"M 2631 2963 \nQ 2534 3019 2420 3045 \nQ 2306 3072 2169 3072 \nQ 1681 3072 1420 2755 \nQ 1159 2438 1159 1844 \nL 1159 0 \nL 581 0 \nL 581 3500 \nL 1159 3500 \nL 1159 2956 \nQ 1341 3275 1631 3429 \nQ 1922 3584 2338 3584 \nQ 2397 3584 2469 3576 \nQ 2541 3569 2628 3553 \nL 2631 2963 \nz\n\" transform=\"scale(0.015625)\"/>\n       <path id=\"DejaVuSans-20\" transform=\"scale(0.015625)\"/>\n      </defs>\n      <use xlink:href=\"#DejaVuSans-46\"/>\n      <use xlink:href=\"#DejaVuSans-65\" x=\"52.019531\"/>\n      <use xlink:href=\"#DejaVuSans-61\" x=\"113.542969\"/>\n      <use xlink:href=\"#DejaVuSans-74\" x=\"174.822266\"/>\n      <use xlink:href=\"#DejaVuSans-75\" x=\"214.03125\"/>\n      <use xlink:href=\"#DejaVuSans-72\" x=\"277.410156\"/>\n      <use xlink:href=\"#DejaVuSans-65\" x=\"316.273438\"/>\n      <use xlink:href=\"#DejaVuSans-20\" x=\"377.796875\"/>\n      <use xlink:href=\"#DejaVuSans-31\" x=\"409.583984\"/>\n     </g>\n    </g>\n   </g>\n   <g id=\"matplotlib.axis_2\">\n    <g id=\"ytick_1\">\n     <g id=\"line2d_7\">\n      <path d=\"M 43.78125 339.838125 \nL 601.78125 339.838125 \n\" clip-path=\"url(#pc44035e5a8)\" style=\"fill: none; stroke: #ffffff; stroke-width: 0.8; stroke-linecap: round\"/>\n     </g>\n     <g id=\"text_8\">\n      <!-- 0.0 -->\n      <g style=\"fill: #262626\" transform=\"translate(20.878125 343.637344) scale(0.1 -0.1)\">\n       <use xlink:href=\"#DejaVuSans-30\"/>\n       <use xlink:href=\"#DejaVuSans-2e\" x=\"63.623047\"/>\n       <use xlink:href=\"#DejaVuSans-30\" x=\"95.410156\"/>\n      </g>\n     </g>\n    </g>\n    <g id=\"ytick_2\">\n     <g id=\"line2d_8\">\n      <path d=\"M 43.78125 279.358125 \nL 601.78125 279.358125 \n\" clip-path=\"url(#pc44035e5a8)\" style=\"fill: none; stroke: #ffffff; stroke-width: 0.8; stroke-linecap: round\"/>\n     </g>\n     <g id=\"text_9\">\n      <!-- 0.2 -->\n      <g style=\"fill: #262626\" transform=\"translate(20.878125 283.157344) scale(0.1 -0.1)\">\n       <use xlink:href=\"#DejaVuSans-30\"/>\n       <use xlink:href=\"#DejaVuSans-2e\" x=\"63.623047\"/>\n       <use xlink:href=\"#DejaVuSans-32\" x=\"95.410156\"/>\n      </g>\n     </g>\n    </g>\n    <g id=\"ytick_3\">\n     <g id=\"line2d_9\">\n      <path d=\"M 43.78125 218.878125 \nL 601.78125 218.878125 \n\" clip-path=\"url(#pc44035e5a8)\" style=\"fill: none; stroke: #ffffff; stroke-width: 0.8; stroke-linecap: round\"/>\n     </g>\n     <g id=\"text_10\">\n      <!-- 0.4 -->\n      <g style=\"fill: #262626\" transform=\"translate(20.878125 222.677344) scale(0.1 -0.1)\">\n       <use xlink:href=\"#DejaVuSans-30\"/>\n       <use xlink:href=\"#DejaVuSans-2e\" x=\"63.623047\"/>\n       <use xlink:href=\"#DejaVuSans-34\" x=\"95.410156\"/>\n      </g>\n     </g>\n    </g>\n    <g id=\"ytick_4\">\n     <g id=\"line2d_10\">\n      <path d=\"M 43.78125 158.398125 \nL 601.78125 158.398125 \n\" clip-path=\"url(#pc44035e5a8)\" style=\"fill: none; stroke: #ffffff; stroke-width: 0.8; stroke-linecap: round\"/>\n     </g>\n     <g id=\"text_11\">\n      <!-- 0.6 -->\n      <g style=\"fill: #262626\" transform=\"translate(20.878125 162.197344) scale(0.1 -0.1)\">\n       <use xlink:href=\"#DejaVuSans-30\"/>\n       <use xlink:href=\"#DejaVuSans-2e\" x=\"63.623047\"/>\n       <use xlink:href=\"#DejaVuSans-36\" x=\"95.410156\"/>\n      </g>\n     </g>\n    </g>\n    <g id=\"ytick_5\">\n     <g id=\"line2d_11\">\n      <path d=\"M 43.78125 97.918125 \nL 601.78125 97.918125 \n\" clip-path=\"url(#pc44035e5a8)\" style=\"fill: none; stroke: #ffffff; stroke-width: 0.8; stroke-linecap: round\"/>\n     </g>\n     <g id=\"text_12\">\n      <!-- 0.8 -->\n      <g style=\"fill: #262626\" transform=\"translate(20.878125 101.717344) scale(0.1 -0.1)\">\n       <use xlink:href=\"#DejaVuSans-30\"/>\n       <use xlink:href=\"#DejaVuSans-2e\" x=\"63.623047\"/>\n       <use xlink:href=\"#DejaVuSans-38\" x=\"95.410156\"/>\n      </g>\n     </g>\n    </g>\n    <g id=\"ytick_6\">\n     <g id=\"line2d_12\">\n      <path d=\"M 43.78125 37.438125 \nL 601.78125 37.438125 \n\" clip-path=\"url(#pc44035e5a8)\" style=\"fill: none; stroke: #ffffff; stroke-width: 0.8; stroke-linecap: round\"/>\n     </g>\n     <g id=\"text_13\">\n      <!-- 1.0 -->\n      <g style=\"fill: #262626\" transform=\"translate(20.878125 41.237344) scale(0.1 -0.1)\">\n       <use xlink:href=\"#DejaVuSans-31\"/>\n       <use xlink:href=\"#DejaVuSans-2e\" x=\"63.623047\"/>\n       <use xlink:href=\"#DejaVuSans-30\" x=\"95.410156\"/>\n      </g>\n     </g>\n    </g>\n    <g id=\"text_14\">\n     <!-- Feature 2 -->\n     <g style=\"fill: #262626\" transform=\"translate(14.798438 212.298281) rotate(-90) scale(0.1 -0.1)\">\n      <use xlink:href=\"#DejaVuSans-46\"/>\n      <use xlink:href=\"#DejaVuSans-65\" x=\"52.019531\"/>\n      <use xlink:href=\"#DejaVuSans-61\" x=\"113.542969\"/>\n      <use xlink:href=\"#DejaVuSans-74\" x=\"174.822266\"/>\n      <use xlink:href=\"#DejaVuSans-75\" x=\"214.03125\"/>\n      <use xlink:href=\"#DejaVuSans-72\" x=\"277.410156\"/>\n      <use xlink:href=\"#DejaVuSans-65\" x=\"316.273438\"/>\n      <use xlink:href=\"#DejaVuSans-20\" x=\"377.796875\"/>\n      <use xlink:href=\"#DejaVuSans-32\" x=\"409.583984\"/>\n     </g>\n    </g>\n   </g>\n   <g id=\"PathCollection_1\">\n    <defs>\n     <path id=\"C0_0_71c98a46a0\" d=\"M 0 3 \nC 0.795609 3 1.55874 2.683901 2.12132 2.12132 \nC 2.683901 1.55874 3 0.795609 3 -0 \nC 3 -0.795609 2.683901 -1.55874 2.12132 -2.12132 \nC 1.55874 -2.683901 0.795609 -3 0 -3 \nC -0.795609 -3 -1.55874 -2.683901 -2.12132 -2.12132 \nC -2.683901 -1.55874 -3 -0.795609 -3 0 \nC -3 0.795609 -2.683901 1.55874 -2.12132 2.12132 \nC -1.55874 2.683901 -0.795609 3 0 3 \nz\n\"/>\n    </defs>\n    <g clip-path=\"url(#pc44035e5a8)\">\n     <use xlink:href=\"#C0_0_71c98a46a0\" x=\"467.609089\" y=\"215.068002\" style=\"fill: #440154; stroke: #ffffff; stroke-width: 0.48\"/>\n    </g>\n    <g clip-path=\"url(#pc44035e5a8)\">\n     <use xlink:href=\"#C0_0_71c98a46a0\" x=\"401.573589\" y=\"134.507247\" style=\"fill: #fde725; stroke: #ffffff; stroke-width: 0.48\"/>\n    </g>\n    <g clip-path=\"url(#pc44035e5a8)\">\n     <use xlink:href=\"#C0_0_71c98a46a0\" x=\"401.573589\" y=\"134.507247\" style=\"fill: #fde725; stroke: #ffffff; stroke-width: 0.48\"/>\n    </g>\n    <g clip-path=\"url(#pc44035e5a8)\">\n     <use xlink:href=\"#C0_0_71c98a46a0\" x=\"401.573589\" y=\"134.507247\" style=\"fill: #fde725; stroke: #ffffff; stroke-width: 0.48\"/>\n    </g>\n    <g clip-path=\"url(#pc44035e5a8)\">\n     <use xlink:href=\"#C0_0_71c98a46a0\" x=\"306.272375\" y=\"142.10109\" style=\"fill: #fde725; stroke: #ffffff; stroke-width: 0.48\"/>\n    </g>\n    <g clip-path=\"url(#pc44035e5a8)\">\n     <use xlink:href=\"#C0_0_71c98a46a0\" x=\"449.599415\" y=\"176.768616\" style=\"fill: #fde725; stroke: #ffffff; stroke-width: 0.48\"/>\n    </g>\n    <g clip-path=\"url(#pc44035e5a8)\">\n     <use xlink:href=\"#C0_0_71c98a46a0\" x=\"411.328842\" y=\"275.488572\" style=\"fill: #440154; stroke: #ffffff; stroke-width: 0.48\"/>\n    </g>\n    <g clip-path=\"url(#pc44035e5a8)\">\n     <use xlink:href=\"#C0_0_71c98a46a0\" x=\"411.328842\" y=\"275.488572\" style=\"fill: #440154; stroke: #ffffff; stroke-width: 0.48\"/>\n    </g>\n    <g clip-path=\"url(#pc44035e5a8)\">\n     <use xlink:href=\"#C0_0_71c98a46a0\" x=\"410.578448\" y=\"145.072574\" style=\"fill: #440154; stroke: #ffffff; stroke-width: 0.48\"/>\n    </g>\n    <g clip-path=\"url(#pc44035e5a8)\">\n     <use xlink:href=\"#C0_0_71c98a46a0\" x=\"368.555861\" y=\"119.649724\" style=\"fill: #440154; stroke: #ffffff; stroke-width: 0.48\"/>\n    </g>\n    <g clip-path=\"url(#pc44035e5a8)\">\n     <use xlink:href=\"#C0_0_71c98a46a0\" x=\"368.555861\" y=\"119.649724\" style=\"fill: #440154; stroke: #ffffff; stroke-width: 0.48\"/>\n    </g>\n    <g clip-path=\"url(#pc44035e5a8)\">\n     <use xlink:href=\"#C0_0_71c98a46a0\" x=\"399.322408\" y=\"213.417159\" style=\"fill: #440154; stroke: #ffffff; stroke-width: 0.48\"/>\n    </g>\n    <g clip-path=\"url(#pc44035e5a8)\">\n     <use xlink:href=\"#C0_0_71c98a46a0\" x=\"399.322408\" y=\"213.417159\" style=\"fill: #440154; stroke: #ffffff; stroke-width: 0.48\"/>\n    </g>\n    <g clip-path=\"url(#pc44035e5a8)\">\n     <use xlink:href=\"#C0_0_71c98a46a0\" x=\"514.134127\" y=\"185.022804\" style=\"fill: #440154; stroke: #ffffff; stroke-width: 0.48\"/>\n    </g>\n    <g clip-path=\"url(#pc44035e5a8)\">\n     <use xlink:href=\"#C0_0_71c98a46a0\" x=\"418.082475\" y=\"128.894401\" style=\"fill: #fde725; stroke: #ffffff; stroke-width: 0.48\"/>\n    </g>\n    <g clip-path=\"url(#pc44035e5a8)\">\n     <use xlink:href=\"#C0_0_71c98a46a0\" x=\"418.082475\" y=\"128.894401\" style=\"fill: #fde725; stroke: #ffffff; stroke-width: 0.48\"/>\n    </g>\n    <g clip-path=\"url(#pc44035e5a8)\">\n     <use xlink:href=\"#C0_0_71c98a46a0\" x=\"418.082475\" y=\"128.894401\" style=\"fill: #fde725; stroke: #ffffff; stroke-width: 0.48\"/>\n    </g>\n    <g clip-path=\"url(#pc44035e5a8)\">\n     <use xlink:href=\"#C0_0_71c98a46a0\" x=\"414.330462\" y=\"173.466949\" style=\"fill: #440154; stroke: #ffffff; stroke-width: 0.48\"/>\n    </g>\n    <g clip-path=\"url(#pc44035e5a8)\">\n     <use xlink:href=\"#C0_0_71c98a46a0\" x=\"414.330462\" y=\"173.466949\" style=\"fill: #440154; stroke: #ffffff; stroke-width: 0.48\"/>\n    </g>\n    <g clip-path=\"url(#pc44035e5a8)\">\n     <use xlink:href=\"#C0_0_71c98a46a0\" x=\"414.330462\" y=\"173.466949\" style=\"fill: #440154; stroke: #ffffff; stroke-width: 0.48\"/>\n    </g>\n    <g clip-path=\"url(#pc44035e5a8)\">\n     <use xlink:href=\"#C0_0_71c98a46a0\" x=\"552.404701\" y=\"191.626139\" style=\"fill: #fde725; stroke: #ffffff; stroke-width: 0.48\"/>\n    </g>\n    <g clip-path=\"url(#pc44035e5a8)\">\n     <use xlink:href=\"#C0_0_71c98a46a0\" x=\"552.404701\" y=\"191.626139\" style=\"fill: #fde725; stroke: #ffffff; stroke-width: 0.48\"/>\n    </g>\n    <g clip-path=\"url(#pc44035e5a8)\">\n     <use xlink:href=\"#C0_0_71c98a46a0\" x=\"552.404701\" y=\"191.626139\" style=\"fill: #fde725; stroke: #ffffff; stroke-width: 0.48\"/>\n    </g>\n    <g clip-path=\"url(#pc44035e5a8)\">\n     <use xlink:href=\"#C0_0_71c98a46a0\" x=\"340.790935\" y=\"146.063082\" style=\"fill: #440154; stroke: #ffffff; stroke-width: 0.48\"/>\n    </g>\n    <g clip-path=\"url(#pc44035e5a8)\">\n     <use xlink:href=\"#C0_0_71c98a46a0\" x=\"340.790935\" y=\"146.063082\" style=\"fill: #440154; stroke: #ffffff; stroke-width: 0.48\"/>\n    </g>\n    <g clip-path=\"url(#pc44035e5a8)\">\n     <use xlink:href=\"#C0_0_71c98a46a0\" x=\"468.359527\" y=\"113.046389\" style=\"fill: #fde725; stroke: #ffffff; stroke-width: 0.48\"/>\n    </g>\n    <g clip-path=\"url(#pc44035e5a8)\">\n     <use xlink:href=\"#C0_0_71c98a46a0\" x=\"398.571969\" y=\"159.269771\" style=\"fill: #440154; stroke: #ffffff; stroke-width: 0.48\"/>\n    </g>\n    <g clip-path=\"url(#pc44035e5a8)\">\n     <use xlink:href=\"#C0_0_71c98a46a0\" x=\"403.824815\" y=\"152.9966\" style=\"fill: #fde725; stroke: #ffffff; stroke-width: 0.48\"/>\n    </g>\n    <g clip-path=\"url(#pc44035e5a8)\">\n     <use xlink:href=\"#C0_0_71c98a46a0\" x=\"310.024389\" y=\"206.813824\" style=\"fill: #440154; stroke: #ffffff; stroke-width: 0.48\"/>\n    </g>\n    <g clip-path=\"url(#pc44035e5a8)\">\n     <use xlink:href=\"#C0_0_71c98a46a0\" x=\"310.024389\" y=\"206.813824\" style=\"fill: #440154; stroke: #ffffff; stroke-width: 0.48\"/>\n    </g>\n    <g clip-path=\"url(#pc44035e5a8)\">\n     <use xlink:href=\"#C0_0_71c98a46a0\" x=\"310.024389\" y=\"206.813824\" style=\"fill: #440154; stroke: #ffffff; stroke-width: 0.48\"/>\n    </g>\n    <g clip-path=\"url(#pc44035e5a8)\">\n     <use xlink:href=\"#C0_0_71c98a46a0\" x=\"310.024389\" y=\"206.813824\" style=\"fill: #440154; stroke: #ffffff; stroke-width: 0.48\"/>\n    </g>\n    <g clip-path=\"url(#pc44035e5a8)\">\n     <use xlink:href=\"#C0_0_71c98a46a0\" x=\"550.153475\" y=\"230.585851\" style=\"fill: #fde725; stroke: #ffffff; stroke-width: 0.48\"/>\n    </g>\n    <g clip-path=\"url(#pc44035e5a8)\">\n     <use xlink:href=\"#C0_0_71c98a46a0\" x=\"522.388548\" y=\"221.011002\" style=\"fill: #440154; stroke: #ffffff; stroke-width: 0.48\"/>\n    </g>\n    <g clip-path=\"url(#pc44035e5a8)\">\n     <use xlink:href=\"#C0_0_71c98a46a0\" x=\"557.657502\" y=\"135.167572\" style=\"fill: #fde725; stroke: #ffffff; stroke-width: 0.48\"/>\n    </g>\n    <g clip-path=\"url(#pc44035e5a8)\">\n     <use xlink:href=\"#C0_0_71c98a46a0\" x=\"527.641394\" y=\"160.920605\" style=\"fill: #fde725; stroke: #ffffff; stroke-width: 0.48\"/>\n    </g>\n    <g clip-path=\"url(#pc44035e5a8)\">\n     <use xlink:href=\"#C0_0_71c98a46a0\" x=\"527.641394\" y=\"160.920605\" style=\"fill: #fde725; stroke: #ffffff; stroke-width: 0.48\"/>\n    </g>\n    <g clip-path=\"url(#pc44035e5a8)\">\n     <use xlink:href=\"#C0_0_71c98a46a0\" x=\"295.766728\" y=\"207.47416\" style=\"fill: #440154; stroke: #ffffff; stroke-width: 0.48\"/>\n    </g>\n    <g clip-path=\"url(#pc44035e5a8)\">\n     <use xlink:href=\"#C0_0_71c98a46a0\" x=\"295.766728\" y=\"207.47416\" style=\"fill: #440154; stroke: #ffffff; stroke-width: 0.48\"/>\n    </g>\n    <g clip-path=\"url(#pc44035e5a8)\">\n     <use xlink:href=\"#C0_0_71c98a46a0\" x=\"473.612328\" y=\"180.400466\" style=\"fill: #fde725; stroke: #ffffff; stroke-width: 0.48\"/>\n    </g>\n    <g clip-path=\"url(#pc44035e5a8)\">\n     <use xlink:href=\"#C0_0_71c98a46a0\" x=\"349.795749\" y=\"138.139077\" style=\"fill: #440154; stroke: #ffffff; stroke-width: 0.48\"/>\n    </g>\n    <g clip-path=\"url(#pc44035e5a8)\">\n     <use xlink:href=\"#C0_0_71c98a46a0\" x=\"349.795749\" y=\"138.139077\" style=\"fill: #440154; stroke: #ffffff; stroke-width: 0.48\"/>\n    </g>\n    <g clip-path=\"url(#pc44035e5a8)\">\n     <use xlink:href=\"#C0_0_71c98a46a0\" x=\"529.892575\" y=\"195.918304\" style=\"fill: #440154; stroke: #ffffff; stroke-width: 0.48\"/>\n    </g>\n    <g clip-path=\"url(#pc44035e5a8)\">\n     <use xlink:href=\"#C0_0_71c98a46a0\" x=\"401.573589\" y=\"150.355258\" style=\"fill: #fde725; stroke: #ffffff; stroke-width: 0.48\"/>\n    </g>\n    <g clip-path=\"url(#pc44035e5a8)\">\n     <use xlink:href=\"#C0_0_71c98a46a0\" x=\"401.573589\" y=\"150.355258\" style=\"fill: #fde725; stroke: #ffffff; stroke-width: 0.48\"/>\n    </g>\n    <g clip-path=\"url(#pc44035e5a8)\">\n     <use xlink:href=\"#C0_0_71c98a46a0\" x=\"401.573589\" y=\"150.355258\" style=\"fill: #fde725; stroke: #ffffff; stroke-width: 0.48\"/>\n    </g>\n    <g clip-path=\"url(#pc44035e5a8)\">\n     <use xlink:href=\"#C0_0_71c98a46a0\" x=\"483.367581\" y=\"167.52394\" style=\"fill: #440154; stroke: #ffffff; stroke-width: 0.48\"/>\n    </g>\n    <g clip-path=\"url(#pc44035e5a8)\">\n     <use xlink:href=\"#C0_0_71c98a46a0\" x=\"489.370821\" y=\"187.994309\" style=\"fill: #440154; stroke: #ffffff; stroke-width: 0.48\"/>\n    </g>\n    <g clip-path=\"url(#pc44035e5a8)\">\n     <use xlink:href=\"#C0_0_71c98a46a0\" x=\"489.370821\" y=\"187.994309\" style=\"fill: #440154; stroke: #ffffff; stroke-width: 0.48\"/>\n    </g>\n    <g clip-path=\"url(#pc44035e5a8)\">\n     <use xlink:href=\"#C0_0_71c98a46a0\" x=\"403.074421\" y=\"236.52886\" style=\"fill: #440154; stroke: #ffffff; stroke-width: 0.48\"/>\n    </g>\n    <g clip-path=\"url(#pc44035e5a8)\">\n     <use xlink:href=\"#C0_0_71c98a46a0\" x=\"403.074421\" y=\"236.52886\" style=\"fill: #440154; stroke: #ffffff; stroke-width: 0.48\"/>\n    </g>\n    <g clip-path=\"url(#pc44035e5a8)\">\n     <use xlink:href=\"#C0_0_71c98a46a0\" x=\"403.074421\" y=\"236.52886\" style=\"fill: #440154; stroke: #ffffff; stroke-width: 0.48\"/>\n    </g>\n    <g clip-path=\"url(#pc44035e5a8)\">\n     <use xlink:href=\"#C0_0_71c98a46a0\" x=\"403.074421\" y=\"236.52886\" style=\"fill: #440154; stroke: #ffffff; stroke-width: 0.48\"/>\n    </g>\n    <g clip-path=\"url(#pc44035e5a8)\">\n     <use xlink:href=\"#C0_0_71c98a46a0\" x=\"403.074421\" y=\"236.52886\" style=\"fill: #440154; stroke: #ffffff; stroke-width: 0.48\"/>\n    </g>\n    <g clip-path=\"url(#pc44035e5a8)\">\n     <use xlink:href=\"#C0_0_71c98a46a0\" x=\"402.324027\" y=\"170.165281\" style=\"fill: #440154; stroke: #ffffff; stroke-width: 0.48\"/>\n    </g>\n    <g clip-path=\"url(#pc44035e5a8)\">\n     <use xlink:href=\"#C0_0_71c98a46a0\" x=\"402.324027\" y=\"170.165281\" style=\"fill: #440154; stroke: #ffffff; stroke-width: 0.48\"/>\n    </g>\n    <g clip-path=\"url(#pc44035e5a8)\">\n     <use xlink:href=\"#C0_0_71c98a46a0\" x=\"402.324027\" y=\"170.165281\" style=\"fill: #440154; stroke: #ffffff; stroke-width: 0.48\"/>\n    </g>\n    <g clip-path=\"url(#pc44035e5a8)\">\n     <use xlink:href=\"#C0_0_71c98a46a0\" x=\"402.324027\" y=\"170.165281\" style=\"fill: #440154; stroke: #ffffff; stroke-width: 0.48\"/>\n    </g>\n    <g clip-path=\"url(#pc44035e5a8)\">\n     <use xlink:href=\"#C0_0_71c98a46a0\" x=\"402.324027\" y=\"170.165281\" style=\"fill: #440154; stroke: #ffffff; stroke-width: 0.48\"/>\n    </g>\n    <g clip-path=\"url(#pc44035e5a8)\">\n     <use xlink:href=\"#C0_0_71c98a46a0\" x=\"541.14866\" y=\"180.730629\" style=\"fill: #fde725; stroke: #ffffff; stroke-width: 0.48\"/>\n    </g>\n    <g clip-path=\"url(#pc44035e5a8)\">\n     <use xlink:href=\"#C0_0_71c98a46a0\" x=\"415.831249\" y=\"136.15808\" style=\"fill: #fde725; stroke: #ffffff; stroke-width: 0.48\"/>\n    </g>\n    <g clip-path=\"url(#pc44035e5a8)\">\n     <use xlink:href=\"#C0_0_71c98a46a0\" x=\"415.831249\" y=\"136.15808\" style=\"fill: #fde725; stroke: #ffffff; stroke-width: 0.48\"/>\n    </g>\n    <g clip-path=\"url(#pc44035e5a8)\">\n     <use xlink:href=\"#C0_0_71c98a46a0\" x=\"415.831249\" y=\"136.15808\" style=\"fill: #fde725; stroke: #ffffff; stroke-width: 0.48\"/>\n    </g>\n    <g clip-path=\"url(#pc44035e5a8)\">\n     <use xlink:href=\"#C0_0_71c98a46a0\" x=\"415.831249\" y=\"136.15808\" style=\"fill: #fde725; stroke: #ffffff; stroke-width: 0.48\"/>\n    </g>\n    <g clip-path=\"url(#pc44035e5a8)\">\n     <use xlink:href=\"#C0_0_71c98a46a0\" x=\"301.019529\" y=\"75.407339\" style=\"fill: #fde725; stroke: #ffffff; stroke-width: 0.48\"/>\n    </g>\n    <g clip-path=\"url(#pc44035e5a8)\">\n     <use xlink:href=\"#C0_0_71c98a46a0\" x=\"301.019529\" y=\"75.407339\" style=\"fill: #fde725; stroke: #ffffff; stroke-width: 0.48\"/>\n    </g>\n    <g clip-path=\"url(#pc44035e5a8)\">\n     <use xlink:href=\"#C0_0_71c98a46a0\" x=\"409.828054\" y=\"219.030005\" style=\"fill: #fde725; stroke: #ffffff; stroke-width: 0.48\"/>\n    </g>\n    <g clip-path=\"url(#pc44035e5a8)\">\n     <use xlink:href=\"#C0_0_71c98a46a0\" x=\"409.828054\" y=\"219.030005\" style=\"fill: #fde725; stroke: #ffffff; stroke-width: 0.48\"/>\n    </g>\n    <g clip-path=\"url(#pc44035e5a8)\">\n     <use xlink:href=\"#C0_0_71c98a46a0\" x=\"409.828054\" y=\"219.030005\" style=\"fill: #fde725; stroke: #ffffff; stroke-width: 0.48\"/>\n    </g>\n    <g clip-path=\"url(#pc44035e5a8)\">\n     <use xlink:href=\"#C0_0_71c98a46a0\" x=\"409.828054\" y=\"219.030005\" style=\"fill: #fde725; stroke: #ffffff; stroke-width: 0.48\"/>\n    </g>\n    <g clip-path=\"url(#pc44035e5a8)\">\n     <use xlink:href=\"#C0_0_71c98a46a0\" x=\"368.555861\" y=\"126.913404\" style=\"fill: #fde725; stroke: #ffffff; stroke-width: 0.48\"/>\n    </g>\n    <g clip-path=\"url(#pc44035e5a8)\">\n     <use xlink:href=\"#C0_0_71c98a46a0\" x=\"469.109921\" y=\"220.020503\" style=\"fill: #440154; stroke: #ffffff; stroke-width: 0.48\"/>\n    </g>\n    <g clip-path=\"url(#pc44035e5a8)\">\n     <use xlink:href=\"#C0_0_71c98a46a0\" x=\"469.109921\" y=\"220.020503\" style=\"fill: #440154; stroke: #ffffff; stroke-width: 0.48\"/>\n    </g>\n    <g clip-path=\"url(#pc44035e5a8)\">\n     <use xlink:href=\"#C0_0_71c98a46a0\" x=\"432.340135\" y=\"175.447945\" style=\"fill: #440154; stroke: #ffffff; stroke-width: 0.48\"/>\n    </g>\n    <g clip-path=\"url(#pc44035e5a8)\">\n     <use xlink:href=\"#C0_0_71c98a46a0\" x=\"432.340135\" y=\"175.447945\" style=\"fill: #440154; stroke: #ffffff; stroke-width: 0.48\"/>\n    </g>\n    <g clip-path=\"url(#pc44035e5a8)\">\n     <use xlink:href=\"#C0_0_71c98a46a0\" x=\"310.024389\" y=\"131.20556\" style=\"fill: #fde725; stroke: #ffffff; stroke-width: 0.48\"/>\n    </g>\n    <g clip-path=\"url(#pc44035e5a8)\">\n     <use xlink:href=\"#C0_0_71c98a46a0\" x=\"310.024389\" y=\"131.20556\" style=\"fill: #fde725; stroke: #ffffff; stroke-width: 0.48\"/>\n    </g>\n    <g clip-path=\"url(#pc44035e5a8)\">\n     <use xlink:href=\"#C0_0_71c98a46a0\" x=\"310.024389\" y=\"131.20556\" style=\"fill: #fde725; stroke: #ffffff; stroke-width: 0.48\"/>\n    </g>\n    <g clip-path=\"url(#pc44035e5a8)\">\n     <use xlink:href=\"#C0_0_71c98a46a0\" x=\"412.079236\" y=\"161.580931\" style=\"fill: #440154; stroke: #ffffff; stroke-width: 0.48\"/>\n    </g>\n    <g clip-path=\"url(#pc44035e5a8)\">\n     <use xlink:href=\"#C0_0_71c98a46a0\" x=\"403.074421\" y=\"185.022804\" style=\"fill: #440154; stroke: #ffffff; stroke-width: 0.48\"/>\n    </g>\n    <g clip-path=\"url(#pc44035e5a8)\">\n     <use xlink:href=\"#C0_0_71c98a46a0\" x=\"403.074421\" y=\"185.022804\" style=\"fill: #440154; stroke: #ffffff; stroke-width: 0.48\"/>\n    </g>\n    <g clip-path=\"url(#pc44035e5a8)\">\n     <use xlink:href=\"#C0_0_71c98a46a0\" x=\"433.840967\" y=\"110.074885\" style=\"fill: #fde725; stroke: #ffffff; stroke-width: 0.48\"/>\n    </g>\n    <g clip-path=\"url(#pc44035e5a8)\">\n     <use xlink:href=\"#C0_0_71c98a46a0\" x=\"433.840967\" y=\"110.074885\" style=\"fill: #fde725; stroke: #ffffff; stroke-width: 0.48\"/>\n    </g>\n    <g clip-path=\"url(#pc44035e5a8)\">\n     <use xlink:href=\"#C0_0_71c98a46a0\" x=\"269.502589\" y=\"246.764034\" style=\"fill: #440154; stroke: #ffffff; stroke-width: 0.48\"/>\n    </g>\n    <g clip-path=\"url(#pc44035e5a8)\">\n     <use xlink:href=\"#C0_0_71c98a46a0\" x=\"216.974356\" y=\"97.858704\" style=\"fill: #440154; stroke: #ffffff; stroke-width: 0.48\"/>\n    </g>\n    <g clip-path=\"url(#pc44035e5a8)\">\n     <use xlink:href=\"#C0_0_71c98a46a0\" x=\"331.786076\" y=\"146.063082\" style=\"fill: #440154; stroke: #ffffff; stroke-width: 0.48\"/>\n    </g>\n    <g clip-path=\"url(#pc44035e5a8)\">\n     <use xlink:href=\"#C0_0_71c98a46a0\" x=\"331.786076\" y=\"146.063082\" style=\"fill: #440154; stroke: #ffffff; stroke-width: 0.48\"/>\n    </g>\n    <g clip-path=\"url(#pc44035e5a8)\">\n     <use xlink:href=\"#C0_0_71c98a46a0\" x=\"331.786076\" y=\"146.063082\" style=\"fill: #440154; stroke: #ffffff; stroke-width: 0.48\"/>\n    </g>\n    <g clip-path=\"url(#pc44035e5a8)\">\n     <use xlink:href=\"#C0_0_71c98a46a0\" x=\"487.119595\" y=\"134.507247\" style=\"fill: #fde725; stroke: #ffffff; stroke-width: 0.48\"/>\n    </g>\n    <g clip-path=\"url(#pc44035e5a8)\">\n     <use xlink:href=\"#C0_0_71c98a46a0\" x=\"487.119595\" y=\"134.507247\" style=\"fill: #fde725; stroke: #ffffff; stroke-width: 0.48\"/>\n    </g>\n    <g clip-path=\"url(#pc44035e5a8)\">\n     <use xlink:href=\"#C0_0_71c98a46a0\" x=\"237.235256\" y=\"228.604844\" style=\"fill: #fde725; stroke: #ffffff; stroke-width: 0.48\"/>\n    </g>\n    <g clip-path=\"url(#pc44035e5a8)\">\n     <use xlink:href=\"#C0_0_71c98a46a0\" x=\"237.235256\" y=\"228.604844\" style=\"fill: #fde725; stroke: #ffffff; stroke-width: 0.48\"/>\n    </g>\n    <g clip-path=\"url(#pc44035e5a8)\">\n     <use xlink:href=\"#C0_0_71c98a46a0\" x=\"237.235256\" y=\"228.604844\" style=\"fill: #fde725; stroke: #ffffff; stroke-width: 0.48\"/>\n    </g>\n    <g clip-path=\"url(#pc44035e5a8)\">\n     <use xlink:href=\"#C0_0_71c98a46a0\" x=\"162.194919\" y=\"221.011002\" style=\"fill: #440154; stroke: #ffffff; stroke-width: 0.48\"/>\n    </g>\n    <g clip-path=\"url(#pc44035e5a8)\">\n     <use xlink:href=\"#C0_0_71c98a46a0\" x=\"162.194919\" y=\"221.011002\" style=\"fill: #440154; stroke: #ffffff; stroke-width: 0.48\"/>\n    </g>\n    <g clip-path=\"url(#pc44035e5a8)\">\n     <use xlink:href=\"#C0_0_71c98a46a0\" x=\"350.546188\" y=\"143.421741\" style=\"fill: #440154; stroke: #ffffff; stroke-width: 0.48\"/>\n    </g>\n    <g clip-path=\"url(#pc44035e5a8)\">\n     <use xlink:href=\"#C0_0_71c98a46a0\" x=\"433.090529\" y=\"76.728009\" style=\"fill: #fde725; stroke: #ffffff; stroke-width: 0.48\"/>\n    </g>\n    <g clip-path=\"url(#pc44035e5a8)\">\n     <use xlink:href=\"#C0_0_71c98a46a0\" x=\"433.090529\" y=\"76.728009\" style=\"fill: #fde725; stroke: #ffffff; stroke-width: 0.48\"/>\n    </g>\n    <g clip-path=\"url(#pc44035e5a8)\">\n     <use xlink:href=\"#C0_0_71c98a46a0\" x=\"418.082475\" y=\"155.307759\" style=\"fill: #440154; stroke: #ffffff; stroke-width: 0.48\"/>\n    </g>\n    <g clip-path=\"url(#pc44035e5a8)\">\n     <use xlink:href=\"#C0_0_71c98a46a0\" x=\"418.082475\" y=\"155.307759\" style=\"fill: #440154; stroke: #ffffff; stroke-width: 0.48\"/>\n    </g>\n    <g clip-path=\"url(#pc44035e5a8)\">\n     <use xlink:href=\"#C0_0_71c98a46a0\" x=\"418.082475\" y=\"155.307759\" style=\"fill: #440154; stroke: #ffffff; stroke-width: 0.48\"/>\n    </g>\n    <g clip-path=\"url(#pc44035e5a8)\">\n     <use xlink:href=\"#C0_0_71c98a46a0\" x=\"418.082475\" y=\"155.307759\" style=\"fill: #440154; stroke: #ffffff; stroke-width: 0.48\"/>\n    </g>\n    <g clip-path=\"url(#pc44035e5a8)\">\n     <use xlink:href=\"#C0_0_71c98a46a0\" x=\"306.272375\" y=\"102.481042\" style=\"fill: #440154; stroke: #ffffff; stroke-width: 0.48\"/>\n    </g>\n    <g clip-path=\"url(#pc44035e5a8)\">\n     <use xlink:href=\"#C0_0_71c98a46a0\" x=\"306.272375\" y=\"102.481042\" style=\"fill: #440154; stroke: #ffffff; stroke-width: 0.48\"/>\n    </g>\n    <g clip-path=\"url(#pc44035e5a8)\">\n     <use xlink:href=\"#C0_0_71c98a46a0\" x=\"290.513883\" y=\"186.673638\" style=\"fill: #440154; stroke: #ffffff; stroke-width: 0.48\"/>\n    </g>\n    <g clip-path=\"url(#pc44035e5a8)\">\n     <use xlink:href=\"#C0_0_71c98a46a0\" x=\"290.513883\" y=\"186.673638\" style=\"fill: #440154; stroke: #ffffff; stroke-width: 0.48\"/>\n    </g>\n    <g clip-path=\"url(#pc44035e5a8)\">\n     <use xlink:href=\"#C0_0_71c98a46a0\" x=\"290.513883\" y=\"186.673638\" style=\"fill: #440154; stroke: #ffffff; stroke-width: 0.48\"/>\n    </g>\n    <g clip-path=\"url(#pc44035e5a8)\">\n     <use xlink:href=\"#C0_0_71c98a46a0\" x=\"237.235256\" y=\"129.554726\" style=\"fill: #fde725; stroke: #ffffff; stroke-width: 0.48\"/>\n    </g>\n    <g clip-path=\"url(#pc44035e5a8)\">\n     <use xlink:href=\"#C0_0_71c98a46a0\" x=\"473.612328\" y=\"180.400466\" style=\"fill: #fde725; stroke: #ffffff; stroke-width: 0.48\"/>\n    </g>\n    <g clip-path=\"url(#pc44035e5a8)\">\n     <use xlink:href=\"#C0_0_71c98a46a0\" x=\"523.88938\" y=\"164.882598\" style=\"fill: #440154; stroke: #ffffff; stroke-width: 0.48\"/>\n    </g>\n    <g clip-path=\"url(#pc44035e5a8)\">\n     <use xlink:href=\"#C0_0_71c98a46a0\" x=\"523.88938\" y=\"164.882598\" style=\"fill: #440154; stroke: #ffffff; stroke-width: 0.48\"/>\n    </g>\n    <g clip-path=\"url(#pc44035e5a8)\">\n     <use xlink:href=\"#C0_0_71c98a46a0\" x=\"523.88938\" y=\"164.882598\" style=\"fill: #440154; stroke: #ffffff; stroke-width: 0.48\"/>\n    </g>\n    <g clip-path=\"url(#pc44035e5a8)\">\n     <use xlink:href=\"#C0_0_71c98a46a0\" x=\"523.88938\" y=\"164.882598\" style=\"fill: #440154; stroke: #ffffff; stroke-width: 0.48\"/>\n    </g>\n    <g clip-path=\"url(#pc44035e5a8)\">\n     <use xlink:href=\"#C0_0_71c98a46a0\" x=\"523.88938\" y=\"164.882598\" style=\"fill: #440154; stroke: #ffffff; stroke-width: 0.48\"/>\n    </g>\n    <g clip-path=\"url(#pc44035e5a8)\">\n     <use xlink:href=\"#C0_0_71c98a46a0\" x=\"235.734468\" y=\"152.666417\" style=\"fill: #440154; stroke: #ffffff; stroke-width: 0.48\"/>\n    </g>\n    <g clip-path=\"url(#pc44035e5a8)\">\n     <use xlink:href=\"#C0_0_71c98a46a0\" x=\"391.818381\" y=\"151.015583\" style=\"fill: #440154; stroke: #ffffff; stroke-width: 0.48\"/>\n    </g>\n    <g clip-path=\"url(#pc44035e5a8)\">\n     <use xlink:href=\"#C0_0_71c98a46a0\" x=\"391.818381\" y=\"151.015583\" style=\"fill: #440154; stroke: #ffffff; stroke-width: 0.48\"/>\n    </g>\n    <g clip-path=\"url(#pc44035e5a8)\">\n     <use xlink:href=\"#C0_0_71c98a46a0\" x=\"391.818381\" y=\"151.015583\" style=\"fill: #440154; stroke: #ffffff; stroke-width: 0.48\"/>\n    </g>\n    <g clip-path=\"url(#pc44035e5a8)\">\n     <use xlink:href=\"#C0_0_71c98a46a0\" x=\"406.826435\" y=\"174.127274\" style=\"fill: #440154; stroke: #ffffff; stroke-width: 0.48\"/>\n    </g>\n    <g clip-path=\"url(#pc44035e5a8)\">\n     <use xlink:href=\"#C0_0_71c98a46a0\" x=\"406.826435\" y=\"174.127274\" style=\"fill: #440154; stroke: #ffffff; stroke-width: 0.48\"/>\n    </g>\n    <g clip-path=\"url(#pc44035e5a8)\">\n     <use xlink:href=\"#C0_0_71c98a46a0\" x=\"406.826435\" y=\"174.127274\" style=\"fill: #440154; stroke: #ffffff; stroke-width: 0.48\"/>\n    </g>\n    <g clip-path=\"url(#pc44035e5a8)\">\n     <use xlink:href=\"#C0_0_71c98a46a0\" x=\"381.312689\" y=\"152.006091\" style=\"fill: #440154; stroke: #ffffff; stroke-width: 0.48\"/>\n    </g>\n    <g clip-path=\"url(#pc44035e5a8)\">\n     <use xlink:href=\"#C0_0_71c98a46a0\" x=\"381.312689\" y=\"152.006091\" style=\"fill: #440154; stroke: #ffffff; stroke-width: 0.48\"/>\n    </g>\n    <g clip-path=\"url(#pc44035e5a8)\">\n     <use xlink:href=\"#C0_0_71c98a46a0\" x=\"290.513883\" y=\"130.215071\" style=\"fill: #fde725; stroke: #ffffff; stroke-width: 0.48\"/>\n    </g>\n    <g clip-path=\"url(#pc44035e5a8)\">\n     <use xlink:href=\"#C0_0_71c98a46a0\" x=\"482.617187\" y=\"117.99889\" style=\"fill: #440154; stroke: #ffffff; stroke-width: 0.48\"/>\n    </g>\n    <g clip-path=\"url(#pc44035e5a8)\">\n     <use xlink:href=\"#C0_0_71c98a46a0\" x=\"482.617187\" y=\"117.99889\" style=\"fill: #440154; stroke: #ffffff; stroke-width: 0.48\"/>\n    </g>\n    <g clip-path=\"url(#pc44035e5a8)\">\n     <use xlink:href=\"#C0_0_71c98a46a0\" x=\"379.061508\" y=\"119.649724\" style=\"fill: #440154; stroke: #ffffff; stroke-width: 0.48\"/>\n    </g>\n    <g clip-path=\"url(#pc44035e5a8)\">\n     <use xlink:href=\"#C0_0_71c98a46a0\" x=\"379.061508\" y=\"119.649724\" style=\"fill: #440154; stroke: #ffffff; stroke-width: 0.48\"/>\n    </g>\n    <g clip-path=\"url(#pc44035e5a8)\">\n     <use xlink:href=\"#C0_0_71c98a46a0\" x=\"379.061508\" y=\"119.649724\" style=\"fill: #440154; stroke: #ffffff; stroke-width: 0.48\"/>\n    </g>\n    <g clip-path=\"url(#pc44035e5a8)\">\n     <use xlink:href=\"#C0_0_71c98a46a0\" x=\"323.531655\" y=\"129.884909\" style=\"fill: #440154; stroke: #ffffff; stroke-width: 0.48\"/>\n    </g>\n    <g clip-path=\"url(#pc44035e5a8)\">\n     <use xlink:href=\"#C0_0_71c98a46a0\" x=\"323.531655\" y=\"129.884909\" style=\"fill: #440154; stroke: #ffffff; stroke-width: 0.48\"/>\n    </g>\n    <g clip-path=\"url(#pc44035e5a8)\">\n     <use xlink:href=\"#C0_0_71c98a46a0\" x=\"323.531655\" y=\"129.884909\" style=\"fill: #440154; stroke: #ffffff; stroke-width: 0.48\"/>\n    </g>\n    <g clip-path=\"url(#pc44035e5a8)\">\n     <use xlink:href=\"#C0_0_71c98a46a0\" x=\"323.531655\" y=\"129.884909\" style=\"fill: #440154; stroke: #ffffff; stroke-width: 0.48\"/>\n    </g>\n    <g clip-path=\"url(#pc44035e5a8)\">\n     <use xlink:href=\"#C0_0_71c98a46a0\" x=\"287.512263\" y=\"146.393245\" style=\"fill: #fde725; stroke: #ffffff; stroke-width: 0.48\"/>\n    </g>\n    <g clip-path=\"url(#pc44035e5a8)\">\n     <use xlink:href=\"#C0_0_71c98a46a0\" x=\"187.708642\" y=\"179.740121\" style=\"fill: #fde725; stroke: #ffffff; stroke-width: 0.48\"/>\n    </g>\n    <g clip-path=\"url(#pc44035e5a8)\">\n     <use xlink:href=\"#C0_0_71c98a46a0\" x=\"406.826435\" y=\"155.968104\" style=\"fill: #440154; stroke: #ffffff; stroke-width: 0.48\"/>\n    </g>\n    <g clip-path=\"url(#pc44035e5a8)\">\n     <use xlink:href=\"#C0_0_71c98a46a0\" x=\"412.079236\" y=\"194.267471\" style=\"fill: #440154; stroke: #ffffff; stroke-width: 0.48\"/>\n    </g>\n    <g clip-path=\"url(#pc44035e5a8)\">\n     <use xlink:href=\"#C0_0_71c98a46a0\" x=\"356.549382\" y=\"210.115492\" style=\"fill: #fde725; stroke: #ffffff; stroke-width: 0.48\"/>\n    </g>\n    <g clip-path=\"url(#pc44035e5a8)\">\n     <use xlink:href=\"#C0_0_71c98a46a0\" x=\"356.549382\" y=\"210.115492\" style=\"fill: #fde725; stroke: #ffffff; stroke-width: 0.48\"/>\n    </g>\n    <g clip-path=\"url(#pc44035e5a8)\">\n     <use xlink:href=\"#C0_0_71c98a46a0\" x=\"421.834488\" y=\"133.186576\" style=\"fill: #440154; stroke: #ffffff; stroke-width: 0.48\"/>\n    </g>\n    <g clip-path=\"url(#pc44035e5a8)\">\n     <use xlink:href=\"#C0_0_71c98a46a0\" x=\"363.303016\" y=\"113.706715\" style=\"fill: #fde725; stroke: #ffffff; stroke-width: 0.48\"/>\n    </g>\n    <g clip-path=\"url(#pc44035e5a8)\">\n     <use xlink:href=\"#C0_0_71c98a46a0\" x=\"427.087334\" y=\"180.730629\" style=\"fill: #440154; stroke: #ffffff; stroke-width: 0.48\"/>\n    </g>\n    <g clip-path=\"url(#pc44035e5a8)\">\n     <use xlink:href=\"#C0_0_71c98a46a0\" x=\"339.290103\" y=\"155.968104\" style=\"fill: #440154; stroke: #ffffff; stroke-width: 0.48\"/>\n    </g>\n    <g clip-path=\"url(#pc44035e5a8)\">\n     <use xlink:href=\"#C0_0_71c98a46a0\" x=\"339.290103\" y=\"155.968104\" style=\"fill: #440154; stroke: #ffffff; stroke-width: 0.48\"/>\n    </g>\n    <g clip-path=\"url(#pc44035e5a8)\">\n     <use xlink:href=\"#C0_0_71c98a46a0\" x=\"339.290103\" y=\"155.968104\" style=\"fill: #440154; stroke: #ffffff; stroke-width: 0.48\"/>\n    </g>\n    <g clip-path=\"url(#pc44035e5a8)\">\n     <use xlink:href=\"#C0_0_71c98a46a0\" x=\"350.546188\" y=\"193.937308\" style=\"fill: #440154; stroke: #ffffff; stroke-width: 0.48\"/>\n    </g>\n    <g clip-path=\"url(#pc44035e5a8)\">\n     <use xlink:href=\"#C0_0_71c98a46a0\" x=\"366.304635\" y=\"179.740121\" style=\"fill: #440154; stroke: #ffffff; stroke-width: 0.48\"/>\n    </g>\n    <g clip-path=\"url(#pc44035e5a8)\">\n     <use xlink:href=\"#C0_0_71c98a46a0\" x=\"366.304635\" y=\"179.740121\" style=\"fill: #440154; stroke: #ffffff; stroke-width: 0.48\"/>\n    </g>\n    <g clip-path=\"url(#pc44035e5a8)\">\n     <use xlink:href=\"#C0_0_71c98a46a0\" x=\"413.580068\" y=\"136.818406\" style=\"fill: #440154; stroke: #ffffff; stroke-width: 0.48\"/>\n    </g>\n    <g clip-path=\"url(#pc44035e5a8)\">\n     <use xlink:href=\"#C0_0_71c98a46a0\" x=\"516.385309\" y=\"203.181984\" style=\"fill: #fde725; stroke: #ffffff; stroke-width: 0.48\"/>\n    </g>\n    <g clip-path=\"url(#pc44035e5a8)\">\n     <use xlink:href=\"#C0_0_71c98a46a0\" x=\"412.829674\" y=\"144.412249\" style=\"fill: #440154; stroke: #ffffff; stroke-width: 0.48\"/>\n    </g>\n    <g clip-path=\"url(#pc44035e5a8)\">\n     <use xlink:href=\"#C0_0_71c98a46a0\" x=\"412.829674\" y=\"144.412249\" style=\"fill: #440154; stroke: #ffffff; stroke-width: 0.48\"/>\n    </g>\n    <g clip-path=\"url(#pc44035e5a8)\">\n     <use xlink:href=\"#C0_0_71c98a46a0\" x=\"509.631675\" y=\"214.73783\" style=\"fill: #440154; stroke: #ffffff; stroke-width: 0.48\"/>\n    </g>\n    <g clip-path=\"url(#pc44035e5a8)\">\n     <use xlink:href=\"#C0_0_71c98a46a0\" x=\"509.631675\" y=\"214.73783\" style=\"fill: #440154; stroke: #ffffff; stroke-width: 0.48\"/>\n    </g>\n    <g clip-path=\"url(#pc44035e5a8)\">\n     <use xlink:href=\"#C0_0_71c98a46a0\" x=\"449.599415\" y=\"119.979887\" style=\"fill: #440154; stroke: #ffffff; stroke-width: 0.48\"/>\n    </g>\n    <g clip-path=\"url(#pc44035e5a8)\">\n     <use xlink:href=\"#C0_0_71c98a46a0\" x=\"97.660229\" y=\"153.987088\" style=\"fill: #fde725; stroke: #ffffff; stroke-width: 0.48\"/>\n    </g>\n    <g clip-path=\"url(#pc44035e5a8)\">\n     <use xlink:href=\"#C0_0_71c98a46a0\" x=\"97.660229\" y=\"153.987088\" style=\"fill: #fde725; stroke: #ffffff; stroke-width: 0.48\"/>\n    </g>\n    <g clip-path=\"url(#pc44035e5a8)\">\n     <use xlink:href=\"#C0_0_71c98a46a0\" x=\"97.660229\" y=\"153.987088\" style=\"fill: #fde725; stroke: #ffffff; stroke-width: 0.48\"/>\n    </g>\n    <g clip-path=\"url(#pc44035e5a8)\">\n     <use xlink:href=\"#C0_0_71c98a46a0\" x=\"505.879662\" y=\"229.26518\" style=\"fill: #440154; stroke: #ffffff; stroke-width: 0.48\"/>\n    </g>\n    <g clip-path=\"url(#pc44035e5a8)\">\n     <use xlink:href=\"#C0_0_71c98a46a0\" x=\"313.026008\" y=\"140.450236\" style=\"fill: #440154; stroke: #ffffff; stroke-width: 0.48\"/>\n    </g>\n    <g clip-path=\"url(#pc44035e5a8)\">\n     <use xlink:href=\"#C0_0_71c98a46a0\" x=\"526.140562\" y=\"90.595024\" style=\"fill: #fde725; stroke: #ffffff; stroke-width: 0.48\"/>\n    </g>\n    <g clip-path=\"url(#pc44035e5a8)\">\n     <use xlink:href=\"#C0_0_71c98a46a0\" x=\"407.576828\" y=\"173.797112\" style=\"fill: #440154; stroke: #ffffff; stroke-width: 0.48\"/>\n    </g>\n    <g clip-path=\"url(#pc44035e5a8)\">\n     <use xlink:href=\"#C0_0_71c98a46a0\" x=\"382.813522\" y=\"130.215071\" style=\"fill: #440154; stroke: #ffffff; stroke-width: 0.48\"/>\n    </g>\n    <g clip-path=\"url(#pc44035e5a8)\">\n     <use xlink:href=\"#C0_0_71c98a46a0\" x=\"382.813522\" y=\"130.215071\" style=\"fill: #440154; stroke: #ffffff; stroke-width: 0.48\"/>\n    </g>\n    <g clip-path=\"url(#pc44035e5a8)\">\n     <use xlink:href=\"#C0_0_71c98a46a0\" x=\"382.813522\" y=\"130.215071\" style=\"fill: #440154; stroke: #ffffff; stroke-width: 0.48\"/>\n    </g>\n    <g clip-path=\"url(#pc44035e5a8)\">\n     <use xlink:href=\"#C0_0_71c98a46a0\" x=\"200.465492\" y=\"81.020185\" style=\"fill: #440154; stroke: #ffffff; stroke-width: 0.48\"/>\n    </g>\n    <g clip-path=\"url(#pc44035e5a8)\">\n     <use xlink:href=\"#C0_0_71c98a46a0\" x=\"200.465492\" y=\"81.020185\" style=\"fill: #440154; stroke: #ffffff; stroke-width: 0.48\"/>\n    </g>\n    <g clip-path=\"url(#pc44035e5a8)\">\n     <use xlink:href=\"#C0_0_71c98a46a0\" x=\"148.687653\" y=\"235.208189\" style=\"fill: #440154; stroke: #ffffff; stroke-width: 0.48\"/>\n    </g>\n    <g clip-path=\"url(#pc44035e5a8)\">\n     <use xlink:href=\"#C0_0_71c98a46a0\" x=\"252.243309\" y=\"165.873106\" style=\"fill: #440154; stroke: #ffffff; stroke-width: 0.48\"/>\n    </g>\n    <g clip-path=\"url(#pc44035e5a8)\">\n     <use xlink:href=\"#C0_0_71c98a46a0\" x=\"252.243309\" y=\"165.873106\" style=\"fill: #440154; stroke: #ffffff; stroke-width: 0.48\"/>\n    </g>\n    <g clip-path=\"url(#pc44035e5a8)\">\n     <use xlink:href=\"#C0_0_71c98a46a0\" x=\"252.243309\" y=\"165.873106\" style=\"fill: #440154; stroke: #ffffff; stroke-width: 0.48\"/>\n    </g>\n    <g clip-path=\"url(#pc44035e5a8)\">\n     <use xlink:href=\"#C0_0_71c98a46a0\" x=\"252.243309\" y=\"165.873106\" style=\"fill: #440154; stroke: #ffffff; stroke-width: 0.48\"/>\n    </g>\n    <g clip-path=\"url(#pc44035e5a8)\">\n     <use xlink:href=\"#C0_0_71c98a46a0\" x=\"343.792555\" y=\"148.044079\" style=\"fill: #440154; stroke: #ffffff; stroke-width: 0.48\"/>\n    </g>\n    <g clip-path=\"url(#pc44035e5a8)\">\n     <use xlink:href=\"#C0_0_71c98a46a0\" x=\"343.792555\" y=\"148.044079\" style=\"fill: #440154; stroke: #ffffff; stroke-width: 0.48\"/>\n    </g>\n    <g clip-path=\"url(#pc44035e5a8)\">\n     <use xlink:href=\"#C0_0_71c98a46a0\" x=\"343.792555\" y=\"148.044079\" style=\"fill: #440154; stroke: #ffffff; stroke-width: 0.48\"/>\n    </g>\n    <g clip-path=\"url(#pc44035e5a8)\">\n     <use xlink:href=\"#C0_0_71c98a46a0\" x=\"280.758674\" y=\"183.37197\" style=\"fill: #21918c; stroke: #ffffff; stroke-width: 0.48\"/>\n    </g>\n    <g clip-path=\"url(#pc44035e5a8)\">\n     <use xlink:href=\"#C0_0_71c98a46a0\" x=\"403.074421\" y=\"188.654634\" style=\"fill: #21918c; stroke: #ffffff; stroke-width: 0.48\"/>\n    </g>\n    <g clip-path=\"url(#pc44035e5a8)\">\n     <use xlink:href=\"#C0_0_71c98a46a0\" x=\"306.272375\" y=\"142.10109\" style=\"fill: #21918c; stroke: #ffffff; stroke-width: 0.48\"/>\n    </g>\n    <g clip-path=\"url(#pc44035e5a8)\">\n     <use xlink:href=\"#C0_0_71c98a46a0\" x=\"410.578448\" y=\"145.072574\" style=\"fill: #21918c; stroke: #ffffff; stroke-width: 0.48\"/>\n    </g>\n    <g clip-path=\"url(#pc44035e5a8)\">\n     <use xlink:href=\"#C0_0_71c98a46a0\" x=\"276.256223\" y=\"213.747332\" style=\"fill: #21918c; stroke: #ffffff; stroke-width: 0.48\"/>\n    </g>\n    <g clip-path=\"url(#pc44035e5a8)\">\n     <use xlink:href=\"#C0_0_71c98a46a0\" x=\"171.95015\" y=\"153.656925\" style=\"fill: #21918c; stroke: #ffffff; stroke-width: 0.48\"/>\n    </g>\n    <g clip-path=\"url(#pc44035e5a8)\">\n     <use xlink:href=\"#C0_0_71c98a46a0\" x=\"123.924346\" y=\"162.241276\" style=\"fill: #21918c; stroke: #ffffff; stroke-width: 0.48\"/>\n    </g>\n    <g clip-path=\"url(#pc44035e5a8)\">\n     <use xlink:href=\"#C0_0_71c98a46a0\" x=\"514.134127\" y=\"185.022804\" style=\"fill: #21918c; stroke: #ffffff; stroke-width: 0.48\"/>\n    </g>\n    <g clip-path=\"url(#pc44035e5a8)\">\n     <use xlink:href=\"#C0_0_71c98a46a0\" x=\"418.082475\" y=\"128.894401\" style=\"fill: #21918c; stroke: #ffffff; stroke-width: 0.48\"/>\n    </g>\n    <g clip-path=\"url(#pc44035e5a8)\">\n     <use xlink:href=\"#C0_0_71c98a46a0\" x=\"414.330462\" y=\"173.466949\" style=\"fill: #21918c; stroke: #ffffff; stroke-width: 0.48\"/>\n    </g>\n    <g clip-path=\"url(#pc44035e5a8)\">\n     <use xlink:href=\"#C0_0_71c98a46a0\" x=\"428.588122\" y=\"90.595024\" style=\"fill: #21918c; stroke: #ffffff; stroke-width: 0.48\"/>\n    </g>\n    <g clip-path=\"url(#pc44035e5a8)\">\n     <use xlink:href=\"#C0_0_71c98a46a0\" x=\"420.333701\" y=\"165.873106\" style=\"fill: #21918c; stroke: #ffffff; stroke-width: 0.48\"/>\n    </g>\n    <g clip-path=\"url(#pc44035e5a8)\">\n     <use xlink:href=\"#C0_0_71c98a46a0\" x=\"284.510688\" y=\"67.153151\" style=\"fill: #21918c; stroke: #ffffff; stroke-width: 0.48\"/>\n    </g>\n    <g clip-path=\"url(#pc44035e5a8)\">\n     <use xlink:href=\"#C0_0_71c98a46a0\" x=\"91.65699\" y=\"116.017874\" style=\"fill: #21918c; stroke: #ffffff; stroke-width: 0.48\"/>\n    </g>\n    <g clip-path=\"url(#pc44035e5a8)\">\n     <use xlink:href=\"#C0_0_71c98a46a0\" x=\"397.821575\" y=\"159.599934\" style=\"fill: #21918c; stroke: #ffffff; stroke-width: 0.48\"/>\n    </g>\n    <g clip-path=\"url(#pc44035e5a8)\">\n     <use xlink:href=\"#C0_0_71c98a46a0\" x=\"216.223962\" y=\"122.951391\" style=\"fill: #21918c; stroke: #ffffff; stroke-width: 0.48\"/>\n    </g>\n    <g clip-path=\"url(#pc44035e5a8)\">\n     <use xlink:href=\"#C0_0_71c98a46a0\" x=\"224.478405\" y=\"55.927478\" style=\"fill: #21918c; stroke: #ffffff; stroke-width: 0.48\"/>\n    </g>\n    <g clip-path=\"url(#pc44035e5a8)\">\n     <use xlink:href=\"#C0_0_71c98a46a0\" x=\"417.332081\" y=\"165.873106\" style=\"fill: #21918c; stroke: #ffffff; stroke-width: 0.48\"/>\n    </g>\n    <g clip-path=\"url(#pc44035e5a8)\">\n     <use xlink:href=\"#C0_0_71c98a46a0\" x=\"370.056649\" y=\"87.293357\" style=\"fill: #21918c; stroke: #ffffff; stroke-width: 0.48\"/>\n    </g>\n    <g clip-path=\"url(#pc44035e5a8)\">\n     <use xlink:href=\"#C0_0_71c98a46a0\" x=\"482.617187\" y=\"134.507247\" style=\"fill: #21918c; stroke: #ffffff; stroke-width: 0.48\"/>\n    </g>\n    <g clip-path=\"url(#pc44035e5a8)\">\n     <use xlink:href=\"#C0_0_71c98a46a0\" x=\"355.048595\" y=\"83.331344\" style=\"fill: #21918c; stroke: #ffffff; stroke-width: 0.48\"/>\n    </g>\n    <g clip-path=\"url(#pc44035e5a8)\">\n     <use xlink:href=\"#C0_0_71c98a46a0\" x=\"438.343375\" y=\"131.865905\" style=\"fill: #21918c; stroke: #ffffff; stroke-width: 0.48\"/>\n    </g>\n    <g clip-path=\"url(#pc44035e5a8)\">\n     <use xlink:href=\"#C0_0_71c98a46a0\" x=\"400.072801\" y=\"96.207851\" style=\"fill: #21918c; stroke: #ffffff; stroke-width: 0.48\"/>\n    </g>\n    <g clip-path=\"url(#pc44035e5a8)\">\n     <use xlink:href=\"#C0_0_71c98a46a0\" x=\"381.312689\" y=\"198.229473\" style=\"fill: #21918c; stroke: #ffffff; stroke-width: 0.48\"/>\n    </g>\n    <g clip-path=\"url(#pc44035e5a8)\">\n     <use xlink:href=\"#C0_0_71c98a46a0\" x=\"498.375635\" y=\"132.196068\" style=\"fill: #21918c; stroke: #ffffff; stroke-width: 0.48\"/>\n    </g>\n    <g clip-path=\"url(#pc44035e5a8)\">\n     <use xlink:href=\"#C0_0_71c98a46a0\" x=\"335.538089\" y=\"84.321852\" style=\"fill: #21918c; stroke: #ffffff; stroke-width: 0.48\"/>\n    </g>\n    <g clip-path=\"url(#pc44035e5a8)\">\n     <use xlink:href=\"#C0_0_71c98a46a0\" x=\"248.491296\" y=\"254.68804\" style=\"fill: #21918c; stroke: #ffffff; stroke-width: 0.48\"/>\n    </g>\n    <g clip-path=\"url(#pc44035e5a8)\">\n     <use xlink:href=\"#C0_0_71c98a46a0\" x=\"281.509068\" y=\"100.500026\" style=\"fill: #21918c; stroke: #ffffff; stroke-width: 0.48\"/>\n    </g>\n    <g clip-path=\"url(#pc44035e5a8)\">\n     <use xlink:href=\"#C0_0_71c98a46a0\" x=\"515.634915\" y=\"132.196068\" style=\"fill: #21918c; stroke: #ffffff; stroke-width: 0.48\"/>\n    </g>\n    <g clip-path=\"url(#pc44035e5a8)\">\n     <use xlink:href=\"#C0_0_71c98a46a0\" x=\"265.750576\" y=\"160.590442\" style=\"fill: #21918c; stroke: #ffffff; stroke-width: 0.48\"/>\n    </g>\n    <g clip-path=\"url(#pc44035e5a8)\">\n     <use xlink:href=\"#C0_0_71c98a46a0\" x=\"388.066322\" y=\"147.383753\" style=\"fill: #21918c; stroke: #ffffff; stroke-width: 0.48\"/>\n    </g>\n    <g clip-path=\"url(#pc44035e5a8)\">\n     <use xlink:href=\"#C0_0_71c98a46a0\" x=\"201.966302\" y=\"136.488243\" style=\"fill: #21918c; stroke: #ffffff; stroke-width: 0.48\"/>\n    </g>\n    <g clip-path=\"url(#pc44035e5a8)\">\n     <use xlink:href=\"#C0_0_71c98a46a0\" x=\"171.95015\" y=\"46.682801\" style=\"fill: #21918c; stroke: #ffffff; stroke-width: 0.48\"/>\n    </g>\n    <g clip-path=\"url(#pc44035e5a8)\">\n     <use xlink:href=\"#C0_0_71c98a46a0\" x=\"168.198136\" y=\"77.058172\" style=\"fill: #21918c; stroke: #ffffff; stroke-width: 0.48\"/>\n    </g>\n    <g clip-path=\"url(#pc44035e5a8)\">\n     <use xlink:href=\"#C0_0_71c98a46a0\" x=\"507.380494\" y=\"176.108291\" style=\"fill: #21918c; stroke: #ffffff; stroke-width: 0.48\"/>\n    </g>\n    <g clip-path=\"url(#pc44035e5a8)\">\n     <use xlink:href=\"#C0_0_71c98a46a0\" x=\"420.333701\" y=\"160.920605\" style=\"fill: #21918c; stroke: #ffffff; stroke-width: 0.48\"/>\n    </g>\n    <g clip-path=\"url(#pc44035e5a8)\">\n     <use xlink:href=\"#C0_0_71c98a46a0\" x=\"460.855455\" y=\"151.015583\" style=\"fill: #21918c; stroke: #ffffff; stroke-width: 0.48\"/>\n    </g>\n    <g clip-path=\"url(#pc44035e5a8)\">\n     <use xlink:href=\"#C0_0_71c98a46a0\" x=\"368.555861\" y=\"126.913404\" style=\"fill: #21918c; stroke: #ffffff; stroke-width: 0.48\"/>\n    </g>\n    <g clip-path=\"url(#pc44035e5a8)\">\n     <use xlink:href=\"#C0_0_71c98a46a0\" x=\"436.092149\" y=\"98.51903\" style=\"fill: #21918c; stroke: #ffffff; stroke-width: 0.48\"/>\n    </g>\n    <g clip-path=\"url(#pc44035e5a8)\">\n     <use xlink:href=\"#C0_0_71c98a46a0\" x=\"439.093768\" y=\"186.013293\" style=\"fill: #21918c; stroke: #ffffff; stroke-width: 0.48\"/>\n    </g>\n    <g clip-path=\"url(#pc44035e5a8)\">\n     <use xlink:href=\"#C0_0_71c98a46a0\" x=\"352.046975\" y=\"120.970395\" style=\"fill: #21918c; stroke: #ffffff; stroke-width: 0.48\"/>\n    </g>\n    <g clip-path=\"url(#pc44035e5a8)\">\n     <use xlink:href=\"#C0_0_71c98a46a0\" x=\"90.906596\" y=\"339.838125\" style=\"fill: #21918c; stroke: #ffffff; stroke-width: 0.48\"/>\n    </g>\n    <g clip-path=\"url(#pc44035e5a8)\">\n     <use xlink:href=\"#C0_0_71c98a46a0\" x=\"265.750576\" y=\"147.713916\" style=\"fill: #21918c; stroke: #ffffff; stroke-width: 0.48\"/>\n    </g>\n    <g clip-path=\"url(#pc44035e5a8)\">\n     <use xlink:href=\"#C0_0_71c98a46a0\" x=\"216.974356\" y=\"97.858704\" style=\"fill: #21918c; stroke: #ffffff; stroke-width: 0.48\"/>\n    </g>\n    <g clip-path=\"url(#pc44035e5a8)\">\n     <use xlink:href=\"#C0_0_71c98a46a0\" x=\"326.533275\" y=\"94.557017\" style=\"fill: #21918c; stroke: #ffffff; stroke-width: 0.48\"/>\n    </g>\n    <g clip-path=\"url(#pc44035e5a8)\">\n     <use xlink:href=\"#C0_0_71c98a46a0\" x=\"284.510688\" y=\"152.336254\" style=\"fill: #21918c; stroke: #ffffff; stroke-width: 0.48\"/>\n    </g>\n    <g clip-path=\"url(#pc44035e5a8)\">\n     <use xlink:href=\"#C0_0_71c98a46a0\" x=\"277.006616\" y=\"145.73292\" style=\"fill: #21918c; stroke: #ffffff; stroke-width: 0.48\"/>\n    </g>\n    <g clip-path=\"url(#pc44035e5a8)\">\n     <use xlink:href=\"#C0_0_71c98a46a0\" x=\"565.161528\" y=\"120.640213\" style=\"fill: #21918c; stroke: #ffffff; stroke-width: 0.48\"/>\n    </g>\n    <g clip-path=\"url(#pc44035e5a8)\">\n     <use xlink:href=\"#C0_0_71c98a46a0\" x=\"425.586502\" y=\"192.616647\" style=\"fill: #21918c; stroke: #ffffff; stroke-width: 0.48\"/>\n    </g>\n    <g clip-path=\"url(#pc44035e5a8)\">\n     <use xlink:href=\"#C0_0_71c98a46a0\" x=\"422.584882\" y=\"164.882598\" style=\"fill: #21918c; stroke: #ffffff; stroke-width: 0.48\"/>\n    </g>\n    <g clip-path=\"url(#pc44035e5a8)\">\n     <use xlink:href=\"#C0_0_71c98a46a0\" x=\"463.106681\" y=\"177.759124\" style=\"fill: #21918c; stroke: #ffffff; stroke-width: 0.48\"/>\n    </g>\n    <g clip-path=\"url(#pc44035e5a8)\">\n     <use xlink:href=\"#C0_0_71c98a46a0\" x=\"458.604274\" y=\"133.846902\" style=\"fill: #21918c; stroke: #ffffff; stroke-width: 0.48\"/>\n    </g>\n    <g clip-path=\"url(#pc44035e5a8)\">\n     <use xlink:href=\"#C0_0_71c98a46a0\" x=\"69.144886\" y=\"64.841991\" style=\"fill: #21918c; stroke: #ffffff; stroke-width: 0.48\"/>\n    </g>\n    <g clip-path=\"url(#pc44035e5a8)\">\n     <use xlink:href=\"#C0_0_71c98a46a0\" x=\"390.317548\" y=\"140.450236\" style=\"fill: #21918c; stroke: #ffffff; stroke-width: 0.48\"/>\n    </g>\n    <g clip-path=\"url(#pc44035e5a8)\">\n     <use xlink:href=\"#C0_0_71c98a46a0\" x=\"322.781261\" y=\"199.550144\" style=\"fill: #21918c; stroke: #ffffff; stroke-width: 0.48\"/>\n    </g>\n    <g clip-path=\"url(#pc44035e5a8)\">\n     <use xlink:href=\"#C0_0_71c98a46a0\" x=\"493.873228\" y=\"154.647433\" style=\"fill: #21918c; stroke: #ffffff; stroke-width: 0.48\"/>\n    </g>\n    <g clip-path=\"url(#pc44035e5a8)\">\n     <use xlink:href=\"#C0_0_71c98a46a0\" x=\"259.747381\" y=\"241.811533\" style=\"fill: #21918c; stroke: #ffffff; stroke-width: 0.48\"/>\n    </g>\n    <g clip-path=\"url(#pc44035e5a8)\">\n     <use xlink:href=\"#C0_0_71c98a46a0\" x=\"443.596176\" y=\"113.376552\" style=\"fill: #21918c; stroke: #ffffff; stroke-width: 0.48\"/>\n    </g>\n    <g clip-path=\"url(#pc44035e5a8)\">\n     <use xlink:href=\"#C0_0_71c98a46a0\" x=\"181.705402\" y=\"148.704424\" style=\"fill: #21918c; stroke: #ffffff; stroke-width: 0.48\"/>\n    </g>\n    <g clip-path=\"url(#pc44035e5a8)\">\n     <use xlink:href=\"#C0_0_71c98a46a0\" x=\"528.391787\" y=\"136.15808\" style=\"fill: #21918c; stroke: #ffffff; stroke-width: 0.48\"/>\n    </g>\n    <g clip-path=\"url(#pc44035e5a8)\">\n     <use xlink:href=\"#C0_0_71c98a46a0\" x=\"303.270755\" y=\"141.110581\" style=\"fill: #21918c; stroke: #ffffff; stroke-width: 0.48\"/>\n    </g>\n    <g clip-path=\"url(#pc44035e5a8)\">\n     <use xlink:href=\"#C0_0_71c98a46a0\" x=\"310.024389\" y=\"143.421741\" style=\"fill: #21918c; stroke: #ffffff; stroke-width: 0.48\"/>\n    </g>\n    <g clip-path=\"url(#pc44035e5a8)\">\n     <use xlink:href=\"#C0_0_71c98a46a0\" x=\"310.774782\" y=\"94.557017\" style=\"fill: #21918c; stroke: #ffffff; stroke-width: 0.48\"/>\n    </g>\n    <g clip-path=\"url(#pc44035e5a8)\">\n     <use xlink:href=\"#C0_0_71c98a46a0\" x=\"212.471949\" y=\"209.455156\" style=\"fill: #21918c; stroke: #ffffff; stroke-width: 0.48\"/>\n    </g>\n    <g clip-path=\"url(#pc44035e5a8)\">\n     <use xlink:href=\"#C0_0_71c98a46a0\" x=\"482.617187\" y=\"117.99889\" style=\"fill: #21918c; stroke: #ffffff; stroke-width: 0.48\"/>\n    </g>\n    <g clip-path=\"url(#pc44035e5a8)\">\n     <use xlink:href=\"#C0_0_71c98a46a0\" x=\"400.072801\" y=\"151.345766\" style=\"fill: #21918c; stroke: #ffffff; stroke-width: 0.48\"/>\n    </g>\n    <g clip-path=\"url(#pc44035e5a8)\">\n     <use xlink:href=\"#C0_0_71c98a46a0\" x=\"373.808662\" y=\"149.034587\" style=\"fill: #21918c; stroke: #ffffff; stroke-width: 0.48\"/>\n    </g>\n    <g clip-path=\"url(#pc44035e5a8)\">\n     <use xlink:href=\"#C0_0_71c98a46a0\" x=\"210.971139\" y=\"221.011002\" style=\"fill: #21918c; stroke: #ffffff; stroke-width: 0.48\"/>\n    </g>\n    <g clip-path=\"url(#pc44035e5a8)\">\n     <use xlink:href=\"#C0_0_71c98a46a0\" x=\"490.871608\" y=\"127.903892\" style=\"fill: #21918c; stroke: #ffffff; stroke-width: 0.48\"/>\n    </g>\n    <g clip-path=\"url(#pc44035e5a8)\">\n     <use xlink:href=\"#C0_0_71c98a46a0\" x=\"427.087334\" y=\"180.730629\" style=\"fill: #21918c; stroke: #ffffff; stroke-width: 0.48\"/>\n    </g>\n    <g clip-path=\"url(#pc44035e5a8)\">\n     <use xlink:href=\"#C0_0_71c98a46a0\" x=\"356.549382\" y=\"210.115492\" style=\"fill: #21918c; stroke: #ffffff; stroke-width: 0.48\"/>\n    </g>\n    <g clip-path=\"url(#pc44035e5a8)\">\n     <use xlink:href=\"#C0_0_71c98a46a0\" x=\"153.190082\" y=\"109.41454\" style=\"fill: #21918c; stroke: #ffffff; stroke-width: 0.48\"/>\n    </g>\n    <g clip-path=\"url(#pc44035e5a8)\">\n     <use xlink:href=\"#C0_0_71c98a46a0\" x=\"290.513883\" y=\"37.438125\" style=\"fill: #21918c; stroke: #ffffff; stroke-width: 0.48\"/>\n    </g>\n    <g clip-path=\"url(#pc44035e5a8)\">\n     <use xlink:href=\"#C0_0_71c98a46a0\" x=\"384.314309\" y=\"155.637922\" style=\"fill: #21918c; stroke: #ffffff; stroke-width: 0.48\"/>\n    </g>\n    <g clip-path=\"url(#pc44035e5a8)\">\n     <use xlink:href=\"#C0_0_71c98a46a0\" x=\"362.552622\" y=\"162.241276\" style=\"fill: #21918c; stroke: #ffffff; stroke-width: 0.48\"/>\n    </g>\n    <g clip-path=\"url(#pc44035e5a8)\">\n     <use xlink:href=\"#C0_0_71c98a46a0\" x=\"576.417614\" y=\"187.003801\" style=\"fill: #21918c; stroke: #ffffff; stroke-width: 0.48\"/>\n    </g>\n    <g clip-path=\"url(#pc44035e5a8)\">\n     <use xlink:href=\"#C0_0_71c98a46a0\" x=\"354.298201\" y=\"113.046389\" style=\"fill: #21918c; stroke: #ffffff; stroke-width: 0.48\"/>\n    </g>\n    <g clip-path=\"url(#pc44035e5a8)\">\n     <use xlink:href=\"#C0_0_71c98a46a0\" x=\"197.463872\" y=\"152.336254\" style=\"fill: #21918c; stroke: #ffffff; stroke-width: 0.48\"/>\n    </g>\n    <g clip-path=\"url(#pc44035e5a8)\">\n     <use xlink:href=\"#C0_0_71c98a46a0\" x=\"155.441286\" y=\"79.039169\" style=\"fill: #21918c; stroke: #ffffff; stroke-width: 0.48\"/>\n    </g>\n    <g clip-path=\"url(#pc44035e5a8)\">\n     <use xlink:href=\"#C0_0_71c98a46a0\" x=\"292.765109\" y=\"171.15579\" style=\"fill: #21918c; stroke: #ffffff; stroke-width: 0.48\"/>\n    </g>\n    <g clip-path=\"url(#pc44035e5a8)\">\n     <use xlink:href=\"#C0_0_71c98a46a0\" x=\"313.026008\" y=\"140.450236\" style=\"fill: #21918c; stroke: #ffffff; stroke-width: 0.48\"/>\n    </g>\n    <g clip-path=\"url(#pc44035e5a8)\">\n     <use xlink:href=\"#C0_0_71c98a46a0\" x=\"400.823195\" y=\"75.737501\" style=\"fill: #21918c; stroke: #ffffff; stroke-width: 0.48\"/>\n    </g>\n    <g clip-path=\"url(#pc44035e5a8)\">\n     <use xlink:href=\"#C0_0_71c98a46a0\" x=\"355.798989\" y=\"76.067664\" style=\"fill: #21918c; stroke: #ffffff; stroke-width: 0.48\"/>\n    </g>\n    <g clip-path=\"url(#pc44035e5a8)\">\n     <use xlink:href=\"#C0_0_71c98a46a0\" x=\"352.797369\" y=\"210.115492\" style=\"fill: #21918c; stroke: #ffffff; stroke-width: 0.48\"/>\n    </g>\n    <g clip-path=\"url(#pc44035e5a8)\">\n     <use xlink:href=\"#C0_0_71c98a46a0\" x=\"167.447742\" y=\"315.108614\" style=\"fill: #21918c; stroke: #ffffff; stroke-width: 0.48\"/>\n    </g>\n    <g clip-path=\"url(#pc44035e5a8)\">\n     <use xlink:href=\"#C0_0_71c98a46a0\" x=\"537.396602\" y=\"142.10109\" style=\"fill: #21918c; stroke: #ffffff; stroke-width: 0.48\"/>\n    </g>\n    <g clip-path=\"url(#pc44035e5a8)\">\n     <use xlink:href=\"#C0_0_71c98a46a0\" x=\"490.871608\" y=\"175.778128\" style=\"fill: #21918c; stroke: #ffffff; stroke-width: 0.48\"/>\n    </g>\n    <g clip-path=\"url(#pc44035e5a8)\">\n     <use xlink:href=\"#C0_0_71c98a46a0\" x=\"373.808662\" y=\"171.816115\" style=\"fill: #21918c; stroke: #ffffff; stroke-width: 0.48\"/>\n    </g>\n    <g clip-path=\"url(#pc44035e5a8)\">\n     <use xlink:href=\"#C0_0_71c98a46a0\" x=\"343.792555\" y=\"215.728328\" style=\"fill: #21918c; stroke: #ffffff; stroke-width: 0.48\"/>\n    </g>\n    <g clip-path=\"url(#pc44035e5a8)\">\n     <use xlink:href=\"#C0_0_71c98a46a0\" x=\"252.243309\" y=\"165.873106\" style=\"fill: #21918c; stroke: #ffffff; stroke-width: 0.48\"/>\n    </g>\n    <g clip-path=\"url(#pc44035e5a8)\">\n     <use xlink:href=\"#C0_0_71c98a46a0\" x=\"460.105062\" y=\"161.580931\" style=\"fill: #21918c; stroke: #ffffff; stroke-width: 0.48\"/>\n    </g>\n    <g clip-path=\"url(#pc44035e5a8)\">\n     <use xlink:href=\"#C0_0_71c98a46a0\" x=\"138.182006\" y=\"68.143659\" style=\"fill: #21918c; stroke: #ffffff; stroke-width: 0.48\"/>\n    </g>\n   </g>\n   <g id=\"line2d_13\"/>\n   <g id=\"line2d_14\"/>\n   <g id=\"line2d_15\"/>\n   <g id=\"patch_3\">\n    <path d=\"M 43.78125 354.958125 \nL 43.78125 22.318125 \n\" style=\"fill: none; stroke: #ffffff; stroke-width: 0.8; stroke-linejoin: miter; stroke-linecap: square\"/>\n   </g>\n   <g id=\"patch_4\">\n    <path d=\"M 601.78125 354.958125 \nL 601.78125 22.318125 \n\" style=\"fill: none; stroke: #ffffff; stroke-width: 0.8; stroke-linejoin: miter; stroke-linecap: square\"/>\n   </g>\n   <g id=\"patch_5\">\n    <path d=\"M 43.78125 354.958125 \nL 601.78125 354.958125 \n\" style=\"fill: none; stroke: #ffffff; stroke-width: 0.8; stroke-linejoin: miter; stroke-linecap: square\"/>\n   </g>\n   <g id=\"patch_6\">\n    <path d=\"M 43.78125 22.318125 \nL 601.78125 22.318125 \n\" style=\"fill: none; stroke: #ffffff; stroke-width: 0.8; stroke-linejoin: miter; stroke-linecap: square\"/>\n   </g>\n   <g id=\"text_15\">\n    <!-- K-Means Clustering -->\n    <g style=\"fill: #262626\" transform=\"translate(265.3575 16.318125) scale(0.12 -0.12)\">\n     <defs>\n      <path id=\"DejaVuSans-4b\" d=\"M 628 4666 \nL 1259 4666 \nL 1259 2694 \nL 3353 4666 \nL 4166 4666 \nL 1850 2491 \nL 4331 0 \nL 3500 0 \nL 1259 2247 \nL 1259 0 \nL 628 0 \nL 628 4666 \nz\n\" transform=\"scale(0.015625)\"/>\n      <path id=\"DejaVuSans-2d\" d=\"M 313 2009 \nL 1997 2009 \nL 1997 1497 \nL 313 1497 \nL 313 2009 \nz\n\" transform=\"scale(0.015625)\"/>\n      <path id=\"DejaVuSans-4d\" d=\"M 628 4666 \nL 1569 4666 \nL 2759 1491 \nL 3956 4666 \nL 4897 4666 \nL 4897 0 \nL 4281 0 \nL 4281 4097 \nL 3078 897 \nL 2444 897 \nL 1241 4097 \nL 1241 0 \nL 628 0 \nL 628 4666 \nz\n\" transform=\"scale(0.015625)\"/>\n      <path id=\"DejaVuSans-6e\" d=\"M 3513 2113 \nL 3513 0 \nL 2938 0 \nL 2938 2094 \nQ 2938 2591 2744 2837 \nQ 2550 3084 2163 3084 \nQ 1697 3084 1428 2787 \nQ 1159 2491 1159 1978 \nL 1159 0 \nL 581 0 \nL 581 3500 \nL 1159 3500 \nL 1159 2956 \nQ 1366 3272 1645 3428 \nQ 1925 3584 2291 3584 \nQ 2894 3584 3203 3211 \nQ 3513 2838 3513 2113 \nz\n\" transform=\"scale(0.015625)\"/>\n      <path id=\"DejaVuSans-73\" d=\"M 2834 3397 \nL 2834 2853 \nQ 2591 2978 2328 3040 \nQ 2066 3103 1784 3103 \nQ 1356 3103 1142 2972 \nQ 928 2841 928 2578 \nQ 928 2378 1081 2264 \nQ 1234 2150 1697 2047 \nL 1894 2003 \nQ 2506 1872 2764 1633 \nQ 3022 1394 3022 966 \nQ 3022 478 2636 193 \nQ 2250 -91 1575 -91 \nQ 1294 -91 989 -36 \nQ 684 19 347 128 \nL 347 722 \nQ 666 556 975 473 \nQ 1284 391 1588 391 \nQ 1994 391 2212 530 \nQ 2431 669 2431 922 \nQ 2431 1156 2273 1281 \nQ 2116 1406 1581 1522 \nL 1381 1569 \nQ 847 1681 609 1914 \nQ 372 2147 372 2553 \nQ 372 3047 722 3315 \nQ 1072 3584 1716 3584 \nQ 2034 3584 2315 3537 \nQ 2597 3491 2834 3397 \nz\n\" transform=\"scale(0.015625)\"/>\n      <path id=\"DejaVuSans-43\" d=\"M 4122 4306 \nL 4122 3641 \nQ 3803 3938 3442 4084 \nQ 3081 4231 2675 4231 \nQ 1875 4231 1450 3742 \nQ 1025 3253 1025 2328 \nQ 1025 1406 1450 917 \nQ 1875 428 2675 428 \nQ 3081 428 3442 575 \nQ 3803 722 4122 1019 \nL 4122 359 \nQ 3791 134 3420 21 \nQ 3050 -91 2638 -91 \nQ 1578 -91 968 557 \nQ 359 1206 359 2328 \nQ 359 3453 968 4101 \nQ 1578 4750 2638 4750 \nQ 3056 4750 3426 4639 \nQ 3797 4528 4122 4306 \nz\n\" transform=\"scale(0.015625)\"/>\n      <path id=\"DejaVuSans-6c\" d=\"M 603 4863 \nL 1178 4863 \nL 1178 0 \nL 603 0 \nL 603 4863 \nz\n\" transform=\"scale(0.015625)\"/>\n      <path id=\"DejaVuSans-69\" d=\"M 603 3500 \nL 1178 3500 \nL 1178 0 \nL 603 0 \nL 603 3500 \nz\nM 603 4863 \nL 1178 4863 \nL 1178 4134 \nL 603 4134 \nL 603 4863 \nz\n\" transform=\"scale(0.015625)\"/>\n      <path id=\"DejaVuSans-67\" d=\"M 2906 1791 \nQ 2906 2416 2648 2759 \nQ 2391 3103 1925 3103 \nQ 1463 3103 1205 2759 \nQ 947 2416 947 1791 \nQ 947 1169 1205 825 \nQ 1463 481 1925 481 \nQ 2391 481 2648 825 \nQ 2906 1169 2906 1791 \nz\nM 3481 434 \nQ 3481 -459 3084 -895 \nQ 2688 -1331 1869 -1331 \nQ 1566 -1331 1297 -1286 \nQ 1028 -1241 775 -1147 \nL 775 -588 \nQ 1028 -725 1275 -790 \nQ 1522 -856 1778 -856 \nQ 2344 -856 2625 -561 \nQ 2906 -266 2906 331 \nL 2906 616 \nQ 2728 306 2450 153 \nQ 2172 0 1784 0 \nQ 1141 0 747 490 \nQ 353 981 353 1791 \nQ 353 2603 747 3093 \nQ 1141 3584 1784 3584 \nQ 2172 3584 2450 3431 \nQ 2728 3278 2906 2969 \nL 2906 3500 \nL 3481 3500 \nL 3481 434 \nz\n\" transform=\"scale(0.015625)\"/>\n     </defs>\n     <use xlink:href=\"#DejaVuSans-4b\"/>\n     <use xlink:href=\"#DejaVuSans-2d\" x=\"55.076172\"/>\n     <use xlink:href=\"#DejaVuSans-4d\" x=\"91.160156\"/>\n     <use xlink:href=\"#DejaVuSans-65\" x=\"177.439453\"/>\n     <use xlink:href=\"#DejaVuSans-61\" x=\"238.962891\"/>\n     <use xlink:href=\"#DejaVuSans-6e\" x=\"300.242188\"/>\n     <use xlink:href=\"#DejaVuSans-73\" x=\"363.621094\"/>\n     <use xlink:href=\"#DejaVuSans-20\" x=\"415.720703\"/>\n     <use xlink:href=\"#DejaVuSans-43\" x=\"447.507812\"/>\n     <use xlink:href=\"#DejaVuSans-6c\" x=\"517.332031\"/>\n     <use xlink:href=\"#DejaVuSans-75\" x=\"545.115234\"/>\n     <use xlink:href=\"#DejaVuSans-73\" x=\"608.494141\"/>\n     <use xlink:href=\"#DejaVuSans-74\" x=\"660.59375\"/>\n     <use xlink:href=\"#DejaVuSans-65\" x=\"699.802734\"/>\n     <use xlink:href=\"#DejaVuSans-72\" x=\"761.326172\"/>\n     <use xlink:href=\"#DejaVuSans-69\" x=\"802.439453\"/>\n     <use xlink:href=\"#DejaVuSans-6e\" x=\"830.222656\"/>\n     <use xlink:href=\"#DejaVuSans-67\" x=\"893.601562\"/>\n    </g>\n   </g>\n   <g id=\"legend_1\">\n    <g id=\"patch_7\">\n     <path d=\"M 556.41875 74.3525 \nL 594.78125 74.3525 \nQ 596.78125 74.3525 596.78125 72.3525 \nL 596.78125 29.318125 \nQ 596.78125 27.318125 594.78125 27.318125 \nL 556.41875 27.318125 \nQ 554.41875 27.318125 554.41875 29.318125 \nL 554.41875 72.3525 \nQ 554.41875 74.3525 556.41875 74.3525 \nz\n\" style=\"fill: #eaeaf2; opacity: 0.8; stroke: #cccccc; stroke-linejoin: miter\"/>\n    </g>\n    <g id=\"line2d_16\">\n     <defs>\n      <path id=\"mbf9a6a68b9\" d=\"M 0 3 \nC 0.795609 3 1.55874 2.683901 2.12132 2.12132 \nC 2.683901 1.55874 3 0.795609 3 0 \nC 3 -0.795609 2.683901 -1.55874 2.12132 -2.12132 \nC 1.55874 -2.683901 0.795609 -3 0 -3 \nC -0.795609 -3 -1.55874 -2.683901 -2.12132 -2.12132 \nC -2.683901 -1.55874 -3 -0.795609 -3 0 \nC -3 0.795609 -2.683901 1.55874 -2.12132 2.12132 \nC -1.55874 2.683901 -0.795609 3 0 3 \nz\n\" style=\"stroke: #ffffff; stroke-width: 0.48\"/>\n     </defs>\n     <g>\n      <use xlink:href=\"#mbf9a6a68b9\" x=\"568.41875\" y=\"35.416562\" style=\"fill: #440154; stroke: #ffffff; stroke-width: 0.48\"/>\n     </g>\n    </g>\n    <g id=\"text_16\">\n     <!-- 0 -->\n     <g style=\"fill: #262626\" transform=\"translate(586.41875 38.916562) scale(0.1 -0.1)\">\n      <use xlink:href=\"#DejaVuSans-30\"/>\n     </g>\n    </g>\n    <g id=\"line2d_17\">\n     <defs>\n      <path id=\"md347335ea0\" d=\"M 0 3 \nC 0.795609 3 1.55874 2.683901 2.12132 2.12132 \nC 2.683901 1.55874 3 0.795609 3 0 \nC 3 -0.795609 2.683901 -1.55874 2.12132 -2.12132 \nC 1.55874 -2.683901 0.795609 -3 0 -3 \nC -0.795609 -3 -1.55874 -2.683901 -2.12132 -2.12132 \nC -2.683901 -1.55874 -3 -0.795609 -3 0 \nC -3 0.795609 -2.683901 1.55874 -2.12132 2.12132 \nC -1.55874 2.683901 -0.795609 3 0 3 \nz\n\" style=\"stroke: #ffffff; stroke-width: 0.48\"/>\n     </defs>\n     <g>\n      <use xlink:href=\"#md347335ea0\" x=\"568.41875\" y=\"50.094687\" style=\"fill: #21918c; stroke: #ffffff; stroke-width: 0.48\"/>\n     </g>\n    </g>\n    <g id=\"text_17\">\n     <!-- 1 -->\n     <g style=\"fill: #262626\" transform=\"translate(586.41875 53.594687) scale(0.1 -0.1)\">\n      <use xlink:href=\"#DejaVuSans-31\"/>\n     </g>\n    </g>\n    <g id=\"line2d_18\">\n     <defs>\n      <path id=\"ma300dfadaa\" d=\"M 0 3 \nC 0.795609 3 1.55874 2.683901 2.12132 2.12132 \nC 2.683901 1.55874 3 0.795609 3 0 \nC 3 -0.795609 2.683901 -1.55874 2.12132 -2.12132 \nC 1.55874 -2.683901 0.795609 -3 0 -3 \nC -0.795609 -3 -1.55874 -2.683901 -2.12132 -2.12132 \nC -2.683901 -1.55874 -3 -0.795609 -3 0 \nC -3 0.795609 -2.683901 1.55874 -2.12132 2.12132 \nC -1.55874 2.683901 -0.795609 3 0 3 \nz\n\" style=\"stroke: #ffffff; stroke-width: 0.48\"/>\n     </defs>\n     <g>\n      <use xlink:href=\"#ma300dfadaa\" x=\"568.41875\" y=\"64.772812\" style=\"fill: #fde725; stroke: #ffffff; stroke-width: 0.48\"/>\n     </g>\n    </g>\n    <g id=\"text_18\">\n     <!-- 2 -->\n     <g style=\"fill: #262626\" transform=\"translate(586.41875 68.272812) scale(0.1 -0.1)\">\n      <use xlink:href=\"#DejaVuSans-32\"/>\n     </g>\n    </g>\n   </g>\n  </g>\n </g>\n <defs>\n  <clipPath id=\"pc44035e5a8\">\n   <rect x=\"43.78125\" y=\"22.318125\" width=\"558\" height=\"332.64\"/>\n  </clipPath>\n </defs>\n</svg>\n"
          },
          "metadata": {}
        }
      ]
    }
  ]
}